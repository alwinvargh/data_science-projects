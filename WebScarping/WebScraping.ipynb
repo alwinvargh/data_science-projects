{
  "cells": [
    {
      "cell_type": "markdown",
      "metadata": {
        "id": "jgOVtPtyiQLJ"
      },
      "source": [
        "Estimated time needed: **30** minutes\n"
      ]
    },
    {
      "cell_type": "markdown",
      "metadata": {
        "id": "Ak6-WFqBiQLM"
      },
      "source": [
        "Import the required modules and functions\n"
      ]
    },
    {
      "cell_type": "code",
      "execution_count": null,
      "metadata": {
        "id": "ot4XJUSDiQLN"
      },
      "outputs": [],
      "source": [
        "from bs4 import BeautifulSoup # this module helps in web scrapping.\n",
        "import requests  # this module helps us to download a web page"
      ]
    },
    {
      "cell_type": "markdown",
      "metadata": {
        "id": "Jue1YepliQLO"
      },
      "source": [
        "<h2 id=\"BSO\">Beautiful Soup Objects</h2>\n"
      ]
    },
    {
      "cell_type": "code",
      "execution_count": null,
      "metadata": {
        "id": "1c768OyBiQLO"
      },
      "outputs": [],
      "source": [
        "Beautiful Soup is a Python library for pulling data out of HTML and XML files, we will focus on HTML files. This is accomplished by representing the HTML as a set of objects with methods used to parse the HTML.  We can navigate the HTML as a tree and/or filter out what we are looking for.\n",
        "\n",
        "Consider the following HTML:\n"
      ]
    },
    {
      "cell_type": "code",
      "execution_count": null,
      "metadata": {
        "colab": {
          "base_uri": "https://localhost:8080/",
          "height": 203
        },
        "id": "X79ZFb3kiQLO",
        "outputId": "fe44eb42-de13-46ab-cb8e-933e09c5ad51"
      },
      "outputs": [
        {
          "output_type": "display_data",
          "data": {
            "text/plain": [
              "<IPython.core.display.HTML object>"
            ],
            "text/html": [
              "<!DOCTYPE html>\n",
              "<html>\n",
              "<head>\n",
              "<title>Page Title</title>\n",
              "</head>\n",
              "<body>\n",
              "<h3><b id='boldest'>Lebron James</b></h3>\n",
              "<p> Salary: $ 92,000,000 </p>\n",
              "<h3> Stephen Curry</h3>\n",
              "<p> Salary: $85,000, 000 </p>\n",
              "<h3> Kevin Durant </h3>\n",
              "<p> Salary: $73,200, 000</p>\n",
              "</body>\n",
              "</html>\n"
            ]
          },
          "metadata": {}
        }
      ],
      "source": [
        "%%html\n",
        "<!DOCTYPE html>\n",
        "<html>\n",
        "<head>\n",
        "<title>Page Title</title>\n",
        "</head>\n",
        "<body>\n",
        "<h3><b id='boldest'>Lebron James</b></h3>\n",
        "<p> Salary: $ 92,000,000 </p>\n",
        "<h3> Stephen Curry</h3>\n",
        "<p> Salary: $85,000, 000 </p>\n",
        "<h3> Kevin Durant </h3>\n",
        "<p> Salary: $73,200, 000</p>\n",
        "</body>\n",
        "</html>"
      ]
    },
    {
      "cell_type": "markdown",
      "metadata": {
        "id": "HOWkF_59iQLP"
      },
      "source": [
        "We can store it as a string in the variable HTML:\n"
      ]
    },
    {
      "cell_type": "code",
      "execution_count": null,
      "metadata": {
        "id": "oK8oBV35iQLP"
      },
      "outputs": [],
      "source": [
        "html=\"<!DOCTYPE html><html><head><title>Page Title</title></head><body><h3><b id='boldest'>Lebron James</b></h3><p> Salary: $ 92,000,000 </p><h3> Stephen Curry</h3><p> Salary: $85,000, 000 </p><h3> Kevin Durant </h3><p> Salary: $73,200, 000</p></body></html>\""
      ]
    },
    {
      "cell_type": "markdown",
      "metadata": {
        "id": "Zka9PtlIiQLP"
      },
      "source": [
        "To parse a document, pass it into the <code>BeautifulSoup</code> constructor, the <code>BeautifulSoup</code> object, which represents the document as a nested data structure:\n"
      ]
    },
    {
      "cell_type": "code",
      "execution_count": null,
      "metadata": {
        "id": "mbIGAtMriQLQ"
      },
      "outputs": [],
      "source": [
        "soup = BeautifulSoup(html, \"html.parser\")"
      ]
    },
    {
      "cell_type": "markdown",
      "metadata": {
        "id": "ocmvmq_0iQLQ"
      },
      "source": [
        "First, the document is converted to Unicode, (similar to ASCII),  and HTML entities are converted to Unicode characters. Beautiful Soup transforms a complex HTML document into a complex tree of Python objects. The <code>BeautifulSoup</code> object can create other types of objects. In this lab, we will cover <code>BeautifulSoup</code> and <code>Tag</code> objects that for the purposes of this lab are identical, and <code>NavigableString</code> objects.\n"
      ]
    },
    {
      "cell_type": "markdown",
      "metadata": {
        "id": "AY096PA3iQLQ"
      },
      "source": [
        "We can use the method <code>prettify()</code> to display the HTML in the nested structure:\n"
      ]
    },
    {
      "cell_type": "code",
      "execution_count": null,
      "metadata": {
        "colab": {
          "base_uri": "https://localhost:8080/"
        },
        "id": "chD8u-o3iQLQ",
        "outputId": "ab9e8918-e0a7-4f2a-8282-f000f231a684"
      },
      "outputs": [
        {
          "output_type": "stream",
          "name": "stdout",
          "text": [
            "<!DOCTYPE html>\n",
            "<html>\n",
            " <head>\n",
            "  <title>\n",
            "   Page Title\n",
            "  </title>\n",
            " </head>\n",
            " <body>\n",
            "  <h3>\n",
            "   <b id=\"boldest\">\n",
            "    Lebron James\n",
            "   </b>\n",
            "  </h3>\n",
            "  <p>\n",
            "   Salary: $ 92,000,000\n",
            "  </p>\n",
            "  <h3>\n",
            "   Stephen Curry\n",
            "  </h3>\n",
            "  <p>\n",
            "   Salary: $85,000, 000\n",
            "  </p>\n",
            "  <h3>\n",
            "   Kevin Durant\n",
            "  </h3>\n",
            "  <p>\n",
            "   Salary: $73,200, 000\n",
            "  </p>\n",
            " </body>\n",
            "</html>\n",
            "\n"
          ]
        }
      ],
      "source": [
        "print(soup.prettify())"
      ]
    },
    {
      "cell_type": "markdown",
      "metadata": {
        "id": "yb6rCNLqiQLR"
      },
      "source": [
        "## Tags\n"
      ]
    },
    {
      "cell_type": "markdown",
      "metadata": {
        "id": "Akh_hOlmiQLR"
      },
      "source": [
        "Let's say we want the  title of the page and the name of the top paid player we can use the <code>Tag</code>. The <code>Tag</code> object corresponds to an HTML tag in the original document, for example, the tag title.\n"
      ]
    },
    {
      "cell_type": "code",
      "execution_count": null,
      "metadata": {
        "colab": {
          "base_uri": "https://localhost:8080/"
        },
        "id": "LpRerVstiQLR",
        "outputId": "6117fea4-7b4b-4deb-d623-4cf284898f4e"
      },
      "outputs": [
        {
          "output_type": "stream",
          "name": "stdout",
          "text": [
            "tag object: <title>Page Title</title>\n"
          ]
        }
      ],
      "source": [
        "tag_object=soup.title\n",
        "print(\"tag object:\",tag_object)"
      ]
    },
    {
      "cell_type": "markdown",
      "metadata": {
        "id": "OAoHM-iQiQLR"
      },
      "source": [
        "we can see the tag type <code>bs4.element.Tag</code>\n"
      ]
    },
    {
      "cell_type": "code",
      "execution_count": null,
      "metadata": {
        "colab": {
          "base_uri": "https://localhost:8080/"
        },
        "id": "u9pLhngOiQLS",
        "outputId": "cf09c069-f9cd-4b93-daf6-b0b4e25653ec"
      },
      "outputs": [
        {
          "output_type": "stream",
          "name": "stdout",
          "text": [
            "tag object type: <class 'bs4.element.Tag'>\n"
          ]
        }
      ],
      "source": [
        "print(\"tag object type:\",type(tag_object))"
      ]
    },
    {
      "cell_type": "markdown",
      "metadata": {
        "id": "M95B75bCiQLS"
      },
      "source": [
        "If there is more than one <code>Tag</code>  with the same name, the first element with that <code>Tag</code> name is called, this corresponds to the most paid player:\n"
      ]
    },
    {
      "cell_type": "code",
      "execution_count": null,
      "metadata": {
        "colab": {
          "base_uri": "https://localhost:8080/"
        },
        "id": "INVQoYMNiQLS",
        "outputId": "a9ada118-81a7-404e-c174-696e0a8d09c5"
      },
      "outputs": [
        {
          "output_type": "execute_result",
          "data": {
            "text/plain": [
              "<h3><b id=\"boldest\">Lebron James</b></h3>"
            ]
          },
          "metadata": {},
          "execution_count": 35
        }
      ],
      "source": [
        "tag_object=soup.h3\n",
        "tag_object"
      ]
    },
    {
      "cell_type": "markdown",
      "metadata": {
        "id": "aWNDIvzWiQLS"
      },
      "source": [
        "Enclosed in the bold attribute <code>b</code>, it helps to use the tree representation. We can navigate down the tree using the child attribute to get the name.\n"
      ]
    },
    {
      "cell_type": "markdown",
      "metadata": {
        "id": "eVRfUXJYiQLT"
      },
      "source": [
        "### Children, Parents, and Siblings\n"
      ]
    },
    {
      "cell_type": "markdown",
      "metadata": {
        "id": "ctMKb9wGiQLT"
      },
      "source": [
        "As stated above the <code>Tag</code> object is a tree of objects we can access the child of the tag or navigate down the branch as follows:\n"
      ]
    },
    {
      "cell_type": "code",
      "execution_count": null,
      "metadata": {
        "id": "2Cncq0LriQLT",
        "colab": {
          "base_uri": "https://localhost:8080/"
        },
        "outputId": "8df8d601-11a0-432c-f8dc-42c95a4fdc1b"
      },
      "outputs": [
        {
          "output_type": "stream",
          "name": "stdout",
          "text": [
            "<b id=\"boldest\">Lebron James</b>\n"
          ]
        }
      ],
      "source": [
        "tag_child=tag_object.b\n",
        "print(tag_child)"
      ]
    },
    {
      "cell_type": "markdown",
      "metadata": {
        "id": "g8jC6nVriQLT"
      },
      "source": [
        "You can access the parent with the <code> parent</code>\n"
      ]
    },
    {
      "cell_type": "code",
      "execution_count": null,
      "metadata": {
        "colab": {
          "base_uri": "https://localhost:8080/"
        },
        "id": "Twh_i5uhiQLT",
        "outputId": "f9c36b7c-6569-42e1-8797-bdfa0ca5480d"
      },
      "outputs": [
        {
          "output_type": "execute_result",
          "data": {
            "text/plain": [
              "<h3><b id=\"boldest\">Lebron James</b></h3>"
            ]
          },
          "metadata": {},
          "execution_count": 38
        }
      ],
      "source": [
        "parent_tag=tag_child.parent\n",
        "parent_tag"
      ]
    },
    {
      "cell_type": "markdown",
      "metadata": {
        "id": "LrHk9Z4MiQLT"
      },
      "source": [
        "this is identical to\n"
      ]
    },
    {
      "cell_type": "code",
      "execution_count": null,
      "metadata": {
        "colab": {
          "base_uri": "https://localhost:8080/"
        },
        "id": "tYNvV1BEiQLU",
        "outputId": "bf187ebd-b799-4b46-afb1-9a16dabbfa4a"
      },
      "outputs": [
        {
          "output_type": "execute_result",
          "data": {
            "text/plain": [
              "<h3><b id=\"boldest\">Lebron James</b></h3>"
            ]
          },
          "metadata": {},
          "execution_count": 39
        }
      ],
      "source": [
        "tag_object"
      ]
    },
    {
      "cell_type": "markdown",
      "metadata": {
        "id": "AcawRFvjiQLU"
      },
      "source": [
        "<code>tag_object</code> parent is the <code>body</code> element.\n"
      ]
    },
    {
      "cell_type": "code",
      "execution_count": null,
      "metadata": {
        "colab": {
          "base_uri": "https://localhost:8080/"
        },
        "id": "Us6SQtG4iQLU",
        "outputId": "e4a25ade-fba8-4dc0-817c-9d33aa7e3af2"
      },
      "outputs": [
        {
          "output_type": "execute_result",
          "data": {
            "text/plain": [
              "<body><h3><b id=\"boldest\">Lebron James</b></h3><p> Salary: $ 92,000,000 </p><h3> Stephen Curry</h3><p> Salary: $85,000, 000 </p><h3> Kevin Durant </h3><p> Salary: $73,200, 000</p></body>"
            ]
          },
          "metadata": {},
          "execution_count": 40
        }
      ],
      "source": [
        "tag_object.parent"
      ]
    },
    {
      "cell_type": "markdown",
      "metadata": {
        "id": "qm3Fp1WviQLU"
      },
      "source": [
        "<code>tag_object</code> sibling is the <code>paragraph</code> element\n"
      ]
    },
    {
      "cell_type": "code",
      "execution_count": null,
      "metadata": {
        "id": "_r4t8QNIiQLV",
        "colab": {
          "base_uri": "https://localhost:8080/"
        },
        "outputId": "7d762e16-9090-4bc0-960a-66ef25c4e043"
      },
      "outputs": [
        {
          "output_type": "execute_result",
          "data": {
            "text/plain": [
              "<p> Salary: $ 92,000,000 </p>"
            ]
          },
          "metadata": {},
          "execution_count": 41
        }
      ],
      "source": [
        "sibling_1=tag_object.next_sibling\n",
        "sibling_1"
      ]
    },
    {
      "cell_type": "markdown",
      "metadata": {
        "id": "IeJ0Nwx0iQLX"
      },
      "source": [
        "`sibling_2` is the `header` element which is also a sibling of both `sibling_1` and `tag_object`\n"
      ]
    },
    {
      "cell_type": "code",
      "execution_count": null,
      "metadata": {
        "colab": {
          "base_uri": "https://localhost:8080/"
        },
        "id": "-_illFHdiQLX",
        "outputId": "a4093918-2ac7-46d4-a2a6-475b6be24f49"
      },
      "outputs": [
        {
          "output_type": "execute_result",
          "data": {
            "text/plain": [
              "<h3> Stephen Curry</h3>"
            ]
          },
          "metadata": {},
          "execution_count": 42
        }
      ],
      "source": [
        "sibling_2=sibling_1.next_sibling\n",
        "sibling_2"
      ]
    },
    {
      "cell_type": "markdown",
      "metadata": {
        "id": "lanbaC6RiQLX"
      },
      "source": [
        "<h3 id=\"first_question\">Exercise: <code>next_sibling</code></h3>\n"
      ]
    },
    {
      "cell_type": "markdown",
      "metadata": {
        "id": "Z_Xtz68NiQLY"
      },
      "source": [
        "Using the object <code>sibling\\_2</code> and the property <code>next_sibling</code> to find the salary of Stephen Curry:\n"
      ]
    },
    {
      "cell_type": "code",
      "execution_count": null,
      "metadata": {
        "id": "D7Paxm4IiQLY"
      },
      "outputs": [],
      "source": []
    },
    {
      "cell_type": "markdown",
      "metadata": {
        "id": "eeaxN5GBiQLY"
      },
      "source": [
        "<details><summary>Click here for the solution</summary>\n",
        "\n",
        "```\n",
        "sibling_2.next_sibling\n",
        "\n",
        "```\n",
        "\n",
        "</details>\n"
      ]
    },
    {
      "cell_type": "code",
      "source": [
        "sibling_2=sibling_2.next_sibling\n",
        "sibling_2"
      ],
      "metadata": {
        "colab": {
          "base_uri": "https://localhost:8080/"
        },
        "id": "ywAGVwR65hXK",
        "outputId": "e3bbed2a-0fd5-483f-dc95-0baa1e332919"
      },
      "execution_count": null,
      "outputs": [
        {
          "output_type": "execute_result",
          "data": {
            "text/plain": [
              "<p> Salary: $73,200, 000</p>"
            ]
          },
          "metadata": {},
          "execution_count": 45
        }
      ]
    },
    {
      "cell_type": "markdown",
      "metadata": {
        "id": "KX6TwaAGiQLY"
      },
      "source": [
        "### HTML Attributes\n"
      ]
    },
    {
      "cell_type": "markdown",
      "metadata": {
        "id": "e-cobHjYiQLY"
      },
      "source": [
        "If the tag has attributes, the tag <code>id=\"boldest\"</code> has an attribute <code>id</code> whose value is <code>boldest</code>. You can access a tag’s attributes by treating the tag like a dictionary:\n"
      ]
    },
    {
      "cell_type": "code",
      "execution_count": null,
      "metadata": {
        "colab": {
          "base_uri": "https://localhost:8080/",
          "height": 35
        },
        "id": "vIPhxoHliQLZ",
        "outputId": "b02bf4a3-05f9-43d7-daa4-c68e1c7e4eae"
      },
      "outputs": [
        {
          "output_type": "execute_result",
          "data": {
            "text/plain": [
              "'boldest'"
            ],
            "application/vnd.google.colaboratory.intrinsic+json": {
              "type": "string"
            }
          },
          "metadata": {},
          "execution_count": 46
        }
      ],
      "source": [
        "tag_child['id']"
      ]
    },
    {
      "cell_type": "markdown",
      "metadata": {
        "id": "gUTQvRAliQLZ"
      },
      "source": [
        "You can access that dictionary directly as <code>attrs</code>:\n"
      ]
    },
    {
      "cell_type": "code",
      "execution_count": null,
      "metadata": {
        "colab": {
          "base_uri": "https://localhost:8080/"
        },
        "id": "n77WZ5EGiQLZ",
        "outputId": "d69757a5-5910-493f-83c9-097925698cdc"
      },
      "outputs": [
        {
          "output_type": "execute_result",
          "data": {
            "text/plain": [
              "{'id': 'boldest'}"
            ]
          },
          "metadata": {},
          "execution_count": 47
        }
      ],
      "source": [
        "tag_child.attrs"
      ]
    },
    {
      "cell_type": "markdown",
      "metadata": {
        "id": "n_GvHya_iQLZ"
      },
      "source": [
        "You can also work with Multi-valued attribute check out <a href=\"https://www.crummy.com/software/BeautifulSoup/bs4/doc/?utm_medium=Exinfluencer&utm_source=Exinfluencer&utm_content=000026UJ&utm_term=10006555&utm_id=NA-SkillsNetwork-Channel-SkillsNetworkCoursesIBMDeveloperSkillsNetworkPY0220ENSkillsNetwork23455606-2021-01-01\">\\[1]</a> for more.\n"
      ]
    },
    {
      "cell_type": "markdown",
      "metadata": {
        "id": "eDJdRga9iQLa"
      },
      "source": [
        "We can also obtain the content if the attribute of the <code>tag</code> using the Python <code>get()</code> method.\n"
      ]
    },
    {
      "cell_type": "code",
      "execution_count": null,
      "metadata": {
        "id": "HVUSkIQriQLa",
        "colab": {
          "base_uri": "https://localhost:8080/",
          "height": 35
        },
        "outputId": "25f5dc64-8002-4efd-ba62-f16b288f6398"
      },
      "outputs": [
        {
          "output_type": "execute_result",
          "data": {
            "text/plain": [
              "'boldest'"
            ],
            "application/vnd.google.colaboratory.intrinsic+json": {
              "type": "string"
            }
          },
          "metadata": {},
          "execution_count": 48
        }
      ],
      "source": [
        "tag_child.get('id')"
      ]
    },
    {
      "cell_type": "markdown",
      "metadata": {
        "id": "aWCVEMixiQLa"
      },
      "source": [
        "### Navigable String\n"
      ]
    },
    {
      "cell_type": "markdown",
      "metadata": {
        "id": "hS1F8D9piQLa"
      },
      "source": [
        "A string corresponds to a bit of text or content within a tag. Beautiful Soup uses the <code>NavigableString</code> class to contain this text. In our HTML we can obtain the name of the first player by extracting the sting of the <code>Tag</code> object <code>tag_child</code> as follows:\n"
      ]
    },
    {
      "cell_type": "code",
      "execution_count": null,
      "metadata": {
        "id": "cbcasEK_iQLa",
        "colab": {
          "base_uri": "https://localhost:8080/",
          "height": 35
        },
        "outputId": "70e29dbe-8f3f-46c0-aa09-c29c4275c2b9"
      },
      "outputs": [
        {
          "output_type": "execute_result",
          "data": {
            "text/plain": [
              "'Lebron James'"
            ],
            "application/vnd.google.colaboratory.intrinsic+json": {
              "type": "string"
            }
          },
          "metadata": {},
          "execution_count": 49
        }
      ],
      "source": [
        "tag_string=tag_child.string\n",
        "tag_string"
      ]
    },
    {
      "cell_type": "markdown",
      "metadata": {
        "id": "VnDD_N8OiQLb"
      },
      "source": [
        "we can verify the type is Navigable String\n"
      ]
    },
    {
      "cell_type": "code",
      "execution_count": null,
      "metadata": {
        "id": "-AOZkdnriQLb",
        "colab": {
          "base_uri": "https://localhost:8080/"
        },
        "outputId": "6471db73-d317-4c02-f2d0-38861f76d317"
      },
      "outputs": [
        {
          "output_type": "execute_result",
          "data": {
            "text/plain": [
              "bs4.element.NavigableString"
            ]
          },
          "metadata": {},
          "execution_count": 50
        }
      ],
      "source": [
        "type(tag_string)"
      ]
    },
    {
      "cell_type": "markdown",
      "metadata": {
        "id": "MUQeXyk7iQLb"
      },
      "source": [
        "A NavigableString is just like a Python string or Unicode string, to be more precise. The main difference is that it also supports some  <code>BeautifulSoup</code> features. We can covert it to sting object in Python:\n"
      ]
    },
    {
      "cell_type": "code",
      "execution_count": null,
      "metadata": {
        "id": "emlluGw6iQLb",
        "colab": {
          "base_uri": "https://localhost:8080/",
          "height": 35
        },
        "outputId": "68399011-e96f-4447-b69b-549c89739253"
      },
      "outputs": [
        {
          "output_type": "execute_result",
          "data": {
            "text/plain": [
              "'Lebron James'"
            ],
            "application/vnd.google.colaboratory.intrinsic+json": {
              "type": "string"
            }
          },
          "metadata": {},
          "execution_count": 51
        }
      ],
      "source": [
        "unicode_string = str(tag_string)\n",
        "unicode_string"
      ]
    },
    {
      "cell_type": "markdown",
      "metadata": {
        "id": "GLg1lUHQiQLb"
      },
      "source": [
        "<h2 id=\"filter\">Filter</h2>\n"
      ]
    },
    {
      "cell_type": "markdown",
      "metadata": {
        "id": "2BtVdyaQiQLb"
      },
      "source": [
        "Filters allow you to find complex patterns, the simplest filter is a string. In this section we will pass a string to a different filter method and Beautiful Soup will perform a match against that exact string.  Consider the following HTML of rocket launchs:\n"
      ]
    },
    {
      "cell_type": "code",
      "execution_count": null,
      "metadata": {
        "id": "b19IeXjfiQLc",
        "colab": {
          "base_uri": "https://localhost:8080/",
          "height": 104
        },
        "outputId": "72e511e6-ae8d-4921-8e64-e93a13094761"
      },
      "outputs": [
        {
          "output_type": "display_data",
          "data": {
            "text/plain": [
              "<IPython.core.display.HTML object>"
            ],
            "text/html": [
              "<table>\n",
              "  <tr>\n",
              "    <td id='flight' >Flight No</td>\n",
              "    <td>Launch site</td>\n",
              "    <td>Payload mass</td>\n",
              "   </tr>\n",
              "  <tr>\n",
              "    <td>1</td>\n",
              "    <td><a href='https://en.wikipedia.org/wiki/Florida'>Florida</a></td>\n",
              "    <td>300 kg</td>\n",
              "  </tr>\n",
              "  <tr>\n",
              "    <td>2</td>\n",
              "    <td><a href='https://en.wikipedia.org/wiki/Texas'>Texas</a></td>\n",
              "    <td>94 kg</td>\n",
              "  </tr>\n",
              "  <tr>\n",
              "    <td>3</td>\n",
              "    <td><a href='https://en.wikipedia.org/wiki/Florida'>Florida</a> </td>\n",
              "    <td>80 kg</td>\n",
              "  </tr>\n",
              "</table>\n"
            ]
          },
          "metadata": {}
        }
      ],
      "source": [
        "%%html\n",
        "<table>\n",
        "  <tr>\n",
        "    <td id='flight' >Flight No</td>\n",
        "    <td>Launch site</td>\n",
        "    <td>Payload mass</td>\n",
        "   </tr>\n",
        "  <tr>\n",
        "    <td>1</td>\n",
        "    <td><a href='https://en.wikipedia.org/wiki/Florida'>Florida</a></td>\n",
        "    <td>300 kg</td>\n",
        "  </tr>\n",
        "  <tr>\n",
        "    <td>2</td>\n",
        "    <td><a href='https://en.wikipedia.org/wiki/Texas'>Texas</a></td>\n",
        "    <td>94 kg</td>\n",
        "  </tr>\n",
        "  <tr>\n",
        "    <td>3</td>\n",
        "    <td><a href='https://en.wikipedia.org/wiki/Florida'>Florida</a> </td>\n",
        "    <td>80 kg</td>\n",
        "  </tr>\n",
        "</table>"
      ]
    },
    {
      "cell_type": "markdown",
      "metadata": {
        "id": "euOEqjUmiQLc"
      },
      "source": [
        "We can store it as a string in the variable <code>table</code>:\n"
      ]
    },
    {
      "cell_type": "code",
      "execution_count": null,
      "metadata": {
        "id": "PT3wiW8AiQLc"
      },
      "outputs": [],
      "source": [
        "table=\"<table><tr><td id='flight' >Flight No</td><td>Launch site</td><td>Payload mass</td></tr><tr><td>1</td><td><a href='https://en.wikipedia.org/wiki/Florida'>Florida</a></td><td>300 kg</td></tr><tr><td>2</td><td><a href='https://en.wikipedia.org/wiki/Texas'>Texas</a></td><td>94 kg</td></tr><tr><td>3</td><td><a href='https://en.wikipedia.org/wiki/Florida'>Florida</a> </td><td>80 kg</td></tr></table>\""
      ]
    },
    {
      "cell_type": "code",
      "execution_count": null,
      "metadata": {
        "id": "jUsZJ0TYiQLc",
        "colab": {
          "base_uri": "https://localhost:8080/"
        },
        "outputId": "f12291c6-940b-4ac8-e529-c2e81a967e78"
      },
      "outputs": [
        {
          "output_type": "execute_result",
          "data": {
            "text/plain": [
              "<table><tr><td id=\"flight\">Flight No</td><td>Launch site</td><td>Payload mass</td></tr><tr><td>1</td><td><a href=\"https://en.wikipedia.org/wiki/Florida\">Florida</a></td><td>300 kg</td></tr><tr><td>2</td><td><a href=\"https://en.wikipedia.org/wiki/Texas\">Texas</a></td><td>94 kg</td></tr><tr><td>3</td><td><a href=\"https://en.wikipedia.org/wiki/Florida\">Florida</a> </td><td>80 kg</td></tr></table>"
            ]
          },
          "metadata": {},
          "execution_count": 55
        }
      ],
      "source": [
        "table_bs = BeautifulSoup(table, \"html.parser\")\n",
        "table_bs"
      ]
    },
    {
      "cell_type": "markdown",
      "metadata": {
        "id": "0fGY01GNiQLc"
      },
      "source": [
        "## find All\n"
      ]
    },
    {
      "cell_type": "markdown",
      "metadata": {
        "id": "u6Qsf58ciQLc"
      },
      "source": [
        "The <code>find_all()</code> method looks through a tag’s descendants and retrieves all descendants that match your filters.\n",
        "\n",
        "<p>\n",
        "The Method signature for <code>find_all(name, attrs, recursive, string, limit, **kwargs)<c/ode>\n",
        "</p>\n"
      ]
    },
    {
      "cell_type": "markdown",
      "metadata": {
        "id": "bqRTG9mWiQLd"
      },
      "source": [
        "### Name\n"
      ]
    },
    {
      "cell_type": "markdown",
      "metadata": {
        "id": "YalfMYhxiQLd"
      },
      "source": [
        "When we set the <code>name</code> parameter to a tag name, the method will extract all the tags with that name and its children.\n"
      ]
    },
    {
      "cell_type": "code",
      "execution_count": null,
      "metadata": {
        "id": "G1tJa1PriQLd",
        "colab": {
          "base_uri": "https://localhost:8080/"
        },
        "outputId": "3a9ce8dc-f091-46c6-fcf5-8bea0b0f7492"
      },
      "outputs": [
        {
          "output_type": "execute_result",
          "data": {
            "text/plain": [
              "[<tr><td id=\"flight\">Flight No</td><td>Launch site</td><td>Payload mass</td></tr>,\n",
              " <tr><td>1</td><td><a href=\"https://en.wikipedia.org/wiki/Florida\">Florida</a></td><td>300 kg</td></tr>,\n",
              " <tr><td>2</td><td><a href=\"https://en.wikipedia.org/wiki/Texas\">Texas</a></td><td>94 kg</td></tr>,\n",
              " <tr><td>3</td><td><a href=\"https://en.wikipedia.org/wiki/Florida\">Florida</a> </td><td>80 kg</td></tr>]"
            ]
          },
          "metadata": {},
          "execution_count": 56
        }
      ],
      "source": [
        "table_rows=table_bs.find_all('tr')\n",
        "table_rows"
      ]
    },
    {
      "cell_type": "markdown",
      "metadata": {
        "id": "pF2nhqKeiQLd"
      },
      "source": [
        "The result is a Python Iterable just like a list, each element is a <code>tag</code> object:\n"
      ]
    },
    {
      "cell_type": "code",
      "execution_count": null,
      "metadata": {
        "id": "Fzyn3t5hiQLd",
        "colab": {
          "base_uri": "https://localhost:8080/"
        },
        "outputId": "1f699a65-1825-4f92-e070-ddb73e97d213"
      },
      "outputs": [
        {
          "output_type": "execute_result",
          "data": {
            "text/plain": [
              "<tr><td id=\"flight\">Flight No</td><td>Launch site</td><td>Payload mass</td></tr>"
            ]
          },
          "metadata": {},
          "execution_count": 57
        }
      ],
      "source": [
        "first_row =table_rows[0]\n",
        "first_row"
      ]
    },
    {
      "cell_type": "markdown",
      "metadata": {
        "id": "2AV9d7xuiQLe"
      },
      "source": [
        "The type is <code>tag</code>\n"
      ]
    },
    {
      "cell_type": "code",
      "execution_count": null,
      "metadata": {
        "id": "C4R9rX_RiQLe",
        "colab": {
          "base_uri": "https://localhost:8080/"
        },
        "outputId": "323a8c03-ff34-4bfd-e340-d6d6ecdab06b"
      },
      "outputs": [
        {
          "output_type": "stream",
          "name": "stdout",
          "text": [
            "<class 'bs4.element.Tag'>\n"
          ]
        }
      ],
      "source": [
        "print(type(first_row))"
      ]
    },
    {
      "cell_type": "markdown",
      "metadata": {
        "id": "ieOH60nWiQLe"
      },
      "source": [
        "we can obtain the child\n"
      ]
    },
    {
      "cell_type": "code",
      "execution_count": null,
      "metadata": {
        "id": "0tKKmFy3iQLe",
        "colab": {
          "base_uri": "https://localhost:8080/"
        },
        "outputId": "f89b0cba-4027-4776-ca02-82dd5570ad41"
      },
      "outputs": [
        {
          "output_type": "execute_result",
          "data": {
            "text/plain": [
              "<td id=\"flight\">Flight No</td>"
            ]
          },
          "metadata": {},
          "execution_count": 59
        }
      ],
      "source": [
        "first_row.td"
      ]
    },
    {
      "cell_type": "markdown",
      "metadata": {
        "id": "6qLf-eNZiQLe"
      },
      "source": [
        "If we iterate through the list, each element corresponds to a row in the table:\n"
      ]
    },
    {
      "cell_type": "code",
      "execution_count": null,
      "metadata": {
        "id": "Onzuil8IiQLe",
        "colab": {
          "base_uri": "https://localhost:8080/"
        },
        "outputId": "e7ccab84-8ad5-464d-8966-d3197dbc6bca"
      },
      "outputs": [
        {
          "output_type": "stream",
          "name": "stdout",
          "text": [
            "row 0 is <tr><td id=\"flight\">Flight No</td><td>Launch site</td><td>Payload mass</td></tr>\n",
            "row 1 is <tr><td>1</td><td><a href=\"https://en.wikipedia.org/wiki/Florida\">Florida</a></td><td>300 kg</td></tr>\n",
            "row 2 is <tr><td>2</td><td><a href=\"https://en.wikipedia.org/wiki/Texas\">Texas</a></td><td>94 kg</td></tr>\n",
            "row 3 is <tr><td>3</td><td><a href=\"https://en.wikipedia.org/wiki/Florida\">Florida</a> </td><td>80 kg</td></tr>\n"
          ]
        }
      ],
      "source": [
        "for i,row in enumerate(table_rows):\n",
        "    print(\"row\",i,\"is\",row)\n"
      ]
    },
    {
      "cell_type": "markdown",
      "metadata": {
        "id": "D7QQOdT0iQLe"
      },
      "source": [
        "As <code>row</code> is a <code>cell</code> object, we can apply the method <code>find_all</code> to it and extract table cells in the object <code>cells</code> using the tag <code>td</code>, this is all the children with the name <code>td</code>. The result is a list, each element corresponds to a cell and is a <code>Tag</code> object, we can iterate through this list as well. We can extract the content using the <code>string</code>  attribute.\n"
      ]
    },
    {
      "cell_type": "code",
      "execution_count": null,
      "metadata": {
        "id": "G_JNG1zpiQLf",
        "colab": {
          "base_uri": "https://localhost:8080/"
        },
        "outputId": "c8bf46aa-6004-4deb-d517-ce3a82b3bac9"
      },
      "outputs": [
        {
          "output_type": "stream",
          "name": "stdout",
          "text": [
            "row 0\n",
            "colunm 0 cell <td id=\"flight\">Flight No</td>\n",
            "colunm 1 cell <td>Launch site</td>\n",
            "colunm 2 cell <td>Payload mass</td>\n",
            "row 1\n",
            "colunm 0 cell <td>1</td>\n",
            "colunm 1 cell <td><a href=\"https://en.wikipedia.org/wiki/Florida\">Florida</a></td>\n",
            "colunm 2 cell <td>300 kg</td>\n",
            "row 2\n",
            "colunm 0 cell <td>2</td>\n",
            "colunm 1 cell <td><a href=\"https://en.wikipedia.org/wiki/Texas\">Texas</a></td>\n",
            "colunm 2 cell <td>94 kg</td>\n",
            "row 3\n",
            "colunm 0 cell <td>3</td>\n",
            "colunm 1 cell <td><a href=\"https://en.wikipedia.org/wiki/Florida\">Florida</a> </td>\n",
            "colunm 2 cell <td>80 kg</td>\n"
          ]
        }
      ],
      "source": [
        "for i,row in enumerate(table_rows):\n",
        "    print(\"row\",i)\n",
        "    cells=row.find_all('td')\n",
        "    for j,cell in enumerate(cells):\n",
        "        print('colunm',j,\"cell\",cell)"
      ]
    },
    {
      "cell_type": "markdown",
      "metadata": {
        "id": "LJvWDHngiQLf"
      },
      "source": [
        "If we use a list we can match against any item in that list.\n"
      ]
    },
    {
      "cell_type": "code",
      "execution_count": null,
      "metadata": {
        "id": "Nk5M9pIFiQLf",
        "colab": {
          "base_uri": "https://localhost:8080/"
        },
        "outputId": "2690c1e7-8b06-43cb-df9f-2763ff4255e7"
      },
      "outputs": [
        {
          "output_type": "execute_result",
          "data": {
            "text/plain": [
              "[<tr><td id=\"flight\">Flight No</td><td>Launch site</td><td>Payload mass</td></tr>,\n",
              " <td id=\"flight\">Flight No</td>,\n",
              " <td>Launch site</td>,\n",
              " <td>Payload mass</td>,\n",
              " <tr><td>1</td><td><a href=\"https://en.wikipedia.org/wiki/Florida\">Florida</a></td><td>300 kg</td></tr>,\n",
              " <td>1</td>,\n",
              " <td><a href=\"https://en.wikipedia.org/wiki/Florida\">Florida</a></td>,\n",
              " <td>300 kg</td>,\n",
              " <tr><td>2</td><td><a href=\"https://en.wikipedia.org/wiki/Texas\">Texas</a></td><td>94 kg</td></tr>,\n",
              " <td>2</td>,\n",
              " <td><a href=\"https://en.wikipedia.org/wiki/Texas\">Texas</a></td>,\n",
              " <td>94 kg</td>,\n",
              " <tr><td>3</td><td><a href=\"https://en.wikipedia.org/wiki/Florida\">Florida</a> </td><td>80 kg</td></tr>,\n",
              " <td>3</td>,\n",
              " <td><a href=\"https://en.wikipedia.org/wiki/Florida\">Florida</a> </td>,\n",
              " <td>80 kg</td>]"
            ]
          },
          "metadata": {},
          "execution_count": 62
        }
      ],
      "source": [
        "list_input=table_bs .find_all(name=[\"tr\", \"td\"])\n",
        "list_input"
      ]
    },
    {
      "cell_type": "markdown",
      "metadata": {
        "id": "JLOWqQOLiQLf"
      },
      "source": [
        "## Attributes\n"
      ]
    },
    {
      "cell_type": "markdown",
      "metadata": {
        "id": "4MFUcNngiQLf"
      },
      "source": [
        "If the argument is not recognized it will be turned into a filter on the tag’s attributes. For example the <code>id</code>  argument, Beautiful Soup will filter against each tag’s <code>id</code> attribute. For example, the first <code>td</code> elements have a value of <code>id</code> of <code>flight</code>, therefore we can filter based on that <code>id</code> value.\n"
      ]
    },
    {
      "cell_type": "code",
      "execution_count": null,
      "metadata": {
        "id": "WTT4jWpYiQLf",
        "colab": {
          "base_uri": "https://localhost:8080/"
        },
        "outputId": "f2dfb60f-5d3c-4e5a-8075-d25bfbedcd45"
      },
      "outputs": [
        {
          "output_type": "execute_result",
          "data": {
            "text/plain": [
              "[<td id=\"flight\">Flight No</td>]"
            ]
          },
          "metadata": {},
          "execution_count": 63
        }
      ],
      "source": [
        "table_bs.find_all(id=\"flight\")"
      ]
    },
    {
      "cell_type": "markdown",
      "metadata": {
        "id": "MUQAljvjiQLf"
      },
      "source": [
        "We can find all the elements that have links to the Florida Wikipedia page:\n"
      ]
    },
    {
      "cell_type": "code",
      "execution_count": null,
      "metadata": {
        "id": "7jlbsXR3iQLf",
        "colab": {
          "base_uri": "https://localhost:8080/"
        },
        "outputId": "fbd9b688-a80f-4204-8341-b3df0127e7a4"
      },
      "outputs": [
        {
          "output_type": "execute_result",
          "data": {
            "text/plain": [
              "[<a href=\"https://en.wikipedia.org/wiki/Florida\">Florida</a>,\n",
              " <a href=\"https://en.wikipedia.org/wiki/Florida\">Florida</a>]"
            ]
          },
          "metadata": {},
          "execution_count": 64
        }
      ],
      "source": [
        "list_input=table_bs.find_all(href=\"https://en.wikipedia.org/wiki/Florida\")\n",
        "list_input"
      ]
    },
    {
      "cell_type": "markdown",
      "metadata": {
        "id": "oqpW1zpQiQLg"
      },
      "source": [
        "If we set the  <code>href</code> attribute to True, regardless of what the value is, the code finds all tags with <code>href</code> value:\n"
      ]
    },
    {
      "cell_type": "code",
      "execution_count": null,
      "metadata": {
        "id": "StmPWKF7iQLg",
        "colab": {
          "base_uri": "https://localhost:8080/"
        },
        "outputId": "dd5b4df9-ecef-4d0d-a43d-a9928450c1cc"
      },
      "outputs": [
        {
          "output_type": "execute_result",
          "data": {
            "text/plain": [
              "[<a href=\"https://en.wikipedia.org/wiki/Florida\">Florida</a>,\n",
              " <a href=\"https://en.wikipedia.org/wiki/Texas\">Texas</a>,\n",
              " <a href=\"https://en.wikipedia.org/wiki/Florida\">Florida</a>]"
            ]
          },
          "metadata": {},
          "execution_count": 65
        }
      ],
      "source": [
        "table_bs.find_all(href=True)"
      ]
    },
    {
      "cell_type": "markdown",
      "metadata": {
        "id": "_1YLjli2iQLg"
      },
      "source": [
        "There are other methods for dealing with attributes and other related methods; Check out the following <a href='https://www.crummy.com/software/BeautifulSoup/bs4/doc/?utm_medium=Exinfluencer&utm_source=Exinfluencer&utm_content=000026UJ&utm_term=10006555&utm_id=NA-SkillsNetwork-Channel-SkillsNetworkCoursesIBMDeveloperSkillsNetworkPY0220ENSkillsNetwork23455606-2021-01-01#css-selectors'>link</a>\n"
      ]
    },
    {
      "cell_type": "markdown",
      "metadata": {
        "id": "KLb6EI_viQLg"
      },
      "source": [
        "<h3 id=\"exer_type\">Exercise: <code>find_all</code></h3>\n"
      ]
    },
    {
      "cell_type": "markdown",
      "metadata": {
        "id": "WI0BrOW_iQLg"
      },
      "source": [
        "Using the logic above, find all the elements without <code>href</code> value\n"
      ]
    },
    {
      "cell_type": "code",
      "execution_count": null,
      "metadata": {
        "id": "etAdoMXXiQLg",
        "colab": {
          "base_uri": "https://localhost:8080/"
        },
        "outputId": "2f3d31ea-50d9-46f6-f49f-b0d2418ceac2"
      },
      "outputs": [
        {
          "output_type": "stream",
          "name": "stdout",
          "text": [
            "[]\n"
          ]
        }
      ],
      "source": [
        "print(table_bs.find_all('a',href=False))\n"
      ]
    },
    {
      "cell_type": "markdown",
      "metadata": {
        "id": "vJAp5IWJiQLg"
      },
      "source": [
        "<details><summary>Click here for the solution</summary>\n",
        "\n",
        "```\n",
        "table_bs.find_all('a', href=False)\n",
        "\n",
        "```\n",
        "\n",
        "</details>\n"
      ]
    },
    {
      "cell_type": "markdown",
      "metadata": {
        "id": "ILAVElMXiQLg"
      },
      "source": [
        "Using the soup object <code>soup</code>, find the element with the <code>id</code> attribute content set to <code>\"boldest\"</code>.\n"
      ]
    },
    {
      "cell_type": "code",
      "execution_count": null,
      "metadata": {
        "id": "GyPJvIumiQLg",
        "colab": {
          "base_uri": "https://localhost:8080/"
        },
        "outputId": "98d734a0-0ef5-4b86-80bb-4dfae1e894f2"
      },
      "outputs": [
        {
          "output_type": "stream",
          "name": "stdout",
          "text": [
            "[<b id=\"boldest\">Lebron James</b>]\n"
          ]
        }
      ],
      "source": [
        "print(soup.find_all(id=\"boldest\"))"
      ]
    },
    {
      "cell_type": "markdown",
      "metadata": {
        "id": "mjJ7s7_DiQLh"
      },
      "source": [
        "<details><summary>Click here for the solution</summary>\n",
        "\n",
        "```\n",
        "soup.find_all(id=\"boldest\")\n",
        "\n",
        "```\n",
        "\n",
        "</details>\n"
      ]
    },
    {
      "cell_type": "markdown",
      "metadata": {
        "id": "8G-ChQEKiQLh"
      },
      "source": [
        "### string\n"
      ]
    },
    {
      "cell_type": "markdown",
      "metadata": {
        "id": "OLj89j-iiQLh"
      },
      "source": [
        "With string you can search for strings instead of tags, where we find all the elments with Florida:\n"
      ]
    },
    {
      "cell_type": "code",
      "execution_count": null,
      "metadata": {
        "id": "Alfw4q38iQLh",
        "colab": {
          "base_uri": "https://localhost:8080/"
        },
        "outputId": "6f1ea452-c8f5-4f59-87f2-164ae6efe760"
      },
      "outputs": [
        {
          "output_type": "execute_result",
          "data": {
            "text/plain": [
              "['Florida', 'Florida']"
            ]
          },
          "metadata": {},
          "execution_count": 74
        }
      ],
      "source": [
        "table_bs.find_all(string=\"Florida\")"
      ]
    },
    {
      "cell_type": "markdown",
      "metadata": {
        "id": "8PP99UYPiQLh"
      },
      "source": [
        "## find\n"
      ]
    },
    {
      "cell_type": "markdown",
      "metadata": {
        "id": "g__k98BMiQLh"
      },
      "source": [
        "The <code>find_all()</code> method scans the entire document looking for results, it’s if you are looking for one element you can use the <code>find()</code> method to find the first element in the document. Consider the following two table:\n"
      ]
    },
    {
      "cell_type": "code",
      "execution_count": null,
      "metadata": {
        "id": "Fhrk0oZjiQLh",
        "colab": {
          "base_uri": "https://localhost:8080/",
          "height": 275
        },
        "outputId": "ebbe4870-8ba3-463c-fadd-0ac414be9239"
      },
      "outputs": [
        {
          "output_type": "display_data",
          "data": {
            "text/plain": [
              "<IPython.core.display.HTML object>"
            ],
            "text/html": [
              "<h3>Rocket Launch </h3>\n",
              "\n",
              "<p>\n",
              "<table class='rocket'>\n",
              "  <tr>\n",
              "    <td>Flight No</td>\n",
              "    <td>Launch site</td>\n",
              "    <td>Payload mass</td>\n",
              "  </tr>\n",
              "  <tr>\n",
              "    <td>1</td>\n",
              "    <td>Florida</td>\n",
              "    <td>300 kg</td>\n",
              "  </tr>\n",
              "  <tr>\n",
              "    <td>2</td>\n",
              "    <td>Texas</td>\n",
              "    <td>94 kg</td>\n",
              "  </tr>\n",
              "  <tr>\n",
              "    <td>3</td>\n",
              "    <td>Florida </td>\n",
              "    <td>80 kg</td>\n",
              "  </tr>\n",
              "</table>\n",
              "</p>\n",
              "<p>\n",
              "\n",
              "<h3>Pizza Party  </h3>\n",
              "\n",
              "\n",
              "<table class='pizza'>\n",
              "  <tr>\n",
              "    <td>Pizza Place</td>\n",
              "    <td>Orders</td>\n",
              "    <td>Slices </td>\n",
              "   </tr>\n",
              "  <tr>\n",
              "    <td>Domino's Pizza</td>\n",
              "    <td>10</td>\n",
              "    <td>100</td>\n",
              "  </tr>\n",
              "  <tr>\n",
              "    <td>Little Caesars</td>\n",
              "    <td>12</td>\n",
              "    <td >144 </td>\n",
              "  </tr>\n",
              "  <tr>\n",
              "    <td>Papa John's </td>\n",
              "    <td>15 </td>\n",
              "    <td>165</td>\n",
              "  </tr>\n"
            ]
          },
          "metadata": {}
        }
      ],
      "source": [
        "%%html\n",
        "<h3>Rocket Launch </h3>\n",
        "\n",
        "<p>\n",
        "<table class='rocket'>\n",
        "  <tr>\n",
        "    <td>Flight No</td>\n",
        "    <td>Launch site</td>\n",
        "    <td>Payload mass</td>\n",
        "  </tr>\n",
        "  <tr>\n",
        "    <td>1</td>\n",
        "    <td>Florida</td>\n",
        "    <td>300 kg</td>\n",
        "  </tr>\n",
        "  <tr>\n",
        "    <td>2</td>\n",
        "    <td>Texas</td>\n",
        "    <td>94 kg</td>\n",
        "  </tr>\n",
        "  <tr>\n",
        "    <td>3</td>\n",
        "    <td>Florida </td>\n",
        "    <td>80 kg</td>\n",
        "  </tr>\n",
        "</table>\n",
        "</p>\n",
        "<p>\n",
        "\n",
        "<h3>Pizza Party  </h3>\n",
        "\n",
        "\n",
        "<table class='pizza'>\n",
        "  <tr>\n",
        "    <td>Pizza Place</td>\n",
        "    <td>Orders</td>\n",
        "    <td>Slices </td>\n",
        "   </tr>\n",
        "  <tr>\n",
        "    <td>Domino's Pizza</td>\n",
        "    <td>10</td>\n",
        "    <td>100</td>\n",
        "  </tr>\n",
        "  <tr>\n",
        "    <td>Little Caesars</td>\n",
        "    <td>12</td>\n",
        "    <td >144 </td>\n",
        "  </tr>\n",
        "  <tr>\n",
        "    <td>Papa John's </td>\n",
        "    <td>15 </td>\n",
        "    <td>165</td>\n",
        "  </tr>\n"
      ]
    },
    {
      "cell_type": "markdown",
      "metadata": {
        "id": "pyLG8-b8iQLh"
      },
      "source": [
        "We store the HTML as a Python string and assign <code>two_tables</code>:\n"
      ]
    },
    {
      "cell_type": "code",
      "execution_count": null,
      "metadata": {
        "id": "TeOgkNJ-iQLi"
      },
      "outputs": [],
      "source": [
        "two_tables=\"<h3>Rocket Launch </h3><p><table class='rocket'><tr><td>Flight No</td><td>Launch site</td> <td>Payload mass</td></tr><tr><td>1</td><td>Florida</td><td>300 kg</td></tr><tr><td>2</td><td>Texas</td><td>94 kg</td></tr><tr><td>3</td><td>Florida </td><td>80 kg</td></tr></table></p><p><h3>Pizza Party  </h3><table class='pizza'><tr><td>Pizza Place</td><td>Orders</td> <td>Slices </td></tr><tr><td>Domino's Pizza</td><td>10</td><td>100</td></tr><tr><td>Little Caesars</td><td>12</td><td >144 </td></tr><tr><td>Papa John's </td><td>15 </td><td>165</td></tr>\""
      ]
    },
    {
      "cell_type": "markdown",
      "metadata": {
        "id": "Ah7gI9zqiQLi"
      },
      "source": [
        "We create a <code>BeautifulSoup</code> object  <code>two_tables_bs</code>\n"
      ]
    },
    {
      "cell_type": "code",
      "execution_count": null,
      "metadata": {
        "id": "CsyZERR0iQLi"
      },
      "outputs": [],
      "source": [
        "two_tables_bs= BeautifulSoup(two_tables, 'html.parser')"
      ]
    },
    {
      "cell_type": "markdown",
      "metadata": {
        "id": "r0dyTs__iQLi"
      },
      "source": [
        "We can find the first table using the tag name table\n"
      ]
    },
    {
      "cell_type": "code",
      "execution_count": null,
      "metadata": {
        "id": "kctOufm3iQLi",
        "colab": {
          "base_uri": "https://localhost:8080/"
        },
        "outputId": "8c2b9046-facf-4d89-a47d-2a5b9c489045"
      },
      "outputs": [
        {
          "output_type": "execute_result",
          "data": {
            "text/plain": [
              "<table class=\"rocket\"><tr><td>Flight No</td><td>Launch site</td> <td>Payload mass</td></tr><tr><td>1</td><td>Florida</td><td>300 kg</td></tr><tr><td>2</td><td>Texas</td><td>94 kg</td></tr><tr><td>3</td><td>Florida </td><td>80 kg</td></tr></table>"
            ]
          },
          "metadata": {},
          "execution_count": 81
        }
      ],
      "source": [
        "two_tables_bs.find(\"table\")"
      ]
    },
    {
      "cell_type": "markdown",
      "metadata": {
        "id": "wm_AIU0jiQLi"
      },
      "source": [
        "We can filter on the class attribute to find the second table, but because class is a keyword in Python, we add an underscore.\n"
      ]
    },
    {
      "cell_type": "code",
      "execution_count": null,
      "metadata": {
        "id": "zvefpH5kiQLi",
        "colab": {
          "base_uri": "https://localhost:8080/"
        },
        "outputId": "3ea39f62-0176-4786-f498-b889124801a7"
      },
      "outputs": [
        {
          "output_type": "execute_result",
          "data": {
            "text/plain": [
              "<table class=\"pizza\"><tr><td>Pizza Place</td><td>Orders</td> <td>Slices </td></tr><tr><td>Domino's Pizza</td><td>10</td><td>100</td></tr><tr><td>Little Caesars</td><td>12</td><td>144 </td></tr><tr><td>Papa John's </td><td>15 </td><td>165</td></tr></table>"
            ]
          },
          "metadata": {},
          "execution_count": 82
        }
      ],
      "source": [
        "two_tables_bs.find(\"table\",class_='pizza')"
      ]
    },
    {
      "cell_type": "markdown",
      "metadata": {
        "id": "sSnS_x5BiQLi"
      },
      "source": [
        "<h2 id=\"DSCW\">Downloading And Scraping The Contents Of A Web Page</h2>\n"
      ]
    },
    {
      "cell_type": "markdown",
      "metadata": {
        "id": "hJT040ZliQLi"
      },
      "source": [
        "We Download the contents of the web page:\n"
      ]
    },
    {
      "cell_type": "code",
      "execution_count": null,
      "metadata": {
        "id": "t6VxnVj7iQLj"
      },
      "outputs": [],
      "source": [
        "url = \"http://www.ibm.com\""
      ]
    },
    {
      "cell_type": "markdown",
      "metadata": {
        "id": "4J8j60XuiQLj"
      },
      "source": [
        "We use <code>get</code> to download the contents of the webpage in text format and store in a variable called <code>data</code>:\n"
      ]
    },
    {
      "cell_type": "code",
      "execution_count": null,
      "metadata": {
        "id": "IbZP5Rg_iQLj",
        "colab": {
          "base_uri": "https://localhost:8080/",
          "height": 1000
        },
        "collapsed": true,
        "outputId": "af1fb52d-e8d9-4a92-9731-d786c097d322"
      },
      "outputs": [
        {
          "output_type": "execute_result",
          "data": {
            "text/plain": [
              "'\\n<!DOCTYPE HTML>\\n<html lang=\"en\">\\n<head>\\r\\n    \\r\\n    \\r\\n    \\r\\n    \\r\\n    \\r\\n    \\r\\n    \\r\\n    \\r\\n    \\r\\n<!--    <sly data-sly-use.analyticsConfig=\"com.ibm.core.models.AnalyticsConfigModel\"/>-->\\r\\n    <meta charset=\"UTF-8\"/>\\r\\n    <meta name=\"languageCode\" content=\"en\"/>\\r\\n    <meta name=\"countryCode\" content=\"us\"/>\\r\\n    <meta name=\"searchTitle\" content=\"IBM - United States\"/>\\r\\n    <meta name=\"focusArea\" content=\"Cross IBM - All\"/>\\r\\n    <title>IBM - United States</title>\\r\\n    <link rel=\"icon\" href=\"/content/dam/adobe-cms/default-images/favicon.svg\"/>\\r\\n    \\r\\n    <meta name=\"description\" content=\"For more than a century, IBM has been a global technology innovator, leading advances in AI, automation and hybrid cloud solutions that help businesses grow.\"/>\\r\\n    <meta name=\"template\" content=\"full-width-layout\"/>\\r\\n    <meta name=\"viewport\" content=\"width=device-width, initial-scale=1\"/>\\r\\n    <meta name=\"robots\" content=\"index, follow, max-image-preview:large\"/>\\r\\n    \\r\\n      \\r\\n      \\r\\n      \\r\\n    <link rel=\"canonical\" href=\"https://www.ibm.com/\"/>\\r\\n    <style id=\"anti-flicker-style\">\\r\\n        :not(:defined) {\\r\\n          visibility: hidden;\\r\\n        }\\r\\n    </style>\\r\\n<!--    <sly data-sly-test=\"false\">\\r\\n        <link href=\"//1.www.s81c.com/common/v18/css/www.css\" rel=\"preload\" as=\"style\"/>\\r\\n        <link rel=\"stylesheet\" href=\"//1.www.s81c.com/common/v18/css/www.css\" media=\"all\"/>\\r\\n        <link href=\"//1.www.s81c.com/common/v18/css/grid-fluid.css\" rel=\"preload\" as=\"style\"/>\\r\\n        <link rel=\"stylesheet\" href=\"//1.www.s81c.com/common/v18/css/grid-fluid.css\" media=\"all\"/>\\r\\n        <link href=\"//1.www.s81c.com/common/v19a/css/www.css\" rel=\"stylesheet\"/>\\r\\n    </sly>-->\\r\\n\\t\\r\\n<!--\\t<script src=\"\" type=\"text/javascript\" async=\"async\">-->\\r\\n    <script type=\"text/javascript\" async=\"async\">\\r\\n\\tvar adobeDataLayer = window.adobeDataLayer || [];\\r\\n\\t</script>\\r\\n\\t \\r\\n    <script type=\"text/javascript\">\\r\\n        window.searchKey = {\\r\\n            templateName: \\'full\\\\u002Dwidth\\\\u002Dlayout\\',\\r\\n            taxonomylist: \\'taxonomy : Brands \\\\/ IBM\\',\\r\\n            L0Tag: \\'Topics,Brands,Industries,Geography,Compliance Entities,Products,Events,Computer Languages,Content Format,Series,Content Type,CMaaS Focus Areas,brands,Deployment Types,Product Types\\',\\r\\n        }\\r\\n    </script>\\r\\n\\r\\n    \\r\\n        <link rel=\"alternate\" hreflang=\"ar-sa\" href=\"https://www.ibm.com/sa-ar\"/>\\r\\n    \\r\\n        <link rel=\"alternate\" hreflang=\"de-de\" href=\"https://www.ibm.com/de-de\"/>\\r\\n    \\r\\n        <link rel=\"alternate\" hreflang=\"en-us\" href=\"https://www.ibm.com/\"/>\\r\\n    \\r\\n        <link rel=\"alternate\" hreflang=\"en-ca\" href=\"https://www.ibm.com/ca-en\"/>\\r\\n    \\r\\n        <link rel=\"alternate\" hreflang=\"ko-kr\" href=\"https://www.ibm.com/kr-ko\"/>\\r\\n    \\r\\n        <link rel=\"alternate\" hreflang=\"pt-br\" href=\"https://www.ibm.com/br-pt\"/>\\r\\n    \\r\\n        <link rel=\"alternate\" hreflang=\"en-in\" href=\"https://www.ibm.com/in-en\"/>\\r\\n    \\r\\n        <link rel=\"alternate\" hreflang=\"es-es\" href=\"https://www.ibm.com/es-es\"/>\\r\\n    \\r\\n        <link rel=\"alternate\" hreflang=\"zh-cn\" href=\"https://www.ibm.com/cn-zh\"/>\\r\\n    \\r\\n        <link rel=\"alternate\" hreflang=\"es-mx\" href=\"https://www.ibm.com/mx-es\"/>\\r\\n    \\r\\n        <link rel=\"alternate\" hreflang=\"fr-ca\" href=\"https://www.ibm.com/ca-fr\"/>\\r\\n    \\r\\n        <link rel=\"alternate\" hreflang=\"it-it\" href=\"https://www.ibm.com/it-it\"/>\\r\\n    \\r\\n        <link rel=\"alternate\" hreflang=\"id-id\" href=\"https://www.ibm.com/id-id\"/>\\r\\n    \\r\\n        <link rel=\"alternate\" hreflang=\"en-au\" href=\"https://www.ibm.com/au-en\"/>\\r\\n    \\r\\n        <link rel=\"alternate\" hreflang=\"en-uk\" href=\"https://www.ibm.com/uk-en\"/>\\r\\n    \\r\\n        <link rel=\"alternate\" hreflang=\"fr-fr\" href=\"https://www.ibm.com/fr-fr\"/>\\r\\n    \\r\\n        <link rel=\"alternate\" hreflang=\"ja-jp\" href=\"https://www.ibm.com/jp-ja\"/>\\r\\n    \\r\\n    <script type=\"text/javascript\">\\r\\n        window.antiFlicker = {\\r\\n            active: true,\\r\\n            timeout: 3000\\r\\n        }\\r\\n    </script>\\r\\n    <script type=\"text/javascript\">\\r\\n        var languageCode = document.getElementsByName(\\'languageCode\\')[0].content;\\r\\n        var countryCode = document.getElementsByName(\\'countryCode\\')[0].content;\\r\\n        var focusArea = document.getElementsByName(\\'focusArea\\')[0].content;\\r\\n        /* Define digital data object based on _appInfo object */\\r\\n          window._ibmAnalytics = {\\r\\n              settings: {\\r\\n                 name: \"AEM Sites\",\\r\\n                 tealiumProfileName: \"aem-sites\"\\r\\n              },\\r\\n           };\\r\\n        window.digitalData = {\\r\\n            page: {\\r\\n                category: {\\r\\n                    primaryCategory: \\'\\',\\r\\n                },\\r\\n                pageInfo: {\\r\\n                    language: languageCode + \\'-\\' + countryCode,\\r\\n                    ibm: {\\r\\n                        siteID: \\'MarketingAEM\\',\\r\\n                        country: countryCode,\\r\\n                        messaging: {\\r\\n                            routing: {\\r\\n                                focusArea: focusArea,\\r\\n                                languageCode: languageCode,\\r\\n                                regionCode: countryCode\\r\\n                            },\\r\\n                            translation: {\\r\\n                                languageCode: languageCode,\\r\\n                                regionCode: countryCode\\r\\n                            }\\r\\n                        },\\r\\n                        sections: 0,\\r\\n                        patterns: 0,\\r\\n                    },\\r\\n                    carbon: {\\r\\n                        \\'@carbon/web-components\\': \\'v1.42.1\\',\\r\\n                        \\'@carbon/ibmdotcom-web-components\\': \\'v1.46.1\\',\\r\\n                        \\'carbon-for-aem\\': \\'v0.15.0\\',\\r\\n                    },\\r\\n                },\\r\\n            },\\r\\n        };\\r\\n    </script>\\r\\n    \\r\\n      <!-- Instana script specific to Dev environment start -->\\r\\n<!--      <script>\\r\\n          (function(s,t,a,n){s[t]||(s[t]=a,n=s[a]=function(){n.q.push(arguments)},\\r\\n          n.q=[],n.v=2,n.l=1*new Date)})(window,\"InstanaEumObject\",\"ineum\");\\r\\n\\r\\n          ineum(\\'reportingUrl\\', \\'https://eum-orange-saas.instana.io\\');\\r\\n          ineum(\\'key\\', \\'mFJnYtpBSiCKl9zenWHXtg\\');\\r\\n          ineum(\\'trackSessions\\');\\r\\n      </script>\\r\\n      <script defer crossorigin=\"anonymous\" src=https://eum.instana.io/1.7.2/eum.min.js\\r\\n              integrity=\"sha384-cgeSlevgebehPauohUhsnAeBrpjXzaj94mSv3L2EXjCQH0RRb9xSQ2ErGOWkthIJ\"></script>-->\\r\\n      <!-- Instana script specific to Dev environment end -->\\r\\n\\r\\n      \\n    \\n        <meta property=\"og:url\" content=\"https://www.ibm.com/\"/>\\n    \\n        <meta property=\"og:type\" content=\"website\"/>\\n    \\n        <meta property=\"og:title\" content=\"IBM - United States\"/>\\n    \\n        <meta property=\"og:description\" content=\"For more than a century, IBM has been a global technology innovator, leading advances in AI, automation and hybrid cloud solutions that help businesses grow.\"/>\\n    \\n        <meta property=\"og:image\" content=\"https://www.ibm.com/content/dam/connectedassets-adobe-cms/worldwide-content/creative-assets/s-migr/ul/g/18/f9/ibm_logo_pos_blue60_rgb.png/_jcr_content/renditions/cq5dam.web.1280.1280.png\"/>\\n    \\n        \\n    \\n\\r\\n    <script src=\"https://hybrid-cloud-widgets-production.s3.us.cloud-object-storage.appdomain.cloud/loader.js\" type=\"application/javascript\"></script>\\r\\n    \\n    \\n        \\n    \\n<link rel=\"stylesheet\" href=\"/etc.clientlibs/adobe-cms/clientlibs/clientlib-idlStylesCarbon.lc-4bcd71d5119ddf067401538b806d7bbb-lc.min.css\" type=\"text/css\">\\n<link rel=\"stylesheet\" href=\"/etc.clientlibs/adobe-cms/clientlibs/clientlib-idlStyles.lc-cd442d3166bf09b9cfe285bd396db164-lc.min.css\" type=\"text/css\">\\n\\n\\n\\n        \\n        \\n        <link rel=\"stylesheet\" href=\"https://1.www.s81c.com/common/carbon-for-ibm-dotcom/tag/v1/latest/plex.css\"/>\\n        <link rel=\"stylesheet\" href=\"https://1.www.s81c.com/common/carbon/plex/sans.css\"/>\\n        \\n        \\n        \\n    \\n<link rel=\"stylesheet\" href=\"/etc.clientlibs/adobe-cms/clientlibs/clientlib-pdfviewer.lc-c79c6cf22a5b660f493131a4be3ded5f-lc.min.css\" type=\"text/css\">\\n\\n\\n\\n    \\n    \\r\\n    \\n    \\n    \\n\\n    \\n\\n    \\n\\n\\n\\n    \\n    \\n    \\n\\n\\n\\n    \\n\\r\\n    \\r\\n\\r\\n<script type=\"module\">\\n  window.RUM_BASE = \\'/\\';\\n  import { sampleRUM } from \\'/.rum/@adobe/helix-rum-js@^1/src/index.js\\';\\n  window.hlx = window.hlx || {};\\n  window.hlx.sampleRUM = sampleRUM;\\n  sampleRUM(\\'top\\');\\n  window.addEventListener(\\'load\\', () => sampleRUM(\\'load\\'));\\n  document.addEventListener(\\'click\\', () => sampleRUM(\\'click\\'));\\n</script></head>\\n<body class=\"content-page page basicpage publish\" id=\"content-page-c8104b3589\">\\n\\n\\n\\n    \\n\\n\\n\\n\\n    \\n\\n\\n\\n    \\n<dds-video-cta-container>\\n     <div class=\"root container responsivegrid\">\\n\\n    \\n    \\n    \\n    <div id=\"container-9225520bd9\" class=\"cmp-container\">\\n        \\n        <div class=\"masthead\">\\r\\n\\r\\n\\r\\n\\r\\n\\r\\n\\r\\n\\r\\n<c4d-masthead-container data-endpoint=\"#\" auth-method=\"profile-api\" has-contact=\"true\" has-profile has-search></c4d-masthead-container>\\r\\n\\r\\n<script src=\"https://1.www.s81c.com/common/carbon-for-ibm-dotcom/version/v2.13.0/masthead.min.js\" type=\"module\"></script>\\r\\n<script>\\r\\n    let l0Json = \"{\\\\x22profileMenu\\\\x22:{\\\\x22signedout\\\\x22:[{\\\\x22title\\\\x22:\\\\x22My IBM\\\\x22,\\\\x22url\\\\x22:\\\\x22https:\\\\/\\\\/myibm.ibm.com\\\\/?lnk=mmi\\\\x22},{\\\\x22title\\\\x22:\\\\x22Log in\\\\x22,\\\\x22url\\\\x22:\\\\x22https:\\\\/\\\\/login.ibm.com\\\\/oidc\\\\/endpoint\\\\/default\\\\/authorize?redirect_uri=https%3A%2F%2Fmyibm.ibm.com%2FOIDCHandler.html\\\\x26response_type=token\\\\x26client_id=v18LoginProdCI\\\\x26scope=openid\\\\x26state=https%3A%2F%2Fwww.ibm.com\\\\x26nonce=8675309\\\\x22}],\\\\x22signedin\\\\x22:[{\\\\x22title\\\\x22:\\\\x22My IBM\\\\x22,\\\\x22url\\\\x22:\\\\x22https:\\\\/\\\\/myibm.ibm.com\\\\/?lnk=mmi\\\\x22},{\\\\x22title\\\\x22:\\\\x22Log in\\\\x22,\\\\x22url\\\\x22:\\\\x22https:\\\\/\\\\/login.ibm.com\\\\/oidc\\\\/endpoint\\\\/default\\\\/authorize?redirect_uri=https%3A%2F%2Fmyibm.ibm.com%2FOIDCHandler.html\\\\x26response_type=token\\\\x26client_id=v18LoginProdCI\\\\x26scope=openid\\\\x26state=https%3A%2F%2Fwww.ibm.com\\\\x26nonce=8675309\\\\x22}]},\\\\x22mastheadNav\\\\x22:{\\\\x22links\\\\x22:[{\\\\x22title\\\\x22:\\\\x22Products\\\\x22,\\\\x22url\\\\x22:\\\\x22\\\\x22,\\\\x22submenu\\\\x22:{\\\\x22sections\\\\x22:[{\\\\x22heading\\\\x22:{\\\\x22title\\\\x22:\\\\x22Featured\\\\x22,\\\\x22description\\\\x22:\\\\x22\\\\x22},\\\\x22groups\\\\x22:[{\\\\x22heading\\\\x22:{\\\\x22title\\\\x22:\\\\x22\\\\x22,\\\\x22description\\\\x22:\\\\x22\\\\x22},\\\\x22links\\\\x22:[{\\\\x22title\\\\x22:\\\\x22API Connect\\\\x22,\\\\x22url\\\\x22:\\\\x22https:\\\\/\\\\/www.ibm.com\\\\/products\\\\/api\\\\u002Dconnect?lnk=flatitem\\\\x22,\\\\x22description\\\\x22:\\\\x22Software to rapidly create, protect, socialize and manage APIs\\\\x22},{\\\\x22title\\\\x22:\\\\x22Concert\\\\x22,\\\\x22url\\\\x22:\\\\x22https:\\\\/\\\\/www.ibm.com\\\\/products\\\\/concert?lnk=flatitem\\\\x22,\\\\x22description\\\\x22:\\\\x22AI to analyze and manage IT infrastructure using natural language\\\\x22},{\\\\x22title\\\\x22:\\\\x22Environmental Intelligence\\\\x22,\\\\x22url\\\\x22:\\\\x22https:\\\\/\\\\/www.ibm.com\\\\/products\\\\/environmental\\\\u002Dintelligence?lnk=flatitem\\\\x22,\\\\x22description\\\\x22:\\\\x22SaaS for predicting and responding to weather and climate events\\\\x22},{\\\\x22title\\\\x22:\\\\x22Envizi\\\\x22,\\\\x22url\\\\x22:\\\\x22https:\\\\/\\\\/www.ibm.com\\\\/products\\\\/envizi?lnk=flatitem\\\\x22,\\\\x22description\\\\x22:\\\\x22ESG data management, reporting and analysis SaaS\\\\x22},{\\\\x22title\\\\x22:\\\\x22FlashSystem\\\\x22,\\\\x22url\\\\x22:\\\\x22https:\\\\/\\\\/www.ibm.com\\\\/flashsystem?lnk=flatitem\\\\x22,\\\\x22description\\\\x22:\\\\x22Primary storage for performance and latency sensitive workloads\\\\x22},{\\\\x22title\\\\x22:\\\\x22IBM Cloud\\\\x22,\\\\x22url\\\\x22:\\\\x22https:\\\\/\\\\/www.ibm.com\\\\/cloud?lnk=flatitem\\\\x22,\\\\x22description\\\\x22:\\\\x22On\\\\u002Ddemand cloud computing platform and APIs\\\\x22},{\\\\x22title\\\\x22:\\\\x22IBM Z\\\\x22,\\\\x22url\\\\x22:\\\\x22https:\\\\/\\\\/www.ibm.com\\\\/z?lnk=flatitem\\\\x22,\\\\x22description\\\\x22:\\\\x22Flagship mainframe with on\\\\u002Dchip AI and quantum\\\\u002Dsafe cryptography\\\\x22},{\\\\x22title\\\\x22:\\\\x22Instana\\\\x22,\\\\x22url\\\\x22:\\\\x22https:\\\\/\\\\/www.ibm.com\\\\/products\\\\/instana?lnk=flatitem\\\\x22,\\\\x22description\\\\x22:\\\\x22Software for application performance monitoring and automation\\\\x22},{\\\\x22title\\\\x22:\\\\x22MaaS360\\\\x22,\\\\x22url\\\\x22:\\\\x22https:\\\\/\\\\/www.ibm.com\\\\/products\\\\/maas360?lnk=flatitem\\\\x22,\\\\x22description\\\\x22:\\\\x22Unified endpoint management software for many device types\\\\x22},{\\\\x22title\\\\x22:\\\\x22Maximo\\\\x22,\\\\x22url\\\\x22:\\\\x22https:\\\\/\\\\/www.ibm.com\\\\/products\\\\/maximo?lnk=flatitem\\\\x22,\\\\x22description\\\\x22:\\\\x22Software for asset management and related workflows\\\\x22},{\\\\x22title\\\\x22:\\\\x22Planning Analytics\\\\x22,\\\\x22url\\\\x22:\\\\x22https:\\\\/\\\\/www.ibm.com\\\\/products\\\\/planning\\\\u002Danalytics?lnk=flatitem\\\\x22,\\\\x22description\\\\x22:\\\\x22Software to automate financial and operational planning\\\\x22},{\\\\x22title\\\\x22:\\\\x22Robotic Process Automation (RPA)\\\\x22,\\\\x22url\\\\x22:\\\\x22https:\\\\/\\\\/www.ibm.com\\\\/products\\\\/robotic\\\\u002Dprocess\\\\u002Dautomation?lnk=flatitem\\\\x22,\\\\x22description\\\\x22:\\\\x22Software to automate workflows and business processes\\\\x22},{\\\\x22title\\\\x22:\\\\x22Storage Defender\\\\x22,\\\\x22url\\\\x22:\\\\x22https:\\\\/\\\\/www.ibm.com\\\\/products\\\\/storage\\\\u002Ddefender?lnk=flatitem\\\\x22,\\\\x22description\\\\x22:\\\\x22Data resiliency software for threat detection and data recovery\\\\x22},{\\\\x22title\\\\x22:\\\\x22Turbonomic\\\\x22,\\\\x22url\\\\x22:\\\\x22https:\\\\/\\\\/www.ibm.com\\\\/products\\\\/turbonomic?lnk=flatitem\\\\x22,\\\\x22description\\\\x22:\\\\x22Software to manage and optimize IT resource usage\\\\x22},{\\\\x22title\\\\x22:\\\\x22watsonx\\\\x22,\\\\x22url\\\\x22:\\\\x22https:\\\\/\\\\/www.ibm.com\\\\/watsonx?lnk=flatitem\\\\x22,\\\\x22description\\\\x22:\\\\x22AI and data platform\\\\x22},{\\\\x22title\\\\x22:\\\\x22watsonx Assistant\\\\x22,\\\\x22url\\\\x22:\\\\x22https:\\\\/\\\\/www.ibm.com\\\\/products\\\\/watsonx\\\\u002Dassistant?lnk=flatitem\\\\x22,\\\\x22description\\\\x22:\\\\x22Virtual agents customizable to any domain\\\\x22},{\\\\x22title\\\\x22:\\\\x22watsonx Orchestrate\\\\x22,\\\\x22url\\\\x22:\\\\x22https:\\\\/\\\\/www.ibm.com\\\\/products\\\\/watsonx\\\\u002Dorchestrate?lnk=flatitem\\\\x22,\\\\x22description\\\\x22:\\\\x22Personal\\\\u002Dassistant software that automates repetitive tasks\\\\x22}]}]},{\\\\x22heading\\\\x22:{\\\\x22title\\\\x22:\\\\x22AI \\\\x26 machine learning\\\\x22,\\\\x22url\\\\x22:\\\\x22https:\\\\/\\\\/www.ibm.com\\\\/artificial\\\\u002Dintelligence?lnk=flathl\\\\x22,\\\\x22description\\\\x22:\\\\x22Use IBM Watson’s AI or build your own machine learning models\\\\x22},\\\\x22groups\\\\x22:[{\\\\x22heading\\\\x22:{\\\\x22title\\\\x22:\\\\x22\\\\x22,\\\\x22description\\\\x22:\\\\x22\\\\x22},\\\\x22links\\\\x22:[{\\\\x22title\\\\x22:\\\\x22Cloud Pak for AIOps\\\\x22,\\\\x22url\\\\x22:\\\\x22https:\\\\/\\\\/www.ibm.com\\\\/products\\\\/cloud\\\\u002Dpak\\\\u002Dfor\\\\u002Daiops?lnk=flatitem\\\\x22,\\\\x22description\\\\x22:\\\\x22DevOps management tool with AI analysis and recommendations\\\\x22},{\\\\x22title\\\\x22:\\\\x22Cloud Pak for Data\\\\x22,\\\\x22url\\\\x22:\\\\x22https:\\\\/\\\\/www.ibm.com\\\\/products\\\\/cloud\\\\u002Dpak\\\\u002Dfor\\\\u002Ddata?lnk=flatitem\\\\x22,\\\\x22description\\\\x22:\\\\x22Tools for data analysis, organization and management\\\\x22},{\\\\x22title\\\\x22:\\\\x22Knowledge Catalog\\\\x22,\\\\x22url\\\\x22:\\\\x22https:\\\\/\\\\/www.ibm.com\\\\/products\\\\/knowledge\\\\u002Dcatalog?lnk=flatitem\\\\x22,\\\\x22description\\\\x22:\\\\x22SaaS to catalog data, AI models, metadata, policies and more\\\\x22},{\\\\x22title\\\\x22:\\\\x22Watson Discovery\\\\x22,\\\\x22url\\\\x22:\\\\x22https:\\\\/\\\\/www.ibm.com\\\\/products\\\\/watson\\\\u002Ddiscovery?lnk=flatitem\\\\x22,\\\\x22description\\\\x22:\\\\x22AI to search in and answer questions about business documents\\\\x22},{\\\\x22title\\\\x22:\\\\x22Watson Natural Language Understanding\\\\x22,\\\\x22url\\\\x22:\\\\x22https:\\\\/\\\\/www.ibm.com\\\\/products\\\\/natural\\\\u002Dlanguage\\\\u002Dunderstanding?lnk=flatitem\\\\x22,\\\\x22description\\\\x22:\\\\x22API for text analysis and metadata extraction\\\\x22},{\\\\x22title\\\\x22:\\\\x22Watson Speech to Text\\\\x22,\\\\x22url\\\\x22:\\\\x22https:\\\\/\\\\/www.ibm.com\\\\/products\\\\/speech\\\\u002Dto\\\\u002Dtext?lnk=flatitem\\\\x22,\\\\x22description\\\\x22:\\\\x22API for real\\\\u002Dtime speech recognition and transcription\\\\x22},{\\\\x22title\\\\x22:\\\\x22Watson Studio\\\\x22,\\\\x22url\\\\x22:\\\\x22https:\\\\/\\\\/www.ibm.com\\\\/products\\\\/watson\\\\u002Dstudio?lnk=flatitem\\\\x22,\\\\x22description\\\\x22:\\\\x22IDE to build, run and manage AI models\\\\x22},{\\\\x22title\\\\x22:\\\\x22Watson Text to Speech\\\\x22,\\\\x22url\\\\x22:\\\\x22https:\\\\/\\\\/www.ibm.com\\\\/products\\\\/text\\\\u002Dto\\\\u002Dspeech?lnk=flatitem\\\\x22,\\\\x22description\\\\x22:\\\\x22API for real\\\\u002Dtime text to speech conversion\\\\x22},{\\\\x22title\\\\x22:\\\\x22Z Anomaly Analytics\\\\x22,\\\\x22url\\\\x22:\\\\x22https:\\\\/\\\\/www.ibm.com\\\\/products\\\\/z\\\\u002Danomaly\\\\u002Danalytics?lnk=flatitem\\\\x22,\\\\x22description\\\\x22:\\\\x22Operational anomaly detection software for mainframes\\\\x22},{\\\\x22title\\\\x22:\\\\x22watsonx\\\\x22,\\\\x22url\\\\x22:\\\\x22https:\\\\/\\\\/www.ibm.com\\\\/watsonx?lnk=flatitem\\\\x22,\\\\x22description\\\\x22:\\\\x22AI and data platform\\\\x22},{\\\\x22title\\\\x22:\\\\x22watsonx Assistant\\\\x22,\\\\x22url\\\\x22:\\\\x22https:\\\\/\\\\/www.ibm.com\\\\/products\\\\/watsonx\\\\u002Dassistant?lnk=flatitem\\\\x22,\\\\x22description\\\\x22:\\\\x22Virtual agents customizable to any domain\\\\x22},{\\\\x22title\\\\x22:\\\\x22watsonx Code Assistant\\\\x22,\\\\x22url\\\\x22:\\\\x22https:\\\\/\\\\/www.ibm.com\\\\/products\\\\/watsonx\\\\u002Dcode\\\\u002Dassistant?lnk=flatitem\\\\x22,\\\\x22description\\\\x22:\\\\x22AI tool to generate code\\\\x22},{\\\\x22title\\\\x22:\\\\x22watsonx Orders\\\\x22,\\\\x22url\\\\x22:\\\\x22https:\\\\/\\\\/www.ibm.com\\\\/products\\\\/watsonx\\\\u002Dorders?lnk=flatitem\\\\x22,\\\\x22description\\\\x22:\\\\x22AI voice agent for taking restaurant orders\\\\x22}]}]},{\\\\x22heading\\\\x22:{\\\\x22title\\\\x22:\\\\x22Analytics\\\\x22,\\\\x22url\\\\x22:\\\\x22https:\\\\/\\\\/www.ibm.com\\\\/analytics?lnk=flathl\\\\x22,\\\\x22description\\\\x22:\\\\x22Aggregate and analyze large datasets\\\\x22},\\\\x22groups\\\\x22:[{\\\\x22heading\\\\x22:{\\\\x22title\\\\x22:\\\\x22\\\\x22,\\\\x22description\\\\x22:\\\\x22\\\\x22},\\\\x22links\\\\x22:[{\\\\x22title\\\\x22:\\\\x22Business Analytics Enterprise\\\\x22,\\\\x22url\\\\x22:\\\\x22https:\\\\/\\\\/www.ibm.com\\\\/products\\\\/business\\\\u002Danalytics\\\\u002Denterprise?lnk=flatitem\\\\x22,\\\\x22description\\\\x22:\\\\x22Software for business planning and analysis\\\\x22},{\\\\x22title\\\\x22:\\\\x22CPLEX\\\\x22,\\\\x22url\\\\x22:\\\\x22https:\\\\/\\\\/www.ibm.com\\\\/products\\\\/ilog\\\\u002Dcplex\\\\u002Doptimization\\\\u002Dstudio?lnk=flatitem\\\\x22,\\\\x22description\\\\x22:\\\\x22Software to build and solve complex optimization models\\\\x22},{\\\\x22title\\\\x22:\\\\x22Cloud Pak for Data\\\\x22,\\\\x22url\\\\x22:\\\\x22https:\\\\/\\\\/www.ibm.com\\\\/products\\\\/cloud\\\\u002Dpak\\\\u002Dfor\\\\u002Ddata?lnk=flatitem\\\\x22,\\\\x22description\\\\x22:\\\\x22Tools for data analysis, organization and management\\\\x22},{\\\\x22title\\\\x22:\\\\x22Cognos Analytics\\\\x22,\\\\x22url\\\\x22:\\\\x22https:\\\\/\\\\/www.ibm.com\\\\/products\\\\/cognos\\\\u002Danalytics?lnk=flatitem\\\\x22,\\\\x22description\\\\x22:\\\\x22Software for business intelligence and performance management\\\\x22},{\\\\x22title\\\\x22:\\\\x22Databand\\\\x22,\\\\x22url\\\\x22:\\\\x22https:\\\\/\\\\/www.ibm.com\\\\/products\\\\/databand?lnk=flatitem\\\\x22,\\\\x22description\\\\x22:\\\\x22Data observability software for data engineers and DataOps teams\\\\x22},{\\\\x22title\\\\x22:\\\\x22InfoSphere Information Server\\\\x22,\\\\x22url\\\\x22:\\\\x22https:\\\\/\\\\/www.ibm.com\\\\/information\\\\u002Dserver?lnk=flatitem\\\\x22,\\\\x22description\\\\x22:\\\\x22Data integration suite for ETL, governance and analysis\\\\x22},{\\\\x22title\\\\x22:\\\\x22Manta Data Lineage\\\\x22,\\\\x22url\\\\x22:\\\\x22https:\\\\/\\\\/www.ibm.com\\\\/products\\\\/manta\\\\u002Ddata\\\\u002Dlineage?lnk=flatitem\\\\x22,\\\\x22description\\\\x22:\\\\x22Software to visualize the flow of data from origin to consumption\\\\x22},{\\\\x22title\\\\x22:\\\\x22Netezza\\\\x22,\\\\x22url\\\\x22:\\\\x22https:\\\\/\\\\/www.ibm.com\\\\/products\\\\/netezza?lnk=flatitem\\\\x22,\\\\x22description\\\\x22:\\\\x22Data warehousing and analytics system on custom hardware\\\\x22},{\\\\x22title\\\\x22:\\\\x22Optim\\\\x22,\\\\x22url\\\\x22:\\\\x22https:\\\\/\\\\/www.ibm.com\\\\/infosphere\\\\u002Doptim?lnk=flatitem\\\\x22,\\\\x22description\\\\x22:\\\\x22Software to manage test, production, and archived data\\\\x22},{\\\\x22title\\\\x22:\\\\x22Planning Analytics\\\\x22,\\\\x22url\\\\x22:\\\\x22https:\\\\/\\\\/www.ibm.com\\\\/products\\\\/planning\\\\u002Danalytics?lnk=flatitem\\\\x22,\\\\x22description\\\\x22:\\\\x22Software to automate financial and operational planning\\\\x22},{\\\\x22title\\\\x22:\\\\x22SPSS\\\\x22,\\\\x22url\\\\x22:\\\\x22https:\\\\/\\\\/www.ibm.com\\\\/spss?lnk=flatitem\\\\x22,\\\\x22description\\\\x22:\\\\x22Software for statistical analysis and business intelligence\\\\x22},{\\\\x22title\\\\x22:\\\\x22Spectrum Computing\\\\x22,\\\\x22url\\\\x22:\\\\x22https:\\\\/\\\\/www.ibm.com\\\\/high\\\\u002Dperformance\\\\u002Dcomputing?lnk=flatitem\\\\x22,\\\\x22description\\\\x22:\\\\x22Software to optimize resources in complex computing clusters\\\\x22},{\\\\x22title\\\\x22:\\\\x22StreamSets\\\\x22,\\\\x22url\\\\x22:\\\\x22https:\\\\/\\\\/www.ibm.com\\\\/products\\\\/streamsets?lnk=flatitem\\\\x22,\\\\x22description\\\\x22:\\\\x22Graphical interface to build and manage streaming data pipelines\\\\x22},{\\\\x22title\\\\x22:\\\\x22Watson Discovery\\\\x22,\\\\x22url\\\\x22:\\\\x22https:\\\\/\\\\/www.ibm.com\\\\/products\\\\/watson\\\\u002Ddiscovery?lnk=flatitem\\\\x22,\\\\x22description\\\\x22:\\\\x22AI to search in and answer questions about business documents\\\\x22},{\\\\x22title\\\\x22:\\\\x22Watson Studio\\\\x22,\\\\x22url\\\\x22:\\\\x22https:\\\\/\\\\/www.ibm.com\\\\/products\\\\/watson\\\\u002Dstudio?lnk=flatitem\\\\x22,\\\\x22description\\\\x22:\\\\x22IDE to build, run and manage AI models\\\\x22}]}]},{\\\\x22heading\\\\x22:{\\\\x22title\\\\x22:\\\\x22Asset lifecycle management\\\\x22,\\\\x22description\\\\x22:\\\\x22Manage and maintain physical assets\\\\x22},\\\\x22groups\\\\x22:[{\\\\x22heading\\\\x22:{\\\\x22title\\\\x22:\\\\x22\\\\x22,\\\\x22description\\\\x22:\\\\x22\\\\x22},\\\\x22links\\\\x22:[{\\\\x22title\\\\x22:\\\\x22Environmental Intelligence\\\\x22,\\\\x22url\\\\x22:\\\\x22https:\\\\/\\\\/www.ibm.com\\\\/products\\\\/environmental\\\\u002Dintelligence?lnk=flatitem\\\\x22,\\\\x22description\\\\x22:\\\\x22SaaS for predicting and responding to weather and climate events\\\\x22},{\\\\x22title\\\\x22:\\\\x22Envizi\\\\x22,\\\\x22url\\\\x22:\\\\x22https:\\\\/\\\\/www.ibm.com\\\\/products\\\\/envizi?lnk=flatitem\\\\x22,\\\\x22description\\\\x22:\\\\x22ESG data management, reporting and analysis SaaS\\\\x22},{\\\\x22title\\\\x22:\\\\x22Maximo\\\\x22,\\\\x22url\\\\x22:\\\\x22https:\\\\/\\\\/www.ibm.com\\\\/products\\\\/maximo?lnk=flatitem\\\\x22,\\\\x22description\\\\x22:\\\\x22Software for asset management and related workflows\\\\x22},{\\\\x22title\\\\x22:\\\\x22TRIRIGA\\\\x22,\\\\x22url\\\\x22:\\\\x22https:\\\\/\\\\/www.ibm.com\\\\/products\\\\/tririga?lnk=flatitem\\\\x22,\\\\x22description\\\\x22:\\\\x22Software for real estate and workplace management\\\\x22}]}]},{\\\\x22heading\\\\x22:{\\\\x22title\\\\x22:\\\\x22Business automation\\\\x22,\\\\x22description\\\\x22:\\\\x22Automate workflows and business processes\\\\x22},\\\\x22groups\\\\x22:[{\\\\x22heading\\\\x22:{\\\\x22title\\\\x22:\\\\x22\\\\x22,\\\\x22description\\\\x22:\\\\x22\\\\x22},\\\\x22links\\\\x22:[{\\\\x22title\\\\x22:\\\\x22Blueworks Live\\\\x22,\\\\x22url\\\\x22:\\\\x22https:\\\\/\\\\/www.ibm.com\\\\/products\\\\/blueworkslive?lnk=flatitem\\\\x22,\\\\x22description\\\\x22:\\\\x22SaaS for collaboratively modeling business processes\\\\x22},{\\\\x22title\\\\x22:\\\\x22Business Automation Manager Open Editions\\\\x22,\\\\x22url\\\\x22:\\\\x22https:\\\\/\\\\/www.ibm.com\\\\/products\\\\/business\\\\u002Dautomation\\\\u002Dmanager\\\\u002Dopen\\\\u002Deditions?lnk=flatitem\\\\x22,\\\\x22description\\\\x22:\\\\x22Workflow automation and decision management software\\\\x22},{\\\\x22title\\\\x22:\\\\x22Business Automation Workflow\\\\x22,\\\\x22url\\\\x22:\\\\x22https:\\\\/\\\\/www.ibm.com\\\\/products\\\\/business\\\\u002Dautomation\\\\u002Dworkflow?lnk=flatitem\\\\x22,\\\\x22description\\\\x22:\\\\x22Cloud Pak for Business Automation add\\\\u002Don to automate workflows\\\\x22},{\\\\x22title\\\\x22:\\\\x22Cloud Pak for Business Automation\\\\x22,\\\\x22url\\\\x22:\\\\x22https:\\\\/\\\\/www.ibm.com\\\\/products\\\\/cloud\\\\u002Dpak\\\\u002Dfor\\\\u002Dbusiness\\\\u002Dautomation?lnk=flatitem\\\\x22,\\\\x22description\\\\x22:\\\\x22Operations management software with AI insights\\\\x22},{\\\\x22title\\\\x22:\\\\x22Datacap\\\\x22,\\\\x22url\\\\x22:\\\\x22https:\\\\/\\\\/www.ibm.com\\\\/products\\\\/data\\\\u002Dcapture\\\\u002Dand\\\\u002Dimaging?lnk=flatitem\\\\x22,\\\\x22description\\\\x22:\\\\x22Document management for IBM Cloud Pak for Business Automation\\\\x22},{\\\\x22title\\\\x22:\\\\x22Event Automation\\\\x22,\\\\x22url\\\\x22:\\\\x22https:\\\\/\\\\/www.ibm.com\\\\/products\\\\/event\\\\u002Dautomation?lnk=flatitem\\\\x22,\\\\x22description\\\\x22:\\\\x22No\\\\u002Dcode tool for building automated event driven workflows\\\\x22},{\\\\x22title\\\\x22:\\\\x22FileNet Content Manager\\\\x22,\\\\x22url\\\\x22:\\\\x22https:\\\\/\\\\/www.ibm.com\\\\/products\\\\/filenet\\\\u002Dcontent\\\\u002Dmanager?lnk=flatitem\\\\x22,\\\\x22description\\\\x22:\\\\x22Content management solution for Cloud Pak for Business Automation\\\\x22},{\\\\x22title\\\\x22:\\\\x22Operational Decision Manager\\\\x22,\\\\x22url\\\\x22:\\\\x22https:\\\\/\\\\/www.ibm.com\\\\/products\\\\/operational\\\\u002Ddecision\\\\u002Dmanager?lnk=flatitem\\\\x22,\\\\x22description\\\\x22:\\\\x22Cloud Pak for Business Automation addon for rule\\\\u002Dbased decisions\\\\x22},{\\\\x22title\\\\x22:\\\\x22Process Mining\\\\x22,\\\\x22url\\\\x22:\\\\x22https:\\\\/\\\\/www.ibm.com\\\\/products\\\\/process\\\\u002Dmining?lnk=flatitem\\\\x22,\\\\x22description\\\\x22:\\\\x22Software to extract process data from business applications\\\\x22},{\\\\x22title\\\\x22:\\\\x22Robotic Process Automation (RPA)\\\\x22,\\\\x22url\\\\x22:\\\\x22https:\\\\/\\\\/www.ibm.com\\\\/products\\\\/robotic\\\\u002Dprocess\\\\u002Dautomation?lnk=flatitem\\\\x22,\\\\x22description\\\\x22:\\\\x22Software to automate workflows and business processes\\\\x22},{\\\\x22title\\\\x22:\\\\x22watsonx Orchestrate\\\\x22,\\\\x22url\\\\x22:\\\\x22https:\\\\/\\\\/www.ibm.com\\\\/products\\\\/watsonx\\\\u002Dorchestrate?lnk=flatitem\\\\x22,\\\\x22description\\\\x22:\\\\x22Personal\\\\u002Dassistant software that automates repetitive tasks\\\\x22}]}]},{\\\\x22heading\\\\x22:{\\\\x22title\\\\x22:\\\\x22Containers\\\\x22,\\\\x22description\\\\x22:\\\\x22Allocate compute infrastructure on demand\\\\x22},\\\\x22groups\\\\x22:[{\\\\x22heading\\\\x22:{\\\\x22title\\\\x22:\\\\x22\\\\x22,\\\\x22description\\\\x22:\\\\x22\\\\x22},\\\\x22links\\\\x22:[{\\\\x22title\\\\x22:\\\\x22Cloud Satellite\\\\x22,\\\\x22url\\\\x22:\\\\x22https:\\\\/\\\\/www.ibm.com\\\\/products\\\\/satellite?lnk=flatitem\\\\x22,\\\\x22description\\\\x22:\\\\x22Platform for running managed cloud services on any infrastructure\\\\x22},{\\\\x22title\\\\x22:\\\\x22Code Engine\\\\x22,\\\\x22url\\\\x22:\\\\x22https:\\\\/\\\\/www.ibm.com\\\\/products\\\\/code\\\\u002Dengine?lnk=flatitem\\\\x22,\\\\x22description\\\\x22:\\\\x22Managed serverless runtime for containers, batch jobs, or code\\\\x22},{\\\\x22title\\\\x22:\\\\x22Container Registry\\\\x22,\\\\x22url\\\\x22:\\\\x22https:\\\\/\\\\/www.ibm.com\\\\/products\\\\/container\\\\u002Dregistry?lnk=flatitem\\\\x22,\\\\x22description\\\\x22:\\\\x22Private SaaS registry for container storage and management\\\\x22},{\\\\x22title\\\\x22:\\\\x22Kubernetes Service\\\\x22,\\\\x22url\\\\x22:\\\\x22https:\\\\/\\\\/www.ibm.com\\\\/products\\\\/kubernetes\\\\u002Dservice?lnk=flatitem\\\\x22,\\\\x22description\\\\x22:\\\\x22Managed Kubernetes for high availability container deployments\\\\x22},{\\\\x22title\\\\x22:\\\\x22Red Hat OpenShift on IBM Cloud\\\\x22,\\\\x22url\\\\x22:\\\\x22https:\\\\/\\\\/www.ibm.com\\\\/products\\\\/openshift?lnk=flatitem\\\\x22,\\\\x22description\\\\x22:\\\\x22Managed service with tools for security, management and monitoring\\\\x22}]}]},{\\\\x22heading\\\\x22:{\\\\x22title\\\\x22:\\\\x22Databases\\\\x22,\\\\x22url\\\\x22:\\\\x22https:\\\\/\\\\/www.ibm.com\\\\/database?lnk=flathl\\\\x22,\\\\x22description\\\\x22:\\\\x22Store, query and analyze structured data\\\\x22},\\\\x22groups\\\\x22:[{\\\\x22heading\\\\x22:{\\\\x22title\\\\x22:\\\\x22\\\\x22,\\\\x22description\\\\x22:\\\\x22\\\\x22},\\\\x22links\\\\x22:[{\\\\x22title\\\\x22:\\\\x22Cloudant\\\\x22,\\\\x22url\\\\x22:\\\\x22https:\\\\/\\\\/www.ibm.com\\\\/products\\\\/cloudant?lnk=flatitem\\\\x22,\\\\x22description\\\\x22:\\\\x22Managed PCI\\\\u002Dcompliant JSON document store on Apache CouchDB\\\\x22},{\\\\x22title\\\\x22:\\\\x22Db2\\\\x22,\\\\x22url\\\\x22:\\\\x22https:\\\\/\\\\/www.ibm.com\\\\/products\\\\/db2\\\\u002Ddatabase?lnk=flatitem\\\\x22,\\\\x22description\\\\x22:\\\\x22Data management software including IBM Db2 Database\\\\x22},{\\\\x22title\\\\x22:\\\\x22Db2 for z\\\\/OS\\\\x22,\\\\x22url\\\\x22:\\\\x22https:\\\\/\\\\/www.ibm.com\\\\/products\\\\/db2\\\\u002Dfor\\\\u002Dzos?lnk=flatitem\\\\x22,\\\\x22description\\\\x22:\\\\x22IBM Db2 Database for IBM Z mainframes\\\\x22},{\\\\x22title\\\\x22:\\\\x22IBM Cloud Databases for Elastic Search\\\\x22,\\\\x22url\\\\x22:\\\\x22https:\\\\/\\\\/www.ibm.com\\\\/products\\\\/databases\\\\u002Dfor\\\\u002Delasticsearch?lnk=flatitem\\\\x22,\\\\x22description\\\\x22:\\\\x22JSON document store for full\\\\u002Dtext search\\\\x22},{\\\\x22title\\\\x22:\\\\x22IBM Cloud Databases for EnterpriseDB\\\\x22,\\\\x22url\\\\x22:\\\\x22https:\\\\/\\\\/www.ibm.com\\\\/products\\\\/databases\\\\u002Dfor\\\\u002Denterprisedb?lnk=flatitem\\\\x22,\\\\x22description\\\\x22:\\\\x22PostgreSQL with added performance, security and management features\\\\x22},{\\\\x22title\\\\x22:\\\\x22IBM Cloud Databases for MongoDB\\\\x22,\\\\x22url\\\\x22:\\\\x22https:\\\\/\\\\/www.ibm.com\\\\/products\\\\/databases\\\\u002Dfor\\\\u002Dmongodb?lnk=flatitem\\\\x22,\\\\x22description\\\\x22:\\\\x22Managed NoSQL JSON document store\\\\x22},{\\\\x22title\\\\x22:\\\\x22IBM Cloud Databases for MySQL\\\\x22,\\\\x22url\\\\x22:\\\\x22https:\\\\/\\\\/www.ibm.com\\\\/products\\\\/databases\\\\u002Dfor\\\\u002Dmysql?lnk=flatitem\\\\x22,\\\\x22description\\\\x22:\\\\x22Managed SQL database\\\\x22},{\\\\x22title\\\\x22:\\\\x22IBM Cloud Databases for PostgreSQL\\\\x22,\\\\x22url\\\\x22:\\\\x22https:\\\\/\\\\/www.ibm.com\\\\/products\\\\/databases\\\\u002Dfor\\\\u002Dpostgresql?lnk=flatitem\\\\x22,\\\\x22description\\\\x22:\\\\x22Managed SQL database with advanced features\\\\x22},{\\\\x22title\\\\x22:\\\\x22IBM Cloud Databases for etcd\\\\x22,\\\\x22url\\\\x22:\\\\x22https:\\\\/\\\\/www.ibm.com\\\\/products\\\\/databases\\\\u002Dfor\\\\u002Detcd?lnk=flatitem\\\\x22,\\\\x22description\\\\x22:\\\\x22Distributed key\\\\u002Dvalue store\\\\x22},{\\\\x22title\\\\x22:\\\\x22Information Management System (IMS)\\\\x22,\\\\x22url\\\\x22:\\\\x22https:\\\\/\\\\/www.ibm.com\\\\/products\\\\/ims?lnk=flatitem\\\\x22,\\\\x22description\\\\x22:\\\\x22Database and management system for high\\\\u002Dvolume transactions\\\\x22},{\\\\x22title\\\\x22:\\\\x22Informix\\\\x22,\\\\x22url\\\\x22:\\\\x22https:\\\\/\\\\/www.ibm.com\\\\/products\\\\/informix?lnk=flatitem\\\\x22,\\\\x22description\\\\x22:\\\\x22Embeddable database for SQL, NoSQL, time\\\\u002Dseries and spatial data\\\\x22}]}]},{\\\\x22heading\\\\x22:{\\\\x22title\\\\x22:\\\\x22DevOps\\\\x22,\\\\x22url\\\\x22:\\\\x22https:\\\\/\\\\/www.ibm.com\\\\/devops?lnk=flathl\\\\x22,\\\\x22description\\\\x22:\\\\x22Manage infrastructure, environments and deployments\\\\x22},\\\\x22groups\\\\x22:[{\\\\x22heading\\\\x22:{\\\\x22title\\\\x22:\\\\x22\\\\x22,\\\\x22description\\\\x22:\\\\x22\\\\x22},\\\\x22links\\\\x22:[{\\\\x22title\\\\x22:\\\\x22Application Delivery Foundation for z\\\\/OS\\\\x22,\\\\x22url\\\\x22:\\\\x22https:\\\\/\\\\/www.ibm.com\\\\/products\\\\/app\\\\u002Ddelivery\\\\u002Dfoundation\\\\u002Dfor\\\\u002Dzos?lnk=flatitem\\\\x22,\\\\x22description\\\\x22:\\\\x22Application development and DevOps tools for z\\\\/OS\\\\x22},{\\\\x22title\\\\x22:\\\\x22Application Discovery and Delivery Intelligence\\\\x22,\\\\x22url\\\\x22:\\\\x22https:\\\\/\\\\/www.ibm.com\\\\/products\\\\/app\\\\u002Ddiscovery\\\\u002Dand\\\\u002Ddelivery\\\\u002Dintelligence?lnk=flatitem\\\\x22,\\\\x22description\\\\x22:\\\\x22Analysis tool for visualizing applications, data and jobs on z\\\\/OS\\\\x22},{\\\\x22title\\\\x22:\\\\x22Cloud Continuous Delivery\\\\x22,\\\\x22url\\\\x22:\\\\x22https:\\\\/\\\\/www.ibm.com\\\\/products\\\\/continuous\\\\u002Ddelivery?lnk=flatitem\\\\x22,\\\\x22description\\\\x22:\\\\x22Toolchains to automate building and deploying applications\\\\x22},{\\\\x22title\\\\x22:\\\\x22Cloud Pak for AIOps\\\\x22,\\\\x22url\\\\x22:\\\\x22https:\\\\/\\\\/www.ibm.com\\\\/products\\\\/cloud\\\\u002Dpak\\\\u002Dfor\\\\u002Daiops?lnk=flatitem\\\\x22,\\\\x22description\\\\x22:\\\\x22DevOps management tool with AI analysis and recommendations\\\\x22},{\\\\x22title\\\\x22:\\\\x22DevOps Build\\\\x22,\\\\x22url\\\\x22:\\\\x22https:\\\\/\\\\/www.ibm.com\\\\/products\\\\/devops\\\\u002Dbuild?lnk=flatitem\\\\x22,\\\\x22description\\\\x22:\\\\x22Management tool for configuring and running software builds\\\\x22},{\\\\x22title\\\\x22:\\\\x22DevOps Code ClearCase\\\\x22,\\\\x22url\\\\x22:\\\\x22https:\\\\/\\\\/www.ibm.com\\\\/products\\\\/devops\\\\u002Dcode\\\\u002Dclearcase?lnk=flatitem\\\\x22,\\\\x22description\\\\x22:\\\\x22Configuration management system for software asset access control\\\\x22},{\\\\x22title\\\\x22:\\\\x22DevOps Deploy\\\\x22,\\\\x22url\\\\x22:\\\\x22https:\\\\/\\\\/www.ibm.com\\\\/products\\\\/devops\\\\u002Ddeploy?lnk=flatitem\\\\x22,\\\\x22description\\\\x22:\\\\x22Automation software for continuous delivery and deployment\\\\x22},{\\\\x22title\\\\x22:\\\\x22DevOps Test\\\\x22,\\\\x22url\\\\x22:\\\\x22https:\\\\/\\\\/www.ibm.com\\\\/products\\\\/devops\\\\u002Dtest?lnk=flatitem\\\\x22,\\\\x22description\\\\x22:\\\\x22Continuous testing and virtualization platform\\\\x22},{\\\\x22title\\\\x22:\\\\x22DevOps Velocity\\\\x22,\\\\x22url\\\\x22:\\\\x22https:\\\\/\\\\/www.ibm.com\\\\/products\\\\/devops\\\\u002Dvelocity?lnk=flatitem\\\\x22,\\\\x22description\\\\x22:\\\\x22Release management software for pipeline orchestration and analytics\\\\x22},{\\\\x22title\\\\x22:\\\\x22Engineering Lifecycle Management\\\\x22,\\\\x22url\\\\x22:\\\\x22https:\\\\/\\\\/www.ibm.com\\\\/products\\\\/engineering\\\\u002Dlifecycle\\\\u002Dmanagement?lnk=flatitem\\\\x22,\\\\x22description\\\\x22:\\\\x22Software for product and application lifecycle management\\\\x22},{\\\\x22title\\\\x22:\\\\x22IBM i Modernization Engine\\\\x22,\\\\x22url\\\\x22:\\\\x22https:\\\\/\\\\/www.ibm.com\\\\/products\\\\/ibm\\\\u002Di\\\\u002Dmerlin?lnk=flatitem\\\\x22,\\\\x22description\\\\x22:\\\\x22Development and modernization tools for IBM i applications\\\\x22},{\\\\x22title\\\\x22:\\\\x22Rational ClearQuest\\\\x22,\\\\x22url\\\\x22:\\\\x22https:\\\\/\\\\/www.ibm.com\\\\/products\\\\/rational\\\\u002Dclearquest?lnk=flatitem\\\\x22,\\\\x22description\\\\x22:\\\\x22Change management software\\\\x22},{\\\\x22title\\\\x22:\\\\x22Rational Software Architect Designer\\\\x22,\\\\x22url\\\\x22:\\\\x22https:\\\\/\\\\/www.ibm.com\\\\/products\\\\/rational\\\\u002Dsoftware\\\\u002Darchitect\\\\u002Ddesigner?lnk=flatitem\\\\x22,\\\\x22description\\\\x22:\\\\x22Tools to create, evaluate, and communicate software architecture\\\\x22},{\\\\x22title\\\\x22:\\\\x22Test Accelerator for Z\\\\x22,\\\\x22url\\\\x22:\\\\x22https:\\\\/\\\\/www.ibm.com\\\\/products\\\\/test\\\\u002Daccelerator\\\\u002Dz?lnk=flatitem\\\\x22,\\\\x22description\\\\x22:\\\\x22Test automation and test generation framework for z\\\\/OS\\\\x22}]}]},{\\\\x22heading\\\\x22:{\\\\x22title\\\\x22:\\\\x22IT automation\\\\x22,\\\\x22description\\\\x22:\\\\x22Automate IT infrastructure management\\\\x22},\\\\x22groups\\\\x22:[{\\\\x22heading\\\\x22:{\\\\x22title\\\\x22:\\\\x22\\\\x22,\\\\x22description\\\\x22:\\\\x22\\\\x22},\\\\x22links\\\\x22:[{\\\\x22title\\\\x22:\\\\x22Apptio\\\\x22,\\\\x22url\\\\x22:\\\\x22https:\\\\/\\\\/www.ibm.com\\\\/products\\\\/apptio?lnk=flatitem\\\\x22,\\\\x22description\\\\x22:\\\\x22Hybrid cloud financial management and planning software\\\\x22},{\\\\x22title\\\\x22:\\\\x22Cloud App Configuration\\\\x22,\\\\x22url\\\\x22:\\\\x22https:\\\\/\\\\/www.ibm.com\\\\/products\\\\/app\\\\u002Dconfiguration?lnk=flatitem\\\\x22,\\\\x22description\\\\x22:\\\\x22Feature management and configuration service for web and mobile apps\\\\x22},{\\\\x22title\\\\x22:\\\\x22Cloud App ID\\\\x22,\\\\x22url\\\\x22:\\\\x22https:\\\\/\\\\/www.ibm.com\\\\/products\\\\/app\\\\u002Did?lnk=flatitem\\\\x22,\\\\x22description\\\\x22:\\\\x22Authentication and user management service for web and mobile apps\\\\x22},{\\\\x22title\\\\x22:\\\\x22Cloud Monitoring\\\\x22,\\\\x22url\\\\x22:\\\\x22https:\\\\/\\\\/www.ibm.com\\\\/products\\\\/cloud\\\\u002Dmonitoring?lnk=flatitem\\\\x22,\\\\x22description\\\\x22:\\\\x22Hosted monitoring tool for organization\\\\u002Dwide system performance\\\\x22},{\\\\x22title\\\\x22:\\\\x22Cloud Pak for AIOps\\\\x22,\\\\x22url\\\\x22:\\\\x22https:\\\\/\\\\/www.ibm.com\\\\/products\\\\/cloud\\\\u002Dpak\\\\u002Dfor\\\\u002Daiops?lnk=flatitem\\\\x22,\\\\x22description\\\\x22:\\\\x22DevOps management tool with AI analysis and recommendations\\\\x22},{\\\\x22title\\\\x22:\\\\x22Cloud Schematics\\\\x22,\\\\x22url\\\\x22:\\\\x22https:\\\\/\\\\/www.ibm.com\\\\/products\\\\/schematics?lnk=flatitem\\\\x22,\\\\x22description\\\\x22:\\\\x22Management and provisionining of cloud infrastructure with code\\\\x22},{\\\\x22title\\\\x22:\\\\x22Concert\\\\x22,\\\\x22url\\\\x22:\\\\x22https:\\\\/\\\\/www.ibm.com\\\\/products\\\\/concert?lnk=flatitem\\\\x22,\\\\x22description\\\\x22:\\\\x22AI to analyze and manage IT infrastructure using natural language\\\\x22},{\\\\x22title\\\\x22:\\\\x22Event Notifications\\\\x22,\\\\x22url\\\\x22:\\\\x22https:\\\\/\\\\/www.ibm.com\\\\/products\\\\/event\\\\u002Dnotifications?lnk=flatitem\\\\x22,\\\\x22description\\\\x22:\\\\x22Notification and workflow automation service for IBM Cloud events\\\\x22},{\\\\x22title\\\\x22:\\\\x22Flexera One\\\\x22,\\\\x22url\\\\x22:\\\\x22https:\\\\/\\\\/www.ibm.com\\\\/products\\\\/flexera\\\\u002Done?lnk=flatitem\\\\x22,\\\\x22description\\\\x22:\\\\x22IT asset management software\\\\x22},{\\\\x22title\\\\x22:\\\\x22IBM Cloud Logs\\\\x22,\\\\x22url\\\\x22:\\\\x22https:\\\\/\\\\/www.ibm.com\\\\/products\\\\/cloud\\\\u002Dlogs?lnk=flatitem\\\\x22,\\\\x22description\\\\x22:\\\\x22Logging and observability service for applications and infrastructure\\\\x22},{\\\\x22title\\\\x22:\\\\x22Instana\\\\x22,\\\\x22url\\\\x22:\\\\x22https:\\\\/\\\\/www.ibm.com\\\\/products\\\\/instana?lnk=flatitem\\\\x22,\\\\x22description\\\\x22:\\\\x22Software for application performance monitoring and automation\\\\x22},{\\\\x22title\\\\x22:\\\\x22Turbonomic\\\\x22,\\\\x22url\\\\x22:\\\\x22https:\\\\/\\\\/www.ibm.com\\\\/products\\\\/turbonomic?lnk=flatitem\\\\x22,\\\\x22description\\\\x22:\\\\x22Software to manage and optimize IT resource usage\\\\x22},{\\\\x22title\\\\x22:\\\\x22Z IntelliMagic Vision for z\\\\/OS\\\\x22,\\\\x22url\\\\x22:\\\\x22https:\\\\/\\\\/www.ibm.com\\\\/products\\\\/z\\\\u002Dintellimagic\\\\u002Dvision\\\\u002Dfor\\\\u002Dzos?lnk=flatitem\\\\x22,\\\\x22description\\\\x22:\\\\x22nfrastructure performance management and monitoring software\\\\x22},{\\\\x22title\\\\x22:\\\\x22Z Service Management Suite\\\\x22,\\\\x22url\\\\x22:\\\\x22https:\\\\/\\\\/www.ibm.com\\\\/products\\\\/z\\\\u002Dservice\\\\u002Dmanagement\\\\u002Dsuite?lnk=flatitem\\\\x22,\\\\x22description\\\\x22:\\\\x22Monitoring, control, and automation suite for Z\\\\x22}]}]},{\\\\x22heading\\\\x22:{\\\\x22title\\\\x22:\\\\x22Middleware\\\\x22,\\\\x22description\\\\x22:\\\\x22Connect your applications, data and events\\\\x22},\\\\x22groups\\\\x22:[{\\\\x22heading\\\\x22:{\\\\x22title\\\\x22:\\\\x22\\\\x22,\\\\x22description\\\\x22:\\\\x22\\\\x22},\\\\x22links\\\\x22:[{\\\\x22title\\\\x22:\\\\x22API Connect\\\\x22,\\\\x22url\\\\x22:\\\\x22https:\\\\/\\\\/www.ibm.com\\\\/products\\\\/api\\\\u002Dconnect?lnk=flatitem\\\\x22,\\\\x22description\\\\x22:\\\\x22Software to rapidly create, protect, socialize and manage APIs\\\\x22},{\\\\x22title\\\\x22:\\\\x22App Connect\\\\x22,\\\\x22url\\\\x22:\\\\x22https:\\\\/\\\\/www.ibm.com\\\\/products\\\\/app\\\\u002Dconnect?lnk=flatitem\\\\x22,\\\\x22description\\\\x22:\\\\x22Codeless connectors for your data, apps and APIs\\\\x22},{\\\\x22title\\\\x22:\\\\x22Aspera\\\\x22,\\\\x22url\\\\x22:\\\\x22https:\\\\/\\\\/www.ibm.com\\\\/products\\\\/aspera?lnk=flatitem\\\\x22,\\\\x22description\\\\x22:\\\\x22System to transfer, sync or stream huge data globally\\\\x22},{\\\\x22title\\\\x22:\\\\x22CICS Transaction Server for z\\\\/OS\\\\x22,\\\\x22url\\\\x22:\\\\x22https:\\\\/\\\\/www.ibm.com\\\\/products\\\\/cics\\\\u002Dtransaction\\\\u002Dserver?lnk=flatitem\\\\x22,\\\\x22description\\\\x22:\\\\x22Application server for online transaction processing\\\\x22},{\\\\x22title\\\\x22:\\\\x22Cloud Pak for Applications\\\\x22,\\\\x22url\\\\x22:\\\\x22https:\\\\/\\\\/www.ibm.com\\\\/products\\\\/cloud\\\\u002Dpak\\\\u002Dfor\\\\u002Dapplications?lnk=flatitem\\\\x22,\\\\x22description\\\\x22:\\\\x22Kubernetes\\\\u002Dbased platform for hybrid cloud applications\\\\x22},{\\\\x22title\\\\x22:\\\\x22Cloud Pak for Integration\\\\x22,\\\\x22url\\\\x22:\\\\x22https:\\\\/\\\\/www.ibm.com\\\\/products\\\\/cloud\\\\u002Dpak\\\\u002Dfor\\\\u002Dintegration?lnk=flatitem\\\\x22,\\\\x22description\\\\x22:\\\\x22Tools to connect all of your apps, data and events\\\\x22},{\\\\x22title\\\\x22:\\\\x22DataPower\\\\x22,\\\\x22url\\\\x22:\\\\x22https:\\\\/\\\\/www.ibm.com\\\\/products\\\\/datapower\\\\u002Dgateway?lnk=flatitem\\\\x22,\\\\x22description\\\\x22:\\\\x22Physical or virtual multi\\\\u002Dprotocol network gateway\\\\x22},{\\\\x22title\\\\x22:\\\\x22Event Streams\\\\x22,\\\\x22url\\\\x22:\\\\x22https:\\\\/\\\\/www.ibm.com\\\\/products\\\\/event\\\\u002Dstreams?lnk=flatitem\\\\x22,\\\\x22description\\\\x22:\\\\x22PaaS stream processing based on Apache Kafka\\\\x22},{\\\\x22title\\\\x22:\\\\x22IBM Cloud Messages for RabbitMQ\\\\x22,\\\\x22url\\\\x22:\\\\x22https:\\\\/\\\\/www.ibm.com\\\\/products\\\\/messages\\\\u002Dfor\\\\u002Drabbitmq?lnk=flatitem\\\\x22,\\\\x22description\\\\x22:\\\\x22Managed open\\\\u002Dsource message broker\\\\x22},{\\\\x22title\\\\x22:\\\\x22Information Management System\\\\x22,\\\\x22url\\\\x22:\\\\x22https:\\\\/\\\\/www.ibm.com\\\\/products\\\\/ims?lnk=flatitem\\\\x22,\\\\x22description\\\\x22:\\\\x22Hierarchical database and transaction processor for Z\\\\x22},{\\\\x22title\\\\x22:\\\\x22MQ\\\\x22,\\\\x22url\\\\x22:\\\\x22https:\\\\/\\\\/www.ibm.com\\\\/products\\\\/mq?lnk=flatitem\\\\x22,\\\\x22description\\\\x22:\\\\x22Software and hardware for messaging between distributed systems\\\\x22},{\\\\x22title\\\\x22:\\\\x22z\\\\/OS Connect\\\\x22,\\\\x22url\\\\x22:\\\\x22https:\\\\/\\\\/www.ibm.com\\\\/products\\\\/zos\\\\u002Dconnect?lnk=flatitem\\\\x22,\\\\x22description\\\\x22:\\\\x22Software to build and serve RESTful APIs to z\\\\/OS applications\\\\x22}]}]},{\\\\x22heading\\\\x22:{\\\\x22title\\\\x22:\\\\x22Network\\\\x22,\\\\x22url\\\\x22:\\\\x22https:\\\\/\\\\/www.ibm.com\\\\/networking?lnk=flathl\\\\x22,\\\\x22description\\\\x22:\\\\x22Run and manage public, private and virtual networks\\\\x22},\\\\x22groups\\\\x22:[{\\\\x22heading\\\\x22:{\\\\x22title\\\\x22:\\\\x22\\\\x22,\\\\x22description\\\\x22:\\\\x22\\\\x22},\\\\x22links\\\\x22:[{\\\\x22title\\\\x22:\\\\x22Cloud Pak for Network Automation\\\\x22,\\\\x22url\\\\x22:\\\\x22https:\\\\/\\\\/www.ibm.com\\\\/products\\\\/cloud\\\\u002Dpak\\\\u002Dfor\\\\u002Dnetwork\\\\u002Dautomation?lnk=flatitem\\\\x22,\\\\x22description\\\\x22:\\\\x22Management software for telco network operations\\\\x22},{\\\\x22title\\\\x22:\\\\x22Edge Application Manager\\\\x22,\\\\x22url\\\\x22:\\\\x22https:\\\\/\\\\/www.ibm.com\\\\/products\\\\/edge\\\\u002Dapplication\\\\u002Dmanager?lnk=flatitem\\\\x22,\\\\x22description\\\\x22:\\\\x22Management platform for edge computing\\\\x22},{\\\\x22title\\\\x22:\\\\x22Hybrid Cloud Mesh\\\\x22,\\\\x22url\\\\x22:\\\\x22https:\\\\/\\\\/www.ibm.com\\\\/products\\\\/hybrid\\\\u002Dcloud\\\\u002Dmesh?lnk=flatitem\\\\x22,\\\\x22description\\\\x22:\\\\x22SaaS for deploying and managing hybrid and multicloud networks\\\\x22},{\\\\x22title\\\\x22:\\\\x22NS1 Connect\\\\x22,\\\\x22url\\\\x22:\\\\x22https:\\\\/\\\\/www.ibm.com\\\\/products\\\\/ns1\\\\u002Dconnect?lnk=flatitem\\\\x22,\\\\x22description\\\\x22:\\\\x22Authoritative DNS and traffic steering as a service\\\\x22},{\\\\x22title\\\\x22:\\\\x22Rapid Network Automation\\\\x22,\\\\x22url\\\\x22:\\\\x22https:\\\\/\\\\/www.ibm.com\\\\/products\\\\/rapid\\\\u002Dnetwork\\\\u002Dautomation?lnk=flatitem\\\\x22,\\\\x22description\\\\x22:\\\\x22No\\\\u002Dcode tool to build automation workflows across apps and APIs\\\\x22},{\\\\x22title\\\\x22:\\\\x22SevOne Network Performance Management\\\\x22,\\\\x22url\\\\x22:\\\\x22https:\\\\/\\\\/www.ibm.com\\\\/products\\\\/sevone\\\\u002Dnetwork\\\\u002Dperformance\\\\u002Dmanagement?lnk=flatitem\\\\x22,\\\\x22description\\\\x22:\\\\x22Software to collect and analyze network performance data\\\\x22}]}]},{\\\\x22heading\\\\x22:{\\\\x22title\\\\x22:\\\\x22Operating systems\\\\x22,\\\\x22description\\\\x22:\\\\x22Run critical workloads on specialized operating systems\\\\x22},\\\\x22groups\\\\x22:[{\\\\x22heading\\\\x22:{\\\\x22title\\\\x22:\\\\x22\\\\x22,\\\\x22description\\\\x22:\\\\x22\\\\x22},\\\\x22links\\\\x22:[{\\\\x22title\\\\x22:\\\\x22AIX\\\\x22,\\\\x22url\\\\x22:\\\\x22https:\\\\/\\\\/www.ibm.com\\\\/products\\\\/aix?lnk=flatitem\\\\x22,\\\\x22description\\\\x22:\\\\x22UNIX operating system for Power servers\\\\x22},{\\\\x22title\\\\x22:\\\\x22IBM i\\\\x22,\\\\x22url\\\\x22:\\\\x22https:\\\\/\\\\/www.ibm.com\\\\/products\\\\/ibm\\\\u002Di?lnk=flatitem\\\\x22,\\\\x22description\\\\x22:\\\\x22Integrated operating system for Power servers\\\\x22},{\\\\x22title\\\\x22:\\\\x22Linux\\\\x22,\\\\x22url\\\\x22:\\\\x22https:\\\\/\\\\/www.ibm.com\\\\/linux?lnk=flatitem\\\\x22,\\\\x22description\\\\x22:\\\\x22Run Linux workloads on IBM servers\\\\x22},{\\\\x22title\\\\x22:\\\\x22z\\\\/OS\\\\x22,\\\\x22url\\\\x22:\\\\x22https:\\\\/\\\\/www.ibm.com\\\\/products\\\\/zos?lnk=flatitem\\\\x22,\\\\x22description\\\\x22:\\\\x22Flagship OS for continuous, high\\\\u002Dvolume mainframe operation\\\\x22},{\\\\x22title\\\\x22:\\\\x22z\\\\/TPF\\\\x22,\\\\x22url\\\\x22:\\\\x22https:\\\\/\\\\/www.ibm.com\\\\/products\\\\/z\\\\u002Dtransaction\\\\u002Dprocessing\\\\u002Dfacility?lnk=flatitem\\\\x22,\\\\x22description\\\\x22:\\\\x22Real\\\\u002Dtime operating system for mainframes\\\\x22},{\\\\x22title\\\\x22:\\\\x22z\\\\/VM\\\\x22,\\\\x22url\\\\x22:\\\\x22https:\\\\/\\\\/www.ibm.com\\\\/products\\\\/zvm?lnk=flatitem\\\\x22,\\\\x22description\\\\x22:\\\\x22Hypervisor and virtualization software for IBM Z and LinuxONE\\\\x22}]}]},{\\\\x22heading\\\\x22:{\\\\x22title\\\\x22:\\\\x22Quantum\\\\x22,\\\\x22url\\\\x22:\\\\x22https:\\\\/\\\\/www.ibm.com\\\\/quantum?lnk=flathl\\\\x22,\\\\x22description\\\\x22:\\\\x22Run code on real quantum systems using a full\\\\u002Dstack SDK\\\\x22},\\\\x22groups\\\\x22:[{\\\\x22heading\\\\x22:{\\\\x22title\\\\x22:\\\\x22\\\\x22,\\\\x22description\\\\x22:\\\\x22\\\\x22},\\\\x22links\\\\x22:[{\\\\x22title\\\\x22:\\\\x22Qiskit Runtime\\\\x22,\\\\x22url\\\\x22:\\\\x22https:\\\\/\\\\/www.ibm.com\\\\/quantum\\\\/qiskit?lnk=flatitem\\\\x22,\\\\x22description\\\\x22:\\\\x22Cloud service for executing quantum workloads at scale\\\\x22},{\\\\x22title\\\\x22:\\\\x22Quantum Safe\\\\x22,\\\\x22url\\\\x22:\\\\x22https:\\\\/\\\\/www.ibm.com\\\\/quantum\\\\/quantum\\\\u002Dsafe?lnk=flatitem\\\\x22,\\\\x22description\\\\x22:\\\\x22Technology and consulting services for quantum\\\\u002Dsafe cryptography\\\\x22},{\\\\x22title\\\\x22:\\\\x22Quantum Systems\\\\x22,\\\\x22url\\\\x22:\\\\x22https:\\\\/\\\\/www.ibm.com\\\\/quantum\\\\/technology?lnk=flatitem\\\\x22,\\\\x22description\\\\x22:\\\\x22Quantum computing systems accessible on the cloud\\\\x22}]}]},{\\\\x22heading\\\\x22:{\\\\x22title\\\\x22:\\\\x22Security \\\\x26 identity\\\\x22,\\\\x22url\\\\x22:\\\\x22https:\\\\/\\\\/www.ibm.com\\\\/security?lnk=flathl\\\\x22,\\\\x22description\\\\x22:\\\\x22Cloud\\\\u002Dnative software to secure resources and simplify compliance\\\\x22},\\\\x22groups\\\\x22:[{\\\\x22heading\\\\x22:{\\\\x22title\\\\x22:\\\\x22\\\\x22,\\\\x22description\\\\x22:\\\\x22\\\\x22},\\\\x22links\\\\x22:[{\\\\x22title\\\\x22:\\\\x22Cloud AppID\\\\x22,\\\\x22url\\\\x22:\\\\x22https:\\\\/\\\\/www.ibm.com\\\\/products\\\\/app\\\\u002Did?lnk=flatitem\\\\x22,\\\\x22description\\\\x22:\\\\x22Authentication and user profiles as a service for mobile and web apps\\\\x22},{\\\\x22title\\\\x22:\\\\x22Cloud Security and Compliance Center\\\\x22,\\\\x22url\\\\x22:\\\\x22https:\\\\/\\\\/www.ibm.com\\\\/products\\\\/security\\\\u002Dand\\\\u002Dcompliance\\\\u002Dcenter?lnk=flatitem\\\\x22,\\\\x22description\\\\x22:\\\\x22SaaS to define and audit the compliance posture of your cloud\\\\x22},{\\\\x22title\\\\x22:\\\\x22Data Security Broker\\\\x22,\\\\x22url\\\\x22:\\\\x22https:\\\\/\\\\/www.ibm.com\\\\/products\\\\/data\\\\u002Dsecurity\\\\u002Dbroker?lnk=flatitem\\\\x22,\\\\x22description\\\\x22:\\\\x22Administrative console to enable data encryption in the cloud\\\\x22},{\\\\x22title\\\\x22:\\\\x22Guardium\\\\x22,\\\\x22url\\\\x22:\\\\x22https:\\\\/\\\\/www.ibm.com\\\\/guardium?lnk=flatitem\\\\x22,\\\\x22description\\\\x22:\\\\x22Suite for data encryption, management and simplified compliance\\\\x22},{\\\\x22title\\\\x22:\\\\x22Key Protect for IBM Cloud\\\\x22,\\\\x22url\\\\x22:\\\\x22https:\\\\/\\\\/www.ibm.com\\\\/products\\\\/key\\\\u002Dprotect?lnk=flatitem\\\\x22,\\\\x22description\\\\x22:\\\\x22Tool to provision and store keys for apps across IBM Cloud services\\\\x22},{\\\\x22title\\\\x22:\\\\x22MaaS360\\\\x22,\\\\x22url\\\\x22:\\\\x22https:\\\\/\\\\/www.ibm.com\\\\/products\\\\/maas360?lnk=flatitem\\\\x22,\\\\x22description\\\\x22:\\\\x22Unified endpoint management for mobile workforces\\\\x22},{\\\\x22title\\\\x22:\\\\x22QRadar EDR\\\\x22,\\\\x22url\\\\x22:\\\\x22https:\\\\/\\\\/www.ibm.com\\\\/products\\\\/qradar\\\\u002Dedr?lnk=flatitem\\\\x22,\\\\x22description\\\\x22:\\\\x22Advanced AI threat detection and response for endpoints\\\\x22},{\\\\x22title\\\\x22:\\\\x22QRadar SIEM\\\\x22,\\\\x22url\\\\x22:\\\\x22https:\\\\/\\\\/www.ibm.com\\\\/products\\\\/qradar\\\\u002Dsiem?lnk=flatitem\\\\x22,\\\\x22description\\\\x22:\\\\x22Threat detection and prioritization for real\\\\u002Dtime visibility\\\\x22},{\\\\x22title\\\\x22:\\\\x22QRadar SOAR\\\\x22,\\\\x22url\\\\x22:\\\\x22https:\\\\/\\\\/www.ibm.com\\\\/products\\\\/qradar\\\\u002Dsoar?lnk=flatitem\\\\x22,\\\\x22description\\\\x22:\\\\x22Automation and workflow management for security operations\\\\x22},{\\\\x22title\\\\x22:\\\\x22Trusteer\\\\x22,\\\\x22url\\\\x22:\\\\x22https:\\\\/\\\\/www.ibm.com\\\\/trusteer?lnk=flatitem\\\\x22,\\\\x22description\\\\x22:\\\\x22Software to authenticate customers, detect fraud and assess risk\\\\x22},{\\\\x22title\\\\x22:\\\\x22Verify\\\\x22,\\\\x22url\\\\x22:\\\\x22https:\\\\/\\\\/www.ibm.com\\\\/verify?lnk=flatitem\\\\x22,\\\\x22description\\\\x22:\\\\x22Identity, authentication, and access control software\\\\x22},{\\\\x22title\\\\x22:\\\\x22zSecure\\\\x22,\\\\x22url\\\\x22:\\\\x22https:\\\\/\\\\/www.ibm.com\\\\/zsecure?lnk=flatitem\\\\x22,\\\\x22description\\\\x22:\\\\x22Security, risk management and compliance tools for Z hardware\\\\x22}]}]},{\\\\x22heading\\\\x22:{\\\\x22title\\\\x22:\\\\x22Servers\\\\x22,\\\\x22url\\\\x22:\\\\x22https:\\\\/\\\\/www.ibm.com\\\\/servers?lnk=flathl\\\\x22,\\\\x22description\\\\x22:\\\\x22Run workloads on hybrid cloud infrastructure\\\\x22},\\\\x22groups\\\\x22:[{\\\\x22heading\\\\x22:{\\\\x22title\\\\x22:\\\\x22\\\\x22,\\\\x22description\\\\x22:\\\\x22\\\\x22},\\\\x22links\\\\x22:[{\\\\x22title\\\\x22:\\\\x22IBM Cloud Bare Metal Servers\\\\x22,\\\\x22url\\\\x22:\\\\x22https:\\\\/\\\\/www.ibm.com\\\\/products\\\\/bare\\\\u002Dmetal\\\\u002Dservers?lnk=flatitem\\\\x22,\\\\x22description\\\\x22:\\\\x22Dedicated hardware for maximum performance\\\\x22},{\\\\x22title\\\\x22:\\\\x22IBM Cloud Virtual Servers for VPC\\\\x22,\\\\x22url\\\\x22:\\\\x22https:\\\\/\\\\/www.ibm.com\\\\/products\\\\/virtual\\\\u002Dservers?lnk=flatitem\\\\x22,\\\\x22description\\\\x22:\\\\x22Virtual servers with Intel Xeon or IBM Z CPUs\\\\x22},{\\\\x22title\\\\x22:\\\\x22LinuxONE 4\\\\x22,\\\\x22url\\\\x22:\\\\x22https:\\\\/\\\\/www.ibm.com\\\\/products\\\\/linuxone\\\\u002D4?lnk=flatitem\\\\x22,\\\\x22description\\\\x22:\\\\x22Physical and virtual servers for running Linux\\\\x22},{\\\\x22title\\\\x22:\\\\x22Power\\\\x22,\\\\x22url\\\\x22:\\\\x22https:\\\\/\\\\/www.ibm.com\\\\/power?lnk=flatitem\\\\x22,\\\\x22description\\\\x22:\\\\x22Physical and virtual servers with IBM Power CPUs\\\\x22},{\\\\x22title\\\\x22:\\\\x22z16\\\\x22,\\\\x22url\\\\x22:\\\\x22https:\\\\/\\\\/www.ibm.com\\\\/products\\\\/z16?lnk=flatitem\\\\x22,\\\\x22description\\\\x22:\\\\x22Flagship mainframe with on\\\\u002Dchip AI and quantum\\\\u002Dsafe cryptography\\\\x22}]}]},{\\\\x22heading\\\\x22:{\\\\x22title\\\\x22:\\\\x22Storage\\\\x22,\\\\x22url\\\\x22:\\\\x22https:\\\\/\\\\/www.ibm.com\\\\/storage?lnk=flathl\\\\x22,\\\\x22description\\\\x22:\\\\x22Software, hardware and services for critical and operational workloads and data\\\\x22},\\\\x22groups\\\\x22:[{\\\\x22heading\\\\x22:{\\\\x22title\\\\x22:\\\\x22\\\\x22,\\\\x22description\\\\x22:\\\\x22\\\\x22},\\\\x22links\\\\x22:[{\\\\x22title\\\\x22:\\\\x22Ceph\\\\x22,\\\\x22url\\\\x22:\\\\x22https:\\\\/\\\\/www.ibm.com\\\\/products\\\\/ceph?lnk=flatitem\\\\x22,\\\\x22description\\\\x22:\\\\x22Open source, distributed software\\\\u002Ddefined storage platform\\\\x22},{\\\\x22title\\\\x22:\\\\x22Cloud Block Storage\\\\x22,\\\\x22url\\\\x22:\\\\x22https:\\\\/\\\\/www.ibm.com\\\\/products\\\\/block\\\\u002Dstorage?lnk=flatitem\\\\x22,\\\\x22description\\\\x22:\\\\x22Managed service optimized for low latency and high transfer rates\\\\x22},{\\\\x22title\\\\x22:\\\\x22Cloud File Storage\\\\x22,\\\\x22url\\\\x22:\\\\x22https:\\\\/\\\\/www.ibm.com\\\\/products\\\\/file\\\\u002Dstorage?lnk=flatitem\\\\x22,\\\\x22description\\\\x22:\\\\x22Managed service for flash\\\\u002Dbacked, durable, NFS\\\\u002Dbased file storage\\\\x22},{\\\\x22title\\\\x22:\\\\x22Cloud Object Storage\\\\x22,\\\\x22url\\\\x22:\\\\x22https:\\\\/\\\\/www.ibm.com\\\\/products\\\\/cloud\\\\u002Dobject\\\\u002Dstorage?lnk=flatitem\\\\x22,\\\\x22description\\\\x22:\\\\x22Unstructured data storage accessible via cloud APIs\\\\x22},{\\\\x22title\\\\x22:\\\\x22DS8900F\\\\x22,\\\\x22url\\\\x22:\\\\x22https:\\\\/\\\\/www.ibm.com\\\\/products\\\\/ds8000f?lnk=flatitem\\\\x22,\\\\x22description\\\\x22:\\\\x22All\\\\u002Dflash, low\\\\u002Dlatency, highly available storage for mainframes\\\\x22},{\\\\x22title\\\\x22:\\\\x22Defender\\\\x22,\\\\x22url\\\\x22:\\\\x22https:\\\\/\\\\/www.ibm.com\\\\/products\\\\/storage\\\\u002Ddefender?lnk=flatitem\\\\x22,\\\\x22description\\\\x22:\\\\x22Data resiliency software for threat detection and data recovery\\\\x22},{\\\\x22title\\\\x22:\\\\x22FlashSystem\\\\x22,\\\\x22url\\\\x22:\\\\x22https:\\\\/\\\\/www.ibm.com\\\\/flashsystem?lnk=flatitem\\\\x22,\\\\x22description\\\\x22:\\\\x22All\\\\u002Dflash array with performance and capacity for any workload\\\\x22},{\\\\x22title\\\\x22:\\\\x22Fusion\\\\x22,\\\\x22url\\\\x22:\\\\x22https:\\\\/\\\\/www.ibm.com\\\\/products\\\\/storage\\\\u002Dfusion?lnk=flatitem\\\\x22,\\\\x22description\\\\x22:\\\\x22Container\\\\u002Dnative storage and data orchestration for OpenShift\\\\x22},{\\\\x22title\\\\x22:\\\\x22Insights\\\\x22,\\\\x22url\\\\x22:\\\\x22https:\\\\/\\\\/www.ibm.com\\\\/products\\\\/storage\\\\u002Dinsights?lnk=flatitem\\\\x22,\\\\x22description\\\\x22:\\\\x22Storage AIOps for metrics\\\\u002Dpowered analysis and decisions\\\\x22},{\\\\x22title\\\\x22:\\\\x22Protect\\\\x22,\\\\x22url\\\\x22:\\\\x22https:\\\\/\\\\/www.ibm.com\\\\/products\\\\/storage\\\\u002Dprotect?lnk=flatitem\\\\x22,\\\\x22description\\\\x22:\\\\x22Data resiliency, backup and recovery delivered via SaaS\\\\x22},{\\\\x22title\\\\x22:\\\\x22Protect for Cloud\\\\x22,\\\\x22url\\\\x22:\\\\x22https:\\\\/\\\\/www.ibm.com\\\\/products\\\\/storage\\\\u002Dprotect\\\\u002Dfor\\\\u002Dcloud?lnk=flatitem\\\\x22,\\\\x22description\\\\x22:\\\\x22Backup and recovery SaaS for data in public cloud services\\\\x22},{\\\\x22title\\\\x22:\\\\x22SAN Switches\\\\x22,\\\\x22url\\\\x22:\\\\x22https:\\\\/\\\\/www.ibm.com\\\\/storage\\\\u002Darea\\\\u002Dnetwork?lnk=flatitem\\\\x22,\\\\x22description\\\\x22:\\\\x22Scalable and highly available storage area network solutions\\\\x22},{\\\\x22title\\\\x22:\\\\x22Scale\\\\x22,\\\\x22url\\\\x22:\\\\x22https:\\\\/\\\\/www.ibm.com\\\\/products\\\\/storage\\\\u002Dscale?lnk=flatitem\\\\x22,\\\\x22description\\\\x22:\\\\x22Software defined storage for AI and high performance workloads\\\\x22},{\\\\x22title\\\\x22:\\\\x22Scale System\\\\x22,\\\\x22url\\\\x22:\\\\x22https:\\\\/\\\\/www.ibm.com\\\\/products\\\\/storage\\\\u002Dscale\\\\u002Dsystem?lnk=flatitem\\\\x22,\\\\x22description\\\\x22:\\\\x22All\\\\u002Dflash or hybrid performant storage for cloud scale use\\\\u002Dcases\\\\x22},{\\\\x22title\\\\x22:\\\\x22Tape Systems\\\\x22,\\\\x22url\\\\x22:\\\\x22https:\\\\/\\\\/www.ibm.com\\\\/tape\\\\u002Dstorage?lnk=flatitem\\\\x22,\\\\x22description\\\\x22:\\\\x22Software and hardware for encrypted and air\\\\u002Dgapped archives\\\\x22}]}]},{\\\\x22heading\\\\x22:{\\\\x22title\\\\x22:\\\\x22Supply chain\\\\x22,\\\\x22url\\\\x22:\\\\x22https:\\\\/\\\\/www.ibm.com\\\\/supply\\\\u002Dchain?lnk=flathl\\\\x22,\\\\x22description\\\\x22:\\\\x22Manage the flow of goods and services\\\\x22},\\\\x22groups\\\\x22:[{\\\\x22heading\\\\x22:{\\\\x22title\\\\x22:\\\\x22\\\\x22,\\\\x22description\\\\x22:\\\\x22\\\\x22},\\\\x22links\\\\x22:[{\\\\x22title\\\\x22:\\\\x22Sterling Order and Fulfillment Suite\\\\x22,\\\\x22url\\\\x22:\\\\x22https:\\\\/\\\\/www.ibm.com\\\\/products\\\\/order\\\\u002Dfulfillment\\\\u002Dsuite?lnk=flatitem\\\\x22,\\\\x22description\\\\x22:\\\\x22Complete order management system with AI and machine learning\\\\x22},{\\\\x22title\\\\x22:\\\\x22Sterling Supply Chain Intelligence Suite\\\\x22,\\\\x22url\\\\x22:\\\\x22https:\\\\/\\\\/www.ibm.com\\\\/products\\\\/supply\\\\u002Dchain\\\\u002Dintelligence\\\\u002Dsuite?lnk=flatitem\\\\x22,\\\\x22description\\\\x22:\\\\x22Software for supply chain optimization and automation\\\\x22}]}]}],\\\\x22viewAll\\\\x22:{\\\\x22title\\\\x22:\\\\x22View all products\\\\x22,\\\\x22url\\\\x22:\\\\x22https:\\\\/\\\\/www.ibm.com\\\\/products\\\\x22}}},{\\\\x22title\\\\x22:\\\\x22Solutions\\\\x22,\\\\x22url\\\\x22:\\\\x22\\\\x22,\\\\x22submenu\\\\x22:{\\\\x22sections\\\\x22:[{\\\\x22heading\\\\x22:{\\\\x22title\\\\x22:\\\\x22Automation\\\\x22,\\\\x22url\\\\x22:\\\\x22https:\\\\/\\\\/www.ibm.com\\\\/automation?lnk=flathl\\\\x22,\\\\x22description\\\\x22:\\\\x22Intelligent automation for business and IT operations\\\\x22},\\\\x22groups\\\\x22:[{\\\\x22heading\\\\x22:{\\\\x22title\\\\x22:\\\\x22\\\\x22,\\\\x22description\\\\x22:\\\\x22\\\\x22},\\\\x22links\\\\x22:[{\\\\x22title\\\\x22:\\\\x22AIOps\\\\x22,\\\\x22url\\\\x22:\\\\x22https:\\\\/\\\\/www.ibm.com\\\\/aiops?lnk=flatitem\\\\x22,\\\\x22description\\\\x22:\\\\x22Enable proactive, continuous application performance management\\\\x22},{\\\\x22title\\\\x22:\\\\x22Application delivery\\\\x22,\\\\x22url\\\\x22:\\\\x22https:\\\\/\\\\/www.ibm.com\\\\/application\\\\u002Ddelivery?lnk=flatitem\\\\x22,\\\\x22description\\\\x22:\\\\x22Modernize applications and deliver new cloud\\\\u002Dnative applications\\\\x22},{\\\\x22title\\\\x22:\\\\x22Application performance management\\\\x22,\\\\x22url\\\\x22:\\\\x22https:\\\\/\\\\/www.ibm.com\\\\/application\\\\u002Dperformance\\\\u002Dmanagement?lnk=flatitem\\\\x22,\\\\x22description\\\\x22:\\\\x22Bridge observability and automated resource management\\\\x22},{\\\\x22title\\\\x22:\\\\x22Business automation\\\\x22,\\\\x22url\\\\x22:\\\\x22https:\\\\/\\\\/www.ibm.com\\\\/business\\\\u002Dautomation?lnk=flatitem\\\\x22,\\\\x22description\\\\x22:\\\\x22Deliver intelligent automation solutions quickly with low\\\\u002Dcode\\\\x22},{\\\\x22title\\\\x22:\\\\x22Cloud cost management\\\\x22,\\\\x22url\\\\x22:\\\\x22https:\\\\/\\\\/www.ibm.com\\\\/cloud\\\\u002Dcost\\\\u002Dmanagement?lnk=flatitem\\\\x22,\\\\x22description\\\\x22:\\\\x22Optimize performance at the lowest cost and align business value\\\\x22},{\\\\x22title\\\\x22:\\\\x22Decision management\\\\x22,\\\\x22url\\\\x22:\\\\x22https:\\\\/\\\\/www.ibm.com\\\\/decision\\\\u002Dmanagement?lnk=flatitem\\\\x22,\\\\x22description\\\\x22:\\\\x22Model, manage and automate repeatable business processes\\\\x22},{\\\\x22title\\\\x22:\\\\x22DevOps automation\\\\x22,\\\\x22url\\\\x22:\\\\x22https:\\\\/\\\\/www.ibm.com\\\\/devops\\\\u002Dautomation?lnk=flatitem\\\\x22,\\\\x22description\\\\x22:\\\\x22Automate your software delivery process\\\\x22},{\\\\x22title\\\\x22:\\\\x22Enterprise content management\\\\x22,\\\\x22url\\\\x22:\\\\x22https:\\\\/\\\\/www.ibm.com\\\\/enterprise\\\\u002Dcontent\\\\u002Dmanagement?lnk=flatitem\\\\x22,\\\\x22description\\\\x22:\\\\x22Accelerate information management and governance processes\\\\x22},{\\\\x22title\\\\x22:\\\\x22FinOps\\\\x22,\\\\x22url\\\\x22:\\\\x22https:\\\\/\\\\/www.ibm.com\\\\/finops?lnk=flatitem\\\\x22,\\\\x22description\\\\x22:\\\\x22Manage the variable economics of cloud infrastructure\\\\x22},{\\\\x22title\\\\x22:\\\\x22Integration\\\\x22,\\\\x22url\\\\x22:\\\\x22https:\\\\/\\\\/www.ibm.com\\\\/integration?lnk=flatitem\\\\x22,\\\\x22description\\\\x22:\\\\x22Connect applications and systems to unlock critical data\\\\x22},{\\\\x22title\\\\x22:\\\\x22License compliance\\\\x22,\\\\x22url\\\\x22:\\\\x22https:\\\\/\\\\/www.ibm.com\\\\/license\\\\u002Dcompliance?lnk=flatitem\\\\x22,\\\\x22description\\\\x22:\\\\x22Reduce compliance risks with application resource management\\\\x22},{\\\\x22title\\\\x22:\\\\x22Networking\\\\x22,\\\\x22url\\\\x22:\\\\x22https:\\\\/\\\\/www.ibm.com\\\\/networking?lnk=flatitem\\\\x22,\\\\x22description\\\\x22:\\\\x22Automate network configuration, provisioning and troubleshooting\\\\x22},{\\\\x22title\\\\x22:\\\\x22Workflow\\\\x22,\\\\x22url\\\\x22:\\\\x22https:\\\\/\\\\/www.ibm.com\\\\/workflow?lnk=flatitem\\\\x22,\\\\x22description\\\\x22:\\\\x22Increase productivity by streamlining processes and tasks\\\\x22},{\\\\x22title\\\\x22:\\\\x22iPaaS\\\\x22,\\\\x22url\\\\x22:\\\\x22https:\\\\/\\\\/www.ibm.com\\\\/ipaas?lnk=flatitem\\\\x22,\\\\x22description\\\\x22:\\\\x22Deliver connectivity across all your apps and data\\\\x22}]}]},{\\\\x22heading\\\\x22:{\\\\x22title\\\\x22:\\\\x22Data \\\\x26 AI\\\\x22,\\\\x22description\\\\x22:\\\\x22Optimize your data strategy to support data\\\\u002Ddriven decisions\\\\x22},\\\\x22groups\\\\x22:[{\\\\x22heading\\\\x22:{\\\\x22title\\\\x22:\\\\x22\\\\x22,\\\\x22description\\\\x22:\\\\x22\\\\x22},\\\\x22links\\\\x22:[{\\\\x22title\\\\x22:\\\\x22AI\\\\x22,\\\\x22url\\\\x22:\\\\x22https:\\\\/\\\\/www.ibm.com\\\\/artificial\\\\u002Dintelligence?lnk=flatitem\\\\x22,\\\\x22description\\\\x22:\\\\x22Artificial intelligence solutions built with industry expertise\\\\x22},{\\\\x22title\\\\x22:\\\\x22AI ethics\\\\x22,\\\\x22url\\\\x22:\\\\x22https:\\\\/\\\\/www.ibm.com\\\\/impact\\\\/ai\\\\u002Dethics?lnk=flatitem\\\\x22,\\\\x22description\\\\x22:\\\\x22Trustworthy, transparent AI with a multidimensional approach\\\\x22},{\\\\x22title\\\\x22:\\\\x22Customer experience\\\\x22,\\\\x22url\\\\x22:\\\\x22https:\\\\/\\\\/www.ibm.com\\\\/ai\\\\u002Dcustomer\\\\u002Dservice?lnk=flatitem\\\\x22,\\\\x22description\\\\x22:\\\\x22Build a full\\\\u002Dservice AI chatbot that integrates with your CRM\\\\x22},{\\\\x22title\\\\x22:\\\\x22Data fabric\\\\x22,\\\\x22url\\\\x22:\\\\x22https:\\\\/\\\\/www.ibm.com\\\\/data\\\\u002Dfabric?lnk=flatitem\\\\x22,\\\\x22description\\\\x22:\\\\x22Automate data discovery, governance and consumption\\\\x22},{\\\\x22title\\\\x22:\\\\x22Data lake\\\\x22,\\\\x22url\\\\x22:\\\\x22https:\\\\/\\\\/www.ibm.com\\\\/data\\\\u002Dlake?lnk=flatitem\\\\x22,\\\\x22description\\\\x22:\\\\x22Analyze structured, semi\\\\u002Dstructured and unstructured data\\\\x22},{\\\\x22title\\\\x22:\\\\x22Data management\\\\x22,\\\\x22url\\\\x22:\\\\x22https:\\\\/\\\\/www.ibm.com\\\\/data\\\\u002Dmanagement?lnk=flatitem\\\\x22,\\\\x22description\\\\x22:\\\\x22Consistent data access and delivery across apps and domains\\\\x22},{\\\\x22title\\\\x22:\\\\x22Data quality\\\\x22,\\\\x22url\\\\x22:\\\\x22https:\\\\/\\\\/www.ibm.com\\\\/data\\\\u002Dquality?lnk=flatitem\\\\x22,\\\\x22description\\\\x22:\\\\x22Robust tools help identify, understand and correct data flaws\\\\x22},{\\\\x22title\\\\x22:\\\\x22Data science\\\\x22,\\\\x22url\\\\x22:\\\\x22https:\\\\/\\\\/www.ibm.com\\\\/data\\\\u002Dscience?lnk=flatitem\\\\x22,\\\\x22description\\\\x22:\\\\x22Operationalize data science models on any cloud\\\\x22},{\\\\x22title\\\\x22:\\\\x22Data warehouse\\\\x22,\\\\x22url\\\\x22:\\\\x22https:\\\\/\\\\/www.ibm.com\\\\/data\\\\u002Dwarehouse?lnk=flatitem\\\\x22,\\\\x22description\\\\x22:\\\\x22A flexible foundation optimized for data from disparate sources\\\\x22},{\\\\x22title\\\\x22:\\\\x22DataOps\\\\x22,\\\\x22url\\\\x22:\\\\x22https:\\\\/\\\\/www.ibm.com\\\\/dataops?lnk=flatitem\\\\x22,\\\\x22description\\\\x22:\\\\x22Develop a coordinated overview of the data acquisition journey\\\\x22},{\\\\x22title\\\\x22:\\\\x22Master data management\\\\x22,\\\\x22url\\\\x22:\\\\x22https:\\\\/\\\\/www.ibm.com\\\\/master\\\\u002Ddata\\\\u002Dmanagement?lnk=flatitem\\\\x22,\\\\x22description\\\\x22:\\\\x22A trusted, 360\\\\u002Ddegree view of master data across the enterprise\\\\x22},{\\\\x22title\\\\x22:\\\\x22Prescriptive analytics\\\\x22,\\\\x22url\\\\x22:\\\\x22https:\\\\/\\\\/www.ibm.com\\\\/prescriptive\\\\u002Danalytics?lnk=flatitem\\\\x22,\\\\x22description\\\\x22:\\\\x22Use optimization technology to solve complex decisions\\\\x22}]}]},{\\\\x22heading\\\\x22:{\\\\x22title\\\\x22:\\\\x22Industry\\\\x22,\\\\x22url\\\\x22:\\\\x22https:\\\\/\\\\/www.ibm.com\\\\/industries?lnk=flathl\\\\x22,\\\\x22description\\\\x22:\\\\x22Customized, end\\\\u002Dto\\\\u002Dend, AI\\\\u002Dpowered solutions for your industry\\\\x22},\\\\x22groups\\\\x22:[{\\\\x22heading\\\\x22:{\\\\x22title\\\\x22:\\\\x22\\\\x22,\\\\x22description\\\\x22:\\\\x22\\\\x22},\\\\x22links\\\\x22:[{\\\\x22title\\\\x22:\\\\x22Automotive\\\\x22,\\\\x22url\\\\x22:\\\\x22https:\\\\/\\\\/www.ibm.com\\\\/industries\\\\/automotive?lnk=flatitem\\\\x22,\\\\x22description\\\\x22:\\\\x22Shift focus to connected vehicles and digital services\\\\x22},{\\\\x22title\\\\x22:\\\\x22Banking\\\\x22,\\\\x22url\\\\x22:\\\\x22https:\\\\/\\\\/www.ibm.com\\\\/industries\\\\/banking\\\\u002Dfinancial\\\\u002Dmarkets?lnk=flatitem\\\\x22,\\\\x22description\\\\x22:\\\\x22Create compliant, customer\\\\u002Dcentric banking  experiences\\\\x22},{\\\\x22title\\\\x22:\\\\x22Consumer goods\\\\x22,\\\\x22url\\\\x22:\\\\x22https:\\\\/\\\\/www.ibm.com\\\\/industries\\\\/consumer\\\\u002Dgoods?lnk=flatitem\\\\x22,\\\\x22description\\\\x22:\\\\x22Infuse agility and automation into operations and supply chains\\\\x22},{\\\\x22title\\\\x22:\\\\x22Energy \\\\x26 utilities\\\\x22,\\\\x22url\\\\x22:\\\\x22https:\\\\/\\\\/www.ibm.com\\\\/industries\\\\/energy?lnk=flatitem\\\\x22,\\\\x22description\\\\x22:\\\\x22Get your utility ready for the new, sustainable energy ecosystem\\\\x22},{\\\\x22title\\\\x22:\\\\x22Government\\\\x22,\\\\x22url\\\\x22:\\\\x22https:\\\\/\\\\/www.ibm.com\\\\/industries\\\\/government?lnk=flatitem\\\\x22,\\\\x22description\\\\x22:\\\\x22Support citizens with greater speed and confidence\\\\x22},{\\\\x22title\\\\x22:\\\\x22Healthcare\\\\x22,\\\\x22url\\\\x22:\\\\x22https:\\\\/\\\\/www.ibm.com\\\\/industries\\\\/healthcare?lnk=flatitem\\\\x22,\\\\x22description\\\\x22:\\\\x22Navigate a more interconnected, data\\\\u002Drich healthcare ecosystem\\\\x22},{\\\\x22title\\\\x22:\\\\x22Insurance\\\\x22,\\\\x22url\\\\x22:\\\\x22https:\\\\/\\\\/www.ibm.com\\\\/industries\\\\/insurance?lnk=flatitem\\\\x22,\\\\x22description\\\\x22:\\\\x22Improve operations and customer experiences at speed and scale\\\\x22},{\\\\x22title\\\\x22:\\\\x22Life Sciences\\\\x22,\\\\x22url\\\\x22:\\\\x22https:\\\\/\\\\/www.ibm.com\\\\/industries\\\\/life\\\\u002Dsciences?lnk=flatitem\\\\x22,\\\\x22description\\\\x22:\\\\x22Accelerate product innovation and drive patient centricity\\\\x22},{\\\\x22title\\\\x22:\\\\x22Manufacturing\\\\x22,\\\\x22url\\\\x22:\\\\x22https:\\\\/\\\\/www.ibm.com\\\\/industries\\\\/manufacturing?lnk=flatitem\\\\x22,\\\\x22description\\\\x22:\\\\x22Digitally transform traditional manufacturing processes\\\\x22},{\\\\x22title\\\\x22:\\\\x22Retail\\\\x22,\\\\x22url\\\\x22:\\\\x22https:\\\\/\\\\/www.ibm.com\\\\/industries\\\\/retail?lnk=flatitem\\\\x22,\\\\x22description\\\\x22:\\\\x22Meet changing consumer needs with new retail business models\\\\x22},{\\\\x22title\\\\x22:\\\\x22Telecommunications\\\\x22,\\\\x22url\\\\x22:\\\\x22https:\\\\/\\\\/www.ibm.com\\\\/industries\\\\/telecommunications?lnk=flatitem\\\\x22,\\\\x22description\\\\x22:\\\\x22Achieve a more flexible, seamless network architecture\\\\x22},{\\\\x22title\\\\x22:\\\\x22Travel\\\\x22,\\\\x22url\\\\x22:\\\\x22https:\\\\/\\\\/www.ibm.com\\\\/industries\\\\/travel\\\\u002Dtransportation?lnk=flatitem\\\\x22,\\\\x22description\\\\x22:\\\\x22Restore traveler trust and increase operational efficiency\\\\x22}]}]},{\\\\x22heading\\\\x22:{\\\\x22title\\\\x22:\\\\x22Infrastructure\\\\x22,\\\\x22url\\\\x22:\\\\x22https:\\\\/\\\\/www.ibm.com\\\\/it\\\\u002Dinfrastructure?lnk=flathl\\\\x22,\\\\x22description\\\\x22:\\\\x22\\\\x22},\\\\x22groups\\\\x22:[{\\\\x22heading\\\\x22:{\\\\x22title\\\\x22:\\\\x22\\\\x22,\\\\x22description\\\\x22:\\\\x22\\\\x22},\\\\x22links\\\\x22:[{\\\\x22title\\\\x22:\\\\x22Backup \\\\x26 recovery\\\\x22,\\\\x22url\\\\x22:\\\\x22https:\\\\/\\\\/www.ibm.com\\\\/backup\\\\u002Drecovery?lnk=flatitem\\\\x22,\\\\x22description\\\\x22:\\\\x22Comprehensive data resilience for physical and virtual servers\\\\x22},{\\\\x22title\\\\x22:\\\\x22Edge computing\\\\x22,\\\\x22url\\\\x22:\\\\x22https:\\\\/\\\\/www.ibm.com\\\\/edge\\\\u002Dcomputing?lnk=flatitem\\\\x22,\\\\x22description\\\\x22:\\\\x22Manage workloads from edge to core across any hybrid multicloud\\\\x22},{\\\\x22title\\\\x22:\\\\x22High performance computing (HPC)\\\\x22,\\\\x22url\\\\x22:\\\\x22https:\\\\/\\\\/www.ibm.com\\\\/high\\\\u002Dperformance\\\\u002Dcomputing?lnk=flatitem\\\\x22,\\\\x22description\\\\x22:\\\\x22HPC infrastructure for advanced and data\\\\u002Dintensive workloads\\\\x22},{\\\\x22title\\\\x22:\\\\x22Hybrid cloud\\\\x22,\\\\x22url\\\\x22:\\\\x22https:\\\\/\\\\/www.ibm.com\\\\/hybrid\\\\u002Dcloud?lnk=flatitem\\\\x22,\\\\x22description\\\\x22:\\\\x22Use a common platform across cloud, on\\\\u002Dprem and edge environments\\\\x22},{\\\\x22title\\\\x22:\\\\x22IT modernization\\\\x22,\\\\x22url\\\\x22:\\\\x22https:\\\\/\\\\/www.ibm.com\\\\/infrastructure\\\\u002Dmodernization?lnk=flatitem\\\\x22,\\\\x22description\\\\x22:\\\\x22Modernize legacy IT in place with containerized microservices\\\\x22},{\\\\x22title\\\\x22:\\\\x22Mainframe application modernization\\\\x22,\\\\x22url\\\\x22:\\\\x22https:\\\\/\\\\/www.ibm.com\\\\/mainframe\\\\u002Dapplication\\\\u002Dmodernization?lnk=flatitem\\\\x22,\\\\x22description\\\\x22:\\\\x22Apply modern development and DevOps tools to mainframe applications\\\\x22}]}]},{\\\\x22heading\\\\x22:{\\\\x22title\\\\x22:\\\\x22Security\\\\x22,\\\\x22url\\\\x22:\\\\x22https:\\\\/\\\\/www.ibm.com\\\\/security?lnk=flathl\\\\x22,\\\\x22description\\\\x22:\\\\x22Enterprise cybersecurity for today’s hybrid cloud environments\\\\x22},\\\\x22groups\\\\x22:[{\\\\x22heading\\\\x22:{\\\\x22title\\\\x22:\\\\x22\\\\x22,\\\\x22description\\\\x22:\\\\x22\\\\x22},\\\\x22links\\\\x22:[{\\\\x22title\\\\x22:\\\\x22Cloud security\\\\x22,\\\\x22url\\\\x22:\\\\x22https:\\\\/\\\\/www.ibm.com\\\\/cloud\\\\u002Dsecurity?lnk=flatitem\\\\x22,\\\\x22description\\\\x22:\\\\x22Trust IBM Cloud security for data protection and compliance\\\\x22},{\\\\x22title\\\\x22:\\\\x22Data security\\\\x22,\\\\x22url\\\\x22:\\\\x22https:\\\\/\\\\/www.ibm.com\\\\/data\\\\u002Dsecurity?lnk=flatitem\\\\x22,\\\\x22description\\\\x22:\\\\x22Meet data privacy regulations and simplify operational complexity\\\\x22},{\\\\x22title\\\\x22:\\\\x22Insider threat\\\\x22,\\\\x22url\\\\x22:\\\\x22https:\\\\/\\\\/www.ibm.com\\\\/insider\\\\u002Dthreat?lnk=flatitem\\\\x22,\\\\x22description\\\\x22:\\\\x22Protection from malicious or unintentional threats from insiders\\\\x22},{\\\\x22title\\\\x22:\\\\x22Ransomware\\\\x22,\\\\x22url\\\\x22:\\\\x22https:\\\\/\\\\/www.ibm.com\\\\/ransomware?lnk=flatitem\\\\x22,\\\\x22description\\\\x22:\\\\x22Proactively manage cyber risks to reduce the impact of attacks\\\\x22},{\\\\x22title\\\\x22:\\\\x22Threat detection and response\\\\x22,\\\\x22url\\\\x22:\\\\x22https:\\\\/\\\\/www.ibm.com\\\\/threat\\\\u002Ddetection\\\\u002Dresponse?lnk=flatitem\\\\x22,\\\\x22description\\\\x22:\\\\x22Accelerate and streamline responses across the attack lifecycle\\\\x22}]}]},{\\\\x22heading\\\\x22:{\\\\x22title\\\\x22:\\\\x22Sustainability\\\\x22,\\\\x22url\\\\x22:\\\\x22https:\\\\/\\\\/www.ibm.com\\\\/sustainability?lnk=flathl\\\\x22,\\\\x22description\\\\x22:\\\\x22Embed sustainability into your business transformation\\\\x22},\\\\x22groups\\\\x22:[{\\\\x22heading\\\\x22:{\\\\x22title\\\\x22:\\\\x22\\\\x22,\\\\x22description\\\\x22:\\\\x22\\\\x22},\\\\x22links\\\\x22:[{\\\\x22title\\\\x22:\\\\x22Asset lifecycle management\\\\x22,\\\\x22url\\\\x22:\\\\x22https:\\\\/\\\\/www.ibm.com\\\\/products\\\\/maximo\\\\/sustainability?lnk=flatitem\\\\x22,\\\\x22description\\\\x22:\\\\x22Optimize performance, extend asset lifecycles and reduce downtime\\\\x22},{\\\\x22title\\\\x22:\\\\x22ESG reporting\\\\x22,\\\\x22url\\\\x22:\\\\x22https:\\\\/\\\\/www.ibm.com\\\\/products\\\\/envizi?lnk=flatitem\\\\x22,\\\\x22description\\\\x22:\\\\x22Data foundation to streamline meeting ESG reporting requirements\\\\x22},{\\\\x22title\\\\x22:\\\\x22Facilities management\\\\x22,\\\\x22url\\\\x22:\\\\x22https:\\\\/\\\\/www.ibm.com\\\\/products\\\\/tririga\\\\/sustainability?lnk=flatitem\\\\x22,\\\\x22description\\\\x22:\\\\x22A single source of truth to manage your corporate real estate\\\\x22},{\\\\x22title\\\\x22:\\\\x22IT sustainability\\\\x22,\\\\x22url\\\\x22:\\\\x22https:\\\\/\\\\/www.ibm.com\\\\/products\\\\/turbonomic\\\\/sustainability?lnk=flatitem\\\\x22,\\\\x22description\\\\x22:\\\\x22Software to estimate infrastructure resource consumption\\\\x22},{\\\\x22title\\\\x22:\\\\x22Supply chain\\\\x22,\\\\x22url\\\\x22:\\\\x22https:\\\\/\\\\/www.ibm.com\\\\/supply\\\\u002Dchain?lnk=flatitem\\\\x22,\\\\x22description\\\\x22:\\\\x22Build supply chain resiliency with intelligent automation\\\\x22},{\\\\x22title\\\\x22:\\\\x22Weather Risk Management\\\\x22,\\\\x22url\\\\x22:\\\\x22https:\\\\/\\\\/www.ibm.com\\\\/products\\\\/environmental\\\\u002Dintelligence\\\\u002Dsuite\\\\/sustainability?lnk=flatitem\\\\x22,\\\\x22description\\\\x22:\\\\x22Manage the economic impact of weather and climate on your business\\\\x22}]}]}],\\\\x22viewAll\\\\x22:{\\\\x22title\\\\x22:\\\\x22\\\\x22,\\\\x22url\\\\x22:\\\\x22\\\\x22}}},{\\\\x22title\\\\x22:\\\\x22Consulting\\\\x22,\\\\x22url\\\\x22:\\\\x22https:\\\\/\\\\/www.ibm.com\\\\/consulting?lnk=L0G\\\\x22},{\\\\x22title\\\\x22:\\\\x22Support\\\\x22,\\\\x22url\\\\x22:\\\\x22\\\\x22,\\\\x22submenu\\\\x22:{\\\\x22sections\\\\x22:[{\\\\x22heading\\\\x22:{\\\\x22title\\\\x22:\\\\x22\\\\x22,\\\\x22description\\\\x22:\\\\x22\\\\x22},\\\\x22groups\\\\x22:[{\\\\x22heading\\\\x22:{\\\\x22title\\\\x22:\\\\x22Community\\\\x22,\\\\x22url\\\\x22:\\\\x22https:\\\\/\\\\/community.ibm.com\\\\/community\\\\/user\\\\/home?lnk=flathl\\\\x22,\\\\x22description\\\\x22:\\\\x22\\\\x22},\\\\x22links\\\\x22:[]},{\\\\x22heading\\\\x22:{\\\\x22title\\\\x22:\\\\x22Developer\\\\x22,\\\\x22url\\\\x22:\\\\x22https:\\\\/\\\\/developer.ibm.com\\\\/?lnk=flathl\\\\x22,\\\\x22description\\\\x22:\\\\x22\\\\x22},\\\\x22links\\\\x22:[{\\\\x22title\\\\x22:\\\\x22Call for Code\\\\x22,\\\\x22url\\\\x22:\\\\x22https:\\\\/\\\\/developer.ibm.com\\\\/callforcode\\\\/?lnk=flatitem\\\\x22},{\\\\x22title\\\\x22:\\\\x22Generative AI\\\\x22,\\\\x22url\\\\x22:\\\\x22https:\\\\/\\\\/developer.ibm.com\\\\/generative\\\\u002Dai\\\\u002Dfor\\\\u002Ddevelopers\\\\/?lnk=flatitem\\\\x22},{\\\\x22title\\\\x22:\\\\x22Open Source @ IBM\\\\x22,\\\\x22url\\\\x22:\\\\x22https:\\\\/\\\\/www.ibm.com\\\\/opensource\\\\/?lnk=flatitem\\\\x22},{\\\\x22title\\\\x22:\\\\x22Products\\\\x22,\\\\x22url\\\\x22:\\\\x22https:\\\\/\\\\/developer.ibm.com\\\\/components\\\\/?lnk=flatitem\\\\x22},{\\\\x22title\\\\x22:\\\\x22Technologies\\\\x22,\\\\x22url\\\\x22:\\\\x22https:\\\\/\\\\/developer.ibm.com\\\\/technologies\\\\/?lnk=flatitem\\\\x22}]},{\\\\x22heading\\\\x22:{\\\\x22title\\\\x22:\\\\x22Documentation\\\\x22,\\\\x22url\\\\x22:\\\\x22https:\\\\/\\\\/www.ibm.com\\\\/docs\\\\/en?lnk=flathl\\\\x22,\\\\x22description\\\\x22:\\\\x22\\\\x22},\\\\x22links\\\\x22:[{\\\\x22title\\\\x22:\\\\x22All product documentation\\\\x22,\\\\x22url\\\\x22:\\\\x22https:\\\\/\\\\/www.ibm.com\\\\/docs\\\\/en?lnk=flatitem\\\\x22},{\\\\x22title\\\\x22:\\\\x22IBM Cloud documentation\\\\x22,\\\\x22url\\\\x22:\\\\x22https:\\\\/\\\\/cloud.ibm.com\\\\/docs?lnk=flatitem\\\\x22},{\\\\x22title\\\\x22:\\\\x22IBM Redbooks\\\\x22,\\\\x22url\\\\x22:\\\\x22https:\\\\/\\\\/www.redbooks.ibm.com\\\\/?lnk=flatitem\\\\x22}]},{\\\\x22heading\\\\x22:{\\\\x22title\\\\x22:\\\\x22IBM Cloud platform support\\\\x22,\\\\x22url\\\\x22:\\\\x22https:\\\\/\\\\/www.ibm.com\\\\/cloud\\\\/support?lnk=flathl\\\\x22,\\\\x22description\\\\x22:\\\\x22\\\\x22},\\\\x22links\\\\x22:[]},{\\\\x22heading\\\\x22:{\\\\x22title\\\\x22:\\\\x22Implementation\\\\x22,\\\\x22description\\\\x22:\\\\x22\\\\x22},\\\\x22links\\\\x22:[{\\\\x22title\\\\x22:\\\\x22Expert Labs\\\\x22,\\\\x22url\\\\x22:\\\\x22https:\\\\/\\\\/www.ibm.com\\\\/products\\\\/expertlabs?lnk=flatitem\\\\x22}]},{\\\\x22heading\\\\x22:{\\\\x22title\\\\x22:\\\\x22Support\\\\x22,\\\\x22url\\\\x22:\\\\x22https:\\\\/\\\\/www.ibm.com\\\\/mysupport\\\\/s\\\\/?language=en_US\\\\x26lnk=flathl\\\\x22,\\\\x22description\\\\x22:\\\\x22\\\\x22},\\\\x22links\\\\x22:[{\\\\x22title\\\\x22:\\\\x22Download fixes, updates \\\\x26 drivers\\\\x22,\\\\x22url\\\\x22:\\\\x22https:\\\\/\\\\/www.ibm.com\\\\/support\\\\/fixcentral?lnk=flatitem\\\\x22},{\\\\x22title\\\\x22:\\\\x22Download licensed software \\\\u002D Passport Advantage\\\\x22,\\\\x22url\\\\x22:\\\\x22https:\\\\/\\\\/www.ibm.com\\\\/software\\\\/passportadvantage\\\\/pao_customer.html?lnk=flatitem\\\\x22},{\\\\x22title\\\\x22:\\\\x22IBM Software Licensing\\\\x22,\\\\x22url\\\\x22:\\\\x22https:\\\\/\\\\/www.ibm.com\\\\/about\\\\/software\\\\u002Dlicensing\\\\/?lnk=flatitem\\\\x22},{\\\\x22title\\\\x22:\\\\x22Open a case\\\\x22,\\\\x22url\\\\x22:\\\\x22https:\\\\/\\\\/www.ibm.com\\\\/mysupport\\\\/s\\\\/redirecttoopencasepage?lnk=flatitem\\\\x22},{\\\\x22title\\\\x22:\\\\x22View more\\\\x22,\\\\x22url\\\\x22:\\\\x22https:\\\\/\\\\/www.ibm.com\\\\/mysupport\\\\/s\\\\/?language=en_US\\\\x26lnk=flatitem\\\\x22},{\\\\x22title\\\\x22:\\\\x22View support plans\\\\x22,\\\\x22url\\\\x22:\\\\x22https:\\\\/\\\\/www.ibm.com\\\\/support\\\\/pages\\\\/ibm\\\\u002Dsupport\\\\u002Dofferings?lnk=flatitem\\\\x22},{\\\\x22title\\\\x22:\\\\x22View your cases\\\\x22,\\\\x22url\\\\x22:\\\\x22https:\\\\/\\\\/www.ibm.com\\\\/mysupport\\\\/s\\\\/my\\\\u002Dcases?lnk=flatitem\\\\x22}]},{\\\\x22heading\\\\x22:{\\\\x22title\\\\x22:\\\\x22Technology Lifecycle Services\\\\x22,\\\\x22url\\\\x22:\\\\x22https:\\\\/\\\\/www.ibm.com\\\\/services\\\\/technology\\\\u002Dlifecycle\\\\u002Dservices?lnk=flathl\\\\x22,\\\\x22description\\\\x22:\\\\x22\\\\x22},\\\\x22links\\\\x22:[{\\\\x22title\\\\x22:\\\\x22Enterprise networking and security\\\\x22,\\\\x22url\\\\x22:\\\\x22https:\\\\/\\\\/www.ibm.com\\\\/services\\\\/networking\\\\u002Dsupport?lnk=flatitem\\\\x22},{\\\\x22title\\\\x22:\\\\x22Servers and storage\\\\x22,\\\\x22url\\\\x22:\\\\x22https:\\\\/\\\\/www.ibm.com\\\\/services\\\\/systems\\\\u002Dsupport?lnk=flatitem\\\\x22},{\\\\x22title\\\\x22:\\\\x22Software\\\\x22,\\\\x22url\\\\x22:\\\\x22https:\\\\/\\\\/www.ibm.com\\\\/services\\\\/software\\\\u002Dsupport?lnk=flatitem\\\\x22}]},{\\\\x22heading\\\\x22:{\\\\x22title\\\\x22:\\\\x22Training\\\\x22,\\\\x22url\\\\x22:\\\\x22https:\\\\/\\\\/www.ibm.com\\\\/training\\\\/?lnk=flathl\\\\x22,\\\\x22description\\\\x22:\\\\x22\\\\x22},\\\\x22links\\\\x22:[{\\\\x22title\\\\x22:\\\\x22Courses\\\\x22,\\\\x22url\\\\x22:\\\\x22https:\\\\/\\\\/www.ibm.com\\\\/training\\\\/search?q=course\\\\x26lnk=flatitem\\\\x22},{\\\\x22title\\\\x22:\\\\x22Digital learning subscriptions\\\\x22,\\\\x22url\\\\x22:\\\\x22https:\\\\/\\\\/www.ibm.com\\\\/training\\\\/subscriptions?lnk=flatitem\\\\x22},{\\\\x22title\\\\x22:\\\\x22Learning paths \\\\x26 collections\\\\x22,\\\\x22url\\\\x22:\\\\x22https:\\\\/\\\\/www.ibm.com\\\\/training\\\\/learning\\\\u002Dpaths\\\\u002Dand\\\\u002Dcollections?lnk=flatitem\\\\x22},{\\\\x22title\\\\x22:\\\\x22Professional certifications\\\\x22,\\\\x22url\\\\x22:\\\\x22https:\\\\/\\\\/www.ibm.com\\\\/training\\\\/credentials?lnk=flatitem\\\\x22}]}]}],\\\\x22viewAll\\\\x22:{\\\\x22title\\\\x22:\\\\x22\\\\x22,\\\\x22url\\\\x22:\\\\x22\\\\x22}}},{\\\\x22title\\\\x22:\\\\x22Think\\\\x22,\\\\x22url\\\\x22:\\\\x22https:\\\\/\\\\/www.ibm.com\\\\/think?lnk=L0G\\\\x22},{\\\\x22title\\\\x22:\\\\x22TechXchange 2024\\\\x22,\\\\x22url\\\\x22:\\\\x22https:\\\\/\\\\/www.ibm.com\\\\/community\\\\/ibm\\\\u002Dtechxchange\\\\u002Dconference\\\\/?lnk=L0G\\\\x22}]}}\";\\r\\n    const searchPlaceholderText = \"Search all of IBM\";\\r\\n    const links = JSON.parse(l0Json).mastheadNav.links;\\r\\n    const unAuthenticated = JSON.parse(l0Json).profileMenu.signedout;\\r\\n    const authenticated = JSON.parse(l0Json).profileMenu.signedin;\\r\\n\\r\\n    const mastheadContainerEl = document.querySelector(\\'c4d-masthead-container\\');\\r\\n\\r\\n    mastheadContainerEl.navLinks = links;\\r\\n    mastheadContainerEl.unauthenticatedProfileItems = unAuthenticated;\\r\\n    mastheadContainerEl.authenticatedProfileItems = authenticated;\\r\\n\\r\\n    const appendSearchPlaceholderText = () => {\\r\\n        const typeheadEl = mastheadContainerEl.querySelector(\\'c4d-search-with-typeahead\\');\\r\\n        if (typeheadEl) {\\r\\n            typeheadEl.searchPlaceholder = searchPlaceholderText;\\r\\n            observer.disconnect();\\r\\n        }\\r\\n    }\\r\\n    let observer = new MutationObserver(appendSearchPlaceholderText);\\r\\n    observer.observe(mastheadContainerEl, {subtree: true, childList: true});\\r\\n</script>\\r\\n\\r\\n\\r\\n\\r\\n\\r\\n\\r\\n<script type=\"text/javascript\">\\r\\n    if(window.location.href.includes(\"/careers\")){\\r\\n       document.querySelector(\\'c4d-masthead-container\\').setAttribute(\"has-search\",\"false\");\\r\\n       document.querySelector(\\'c4d-masthead-container\\').setAttribute(\"has-profile\",\"false\");\\r\\n    }\\r\\n</script>\\r\\n</div>\\n<div class=\"container responsivegrid\">\\n\\n    \\n    \\n    \\n    <div id=\"container-35bfd5ef7a\" class=\"cmp-container\">\\n        \\n        \\n        \\n    </div>\\n\\n</div>\\n<div class=\"leadspace-container container responsivegrid\">\\n\\n    \\n    \\n    \\n    <div id=\"leadspace-container-1e918979ca\" class=\"cmp-container\">\\n        \\n        <div class=\"leadspace-expanded leadspace\">\\r\\n\\r\\n\\r\\n\\r\\n\\r\\n\\r\\n    \\r\\n\\r\\n\\r\\n\\r\\n    \\r\\n        \\r\\n        \\r\\n    \\r\\n\\r\\n\\r\\n<section class=\"bx--grid theme-white leadspace-expanded__container leadspace-expanded__container--tall leadspace-expanded__container--aside\">\\r\\n    <div class=\"bx--row leadspace-expanded__row\">\\r\\n        <div class=\"bx--col-lg-6 leadspace-expanded__column leadspace-expanded__column--content\">\\r\\n            <div>\\r\\n                \\r\\n\\r\\n                <div class=\"leadspace-expanded__navigation leadspace-expanded__navigation--tags\">\\r\\n                    \\r\\n                </div>\\r\\n\\r\\n                <caem-heading class=\"leadspace-expanded__heading\" type=\"h1\" type-style=\"display-01\" id=\"leadspaceSimpleTitle\">\\r\\n                    \\n\\n\\n  <dds-content-group-heading>\\n    \\n\\n  \\n\\n<span class=\"enhanced-title \">Build a data foundation that&#39;s ready for AI</span>\\n\\n\\n\\n    \\n\\n  </dds-content-group-heading>\\n\\n\\n\\n\\n\\n\\n    \\n\\n\\r\\n                </caem-heading>\\r\\n                \\r\\n            </div>\\r\\n            <div>\\r\\n                <caem-paragraph size=\"lead-in\" data-autoid=\"caem--paragraph\">\\r\\n                    \\r\\n                        <p> \\n\\n\\n  \\n  \\n      Moving forward with AI? Prepare your data with IBM tools, technology and expert guidance.\\n  \\n\\n\\n\\n\\n    \\n\\n</p>\\r\\n                    \\r\\n                </caem-paragraph>\\r\\n                \\r\\n\\r\\n                \\r\\n\\r\\n                \\r\\n\\r\\n                \\r\\n\\r\\n                \\r\\n                    <caem-button-group class=\"leadspace-expanded__action leadspace-expanded__action--button-group\">\\r\\n                        \\r\\n                            \\r\\n                            \\n\\n\\n\\n\\n\\n\\n    \\n    \\n    \\n    \\n    \\n    <caem-button-cta href=\"https://www.ibm.com/think/insights/data-differentiator?lnk=hpUSls1\" target=\"_self\" kind=\"primary\" cta-type=\"local\" data-aem-autoid=\"aem--leadspace_cta-0\">\\n        <span>Read the Data Differentiator guide</span>\\n        \\n        \\n    </caem-button-cta>\\n    \\n    \\n\\n\\n    \\n    \\n    \\n    \\n    \\n    <caem-button-cta href=\"https://www.ibm.com/data-management?lnk=hpUSls2\" target=\"_self\" kind=\"tertiary\" cta-type=\"local\" data-aem-autoid=\"aem--leadspace_cta-1\">\\n        <span>Explore data solutions</span>\\n        \\n        \\n    </caem-button-cta>\\n    \\n    \\n\\n\\n\\n \\n \\r\\n                        \\r\\n                    </caem-button-group>\\r\\n                    \\r\\n                    \\r\\n                \\r\\n            </div>\\r\\n        </div>\\r\\n        <div class=\"bx--col-lg-8 leadspace-expanded__column leadspace-expanded__column--media\">\\r\\n            <div class=\"leadspace-expanded__column-inner\">\\r\\n                \\r\\n\\r\\n                \\r\\n                    <caem-video-player-container class=\"leadspace-expanded__media\" aspect-ratio=\"4x3\" video-id=\"1_u8fom2ua\" caption=\"Data Differentiator\" caption-alignment=\"left\" playing-mode=\"inline\" thumbnail=\"/content/dam/connectedassets-adobe-cms/worldwide-content/creative-assets/s-migr/ul/g/68/c4/data-ai-homepage-vid-thumbnail.component.crop-4by3-xl.ts=1728308497596.png/content/adobe-cms/us/en/homepage/jcr:content/root/leadspace_container/leadspace_expanded\"></caem-video-player-container>\\r\\n\\r\\n                    \\r\\n                \\r\\n\\r\\n                \\r\\n            </div>\\r\\n        </div>\\r\\n        <div class=\"bx--col-lg-2 leadspace-expanded__column leadspace-expanded__column--aside\">\\r\\n            <div class=\"leadspace-expanded__column-inner\">\\r\\n                \\r\\n                    \\r\\n                \\r\\n\\r\\n                \\r\\n                    \\r\\n                        \\r\\n                            <dds-link-list class=\"newsfeed\">\\r\\n                                <dds-link-list-heading role=\"heading\" aria-level=\"4\" slot=\"heading\">\\r\\n                                    \\n\\n\\n  \\n  \\n      Latest news\\n  \\n\\n\\n\\n\\n    \\n\\n\\r\\n                                </dds-link-list-heading>\\r\\n                                \\r\\n                                \\r\\n                                    \\r\\n                                    \\r\\n                                        \\n\\n\\n    \\n    <caem-link-list-item cta-type=\"link\" href=\"https://newsroom.ibm.com/blog-ibm-granite-llm-now-available-through-the-generative-ai-hub-in-sap-ai-core\" aria-label=\"IBM Granite Now Available Through the Generative AI Hub in SAP AI Core\">\\n        <p>IBM Granite Now Available Through the Generative AI Hub in SAP AI Core</p>\\n        <dds-card-cta-footer href=\"https://newsroom.ibm.com/blog-ibm-granite-llm-now-available-through-the-generative-ai-hub-in-sap-ai-core\" cta-type=\"local\">\\n            <span slot=\"icon\" class=\"ibm_icon_arrowright_local bx--card__cta dds-ce--cta__icon\"></span>\\n        </dds-card-cta-footer>\\n    </caem-link-list-item>\\n    \\n    \\n\\n\\r\\n                                    \\r\\n                                \\r\\n                                    \\r\\n                                    \\r\\n                                        \\n\\n\\r\\n                                    \\r\\n                                \\r\\n                                    \\r\\n                                    \\r\\n                                        \\n\\n\\r\\n                                    \\r\\n                                \\r\\n                                    \\r\\n                                    \\r\\n                                        \\n\\n\\r\\n                                    \\r\\n                                \\r\\n                                \\r\\n                                    \\r\\n                                        \\n    <caem-link-list-item cta-type=\"link\" href=\"https://newsroom.ibm.com/2024-10-09-ibm-to-announce-third-quarter-2024-financial-results\" aria-label=\"IBM to Announce Third-Quarter 2024 Financial Results\">\\n        <p>IBM to Announce Third-Quarter 2024 Financial Results</p>\\n        <dds-card-cta-footer href=\"https://newsroom.ibm.com/2024-10-09-ibm-to-announce-third-quarter-2024-financial-results\" cta-type=\"local\" target=\"_self\">\\n            <span slot=\"icon\" class=\"ibm_icon_arrowright_local bx--card__cta dds-ce--cta__icon\"></span>\\n        </dds-card-cta-footer>\\n    </caem-link-list-item>\\n    \\n    \\n\\r\\n                                    \\r\\n                                \\r\\n                                    \\r\\n                                        \\n    <caem-link-list-item cta-type=\"link\" href=\"https://newsroom.ibm.com/2024-10-01-first-ibm-quantum-data-center-in-europe-opens-will-include-ibms-most-performant-quantum-systems\" aria-label=\"First IBM Quantum Data Center in Europe Opens; Will Include IBM&#39;s Most Performant Quantum Systems\">\\n        <p>First IBM Quantum Data Center in Europe Opens; Will Include IBM&#39;s Most Performant Quantum Systems</p>\\n        <dds-card-cta-footer href=\"https://newsroom.ibm.com/2024-10-01-first-ibm-quantum-data-center-in-europe-opens-will-include-ibms-most-performant-quantum-systems\" cta-type=\"local\" target=\"_self\">\\n            <span slot=\"icon\" class=\"ibm_icon_arrowright_local bx--card__cta dds-ce--cta__icon\"></span>\\n        </dds-card-cta-footer>\\n    </caem-link-list-item>\\n    \\n    \\n\\r\\n                                    \\r\\n                                \\r\\n                                    \\r\\n                                        \\n    <caem-link-list-item cta-type=\"link\" href=\"https://newsroom.ibm.com/2024-09-26-ibm-expands-quantum-data-center-in-poughkeepsie,-new-york-to-advance-algorithm-discovery-globally\" aria-label=\"IBM Expands Quantum Data Center in Poughkeepsie, New York to Advance Algorithm Discovery Globally\">\\n        <p>IBM Expands Quantum Data Center in Poughkeepsie, New York to Advance Algorithm Discovery Globally</p>\\n        <dds-card-cta-footer href=\"https://newsroom.ibm.com/2024-09-26-ibm-expands-quantum-data-center-in-poughkeepsie,-new-york-to-advance-algorithm-discovery-globally\" cta-type=\"local\" target=\"_self\">\\n            <span slot=\"icon\" class=\"ibm_icon_arrowright_local bx--card__cta dds-ce--cta__icon\"></span>\\n        </dds-card-cta-footer>\\n    </caem-link-list-item>\\n    \\n    \\n\\r\\n                                    \\r\\n                                \\r\\n                                    \\r\\n                                        \\n    <caem-link-list-item cta-type=\"link\" href=\"https://newsroom.ibm.com/2024-09-24-ey-and-apptio,-an-ibm-company,-to-deliver-joint-solutions-for-enterprise-technology-spend-visibility-and-management\" aria-label=\"EY and Apptio, an IBM Company, to Deliver Joint Solutions for Enterprise Technology Spend Visibility and Management\">\\n        <p>EY and Apptio, an IBM Company, to Deliver Joint Solutions for Enterprise Technology Spend Visibility and Management</p>\\n        <dds-card-cta-footer href=\"https://newsroom.ibm.com/2024-09-24-ey-and-apptio,-an-ibm-company,-to-deliver-joint-solutions-for-enterprise-technology-spend-visibility-and-management\" cta-type=\"local\" target=\"_self\">\\n            <span slot=\"icon\" class=\"ibm_icon_arrowright_local bx--card__cta dds-ce--cta__icon\"></span>\\n        </dds-card-cta-footer>\\n    </caem-link-list-item>\\n    \\n    \\n\\r\\n                                    \\r\\n                                \\r\\n                                    \\r\\n                                        \\n    <caem-link-list-item cta-type=\"link\" href=\"https://newsroom.ibm.com/2024-09-23-ibm-and-nasa-release-open-source-ai-model-on-hugging-face-for-weather-and-climate-applications\" aria-label=\"IBM and NASA Release Open-Source AI Model on Hugging Face for Weather and Climate Applications\">\\n        <p>IBM and NASA Release Open-Source AI Model on Hugging Face for Weather and Climate Applications</p>\\n        <dds-card-cta-footer href=\"https://newsroom.ibm.com/2024-09-23-ibm-and-nasa-release-open-source-ai-model-on-hugging-face-for-weather-and-climate-applications\" cta-type=\"local\" target=\"_self\">\\n            <span slot=\"icon\" class=\"ibm_icon_arrowright_local bx--card__cta dds-ce--cta__icon\"></span>\\n        </dds-card-cta-footer>\\n    </caem-link-list-item>\\n    \\n    \\n\\r\\n                                    \\r\\n                                \\r\\n                                    \\r\\n                                        \\n    <caem-link-list-item cta-type=\"link\" href=\"https://newsroom.ibm.com/2024-09-19-ibm-and-microsoft-open-three-new-experience-zones-to-provide-global-clients-with-more-hands-on-access-to-cloud-and-generative-ai-solutions\" aria-label=\"IBM and Microsoft Open Three New Experience Zones to Provide Global Clients with More Hands-on Access to Cloud and Generative AI Solutions\">\\n        <p>IBM and Microsoft Open Three New Experience Zones to Provide Global Clients with More Hands-on Access to Cloud and Generative AI Solutions</p>\\n        <dds-card-cta-footer href=\"https://newsroom.ibm.com/2024-09-19-ibm-and-microsoft-open-three-new-experience-zones-to-provide-global-clients-with-more-hands-on-access-to-cloud-and-generative-ai-solutions\" cta-type=\"local\" target=\"_self\">\\n            <span slot=\"icon\" class=\"ibm_icon_arrowright_local bx--card__cta dds-ce--cta__icon\"></span>\\n        </dds-card-cta-footer>\\n    </caem-link-list-item>\\n    \\n    \\n\\r\\n                                    \\r\\n                                \\r\\n                                    \\r\\n                                        \\n    <caem-link-list-item cta-type=\"link\" href=\"https://newsroom.ibm.com/2024-09-18-ibm-study-divergent-views-among-small-to-medium-sized-business-leaders-and-the-banks-that-serve-them-uncover-a-white-space-for-nimble-financial-institutions-to-compete-in-this-varied-market-segment\" aria-label=\"IBM Study: Divergent Views Among Small to Medium Sized Business Leaders and the Banks that Serve Them Uncover a White Space for Nimble Financial Institutions to Compete in this Varied Market Segment\">\\n        <p>IBM Study: Divergent Views Among Small to Medium Sized Business Leaders and the Banks that Serve Them Uncover a White Space for Nimble Financial Institutions to Compete in this Varied Market Segment</p>\\n        <dds-card-cta-footer href=\"https://newsroom.ibm.com/2024-09-18-ibm-study-divergent-views-among-small-to-medium-sized-business-leaders-and-the-banks-that-serve-them-uncover-a-white-space-for-nimble-financial-institutions-to-compete-in-this-varied-market-segment\" cta-type=\"local\" target=\"_self\">\\n            <span slot=\"icon\" class=\"ibm_icon_arrowright_local bx--card__cta dds-ce--cta__icon\"></span>\\n        </dds-card-cta-footer>\\n    </caem-link-list-item>\\n    \\n    \\n\\r\\n                                    \\r\\n                                \\r\\n                                \\r\\n                            </dds-link-list>\\r\\n                        \\r\\n                    \\r\\n                \\r\\n            </div>\\r\\n        </div>\\r\\n    </div>\\r\\n</section></div>\\n\\n        \\n    </div>\\n\\n</div>\\n<div class=\"table-of-contents container responsivegrid\">\\n<dds-table-of-contents data-cmp-is=\"table-of-contents\" data-autoid=\"dds--table-of-contents\" class=\"cmp-table-of-contents\" stickyoffset=\"48\" toc-layout=\"horizontal\" toc-hide=\"hidden\">\\n    \\n    \\n    <div id=\"table-of-contents-b422012d4b\" class=\"cmp-table-of-contents\">\\n        \\n        <div class=\"modular-container container responsivegrid\">\\n\\n    \\n    \\n    \\n    <div id=\"modular-container-253180b30f\" class=\"cmp-container\">\\n        \\n        <div class=\"standalone-title enhanced-title text\">\\r\\n\\r\\n\\n  \\n\\r\\n<caem-heading type=\"h5\">Recommended for you<br /></caem-heading>\\r\\n\\n    \\n\\r\\n</div>\\n\\n        \\n    </div>\\n\\n</div>\\n<div class=\"tile-group-container container responsivegrid\">\\n  <div class=\"bx--col\">\\n    \\r\\n\\r\\n\\n  \\n\\r\\n<caem-heading type=\"h2\"></caem-heading>\\r\\n\\n    \\n\\r\\n\\n    <caem-tile-group>\\n      \\n\\n    \\r\\n    \\n    <caem-tile label=\"AI Academy\" cta-type=\"local\" href=\"https://www.ibm.com/think/videos/generative-ai-for-data-management?lnk=hpUSrc1\" target=\"_self\">\\n        \\n        \\n            \\n\\n\\n\\n\\n\\n    \\n    \\n        \\n        \\n        \\n        \\n        \\n        <dds-image id=\"image--1773978476\" alt=\"Two AI academy experts on generative AI\" slot=\"image\" default-src=\"/content/dam/connectedassets-adobe-cms/worldwide-content/creative-assets/s-migr/ul/g/e0/0e/ai-academy-data-management.component.tile-card-xl.ts=1728308499248.png/content/adobe-cms/us/en/homepage/jcr:content/root/table_of_contents/tile_group_container_1662354541/container/tile_card_2026675993/image\" class=\"\">\\n            \\n            \\n                \\n                    \\n    <dds-image-item media=\"(min-width: 1312px) and (min-resolution: 192dpi)\" srcset=\"/content/dam/connectedassets-adobe-cms/worldwide-content/creative-assets/s-migr/ul/g/e0/0e/ai-academy-data-management.component.tile-card-xl-retina.ts=1728308499248.png/content/adobe-cms/us/en/homepage/jcr:content/root/table_of_contents/tile_group_container_1662354541/container/tile_card_2026675993/image\"></dds-image-item>\\n    <dds-image-item media=\"(min-width: 1312px)\" srcset=\"/content/dam/connectedassets-adobe-cms/worldwide-content/creative-assets/s-migr/ul/g/e0/0e/ai-academy-data-management.component.tile-card-xl.ts=1728308499248.png/content/adobe-cms/us/en/homepage/jcr:content/root/table_of_contents/tile_group_container_1662354541/container/tile_card_2026675993/image\"></dds-image-item>\\n    <dds-image-item media=\"(min-width: 1056px) and (min-resolution: 192dpi)\" srcset=\"/content/dam/connectedassets-adobe-cms/worldwide-content/creative-assets/s-migr/ul/g/e0/0e/ai-academy-data-management.component.tile-card-l-retina.ts=1728308499248.png/content/adobe-cms/us/en/homepage/jcr:content/root/table_of_contents/tile_group_container_1662354541/container/tile_card_2026675993/image\"></dds-image-item>\\n    <dds-image-item media=\"(min-width: 1056px)\" srcset=\"/content/dam/connectedassets-adobe-cms/worldwide-content/creative-assets/s-migr/ul/g/e0/0e/ai-academy-data-management.component.tile-card-l.ts=1728308499248.png/content/adobe-cms/us/en/homepage/jcr:content/root/table_of_contents/tile_group_container_1662354541/container/tile_card_2026675993/image\"></dds-image-item>\\n    <dds-image-item media=\"(min-width: 672px) and (min-resolution: 192dpi)\" srcset=\"/content/dam/connectedassets-adobe-cms/worldwide-content/creative-assets/s-migr/ul/g/e0/0e/ai-academy-data-management.component.tile-card-m-retina.ts=1728308499248.png/content/adobe-cms/us/en/homepage/jcr:content/root/table_of_contents/tile_group_container_1662354541/container/tile_card_2026675993/image\"></dds-image-item>\\n    <dds-image-item media=\"(min-width: 672px)\" srcset=\"/content/dam/connectedassets-adobe-cms/worldwide-content/creative-assets/s-migr/ul/g/e0/0e/ai-academy-data-management.component.tile-card-m.ts=1728308499248.png/content/adobe-cms/us/en/homepage/jcr:content/root/table_of_contents/tile_group_container_1662354541/container/tile_card_2026675993/image\"></dds-image-item>\\n    <dds-image-item media=\"(min-width: 481px) and (min-resolution: 192dpi)\" srcset=\"/content/dam/connectedassets-adobe-cms/worldwide-content/creative-assets/s-migr/ul/g/e0/0e/ai-academy-data-management.component.tile-card-s-retina.ts=1728308499248.png/content/adobe-cms/us/en/homepage/jcr:content/root/table_of_contents/tile_group_container_1662354541/container/tile_card_2026675993/image\"></dds-image-item>\\n    <dds-image-item media=\"(min-width: 481px)\" srcset=\"/content/dam/connectedassets-adobe-cms/worldwide-content/creative-assets/s-migr/ul/g/e0/0e/ai-academy-data-management.component.tile-card-s.ts=1728308499248.png/content/adobe-cms/us/en/homepage/jcr:content/root/table_of_contents/tile_group_container_1662354541/container/tile_card_2026675993/image\"></dds-image-item>\\n    <dds-image-item media=\"(max-width: 480px) and (min-resolution: 192dpi)\" srcset=\"/content/dam/connectedassets-adobe-cms/worldwide-content/creative-assets/s-migr/ul/g/e0/0e/ai-academy-data-management.component.tile-card-xs-retina.ts=1728308499248.png/content/adobe-cms/us/en/homepage/jcr:content/root/table_of_contents/tile_group_container_1662354541/container/tile_card_2026675993/image\"></dds-image-item>\\n    <dds-image-item media=\"(max-width: 480px)\" srcset=\"/content/dam/connectedassets-adobe-cms/worldwide-content/creative-assets/s-migr/ul/g/e0/0e/ai-academy-data-management.component.tile-card-xs.ts=1728308499248.png/content/adobe-cms/us/en/homepage/jcr:content/root/table_of_contents/tile_group_container_1662354541/container/tile_card_2026675993/image\"></dds-image-item>\\n    \\n\\n                    \\n                \\n            \\n        </dds-image>\\n    \\n\\n    \\n    \\n\\n\\n\\n        \\n        \\n    \\n\\n        See the secret to generative AI\\n        \\n    \\n\\n\\n\\n    \\n\\n\\n\\n        <p slot=\"cta\">\\n            \\n        </p>\\n\\n    </caem-tile>\\n\\n    <div class=\"caem-card-svg-source\" hidden>\\n        <svg xmlns=\"http://www.w3.org/2000/svg\" id=\"accelerated-computing\" viewBox=\"0 0 32 32\"><path d=\"M19,29.36c-3.401,0-6.596-1.506-8.764-4.131l0.556-0.459c2.03,2.459,5.022,3.869,8.208,3.869 c5.867,0,10.64-4.772,10.64-10.64c0-5.867-4.772-10.64-10.64-10.64c-3.186,0-6.177,1.411-8.208,3.87l-0.555-0.459 c2.091-2.532,5.137-4.022,8.403-4.125V5.36H16c-0.199,0-0.36-0.161-0.36-0.36V3c0-0.199,0.161-0.36,0.36-0.36h6 c0.199,0,0.36,0.161,0.36,0.36v2c0,0.199-0.161,0.36-0.36,0.36h-2.64v1.286c6.098,0.191,11,5.211,11,11.354 C30.36,24.264,25.264,29.36,19,29.36z M16.36,4.64h5.28V3.36h-5.28V4.64z M14,23.36H4v-0.72h10V23.36z M12,18.36H2v-0.72h10V18.36z M19.179,18.312l-0.357-0.625l7-4l0.357,0.625L19.179,18.312z M14,13.36H4v-0.72h10V13.36z\"/></svg>\\n    </div>\\n    \\n    \\n\\n\\r\\n\\r\\n\\n\\n    \\r\\n    \\n    <caem-tile label=\"watsonx.data\" cta-type=\"local\" href=\"https://www.ibm.com/products/watsonx-data?lnk=hpUSrc2\" target=\"_self\">\\n        \\n        \\n            \\n\\n\\n\\n\\n\\n    \\n    \\n        \\n        \\n        \\n        \\n        \\n        <dds-image id=\"image--504210012\" alt=\"A watsonx.data UI screen\" slot=\"image\" default-src=\"/content/dam/connectedassets-adobe-cms/worldwide-content/cdp/cf/ul/g/b0/87/watsonxdata-semantic-automation.component.tile-card-xl.ts=1728308499425.png/content/adobe-cms/us/en/homepage/jcr:content/root/table_of_contents/tile_group_container_1662354541/container/tile_card/image\" class=\"\">\\n            \\n            \\n                \\n                    \\n    <dds-image-item media=\"(min-width: 1312px) and (min-resolution: 192dpi)\" srcset=\"/content/dam/connectedassets-adobe-cms/worldwide-content/cdp/cf/ul/g/b0/87/watsonxdata-semantic-automation.component.tile-card-xl-retina.ts=1728308499425.png/content/adobe-cms/us/en/homepage/jcr:content/root/table_of_contents/tile_group_container_1662354541/container/tile_card/image\"></dds-image-item>\\n    <dds-image-item media=\"(min-width: 1312px)\" srcset=\"/content/dam/connectedassets-adobe-cms/worldwide-content/cdp/cf/ul/g/b0/87/watsonxdata-semantic-automation.component.tile-card-xl.ts=1728308499425.png/content/adobe-cms/us/en/homepage/jcr:content/root/table_of_contents/tile_group_container_1662354541/container/tile_card/image\"></dds-image-item>\\n    <dds-image-item media=\"(min-width: 1056px) and (min-resolution: 192dpi)\" srcset=\"/content/dam/connectedassets-adobe-cms/worldwide-content/cdp/cf/ul/g/b0/87/watsonxdata-semantic-automation.component.tile-card-l-retina.ts=1728308499425.png/content/adobe-cms/us/en/homepage/jcr:content/root/table_of_contents/tile_group_container_1662354541/container/tile_card/image\"></dds-image-item>\\n    <dds-image-item media=\"(min-width: 1056px)\" srcset=\"/content/dam/connectedassets-adobe-cms/worldwide-content/cdp/cf/ul/g/b0/87/watsonxdata-semantic-automation.component.tile-card-l.ts=1728308499425.png/content/adobe-cms/us/en/homepage/jcr:content/root/table_of_contents/tile_group_container_1662354541/container/tile_card/image\"></dds-image-item>\\n    <dds-image-item media=\"(min-width: 672px) and (min-resolution: 192dpi)\" srcset=\"/content/dam/connectedassets-adobe-cms/worldwide-content/cdp/cf/ul/g/b0/87/watsonxdata-semantic-automation.component.tile-card-m-retina.ts=1728308499425.png/content/adobe-cms/us/en/homepage/jcr:content/root/table_of_contents/tile_group_container_1662354541/container/tile_card/image\"></dds-image-item>\\n    <dds-image-item media=\"(min-width: 672px)\" srcset=\"/content/dam/connectedassets-adobe-cms/worldwide-content/cdp/cf/ul/g/b0/87/watsonxdata-semantic-automation.component.tile-card-m.ts=1728308499425.png/content/adobe-cms/us/en/homepage/jcr:content/root/table_of_contents/tile_group_container_1662354541/container/tile_card/image\"></dds-image-item>\\n    <dds-image-item media=\"(min-width: 481px) and (min-resolution: 192dpi)\" srcset=\"/content/dam/connectedassets-adobe-cms/worldwide-content/cdp/cf/ul/g/b0/87/watsonxdata-semantic-automation.component.tile-card-s-retina.ts=1728308499425.png/content/adobe-cms/us/en/homepage/jcr:content/root/table_of_contents/tile_group_container_1662354541/container/tile_card/image\"></dds-image-item>\\n    <dds-image-item media=\"(min-width: 481px)\" srcset=\"/content/dam/connectedassets-adobe-cms/worldwide-content/cdp/cf/ul/g/b0/87/watsonxdata-semantic-automation.component.tile-card-s.ts=1728308499425.png/content/adobe-cms/us/en/homepage/jcr:content/root/table_of_contents/tile_group_container_1662354541/container/tile_card/image\"></dds-image-item>\\n    <dds-image-item media=\"(max-width: 480px) and (min-resolution: 192dpi)\" srcset=\"/content/dam/connectedassets-adobe-cms/worldwide-content/cdp/cf/ul/g/b0/87/watsonxdata-semantic-automation.component.tile-card-xs-retina.ts=1728308499425.png/content/adobe-cms/us/en/homepage/jcr:content/root/table_of_contents/tile_group_container_1662354541/container/tile_card/image\"></dds-image-item>\\n    <dds-image-item media=\"(max-width: 480px)\" srcset=\"/content/dam/connectedassets-adobe-cms/worldwide-content/cdp/cf/ul/g/b0/87/watsonxdata-semantic-automation.component.tile-card-xs.ts=1728308499425.png/content/adobe-cms/us/en/homepage/jcr:content/root/table_of_contents/tile_group_container_1662354541/container/tile_card/image\"></dds-image-item>\\n    \\n\\n                    \\n                \\n            \\n        </dds-image>\\n    \\n\\n    \\n    \\n\\n\\n\\n        \\n        \\n    \\n\\n        Simplify data using AI\\n        \\n    \\n\\n\\n\\n    \\n\\n\\n\\n        <p slot=\"cta\">\\n            \\n        </p>\\n\\n    </caem-tile>\\n\\n    <div class=\"caem-card-svg-source\" hidden>\\n        <svg xmlns=\"http://www.w3.org/2000/svg\" id=\"accelerated-computing\" viewBox=\"0 0 32 32\"><path d=\"M19,29.36c-3.401,0-6.596-1.506-8.764-4.131l0.556-0.459c2.03,2.459,5.022,3.869,8.208,3.869 c5.867,0,10.64-4.772,10.64-10.64c0-5.867-4.772-10.64-10.64-10.64c-3.186,0-6.177,1.411-8.208,3.87l-0.555-0.459 c2.091-2.532,5.137-4.022,8.403-4.125V5.36H16c-0.199,0-0.36-0.161-0.36-0.36V3c0-0.199,0.161-0.36,0.36-0.36h6 c0.199,0,0.36,0.161,0.36,0.36v2c0,0.199-0.161,0.36-0.36,0.36h-2.64v1.286c6.098,0.191,11,5.211,11,11.354 C30.36,24.264,25.264,29.36,19,29.36z M16.36,4.64h5.28V3.36h-5.28V4.64z M14,23.36H4v-0.72h10V23.36z M12,18.36H2v-0.72h10V18.36z M19.179,18.312l-0.357-0.625l7-4l0.357,0.625L19.179,18.312z M14,13.36H4v-0.72h10V13.36z\"/></svg>\\n    </div>\\n    \\n    \\n\\n\\r\\n\\r\\n\\n\\n    \\r\\n    \\n    <caem-tile label=\"Podcast\" cta-type=\"local\" href=\"https://www.ibm.com/think/podcasts/ai-in-action/data-not-gut-how-to-win-at-fantasy-football?lnk=hpUSrc3\" target=\"_self\">\\n        \\n        \\n            \\n\\n\\n\\n\\n\\n    \\n    \\n        \\n        \\n        \\n        \\n        \\n        <dds-image id=\"image--1031071656\" alt=\"Circular illustration with elements of sustainability\" slot=\"image\" default-src=\"/content/dam/connectedassets-adobe-cms/worldwide-content/creative-assets/sne/ul/g/93/68/ibm_fantasy_football_supporting_a_4k_04.component.tile-card-xl.ts=1728308499610.jpg/content/adobe-cms/us/en/homepage/jcr:content/root/table_of_contents/tile_group_container_1662354541/container/tile_card_734954344/image\" class=\"\">\\n            \\n            \\n                \\n                    \\n    <dds-image-item media=\"(min-width: 1312px) and (min-resolution: 192dpi)\" srcset=\"/content/dam/connectedassets-adobe-cms/worldwide-content/creative-assets/sne/ul/g/93/68/ibm_fantasy_football_supporting_a_4k_04.component.tile-card-xl-retina.ts=1728308499610.jpg/content/adobe-cms/us/en/homepage/jcr:content/root/table_of_contents/tile_group_container_1662354541/container/tile_card_734954344/image\"></dds-image-item>\\n    <dds-image-item media=\"(min-width: 1312px)\" srcset=\"/content/dam/connectedassets-adobe-cms/worldwide-content/creative-assets/sne/ul/g/93/68/ibm_fantasy_football_supporting_a_4k_04.component.tile-card-xl.ts=1728308499610.jpg/content/adobe-cms/us/en/homepage/jcr:content/root/table_of_contents/tile_group_container_1662354541/container/tile_card_734954344/image\"></dds-image-item>\\n    <dds-image-item media=\"(min-width: 1056px) and (min-resolution: 192dpi)\" srcset=\"/content/dam/connectedassets-adobe-cms/worldwide-content/creative-assets/sne/ul/g/93/68/ibm_fantasy_football_supporting_a_4k_04.component.tile-card-l-retina.ts=1728308499610.jpg/content/adobe-cms/us/en/homepage/jcr:content/root/table_of_contents/tile_group_container_1662354541/container/tile_card_734954344/image\"></dds-image-item>\\n    <dds-image-item media=\"(min-width: 1056px)\" srcset=\"/content/dam/connectedassets-adobe-cms/worldwide-content/creative-assets/sne/ul/g/93/68/ibm_fantasy_football_supporting_a_4k_04.component.tile-card-l.ts=1728308499610.jpg/content/adobe-cms/us/en/homepage/jcr:content/root/table_of_contents/tile_group_container_1662354541/container/tile_card_734954344/image\"></dds-image-item>\\n    <dds-image-item media=\"(min-width: 672px) and (min-resolution: 192dpi)\" srcset=\"/content/dam/connectedassets-adobe-cms/worldwide-content/creative-assets/sne/ul/g/93/68/ibm_fantasy_football_supporting_a_4k_04.component.tile-card-m-retina.ts=1728308499610.jpg/content/adobe-cms/us/en/homepage/jcr:content/root/table_of_contents/tile_group_container_1662354541/container/tile_card_734954344/image\"></dds-image-item>\\n    <dds-image-item media=\"(min-width: 672px)\" srcset=\"/content/dam/connectedassets-adobe-cms/worldwide-content/creative-assets/sne/ul/g/93/68/ibm_fantasy_football_supporting_a_4k_04.component.tile-card-m.ts=1728308499610.jpg/content/adobe-cms/us/en/homepage/jcr:content/root/table_of_contents/tile_group_container_1662354541/container/tile_card_734954344/image\"></dds-image-item>\\n    <dds-image-item media=\"(min-width: 481px) and (min-resolution: 192dpi)\" srcset=\"/content/dam/connectedassets-adobe-cms/worldwide-content/creative-assets/sne/ul/g/93/68/ibm_fantasy_football_supporting_a_4k_04.component.tile-card-s-retina.ts=1728308499610.jpg/content/adobe-cms/us/en/homepage/jcr:content/root/table_of_contents/tile_group_container_1662354541/container/tile_card_734954344/image\"></dds-image-item>\\n    <dds-image-item media=\"(min-width: 481px)\" srcset=\"/content/dam/connectedassets-adobe-cms/worldwide-content/creative-assets/sne/ul/g/93/68/ibm_fantasy_football_supporting_a_4k_04.component.tile-card-s.ts=1728308499610.jpg/content/adobe-cms/us/en/homepage/jcr:content/root/table_of_contents/tile_group_container_1662354541/container/tile_card_734954344/image\"></dds-image-item>\\n    <dds-image-item media=\"(max-width: 480px) and (min-resolution: 192dpi)\" srcset=\"/content/dam/connectedassets-adobe-cms/worldwide-content/creative-assets/sne/ul/g/93/68/ibm_fantasy_football_supporting_a_4k_04.component.tile-card-xs-retina.ts=1728308499610.jpg/content/adobe-cms/us/en/homepage/jcr:content/root/table_of_contents/tile_group_container_1662354541/container/tile_card_734954344/image\"></dds-image-item>\\n    <dds-image-item media=\"(max-width: 480px)\" srcset=\"/content/dam/connectedassets-adobe-cms/worldwide-content/creative-assets/sne/ul/g/93/68/ibm_fantasy_football_supporting_a_4k_04.component.tile-card-xs.ts=1728308499610.jpg/content/adobe-cms/us/en/homepage/jcr:content/root/table_of_contents/tile_group_container_1662354541/container/tile_card_734954344/image\"></dds-image-item>\\n    \\n\\n                    \\n                \\n            \\n        </dds-image>\\n    \\n\\n    \\n    \\n\\n\\n\\n        \\n        \\n    \\n\\n        In Fantasy Football, use data over instinct\\n        \\n    \\n\\n\\n\\n    \\n\\n\\n\\n        <p slot=\"cta\">\\n            \\n        </p>\\n\\n    </caem-tile>\\n\\n    <div class=\"caem-card-svg-source\" hidden>\\n        <svg xmlns=\"http://www.w3.org/2000/svg\" id=\"accelerated-computing\" viewBox=\"0 0 32 32\"><path d=\"M19,29.36c-3.401,0-6.596-1.506-8.764-4.131l0.556-0.459c2.03,2.459,5.022,3.869,8.208,3.869 c5.867,0,10.64-4.772,10.64-10.64c0-5.867-4.772-10.64-10.64-10.64c-3.186,0-6.177,1.411-8.208,3.87l-0.555-0.459 c2.091-2.532,5.137-4.022,8.403-4.125V5.36H16c-0.199,0-0.36-0.161-0.36-0.36V3c0-0.199,0.161-0.36,0.36-0.36h6 c0.199,0,0.36,0.161,0.36,0.36v2c0,0.199-0.161,0.36-0.36,0.36h-2.64v1.286c6.098,0.191,11,5.211,11,11.354 C30.36,24.264,25.264,29.36,19,29.36z M16.36,4.64h5.28V3.36h-5.28V4.64z M14,23.36H4v-0.72h10V23.36z M12,18.36H2v-0.72h10V18.36z M19.179,18.312l-0.357-0.625l7-4l0.357,0.625L19.179,18.312z M14,13.36H4v-0.72h10V13.36z\"/></svg>\\n    </div>\\n    \\n    \\n\\n\\r\\n\\r\\n\\n\\n    \\r\\n    \\n    <caem-tile label=\"IBM Consulting\" cta-type=\"local\" href=\"https://www.ibm.com/consulting/analytics?lnk=hpUSrc4\" target=\"_self\">\\n        \\n        \\n            \\n\\n\\n\\n\\n\\n    \\n    \\n        \\n        \\n        \\n        \\n        \\n        <dds-image id=\"image--1140056554\" alt=\"Two people working on a project together\" slot=\"image\" default-src=\"/content/dam/connectedassets-adobe-cms/worldwide-content/creative-assets/s-migr/ul/g/24/45/data-analytics-consulting.component.tile-card-xl.ts=1728308499795.png/content/adobe-cms/us/en/homepage/jcr:content/root/table_of_contents/tile_group_container_1662354541/container/tile_card_964526575/image\" class=\"\">\\n            \\n            \\n                \\n                    \\n    <dds-image-item media=\"(min-width: 1312px) and (min-resolution: 192dpi)\" srcset=\"/content/dam/connectedassets-adobe-cms/worldwide-content/creative-assets/s-migr/ul/g/24/45/data-analytics-consulting.component.tile-card-xl-retina.ts=1728308499795.png/content/adobe-cms/us/en/homepage/jcr:content/root/table_of_contents/tile_group_container_1662354541/container/tile_card_964526575/image\"></dds-image-item>\\n    <dds-image-item media=\"(min-width: 1312px)\" srcset=\"/content/dam/connectedassets-adobe-cms/worldwide-content/creative-assets/s-migr/ul/g/24/45/data-analytics-consulting.component.tile-card-xl.ts=1728308499795.png/content/adobe-cms/us/en/homepage/jcr:content/root/table_of_contents/tile_group_container_1662354541/container/tile_card_964526575/image\"></dds-image-item>\\n    <dds-image-item media=\"(min-width: 1056px) and (min-resolution: 192dpi)\" srcset=\"/content/dam/connectedassets-adobe-cms/worldwide-content/creative-assets/s-migr/ul/g/24/45/data-analytics-consulting.component.tile-card-l-retina.ts=1728308499795.png/content/adobe-cms/us/en/homepage/jcr:content/root/table_of_contents/tile_group_container_1662354541/container/tile_card_964526575/image\"></dds-image-item>\\n    <dds-image-item media=\"(min-width: 1056px)\" srcset=\"/content/dam/connectedassets-adobe-cms/worldwide-content/creative-assets/s-migr/ul/g/24/45/data-analytics-consulting.component.tile-card-l.ts=1728308499795.png/content/adobe-cms/us/en/homepage/jcr:content/root/table_of_contents/tile_group_container_1662354541/container/tile_card_964526575/image\"></dds-image-item>\\n    <dds-image-item media=\"(min-width: 672px) and (min-resolution: 192dpi)\" srcset=\"/content/dam/connectedassets-adobe-cms/worldwide-content/creative-assets/s-migr/ul/g/24/45/data-analytics-consulting.component.tile-card-m-retina.ts=1728308499795.png/content/adobe-cms/us/en/homepage/jcr:content/root/table_of_contents/tile_group_container_1662354541/container/tile_card_964526575/image\"></dds-image-item>\\n    <dds-image-item media=\"(min-width: 672px)\" srcset=\"/content/dam/connectedassets-adobe-cms/worldwide-content/creative-assets/s-migr/ul/g/24/45/data-analytics-consulting.component.tile-card-m.ts=1728308499795.png/content/adobe-cms/us/en/homepage/jcr:content/root/table_of_contents/tile_group_container_1662354541/container/tile_card_964526575/image\"></dds-image-item>\\n    <dds-image-item media=\"(min-width: 481px) and (min-resolution: 192dpi)\" srcset=\"/content/dam/connectedassets-adobe-cms/worldwide-content/creative-assets/s-migr/ul/g/24/45/data-analytics-consulting.component.tile-card-s-retina.ts=1728308499795.png/content/adobe-cms/us/en/homepage/jcr:content/root/table_of_contents/tile_group_container_1662354541/container/tile_card_964526575/image\"></dds-image-item>\\n    <dds-image-item media=\"(min-width: 481px)\" srcset=\"/content/dam/connectedassets-adobe-cms/worldwide-content/creative-assets/s-migr/ul/g/24/45/data-analytics-consulting.component.tile-card-s.ts=1728308499795.png/content/adobe-cms/us/en/homepage/jcr:content/root/table_of_contents/tile_group_container_1662354541/container/tile_card_964526575/image\"></dds-image-item>\\n    <dds-image-item media=\"(max-width: 480px) and (min-resolution: 192dpi)\" srcset=\"/content/dam/connectedassets-adobe-cms/worldwide-content/creative-assets/s-migr/ul/g/24/45/data-analytics-consulting.component.tile-card-xs-retina.ts=1728308499795.png/content/adobe-cms/us/en/homepage/jcr:content/root/table_of_contents/tile_group_container_1662354541/container/tile_card_964526575/image\"></dds-image-item>\\n    <dds-image-item media=\"(max-width: 480px)\" srcset=\"/content/dam/connectedassets-adobe-cms/worldwide-content/creative-assets/s-migr/ul/g/24/45/data-analytics-consulting.component.tile-card-xs.ts=1728308499795.png/content/adobe-cms/us/en/homepage/jcr:content/root/table_of_contents/tile_group_container_1662354541/container/tile_card_964526575/image\"></dds-image-item>\\n    \\n\\n                    \\n                \\n            \\n        </dds-image>\\n    \\n\\n    \\n    \\n\\n\\n\\n        \\n        \\n    \\n\\n        Unlock value with data consulting\\n        \\n    \\n\\n\\n\\n    \\n\\n\\n\\n        <p slot=\"cta\">\\n            \\n        </p>\\n\\n    </caem-tile>\\n\\n    <div class=\"caem-card-svg-source\" hidden>\\n        <svg xmlns=\"http://www.w3.org/2000/svg\" id=\"accelerated-computing\" viewBox=\"0 0 32 32\"><path d=\"M19,29.36c-3.401,0-6.596-1.506-8.764-4.131l0.556-0.459c2.03,2.459,5.022,3.869,8.208,3.869 c5.867,0,10.64-4.772,10.64-10.64c0-5.867-4.772-10.64-10.64-10.64c-3.186,0-6.177,1.411-8.208,3.87l-0.555-0.459 c2.091-2.532,5.137-4.022,8.403-4.125V5.36H16c-0.199,0-0.36-0.161-0.36-0.36V3c0-0.199,0.161-0.36,0.36-0.36h6 c0.199,0,0.36,0.161,0.36,0.36v2c0,0.199-0.161,0.36-0.36,0.36h-2.64v1.286c6.098,0.191,11,5.211,11,11.354 C30.36,24.264,25.264,29.36,19,29.36z M16.36,4.64h5.28V3.36h-5.28V4.64z M14,23.36H4v-0.72h10V23.36z M12,18.36H2v-0.72h10V18.36z M19.179,18.312l-0.357-0.625l7-4l0.357,0.625L19.179,18.312z M14,13.36H4v-0.72h10V13.36z\"/></svg>\\n    </div>\\n    \\n    \\n\\n\\r\\n\\r\\n\\n\\n\\n\\n\\n    </caem-tile-group>\\n  </div>\\n\\n\\n\\n</div>\\n<div class=\"intro-section\">\\n<div class=\"bx--col\">\\n    <caem-intro-section>\\n\\n        <caem-heading slot=\"heading\" type=\"h2\" type-style=\"expressive-heading-05\" data-autoid=\"caem-heading\">\\n            \\n\\n\\n\\n  \\n    Technology and services\\n\\n\\n\\n\\n\\n\\n    \\n\\n\\n        </caem-heading>\\n\\n        <caem-paragraph size=\"lead-in\" data-autoid=\"caem--paragraph\">\\n            <div class=\"cms-richtext \" id=\"rich-text-c26afb5940\" data-dynamic-inner-content=\"description\">\\n    <p>From\\xa0<a href=\"https://www.ibm.com/artificial-intelligence\">next-generation AI</a>\\xa0to cutting edge\\xa0<a href=\"https://www.ibm.com/hybrid-cloud?lnk&#61;hpUSbt1\">hybrid cloud solutions</a>\\xa0to the deep expertise of\\xa0<a href=\"https://www.ibm.com/consulting\">IBM Consulting</a>, IBM has what it takes to help businesses reinvent how they work in the age of AI.</p>\\r\\n \\n    \\n    \\n    \\n    \\n\\n</div>\\n        </caem-paragraph>\\n\\n        \\n\\n        \\n            <caem-button-group>\\n                \\n                    \\n                    \\n\\n\\n\\n\\n\\n\\n    \\n    \\n    \\n    \\n    \\n    <caem-button-cta href=\"https://www.ibm.com/products/offers-and-discounts?lnk=hpUSbt1\" target=\"_self\" kind=\"primary\" cta-type=\"local\">\\n        <span>Save on select IBM products today</span>\\n        \\n        \\n    </caem-button-cta>\\n    \\n    \\n\\n\\n    \\n    \\n    \\n    \\n    \\n    \\n    \\n    \\n\\n\\n\\n \\n \\n                \\n            </caem-button-group>\\n        \\n\\n    </caem-intro-section>\\n</div>\\n\\n\\n\\n\\n\\n\\n\\n</div>\\n<div class=\"card-group-pictogram-full-width card-group-pictogram themed-block theme-g10\">\\n    <div class=\"bx--content-block\">\\n        \\n\\n        \\n        \\n            \\n                <caem-card-group grid-mode=\"border\" cards-per-row=\"4\" data-autoid=\"dds--card-group\" style=\"--dds--card-group--cards-in-row:4\" class=\"themed-pictogram themed-pictogram--blue-teal-gradient\">\\n                    \\n\\n    \\n    \\n    \\n    \\n    \\n        \\n            \\n            \\n            <caem-card color-scheme cta-type=\"local\" data-autoid=\"caem--card\" href=\"https://www.ibm.com/artificial-intelligence?lnk=ProdC\" target=\"_self\" pictogram-placement=\"bottom\" size>\\n                <caem-card-heading aria-level=\"3\" data-autoid=\"caem--card-heading\" role=\"heading\" slot=\"heading\">\\n                    \\n                    AI solutions</caem-card-heading>\\n                <svg slot=\"pictogram\" class=\"bx--card__pictogram\" style=\"--colorized-background:url(\\'#g3\\'); fill: var(--colorized-background)\" data-autoid=\"caem--card__pictogram\" focusable=\"false\" height=\"48\" width=\"48\" role=\"img\">\\n                    <use href=\"#ai\"></use>\\n                </svg>\\n                <p>Go from AI pilots to production with AI technologies built for business</p>\\n                <caem-card-cta-footer color-scheme target=\"_self\" cta-type=\"local\" data-autoid=\"caem--card-cta-footer\" href=\"https://www.ibm.com/artificial-intelligence?lnk=ProdC\" icon-placement=\"right\" parent-href=\"https://www.ibm.com/artificial-intelligence?lnk=ProdC\" slot=\"footer\">\\n                    \\n                </caem-card-cta-footer>\\n                <div class=\"caem-card-svg-source\">\\n                    <svg xmlns=\"http://www.w3.org/2000/svg\" id=\"ai\" viewBox=\"0 0 32 32\"><path d=\"M16.195,31.36c-6.421,0-12.169-4.007-14.399-10.002 C1.051,21.408,0.373,20.771,0.372,20c0-0.75,0.61-1.36,1.36-1.36s1.36,0.61,1.36,1.36c0,0.474-0.243,0.892-0.611,1.135 c2.133,5.698,7.604,9.505,13.714,9.505c6.446,0,11.919-4.301,13.773-10.22c-1.448,2.06-3.877,3.44-6.565,3.44 c-3.822,0-7.066-2.785-7.664-6.525C15.113,17.212,14.64,16.661,14.64,16c0-0.584,0.37-1.083,0.888-1.275 c-0.608-3.421-3.615-5.962-7.125-5.962c-3.947,0-7.04,3.176-7.042,7.231c0,0.002,0,0.004,0,0.006H0.64c0-0.002,0-0.004,0-0.007 C0.644,7.526,7.445,0.64,15.805,0.64c6.42,0,12.168,4.006,14.399,10.001c0.777-0.034,1.425,0.587,1.425,1.358 c0,0.75-0.61,1.36-1.36,1.36s-1.36-0.61-1.36-1.36c0-0.473,0.243-0.891,0.611-1.135C27.387,5.166,21.916,1.36,15.805,1.36 c-6.319,0-11.704,4.134-13.659,9.873c1.402-1.949,3.662-3.19,6.256-3.19c3.881,0,7.204,2.826,7.846,6.62 C16.88,14.779,17.36,15.335,17.36,16c0,0.589-0.376,1.092-0.901,1.28c0.567,3.363,3.496,5.859,6.943,5.859 c3.857,0,7.127-3.118,7.235-6.851c0.001-0.096,0.002-0.192,0.002-0.289h0.721c0,0.033,0,0.065-0.001,0.098h0.001 c0,0.069-0.001,0.138-0.003,0.207C31.196,24.634,24.456,31.36,16.195,31.36z M1.732,19.36c-0.353,0-0.64,0.287-0.64,0.64 s0.287,0.64,0.64,0.64s0.64-0.287,0.64-0.64S2.085,19.36,1.732,19.36z M16,15.36c-0.353,0-0.64,0.287-0.64,0.64 s0.287,0.64,0.64,0.64s0.64-0.287,0.64-0.64S16.353,15.36,16,15.36z M30.269,11.36c-0.353,0-0.64,0.287-0.64,0.64 s0.287,0.64,0.64,0.64s0.64-0.287,0.64-0.64S30.621,11.36,30.269,11.36z\"/></svg>\\n                </div>\\n            </caem-card>\\n        \\n    \\n    \\n    \\n\\n    \\n\\n\\n    \\n        \\n            \\n            \\n            <caem-card color-scheme cta-type=\"local\" data-autoid=\"caem--card\" href=\"https://www.ibm.com/granite?lnk=ProdC\" target=\"_self\" pictogram-placement=\"bottom\" size>\\n                <caem-card-heading aria-level=\"3\" data-autoid=\"caem--card-heading\" role=\"heading\" slot=\"heading\">\\n                    \\n                    AI models</caem-card-heading>\\n                <svg slot=\"pictogram\" class=\"bx--card__pictogram\" style=\"--colorized-background:url(\\'#g3\\'); fill: var(--colorized-background)\" data-autoid=\"caem--card__pictogram\" focusable=\"false\" height=\"48\" width=\"48\" role=\"img\">\\n                    <use href=\"#app--developer\"></use>\\n                </svg>\\n                <p>Get started with cost-efficient AI models, tailored for business and optimized for scale</p>\\n                <caem-card-cta-footer color-scheme target=\"_self\" cta-type=\"local\" data-autoid=\"caem--card-cta-footer\" href=\"https://www.ibm.com/granite?lnk=ProdC\" icon-placement=\"right\" parent-href=\"https://www.ibm.com/granite?lnk=ProdC\" slot=\"footer\">\\n                    \\n                </caem-card-cta-footer>\\n                <div class=\"caem-card-svg-source\">\\n                    <svg xmlns=\"http://www.w3.org/2000/svg\" id=\"app--developer\" viewBox=\"0 0 32 32\"><path d=\"M3.254,9.254L2.746,8.746L3.991,7.5L2.746,6.254l0.509-0.509L5.009,7.5L3.254,9.254z M3,2 C2.724,2,2.5,2.224,2.5,2.5S2.724,3,3,3s0.5-0.224,0.5-0.5S3.276,2,3,2z M5.5,2.5C5.5,2.776,5.276,3,5,3S4.5,2.776,4.5,2.5 S4.724,2,5,2S5.5,2.224,5.5,2.5z M7.5,2.5C7.5,2.776,7.276,3,7,3S6.5,2.776,6.5,2.5S6.724,2,7,2S7.5,2.224,7.5,2.5z M18.5,6.5 C18.5,6.776,18.276,7,18,7s-0.5-0.224-0.5-0.5S17.724,6,18,6S18.5,6.224,18.5,6.5z M20.5,6.5C20.5,6.776,20.276,7,20,7 s-0.5-0.224-0.5-0.5S19.724,6,20,6S20.5,6.224,20.5,6.5z M22.5,6.5C22.5,6.776,22.276,7,22,7s-0.5-0.224-0.5-0.5S21.724,6,22,6 S22.5,6.224,22.5,6.5z M5.5,24.5C5.5,24.776,5.276,25,5,25s-0.5-0.224-0.5-0.5S4.724,24,5,24S5.5,24.224,5.5,24.5z M13,14.36H1 c-0.199,0-0.36-0.161-0.36-0.36V1c0-0.199,0.161-0.36,0.36-0.36h12c0.199,0,0.36,0.161,0.36,0.36v13 C13.36,14.199,13.199,14.36,13,14.36z M12.64,4.36H1.36v9.28h11.28C12.64,13.64,12.64,4.36,12.64,4.36z M12.64,1.36H1.36v2.281 h11.28C12.64,3.641,12.64,1.36,12.64,1.36z M31.36,5v17c0,0.199-0.161,0.36-0.36,0.36H19.691c-0.301,0.471-0.69,0.885-1.152,1.215 c2.875,1.05,4.819,3.778,4.819,6.902l0.002,0.521L22.639,31l-0.002-0.522c0-3.078-2.09-5.729-5.083-6.45 c-0.15-0.035-0.26-0.163-0.274-0.316s0.07-0.299,0.211-0.361c1.315-0.592,2.165-1.9,2.165-3.334c0-2.017-1.64-3.657-3.656-3.657 c-2.018,0-3.66,1.64-3.66,3.657c0,1.434,0.85,2.742,2.166,3.334c0.141,0.062,0.225,0.208,0.211,0.361s-0.125,0.281-0.274,0.316 c-2.993,0.721-5.084,3.372-5.084,6.449l0.001,0.521L8.64,31l-0.001-0.522c0-3.125,1.943-5.854,4.819-6.903 c-1.138-0.812-1.838-2.134-1.838-3.559c0-2.292,1.772-4.178,4.02-4.362V5c0-0.199,0.161-0.36,0.36-0.36h15 C31.199,4.64,31.36,4.801,31.36,5z M30.64,8.36H16.36v7.295c2.246,0.184,4.017,2.07,4.017,4.362c0,0.566-0.11,1.115-0.315,1.623 H30.64V8.36z M30.64,5.36H16.36v2.28h14.28V5.36z M22,11.64h-4v0.72h4V11.64z M23.64,17.5c0-1.577,1.283-2.86,2.86-2.86 s2.86,1.283,2.86,2.86s-1.283,2.86-2.86,2.86S23.64,19.077,23.64,17.5z M28.242,16.266l-1.383,1.383l-0.004,1.955 c1.01-0.171,1.784-1.046,1.784-2.104C28.64,17.04,28.49,16.615,28.242,16.266z M24.36,17.5c0,1.055,0.769,1.928,1.774,2.103 l0.006-2.253l1.592-1.593c-0.349-0.248-0.773-0.397-1.233-0.397C25.32,15.36,24.36,16.32,24.36,17.5z M8,9.64H5v0.72h3V9.64z M3.5,21.36h3v-0.72h-3V21.36z M3.5,19.36h3v-0.72h-3V19.36z M22,13.64h-4v0.72h4V13.64z M29,11.64h-4v0.72h4V11.64z M29,9.64h-4 v0.72h4V9.64z M22,9.64h-4v0.72h4V9.64z M8.36,17.584v7.832c0,0.521-0.423,0.944-0.944,0.944H2.584 c-0.521,0-0.944-0.424-0.944-0.944v-7.832c0-0.521,0.423-0.944,0.944-0.944h4.832C7.937,16.64,8.36,17.063,8.36,17.584z M7.64,23.36 H2.36v2.056c0,0.123,0.101,0.224,0.224,0.224h4.832c0.124,0,0.224-0.101,0.224-0.224C7.64,25.416,7.64,23.36,7.64,23.36z M7.64,17.584c0-0.123-0.101-0.224-0.224-0.224H2.584c-0.124,0-0.224,0.101-0.224,0.224v5.056h5.28 C7.64,22.64,7.64,17.584,7.64,17.584z\"/></svg>\\n                </div>\\n            </caem-card>\\n        \\n    \\n    \\n    \\n\\n    \\n\\n\\n    \\n        \\n            \\n            \\n            <caem-card color-scheme cta-type=\"local\" data-autoid=\"caem--card\" href=\"https://www.ibm.com/consulting?lnk=ProdC\" target=\"_self\" pictogram-placement=\"bottom\" size>\\n                <caem-card-heading aria-level=\"3\" data-autoid=\"caem--card-heading\" role=\"heading\" slot=\"heading\">\\n                    \\n                    Consulting</caem-card-heading>\\n                <svg slot=\"pictogram\" class=\"bx--card__pictogram\" style=\"--colorized-background:url(\\'#g3\\'); fill: var(--colorized-background)\" data-autoid=\"caem--card__pictogram\" focusable=\"false\" height=\"48\" width=\"48\" role=\"img\">\\n                    <use href=\"#group\"></use>\\n                </svg>\\n                <p>Engage with IBM Consulting to design, build and operate high-performing businesses</p>\\n                <caem-card-cta-footer color-scheme target=\"_self\" cta-type=\"local\" data-autoid=\"caem--card-cta-footer\" href=\"https://www.ibm.com/consulting?lnk=ProdC\" icon-placement=\"right\" parent-href=\"https://www.ibm.com/consulting?lnk=ProdC\" slot=\"footer\">\\n                    \\n                </caem-card-cta-footer>\\n                <div class=\"caem-card-svg-source\">\\n                    <svg xmlns=\"http://www.w3.org/2000/svg\" id=\"group\" viewBox=\"0 0 32 32\"><path d=\"M24.36,31h-0.72v-7.5c0-3.552-2.414-6.604-5.872-7.424c-0.15-0.036-0.261-0.163-0.275-0.316 c-0.015-0.154,0.071-0.3,0.212-0.363c1.517-0.675,2.496-2.181,2.496-3.836c0-2.316-1.884-4.201-4.2-4.201S11.8,9.244,11.8,11.561 c0,1.655,0.98,3.162,2.496,3.836c0.141,0.063,0.227,0.209,0.212,0.363c-0.014,0.153-0.125,0.281-0.275,0.316 c-3.458,0.82-5.872,3.872-5.872,7.424V31H7.64v-7.5c0-3.592,2.257-6.718,5.585-7.879c-1.326-0.907-2.146-2.421-2.146-4.061 c0-1.964,1.157-3.664,2.826-4.452C14.101,6.617,14.2,6.097,14.2,5.561c0-2.316-1.884-4.201-4.2-4.201S5.799,3.244,5.799,5.561 c0,1.656,0.98,3.162,2.496,3.836C8.437,9.46,8.521,9.606,8.507,9.76c-0.014,0.153-0.125,0.281-0.275,0.316 C4.774,10.896,2.36,13.948,2.36,17.5V25H1.64v-7.5c0-3.592,2.257-6.718,5.585-7.879C5.899,8.714,5.08,7.2,5.08,5.561 c0-2.713,2.207-4.92,4.92-4.92s4.92,2.207,4.92,4.92c0,0.422-0.052,0.836-0.157,1.237c0.791-0.205,1.683-0.205,2.473,0 c-0.104-0.401-0.157-0.815-0.157-1.237c0-2.713,2.208-4.92,4.921-4.92s4.921,2.207,4.921,4.92c0,1.64-0.82,3.154-2.146,4.061 c3.329,1.161,5.586,4.287,5.586,7.879V25H29.64v-7.5c0-3.552-2.414-6.604-5.872-7.424c-0.15-0.036-0.261-0.163-0.275-0.316 c-0.015-0.154,0.071-0.3,0.212-0.363C25.221,8.722,26.2,7.216,26.2,5.561c0-2.316-1.884-4.201-4.2-4.201s-4.2,1.884-4.2,4.201 c0,0.536,0.099,1.056,0.295,1.548c1.669,0.789,2.826,2.488,2.826,4.452c0,1.64-0.82,3.154-2.146,4.061 c3.329,1.161,5.586,4.287,5.586,7.879L24.36,31L24.36,31z\"/></svg>\\n                </div>\\n            </caem-card>\\n        \\n    \\n    \\n    \\n\\n    \\n\\n\\n    \\n        \\n            \\n            \\n            <caem-card color-scheme cta-type=\"local\" data-autoid=\"caem--card\" href=\"https://www.ibm.com/analytics?lnk=ProdC\" target=\"_self\" pictogram-placement=\"bottom\" size>\\n                <caem-card-heading aria-level=\"3\" data-autoid=\"caem--card-heading\" role=\"heading\" slot=\"heading\">\\n                    \\n                    Analytics</caem-card-heading>\\n                <svg slot=\"pictogram\" class=\"bx--card__pictogram\" style=\"--colorized-background:url(\\'#g3\\'); fill: var(--colorized-background)\" data-autoid=\"caem--card__pictogram\" focusable=\"false\" height=\"48\" width=\"48\" role=\"img\">\\n                    <use href=\"#predictive-analytics\"></use>\\n                </svg>\\n                <p>Support data-driven decisions for your business</p>\\n                <caem-card-cta-footer color-scheme target=\"_self\" cta-type=\"local\" data-autoid=\"caem--card-cta-footer\" href=\"https://www.ibm.com/analytics?lnk=ProdC\" icon-placement=\"right\" parent-href=\"https://www.ibm.com/analytics?lnk=ProdC\" slot=\"footer\">\\n                    \\n                </caem-card-cta-footer>\\n                <div class=\"caem-card-svg-source\">\\n                    <svg xmlns=\"http://www.w3.org/2000/svg\" id=\"predictive-analytics\" viewBox=\"0 0 32 32\"><path d=\"M31,31.36H1c-0.199,0-0.36-0.161-0.36-0.36 V1h0.72v29.64h4.28v-7.328c-0.576-0.158-1-0.687-1-1.312c0-0.75,0.61-1.36,1.36-1.36c0.364,0,0.694,0.144,0.938,0.377l3.702-2.221 v-8.484c-0.576-0.158-1-0.686-1-1.312c0-0.75,0.61-1.36,1.36-1.36S12.36,8.25,12.36,9c0,0.625-0.424,1.153-1,1.312v8.053l3.33-1.998 c-0.032-0.116-0.05-0.239-0.05-0.366c0-0.75,0.61-1.36,1.36-1.36c0.364,0,0.695,0.144,0.939,0.377l3.701-2.221V6.312 c-0.575-0.158-1-0.686-1-1.312c0-0.75,0.61-1.36,1.36-1.36S22.36,4.25,22.36,5c0,0.625-0.425,1.153-1,1.312v6.053l3.33-1.998 c-0.033-0.117-0.05-0.24-0.05-0.367c0-0.75,0.61-1.36,1.36-1.36s1.36,0.61,1.36,1.36c0,0.625-0.425,1.153-1,1.312V30.64H31V31.36z M21.36,30.64h4.279V11.312c-0.22-0.061-0.418-0.175-0.578-0.328l-3.701,2.221V30.64z M16.36,30.64h4.28V13.636l-3.33,1.998 c0.033,0.116,0.05,0.239,0.05,0.366c0,0.625-0.425,1.153-1,1.312V30.64z M11.36,30.64h4.28V17.312 c-0.22-0.061-0.418-0.175-0.579-0.328l-3.702,2.221V30.64H11.36z M6.36,30.64h4.28V19.636l-3.33,1.998 C7.343,21.75,7.36,21.873,7.36,22c0,0.625-0.424,1.153-1,1.312V30.64z M6,21.36c-0.353,0-0.64,0.287-0.64,0.64S5.647,22.64,6,22.64 S6.64,22.353,6.64,22S6.353,21.36,6,21.36z M16,15.36c-0.353,0-0.64,0.287-0.64,0.64s0.287,0.64,0.64,0.64s0.64-0.287,0.64-0.64 S16.353,15.36,16,15.36z M26,9.36c-0.353,0-0.64,0.287-0.64,0.64s0.287,0.64,0.64,0.64s0.64-0.287,0.64-0.64S26.353,9.36,26,9.36z M11,8.36c-0.353,0-0.64,0.287-0.64,0.64S10.647,9.64,11,9.64S11.64,9.353,11.64,9S11.353,8.36,11,8.36z M21,4.36 c-0.353,0-0.64,0.287-0.64,0.64S20.647,5.64,21,5.64S21.64,5.353,21.64,5S21.353,4.36,21,4.36z\"/></svg>\\n                </div>\\n            </caem-card>\\n        \\n    \\n    \\n    \\n\\n    \\n\\n\\n    \\n        \\n            \\n            \\n            <caem-card color-scheme cta-type=\"local\" data-autoid=\"caem--card\" href=\"https://www.ibm.com/automation?lnk=ProdC\" target=\"_self\" pictogram-placement=\"bottom\" size>\\n                <caem-card-heading aria-level=\"3\" data-autoid=\"caem--card-heading\" role=\"heading\" slot=\"heading\">\\n                    \\n                    IT automation</caem-card-heading>\\n                <svg slot=\"pictogram\" class=\"bx--card__pictogram\" style=\"--colorized-background:url(\\'#g3\\'); fill: var(--colorized-background)\" data-autoid=\"caem--card__pictogram\" focusable=\"false\" height=\"48\" width=\"48\" role=\"img\">\\n                    <use href=\"#automation--decision\"></use>\\n                </svg>\\n                <p>Discover how automation solutions increase productivity while managing costs</p>\\n                <caem-card-cta-footer color-scheme target=\"_self\" cta-type=\"local\" data-autoid=\"caem--card-cta-footer\" href=\"https://www.ibm.com/automation?lnk=ProdC\" icon-placement=\"right\" parent-href=\"https://www.ibm.com/automation?lnk=ProdC\" slot=\"footer\">\\n                    \\n                </caem-card-cta-footer>\\n                <div class=\"caem-card-svg-source\">\\n                    <svg xmlns=\"http://www.w3.org/2000/svg\" id=\"automation--decision\" viewBox=\"0 0 32 32\"><path d=\"M27.255,19.255L30.509,16l-3.254-3.254l-0.51,0.509l2.386,2.386H16.149L9.36,8.85V5.36h19.771 l-2.386,2.386l0.51,0.509L30.509,5l-3.254-3.254l-0.51,0.509l2.386,2.386H9C8.801,4.64,8.64,4.801,8.64,5v3.85l-6.895,6.896 c-0.141,0.141-0.141,0.368,0,0.509L8.64,23.15V27c0,0.199,0.161,0.36,0.36,0.36h20.131l-2.386,2.385l0.51,0.51L30.509,27 l-3.254-3.255l-0.51,0.51l2.386,2.385H9.36v-3.49l6.789-6.79h12.982l-2.386,2.385L27.255,19.255z M9,22.491L2.509,16L9,9.508 L15.491,16L9,22.491z\"/></svg>\\n                </div>\\n            </caem-card>\\n        \\n    \\n    \\n    \\n\\n    \\n\\n\\n    \\n        \\n            \\n            \\n            <caem-card color-scheme cta-type=\"local\" data-autoid=\"caem--card\" href=\"https://www.ibm.com/servers?lnk=ProdC\" target=\"_self\" pictogram-placement=\"bottom\" size>\\n                <caem-card-heading aria-level=\"3\" data-autoid=\"caem--card-heading\" role=\"heading\" slot=\"heading\">\\n                    \\n                    Compute &amp; servers</caem-card-heading>\\n                <svg slot=\"pictogram\" class=\"bx--card__pictogram\" style=\"--colorized-background:url(\\'#g3\\'); fill: var(--colorized-background)\" data-autoid=\"caem--card__pictogram\" focusable=\"false\" height=\"48\" width=\"48\" role=\"img\">\\n                    <use href=\"#storage--product\"></use>\\n                </svg>\\n                <p>Handle mission-critical workloads while maintaining security, reliability and control of your entire IT infrastructure</p>\\n                <caem-card-cta-footer color-scheme target=\"_self\" cta-type=\"local\" data-autoid=\"caem--card-cta-footer\" href=\"https://www.ibm.com/servers?lnk=ProdC\" icon-placement=\"right\" parent-href=\"https://www.ibm.com/servers?lnk=ProdC\" slot=\"footer\">\\n                    \\n                </caem-card-cta-footer>\\n                <div class=\"caem-card-svg-source\">\\n                    <svg xmlns=\"http://www.w3.org/2000/svg\" id=\"storage--product\" viewBox=\"0 0 32 32\"><path d=\"M30,31.36H8c-0.199,0-0.36-0.161-0.36-0.36v-5c0-0.199,0.161-0.36,0.36-0.36h22 c0.199,0,0.36,0.161,0.36,0.36v5C30.36,31.199,30.199,31.36,30,31.36z M8.36,30.64h21.28v-4.28H8.36V30.64z M6,31.36H2 c-0.199,0-0.36-0.161-0.36-0.36V1c0-0.199,0.161-0.36,0.36-0.36h11c0.199,0,0.36,0.161,0.36,0.36v9h-0.72V1.36H2.36v29.28H6V31.36z M28.36,30h-0.72v-2h0.721L28.36,30L28.36,30z M26.36,30h-0.72v-2h0.721L26.36,30L26.36,30z M24.36,30h-0.72v-2h0.721L24.36,30 L24.36,30z M22.36,30h-0.72v-2h0.721L22.36,30L22.36,30z M30,24.36H8c-0.199,0-0.36-0.161-0.36-0.36v-5 c0-0.199,0.161-0.36,0.36-0.36h22c0.199,0,0.36,0.161,0.36,0.36v5C30.36,24.199,30.199,24.36,30,24.36z M8.36,23.64h21.28v-4.28 H8.36V23.64z M28.36,23h-0.72v-2h0.721L28.36,23L28.36,23z M26.36,23h-0.72v-2h0.721L26.36,23L26.36,23z M24.36,23h-0.72v-2h0.721 L24.36,23L24.36,23z M22.36,23h-0.72v-2h0.721L22.36,23L22.36,23z M30,17.36H8c-0.199,0-0.36-0.161-0.36-0.36v-5 c0-0.199,0.161-0.36,0.36-0.36h22c0.199,0,0.36,0.161,0.36,0.36v5C30.36,17.199,30.199,17.36,30,17.36z M8.36,16.64h21.28v-4.28 H8.36V16.64z M28.36,16h-0.72v-2h0.721L28.36,16L28.36,16z M26.36,16h-0.72v-2h0.721L26.36,16L26.36,16z M24.36,16h-0.72v-2h0.721 L24.36,16L24.36,16z M22.36,16h-0.72v-2h0.721L22.36,16L22.36,16z M6,4.36H4V3.64h2V4.36z\"/></svg>\\n                </div>\\n            </caem-card>\\n        \\n    \\n    \\n    \\n\\n    \\n\\n\\n    \\n        \\n            \\n            \\n            <caem-card color-scheme cta-type=\"local\" data-autoid=\"caem--card\" href=\"https://www.ibm.com/database?lnk=ProdC\" target=\"_self\" pictogram-placement=\"bottom\" size>\\n                <caem-card-heading aria-level=\"3\" data-autoid=\"caem--card-heading\" role=\"heading\" slot=\"heading\">\\n                    \\n                    Databases</caem-card-heading>\\n                <svg slot=\"pictogram\" class=\"bx--card__pictogram\" style=\"--colorized-background:url(\\'#g3\\'); fill: var(--colorized-background)\" data-autoid=\"caem--card__pictogram\" focusable=\"false\" height=\"48\" width=\"48\" role=\"img\">\\n                    <use href=\"#hard--drive--network\"></use>\\n                </svg>\\n                <p>Run your applications, analytics and generative AI with databases on any cloud</p>\\n                <caem-card-cta-footer color-scheme target=\"_self\" cta-type=\"local\" data-autoid=\"caem--card-cta-footer\" href=\"https://www.ibm.com/database?lnk=ProdC\" icon-placement=\"right\" parent-href=\"https://www.ibm.com/database?lnk=ProdC\" slot=\"footer\">\\n                    \\n                </caem-card-cta-footer>\\n                <div class=\"caem-card-svg-source\">\\n                    <svg xmlns=\"http://www.w3.org/2000/svg\" id=\"hard--drive--network\" viewBox=\"0 0 32 32\"><path d=\"M20,6c-0.552,0-1-0.448-1-1s0.448-1,1-1s1,0.448,1,1S20.552,6,20,6z M21,16 c0-0.552-0.448-1-1-1s-1,0.448-1,1s0.448,1,1,1S21,16.552,21,16z M21,27c0-0.552-0.448-1-1-1s-1,0.448-1,1s0.448,1,1,1 S21,27.552,21,27z M24,31.36H1c-0.199,0-0.36-0.161-0.36-0.36v-8c0-0.199,0.161-0.36,0.36-0.36h23c0.199,0,0.36,0.161,0.36,0.36v8 C24.36,31.199,24.199,31.36,24,31.36z M1.36,30.64h22.28v-7.28H1.36V30.64z M31,27.36h-5v-0.72h4.64V16.36H26v-0.72h4.64V5.36H26 V4.64h5c0.199,0,0.36,0.161,0.36,0.36v22C31.36,27.199,31.199,27.36,31,27.36z M24,20.36H1c-0.199,0-0.36-0.161-0.36-0.36v-8 c0-0.199,0.161-0.36,0.36-0.36h23c0.199,0,0.36,0.161,0.36,0.36v8C24.36,20.199,24.199,20.36,24,20.36z M1.36,19.64h22.28v-7.28 H1.36V19.64z M24,9.36H1C0.801,9.36,0.64,9.199,0.64,9V1c0-0.199,0.161-0.36,0.36-0.36h23c0.199,0,0.36,0.161,0.36,0.36v8 C24.36,9.199,24.199,9.36,24,9.36z M1.36,8.64h22.28V1.36H1.36V8.64z\"/></svg>\\n                </div>\\n            </caem-card>\\n        \\n    \\n    \\n    \\n\\n    \\n\\n\\n    \\n        \\n            \\n            \\n            <caem-card color-scheme cta-type=\"local\" data-autoid=\"caem--card\" href=\"https://www.ibm.com/security?lnk=ProdC\" target=\"_self\" pictogram-placement=\"bottom\" size>\\n                <caem-card-heading aria-level=\"3\" data-autoid=\"caem--card-heading\" role=\"heading\" slot=\"heading\">\\n                    \\n                    Security &amp; identity</caem-card-heading>\\n                <svg slot=\"pictogram\" class=\"bx--card__pictogram\" style=\"--colorized-background:url(\\'#g3\\'); fill: var(--colorized-background)\" data-autoid=\"caem--card__pictogram\" focusable=\"false\" height=\"48\" width=\"48\" role=\"img\">\\n                    <use href=\"#secure--profile\"></use>\\n                </svg>\\n                <p>Secure hybrid cloud and AI with data and identity-centric cybersecurity solutions</p>\\n                <caem-card-cta-footer color-scheme target=\"_self\" cta-type=\"local\" data-autoid=\"caem--card-cta-footer\" href=\"https://www.ibm.com/security?lnk=ProdC\" icon-placement=\"right\" parent-href=\"https://www.ibm.com/security?lnk=ProdC\" slot=\"footer\">\\n                    \\n                </caem-card-cta-footer>\\n                <div class=\"caem-card-svg-source\">\\n                    <svg xmlns=\"http://www.w3.org/2000/svg\" id=\"secure--profile\" viewBox=\"0 0 32 32\"><path d=\"M23.14,25.415v-1.988c-0.373-0.145-0.64-0.503-0.64-0.927c0-0.552,0.448-1,1-1s1,0.448,1,1 c0,0.424-0.266,0.782-0.64,0.927v1.988c0,0.199-0.161,0.36-0.36,0.36S23.14,25.614,23.14,25.415z M31.36,16v15 c0,0.199-0.161,0.36-0.36,0.36H16c-0.199,0-0.36-0.161-0.36-0.36V19h0.72v11.64h14.28V16.36H1c-0.199,0-0.36-0.161-0.36-0.36V1 c0-0.199,0.161-0.36,0.36-0.36h15c0.199,0,0.36,0.161,0.36,0.36v12h-0.72V1.36H1.36v14.28h2.28v-2.639 c0-1.926,1.166-3.659,2.908-4.427C5.978,8.04,5.643,7.293,5.643,6.5c0-1.577,1.283-2.86,2.86-2.86s2.86,1.283,2.86,2.86 c0,0.794-0.335,1.542-0.907,2.075c1.74,0.77,2.904,2.502,2.904,4.426v2.639h6.28V11.5c0-2.128,1.731-3.86,3.859-3.86 c2.129,0,3.861,1.731,3.861,3.86l-0.001,4.14H31C31.199,15.64,31.36,15.801,31.36,16z M12.64,13.001c0-1.837-1.25-3.47-3.041-3.97 c-0.141-0.04-0.244-0.16-0.261-0.306C9.321,8.58,9.395,8.439,9.523,8.369c0.69-0.379,1.12-1.095,1.12-1.869 c0-1.18-0.96-2.14-2.14-2.14s-2.14,0.96-2.14,2.14c0,0.773,0.429,1.489,1.119,1.868c0.128,0.07,0.201,0.211,0.184,0.357 C7.648,8.87,7.545,8.991,7.404,9.03C5.612,9.529,4.36,11.162,4.36,13.001v2.639h8.28C12.64,15.64,12.64,13.001,12.64,13.001z M26.64,11.5c0-1.731-1.408-3.14-3.14-3.14s-3.14,1.409-3.14,3.14v4.14h6.278L26.64,11.5z\"/></svg>\\n                </div>\\n            </caem-card>\\n        \\n    \\n    \\n    \\n\\n    \\n\\n\\n    \\n\\n\\n                </caem-card-group>\\n            \\n        \\n        \\n    </div>\\n\\n    \\n    \\n\\n<svg class=\"bx--visually-hidden\">\\n    <defs>\\n        <linearGradient id=\"g1\" x1=\"0%\" y1=\"0%\" x2=\"0%\" y2=\"100%\">\\n            <stop offset=\"0%\" stop-color=\"#0F62FE\"></stop>\\n            <stop offset=\"100%\" stop-color=\"#8A3FFC\"></stop>\\n        </linearGradient>\\n        <linearGradient id=\"g2\" x1=\"0%\" y1=\"0%\" x2=\"0%\" y2=\"100%\">\\n            <stop offset=\"0%\" stop-color=\"#0F62FE\"></stop>\\n            <stop offset=\"100%\" stop-color=\"#78A9FF\"></stop>\\n        </linearGradient>\\n        <linearGradient id=\"g3\" x1=\"0%\" y1=\"0%\" x2=\"0%\" y2=\"100%\">\\n            <stop offset=\"0%\" stop-color=\"#0F62FE\"></stop>\\n            <stop offset=\"100%\" stop-color=\"#08BDBA\"></stop>\\n        </linearGradient>\\n        <linearGradient id=\"g4\" x1=\"0%\" y1=\"0%\" x2=\"0%\" y2=\"100%\">\\n            <stop offset=\"0%\" stop-color=\"#0F62FE\"></stop>\\n            <stop offset=\"100%\" stop-color=\"#FF7EB6\"></stop>\\n        </linearGradient>\\n        <linearGradient id=\"g5\" x1=\"0%\" y1=\"0%\" x2=\"0%\" y2=\"100%\">\\n            <stop offset=\"0%\" stop-color=\"#FA4D56\"></stop>\\n            <stop offset=\"100%\" stop-color=\"#A56EFF\"></stop>\\n        </linearGradient>\\n    </defs>\\n</svg></div>\\n<div class=\"feature-card-section\">\\n    \\n        \\n        <div class=\"feature-card-section__container theme-g100\">\\n            \\n            <dds-feature-section media-alignment=\"left\">\\n\\n                \\n    \\n    \\n        \\n        \\n        \\n        \\n        \\n        <dds-image id=\"image--605622885\" alt=\"People attending the TechXchange conference\" slot=\"image\" default-src=\"/content/dam/connectedassets-adobe-cms/worldwide-content/creative-assets/txc/ul/g/06/54/techxchange-emea-conference.component.xl.ts=1728308501161.png/content/adobe-cms/us/en/homepage/jcr:content/root/table_of_contents/feature_card_section\" class=\"\">\\n            \\n            \\n                \\n                    \\n    <dds-image-item media=\"(min-width: 1312px) and (min-resolution: 192dpi)\" srcset=\"/content/dam/connectedassets-adobe-cms/worldwide-content/creative-assets/txc/ul/g/06/54/techxchange-emea-conference.component.xl-retina.ts=1728308501161.png/content/adobe-cms/us/en/homepage/jcr:content/root/table_of_contents/feature_card_section\"></dds-image-item>\\n    <dds-image-item media=\"(min-width: 1312px)\" srcset=\"/content/dam/connectedassets-adobe-cms/worldwide-content/creative-assets/txc/ul/g/06/54/techxchange-emea-conference.component.xl.ts=1728308501161.png/content/adobe-cms/us/en/homepage/jcr:content/root/table_of_contents/feature_card_section\"></dds-image-item>\\n    <dds-image-item media=\"(min-width: 1056px) and (min-resolution: 192dpi)\" srcset=\"/content/dam/connectedassets-adobe-cms/worldwide-content/creative-assets/txc/ul/g/06/54/techxchange-emea-conference.component.l-retina.ts=1728308501161.png/content/adobe-cms/us/en/homepage/jcr:content/root/table_of_contents/feature_card_section\"></dds-image-item>\\n    <dds-image-item media=\"(min-width: 1056px)\" srcset=\"/content/dam/connectedassets-adobe-cms/worldwide-content/creative-assets/txc/ul/g/06/54/techxchange-emea-conference.component.l.ts=1728308501161.png/content/adobe-cms/us/en/homepage/jcr:content/root/table_of_contents/feature_card_section\"></dds-image-item>\\n    <dds-image-item media=\"(min-width: 672px) and (min-resolution: 192dpi)\" srcset=\"/content/dam/connectedassets-adobe-cms/worldwide-content/creative-assets/txc/ul/g/06/54/techxchange-emea-conference.component.m-retina.ts=1728308501161.png/content/adobe-cms/us/en/homepage/jcr:content/root/table_of_contents/feature_card_section\"></dds-image-item>\\n    <dds-image-item media=\"(min-width: 672px)\" srcset=\"/content/dam/connectedassets-adobe-cms/worldwide-content/creative-assets/txc/ul/g/06/54/techxchange-emea-conference.component.m.ts=1728308501161.png/content/adobe-cms/us/en/homepage/jcr:content/root/table_of_contents/feature_card_section\"></dds-image-item>\\n    <dds-image-item media=\"(min-width: 481px) and (min-resolution: 192dpi)\" srcset=\"/content/dam/connectedassets-adobe-cms/worldwide-content/creative-assets/txc/ul/g/06/54/techxchange-emea-conference.component.s-retina.ts=1728308501161.png/content/adobe-cms/us/en/homepage/jcr:content/root/table_of_contents/feature_card_section\"></dds-image-item>\\n    <dds-image-item media=\"(min-width: 481px)\" srcset=\"/content/dam/connectedassets-adobe-cms/worldwide-content/creative-assets/txc/ul/g/06/54/techxchange-emea-conference.component.s.ts=1728308501161.png/content/adobe-cms/us/en/homepage/jcr:content/root/table_of_contents/feature_card_section\"></dds-image-item>\\n    <dds-image-item media=\"(max-width: 480px) and (min-resolution: 192dpi)\" srcset=\"/content/dam/connectedassets-adobe-cms/worldwide-content/creative-assets/txc/ul/g/06/54/techxchange-emea-conference.component.xs-retina.ts=1728308501161.png/content/adobe-cms/us/en/homepage/jcr:content/root/table_of_contents/feature_card_section\"></dds-image-item>\\n    <dds-image-item media=\"(max-width: 480px)\" srcset=\"/content/dam/connectedassets-adobe-cms/worldwide-content/creative-assets/txc/ul/g/06/54/techxchange-emea-conference.component.xs.ts=1728308501161.png/content/adobe-cms/us/en/homepage/jcr:content/root/table_of_contents/feature_card_section\"></dds-image-item>\\n    \\n\\n                    \\n                \\n            \\n        </dds-image>\\n    \\n\\n    \\n    \\n\\n\\n\\n                <dds-card-eyebrow slot=\"eyebrow\">\\n                    IBM TechXchange Conference 2024 | 21–24 October, Las Vegas\\n                </dds-card-eyebrow>\\n                <dds-content-block-heading slot=\"heading\">\\n                    The must-attend conference for technologists\\n                </dds-content-block-heading>\\n                <dds-content-item-paragraph slot=\"copy\">\\n                    The IBM TechXchange Conference is the ultimate learning event. Enjoy four days of labs, certifications, skill building—and fun, too! Join us in Las Vegas, 21–24 October to  exchange insights with peers shaping the future of tech.\\n                </dds-content-item-paragraph>\\n\\n                <dds-feature-section-card-link no-poster slot=\"footer\" target=\"_self\" href=\"https://www.ibm.com/community/ibm-techxchange-conference/?lnk=hpUSfc&utm_medium=ibm-homepage&utm_source=Outbound&utm_content=TXCWW&utm_term=20A0V&utm_id=homepage-promo\" cta-type=\"local\" color-scheme=\"inverse\">\\n                    <dds-card-link-heading>Register today</dds-card-link-heading>\\n                    <dds-card-cta-footer cta-type=\"local\" color-scheme=\"inverse\" href=\"https://www.ibm.com/community/ibm-techxchange-conference/?lnk=hpUSfc&utm_medium=ibm-homepage&utm_source=Outbound&utm_content=TXCWW&utm_term=20A0V&utm_id=homepage-promo\" target=\"_self\"></dds-card-cta-footer>\\n                </dds-feature-section-card-link>\\n            </dds-feature-section>\\n        </div>\\n        \\n    \\n\\n    \\n\\n</div>\\n<div class=\"cta-section\">\\n\\n\\n\\n\\n\\n    \\n  \\n\\n    \\n    <dds-cta-block class=\"   title-plus-3-items-layout\">\\n        <dds-content-block-heading class=\"\">\\n            \\n            \\n\\n\\n  \\n\\n\\n\\n    Inside IBM\\n\\n\\n\\n\\n\\n    \\n\\n\\n        </dds-content-block-heading>\\n        \\n        \\n        \\n\\n    <dds-cta-block-item-row no-border>\\n        \\n\\n    \\n    \\n    \\n    <dds-cta-block-item>\\n    \\n    \\n    \\n\\n    \\n    <dds-content-item-heading>\\n        \\n\\n\\n\\n  \\n    Our company\\n\\n\\n\\n\\n\\n\\n    \\n\\n\\n    </dds-content-item-heading>\\n    <dds-content-item-copy>\\n        <dds-content-item-paragraph>\\n            <div class=\"cms-richtext \" id=\"rich-text-fa074a9752\" data-dynamic-inner-content=\"description\">\\n    <p>Explore IBM history and culture of putting technology to work in the real world</p>\\r\\n \\n    \\n    \\n    \\n    \\n\\n</div>\\n        </dds-content-item-paragraph>\\n    </dds-content-item-copy>\\n    \\n    \\n    \\n        \\n        \\n        <dds-text-cta cta-type=\"local\" icon-placement=\"right\" href=\"https://www.ibm.com/about\" target=\"_self\" data-dynamic-properties=\"{&quot;ctaUrl&quot;:&quot;href&quot;}\" data-dynamic-inner-content=\"ctaLabel\" slot=\"footer\">About IBM\\n            \\n        </dds-text-cta>\\n    \\n    \\n    \\n\\n    \\n\\n\\n    \\n    \\n    \\n        \\n        \\n        <dds-text-cta cta-type=\"local\" icon-placement=\"right\" href=\"https://www.ibm.com/history\" target=\"_self\" data-dynamic-properties=\"{&quot;ctaUrl&quot;:&quot;href&quot;}\" data-dynamic-inner-content=\"ctaLabel\" slot=\"footer\">Our history\\n            \\n        </dds-text-cta>\\n    \\n    \\n    \\n\\n    \\n\\n\\n</dds-cta-block-item>\\n<dds-cta-block-item>\\n    \\n    \\n    \\n\\n    \\n    <dds-content-item-heading>\\n        \\n\\n\\n\\n  \\n    Our impact\\n\\n\\n\\n\\n\\n\\n    \\n\\n\\n    </dds-content-item-heading>\\n    <dds-content-item-copy>\\n        <dds-content-item-paragraph>\\n            <div class=\"cms-richtext \" id=\"rich-text-4b244d2cb1\" data-dynamic-inner-content=\"description\">\\n    <p>Learn about IBM&#39;s commitment to environmental, equitable and ethical pillars</p>\\r\\n \\n    \\n    \\n    \\n    \\n\\n</div>\\n        </dds-content-item-paragraph>\\n    </dds-content-item-copy>\\n    \\n    \\n    \\n        \\n        \\n        <dds-text-cta cta-type=\"local\" icon-placement=\"right\" href=\"https://www.ibm.com/impact\" target=\"_self\" data-dynamic-properties=\"{&quot;ctaUrl&quot;:&quot;href&quot;}\" data-dynamic-inner-content=\"ctaLabel\" slot=\"footer\">Corporate social responsibility\\n            \\n        </dds-text-cta>\\n    \\n    \\n    \\n\\n    \\n\\n\\n    \\n    \\n    \\n        \\n        \\n        <dds-text-cta cta-type=\"local\" icon-placement=\"right\" href=\"https://www.ibm.com/impact/be-equal\" target=\"_self\" data-dynamic-properties=\"{&quot;ctaUrl&quot;:&quot;href&quot;}\" data-dynamic-inner-content=\"ctaLabel\" slot=\"footer\">Diversity and inclusion\\n            \\n        </dds-text-cta>\\n    \\n    \\n    \\n\\n    \\n\\n\\n</dds-cta-block-item>\\n<dds-cta-block-item>\\n    \\n    \\n    \\n\\n    \\n    <dds-content-item-heading>\\n        \\n\\n\\n\\n  \\n    Our innovations\\n\\n\\n\\n\\n\\n\\n    \\n\\n\\n    </dds-content-item-heading>\\n    <dds-content-item-copy>\\n        <dds-content-item-paragraph>\\n            <div class=\"cms-richtext \" id=\"rich-text-77395c58ee\" data-dynamic-inner-content=\"description\">\\n    <p>Visit the IBM lab, and see what&#39;s in store for the future of\\xa0computing</p>\\r\\n \\n    \\n    \\n    \\n    \\n\\n</div>\\n        </dds-content-item-paragraph>\\n    </dds-content-item-copy>\\n    \\n    \\n    \\n        \\n        \\n        <dds-text-cta cta-type=\"local\" icon-placement=\"right\" href=\"https://research.ibm.com\" target=\"_self\" data-dynamic-properties=\"{&quot;ctaUrl&quot;:&quot;href&quot;}\" data-dynamic-inner-content=\"ctaLabel\" slot=\"footer\">IBM Research\\n            \\n        </dds-text-cta>\\n    \\n    \\n    \\n\\n    \\n\\n\\n    \\n    \\n    \\n        \\n        \\n        <dds-text-cta cta-type=\"local\" icon-placement=\"right\" href=\"https://www.ibm.com/quantum\" target=\"_self\" data-dynamic-properties=\"{&quot;ctaUrl&quot;:&quot;href&quot;}\" data-dynamic-inner-content=\"ctaLabel\" slot=\"footer\">Quantum computing\\n            \\n        </dds-text-cta>\\n    \\n    \\n    \\n\\n    \\n\\n\\n</dds-cta-block-item>\\n\\n    \\n\\n\\n    </dds-cta-block-item-row>\\n\\n\\n    </dds-cta-block>\\n\\n\\n</div>\\n<div class=\"intro-section\">\\n<div class=\"bx--col\">\\n    <caem-intro-section>\\n\\n        <caem-heading slot=\"heading\" type=\"h2\" type-style=\"expressive-heading-05\" data-autoid=\"caem-heading\">\\n            \\n\\n\\n\\n  \\n    Take the next step\\n\\n\\n\\n\\n\\n\\n    \\n\\n\\n        </caem-heading>\\n\\n        <caem-paragraph size=\"lead-in\" data-autoid=\"caem--paragraph\">\\n            <div class=\"cms-richtext \" id=\"rich-text-8224f9545a\" data-dynamic-inner-content=\"description\">\\n    <p>Solving the world’s problems through technology wouldn’t be possible without people with the right skills. See what it takes to become an IBMer, or build your skills with our educational courses.</p>\\r\\n \\n    \\n    \\n    \\n    \\n\\n</div>\\n        </caem-paragraph>\\n\\n        \\n            <dds-link-list type=\"vertical\">\\n                \\n                    \\n    \\n    \\n    \\n    \\n\\n    \\n\\n\\n                \\n                \\n                    \\n    \\n    \\n    \\n    \\n\\n    \\n\\n\\n                \\n            </dds-link-list>\\n        \\n\\n        \\n\\n    </caem-intro-section>\\n</div>\\n\\n\\n\\n\\n\\n\\n\\n</div>\\n<div class=\"container-50-50 container responsivegrid\"><div class=\"container-50-50-container\">\\n    <div class=\"container-50-50-row\">\\n        <div class=\"container-50-50--col-lg-8\">\\n            \\n\\n    \\n    \\n    \\n    <div id=\"container-item-50-50-854ab607b3\" class=\"cmp-container\">\\n        \\n        <div class=\"tile-card card link button\">\\r\\n    \\n    <caem-tile label=\"IBM Careers\" cta-type=\"local\" href=\"https://www.ibm.com/careers\" target=\"_self\" double-tile=\"double-tile\" align-with-content=\"align-with-content\">\\n        \\n        \\n            \\n\\n\\n\\n\\n\\n    \\n    \\n        \\n        \\n        \\n        \\n        \\n        <dds-image id=\"image--1583282671\" alt=\"Woman standing next to IBM logo illustration\" slot=\"image\" default-src=\"/content/dam/connectedassets-adobe-cms/worldwide-content/creative-assets/tai/ul/g/16/b2/photo-435_hn.component.tile-card-xl.ts=1728308503496.jpg/content/adobe-cms/us/en/homepage/jcr:content/root/table_of_contents/container_50_50_copy/container1/tile_card_1011472503/image\" class=\"\">\\n            \\n            \\n                \\n                    \\n    <dds-image-item media=\"(min-width: 1312px) and (min-resolution: 192dpi)\" srcset=\"/content/dam/connectedassets-adobe-cms/worldwide-content/creative-assets/tai/ul/g/16/b2/photo-435_hn.component.tile-card-xl-retina.ts=1728308503496.jpg/content/adobe-cms/us/en/homepage/jcr:content/root/table_of_contents/container_50_50_copy/container1/tile_card_1011472503/image\"></dds-image-item>\\n    <dds-image-item media=\"(min-width: 1312px)\" srcset=\"/content/dam/connectedassets-adobe-cms/worldwide-content/creative-assets/tai/ul/g/16/b2/photo-435_hn.component.tile-card-xl.ts=1728308503496.jpg/content/adobe-cms/us/en/homepage/jcr:content/root/table_of_contents/container_50_50_copy/container1/tile_card_1011472503/image\"></dds-image-item>\\n    <dds-image-item media=\"(min-width: 1056px) and (min-resolution: 192dpi)\" srcset=\"/content/dam/connectedassets-adobe-cms/worldwide-content/creative-assets/tai/ul/g/16/b2/photo-435_hn.component.tile-card-l-retina.ts=1728308503496.jpg/content/adobe-cms/us/en/homepage/jcr:content/root/table_of_contents/container_50_50_copy/container1/tile_card_1011472503/image\"></dds-image-item>\\n    <dds-image-item media=\"(min-width: 1056px)\" srcset=\"/content/dam/connectedassets-adobe-cms/worldwide-content/creative-assets/tai/ul/g/16/b2/photo-435_hn.component.tile-card-l.ts=1728308503496.jpg/content/adobe-cms/us/en/homepage/jcr:content/root/table_of_contents/container_50_50_copy/container1/tile_card_1011472503/image\"></dds-image-item>\\n    <dds-image-item media=\"(min-width: 672px) and (min-resolution: 192dpi)\" srcset=\"/content/dam/connectedassets-adobe-cms/worldwide-content/creative-assets/tai/ul/g/16/b2/photo-435_hn.component.tile-card-m-retina.ts=1728308503496.jpg/content/adobe-cms/us/en/homepage/jcr:content/root/table_of_contents/container_50_50_copy/container1/tile_card_1011472503/image\"></dds-image-item>\\n    <dds-image-item media=\"(min-width: 672px)\" srcset=\"/content/dam/connectedassets-adobe-cms/worldwide-content/creative-assets/tai/ul/g/16/b2/photo-435_hn.component.tile-card-m.ts=1728308503496.jpg/content/adobe-cms/us/en/homepage/jcr:content/root/table_of_contents/container_50_50_copy/container1/tile_card_1011472503/image\"></dds-image-item>\\n    <dds-image-item media=\"(min-width: 481px) and (min-resolution: 192dpi)\" srcset=\"/content/dam/connectedassets-adobe-cms/worldwide-content/creative-assets/tai/ul/g/16/b2/photo-435_hn.component.tile-card-s-retina.ts=1728308503496.jpg/content/adobe-cms/us/en/homepage/jcr:content/root/table_of_contents/container_50_50_copy/container1/tile_card_1011472503/image\"></dds-image-item>\\n    <dds-image-item media=\"(min-width: 481px)\" srcset=\"/content/dam/connectedassets-adobe-cms/worldwide-content/creative-assets/tai/ul/g/16/b2/photo-435_hn.component.tile-card-s.ts=1728308503496.jpg/content/adobe-cms/us/en/homepage/jcr:content/root/table_of_contents/container_50_50_copy/container1/tile_card_1011472503/image\"></dds-image-item>\\n    <dds-image-item media=\"(max-width: 480px) and (min-resolution: 192dpi)\" srcset=\"/content/dam/connectedassets-adobe-cms/worldwide-content/creative-assets/tai/ul/g/16/b2/photo-435_hn.component.tile-card-xs-retina.ts=1728308503496.jpg/content/adobe-cms/us/en/homepage/jcr:content/root/table_of_contents/container_50_50_copy/container1/tile_card_1011472503/image\"></dds-image-item>\\n    <dds-image-item media=\"(max-width: 480px)\" srcset=\"/content/dam/connectedassets-adobe-cms/worldwide-content/creative-assets/tai/ul/g/16/b2/photo-435_hn.component.tile-card-xs.ts=1728308503496.jpg/content/adobe-cms/us/en/homepage/jcr:content/root/table_of_contents/container_50_50_copy/container1/tile_card_1011472503/image\"></dds-image-item>\\n    \\n\\n                    \\n                \\n            \\n        </dds-image>\\n    \\n\\n    \\n    \\n\\n\\n\\n        \\n        \\n    \\n\\n        Become an IBMer\\n        \\n    \\n\\n\\n\\n    \\n\\n\\n\\n        <p slot=\"cta\">\\n            Explore jobs\\n        </p>\\n\\n    </caem-tile>\\n\\n    <div class=\"caem-card-svg-source\" hidden>\\n        <svg xmlns=\"http://www.w3.org/2000/svg\" id=\"accelerated-computing\" viewBox=\"0 0 32 32\"><path d=\"M19,29.36c-3.401,0-6.596-1.506-8.764-4.131l0.556-0.459c2.03,2.459,5.022,3.869,8.208,3.869 c5.867,0,10.64-4.772,10.64-10.64c0-5.867-4.772-10.64-10.64-10.64c-3.186,0-6.177,1.411-8.208,3.87l-0.555-0.459 c2.091-2.532,5.137-4.022,8.403-4.125V5.36H16c-0.199,0-0.36-0.161-0.36-0.36V3c0-0.199,0.161-0.36,0.36-0.36h6 c0.199,0,0.36,0.161,0.36,0.36v2c0,0.199-0.161,0.36-0.36,0.36h-2.64v1.286c6.098,0.191,11,5.211,11,11.354 C30.36,24.264,25.264,29.36,19,29.36z M16.36,4.64h5.28V3.36h-5.28V4.64z M14,23.36H4v-0.72h10V23.36z M12,18.36H2v-0.72h10V18.36z M19.179,18.312l-0.357-0.625l7-4l0.357,0.625L19.179,18.312z M14,13.36H4v-0.72h10V13.36z\"/></svg>\\n    </div>\\n    \\n    \\n\\n\\r\\n\\r\\n</div>\\n\\n        \\n    </div>\\n\\n\\n        </div>\\n\\n        <div class=\"container-50-50--col-lg-8\">\\n            \\n\\n    \\n    \\n    \\n    <div id=\"container-item-50-50-07b2100915\" class=\"cmp-container\">\\n        \\n        <div class=\"tile-card card link button\">\\r\\n    \\n    <caem-tile label=\"IBM SkillsBuild\" cta-type=\"external\" href=\"https://skillsbuild.org\" target=\"_self\" double-tile=\"double-tile\" align-with-content=\"align-with-content\">\\n        \\n        \\n            \\n\\n\\n\\n\\n\\n    \\n    \\n        \\n        \\n        \\n        \\n        \\n        <dds-image id=\"image--1454371264\" alt=\"Woman holding laptop and looking at camera\" slot=\"image\" default-src=\"/content/dam/connectedassets-adobe-cms/worldwide-content/stock-assets/getty/image/others/80/0e/800e7041-0619-467f-b991f916451e1e50.component.tile-card-xl.ts=1728308503679.jpg/content/adobe-cms/us/en/homepage/jcr:content/root/table_of_contents/container_50_50_copy/container2/tile_card_769450518_/image\" class=\"\">\\n            \\n            \\n                \\n                    \\n    <dds-image-item media=\"(min-width: 1312px) and (min-resolution: 192dpi)\" srcset=\"/content/dam/connectedassets-adobe-cms/worldwide-content/stock-assets/getty/image/others/80/0e/800e7041-0619-467f-b991f916451e1e50.component.tile-card-xl-retina.ts=1728308503679.jpg/content/adobe-cms/us/en/homepage/jcr:content/root/table_of_contents/container_50_50_copy/container2/tile_card_769450518_/image\"></dds-image-item>\\n    <dds-image-item media=\"(min-width: 1312px)\" srcset=\"/content/dam/connectedassets-adobe-cms/worldwide-content/stock-assets/getty/image/others/80/0e/800e7041-0619-467f-b991f916451e1e50.component.tile-card-xl.ts=1728308503679.jpg/content/adobe-cms/us/en/homepage/jcr:content/root/table_of_contents/container_50_50_copy/container2/tile_card_769450518_/image\"></dds-image-item>\\n    <dds-image-item media=\"(min-width: 1056px) and (min-resolution: 192dpi)\" srcset=\"/content/dam/connectedassets-adobe-cms/worldwide-content/stock-assets/getty/image/others/80/0e/800e7041-0619-467f-b991f916451e1e50.component.tile-card-l-retina.ts=1728308503679.jpg/content/adobe-cms/us/en/homepage/jcr:content/root/table_of_contents/container_50_50_copy/container2/tile_card_769450518_/image\"></dds-image-item>\\n    <dds-image-item media=\"(min-width: 1056px)\" srcset=\"/content/dam/connectedassets-adobe-cms/worldwide-content/stock-assets/getty/image/others/80/0e/800e7041-0619-467f-b991f916451e1e50.component.tile-card-l.ts=1728308503679.jpg/content/adobe-cms/us/en/homepage/jcr:content/root/table_of_contents/container_50_50_copy/container2/tile_card_769450518_/image\"></dds-image-item>\\n    <dds-image-item media=\"(min-width: 672px) and (min-resolution: 192dpi)\" srcset=\"/content/dam/connectedassets-adobe-cms/worldwide-content/stock-assets/getty/image/others/80/0e/800e7041-0619-467f-b991f916451e1e50.component.tile-card-m-retina.ts=1728308503679.jpg/content/adobe-cms/us/en/homepage/jcr:content/root/table_of_contents/container_50_50_copy/container2/tile_card_769450518_/image\"></dds-image-item>\\n    <dds-image-item media=\"(min-width: 672px)\" srcset=\"/content/dam/connectedassets-adobe-cms/worldwide-content/stock-assets/getty/image/others/80/0e/800e7041-0619-467f-b991f916451e1e50.component.tile-card-m.ts=1728308503679.jpg/content/adobe-cms/us/en/homepage/jcr:content/root/table_of_contents/container_50_50_copy/container2/tile_card_769450518_/image\"></dds-image-item>\\n    <dds-image-item media=\"(min-width: 481px) and (min-resolution: 192dpi)\" srcset=\"/content/dam/connectedassets-adobe-cms/worldwide-content/stock-assets/getty/image/others/80/0e/800e7041-0619-467f-b991f916451e1e50.component.tile-card-s-retina.ts=1728308503679.jpg/content/adobe-cms/us/en/homepage/jcr:content/root/table_of_contents/container_50_50_copy/container2/tile_card_769450518_/image\"></dds-image-item>\\n    <dds-image-item media=\"(min-width: 481px)\" srcset=\"/content/dam/connectedassets-adobe-cms/worldwide-content/stock-assets/getty/image/others/80/0e/800e7041-0619-467f-b991f916451e1e50.component.tile-card-s.ts=1728308503679.jpg/content/adobe-cms/us/en/homepage/jcr:content/root/table_of_contents/container_50_50_copy/container2/tile_card_769450518_/image\"></dds-image-item>\\n    <dds-image-item media=\"(max-width: 480px) and (min-resolution: 192dpi)\" srcset=\"/content/dam/connectedassets-adobe-cms/worldwide-content/stock-assets/getty/image/others/80/0e/800e7041-0619-467f-b991f916451e1e50.component.tile-card-xs-retina.ts=1728308503679.jpg/content/adobe-cms/us/en/homepage/jcr:content/root/table_of_contents/container_50_50_copy/container2/tile_card_769450518_/image\"></dds-image-item>\\n    <dds-image-item media=\"(max-width: 480px)\" srcset=\"/content/dam/connectedassets-adobe-cms/worldwide-content/stock-assets/getty/image/others/80/0e/800e7041-0619-467f-b991f916451e1e50.component.tile-card-xs.ts=1728308503679.jpg/content/adobe-cms/us/en/homepage/jcr:content/root/table_of_contents/container_50_50_copy/container2/tile_card_769450518_/image\"></dds-image-item>\\n    \\n\\n                    \\n                \\n            \\n        </dds-image>\\n    \\n\\n    \\n    \\n\\n\\n\\n        \\n        \\n    \\n\\n        Explore learning opportunities\\n        \\n    \\n\\n\\n\\n    \\n\\n\\n\\n        <p slot=\"cta\">\\n            Start learning\\n        </p>\\n\\n    </caem-tile>\\n\\n    <div class=\"caem-card-svg-source\" hidden>\\n        <svg xmlns=\"http://www.w3.org/2000/svg\" id=\"accelerated-computing\" viewBox=\"0 0 32 32\"><path d=\"M19,29.36c-3.401,0-6.596-1.506-8.764-4.131l0.556-0.459c2.03,2.459,5.022,3.869,8.208,3.869 c5.867,0,10.64-4.772,10.64-10.64c0-5.867-4.772-10.64-10.64-10.64c-3.186,0-6.177,1.411-8.208,3.87l-0.555-0.459 c2.091-2.532,5.137-4.022,8.403-4.125V5.36H16c-0.199,0-0.36-0.161-0.36-0.36V3c0-0.199,0.161-0.36,0.36-0.36h6 c0.199,0,0.36,0.161,0.36,0.36v2c0,0.199-0.161,0.36-0.36,0.36h-2.64v1.286c6.098,0.191,11,5.211,11,11.354 C30.36,24.264,25.264,29.36,19,29.36z M16.36,4.64h5.28V3.36h-5.28V4.64z M14,23.36H4v-0.72h10V23.36z M12,18.36H2v-0.72h10V18.36z M19.179,18.312l-0.357-0.625l7-4l0.357,0.625L19.179,18.312z M14,13.36H4v-0.72h10V13.36z\"/></svg>\\n    </div>\\n    \\n    \\n\\n\\r\\n\\r\\n</div>\\n\\n        \\n    </div>\\n\\n\\n        </div>\\n    </div>\\n</div></div>\\n\\n        \\n    </div>\\n\\n</dds-table-of-contents>\\n\\n</div>\\n<div class=\"footer\">\\n\\n\\n\\n\\n    <dds-footer-container data-cmp-is=\"footer\" data-autoid=\"dds--footer\" class=\"cmp-footer\" data-children-count=\"0\" size=\"tall\"></dds-footer-container>\\n\\n\\n</div>\\n\\n        \\n    </div>\\n\\n</div>\\n\\n</dds-video-cta-container>\\n\\n<dds-lightbox-video-player-container></dds-lightbox-video-player-container>\\n\\n\\n    \\n    \\n    \\n<script src=\"/etc.clientlibs/adobe-cms/clientlibs/clientlib-idlBundle.lc-2afd79fa944130608b59c23b36700691-lc.min.js\"></script>\\n\\n\\n\\n    \\n\\n    <script src=\"/etc.clientlibs/adobe-cms/clientlibs/clientlib-target-antiflicker.lc-36a1efb28e947b5873f4a28c2cf9d5eb-lc.min.js\"></script>\\n<script src=\"/etc.clientlibs/adobe-cms/clientlibs/clientlib-idlStyles.lc-35c2ec74308347b663f3ba11876a5904-lc.min.js\"></script>\\n\\n\\n\\n<script src=\"https://www.ibm.com/common/digitaladvisor/cm-app/latest/cm-app.min.js\" defer async></script>\\n\\n\\n\\n    \\n        \\n            <script type=\"module\" src=\"https://1.www.s81c.com/common/carbon/web-components/version/v1.42.1/tag.min.js\"></script>\\n        \\n            <script type=\"module\" src=\"https://1.www.s81c.com/common/carbon/web-components/version/v1.42.1/code-snippet.min.js\"></script>\\n        \\n        \\n            <script type=\"module\" src=\"https://1.www.s81c.com/common/carbon-for-ibm-dotcom/version/v1.46.1/footer.min.js\"></script>\\n        \\n            <script type=\"module\" src=\"https://1.www.s81c.com/common/carbon-for-ibm-dotcom/version/v1.46.1/image.min.js\"></script>\\n        \\n            <script type=\"module\" src=\"https://1.www.s81c.com/common/carbon-for-ibm-dotcom/version/v1.46.1/text-cta.js\"></script>\\n        \\n            <script type=\"module\" src=\"https://1.www.s81c.com/common/carbon-for-ibm-dotcom/version/v1.46.1/link-list.min.js\"></script>\\n        \\n            <script type=\"module\" src=\"https://1.www.s81c.com/common/carbon-for-ibm-dotcom/version/v1.46.1/link-list-item-cta.js\"></script>\\n        \\n            <script type=\"module\" src=\"https://1.www.s81c.com/common/carbon-for-ibm-dotcom/version/v1.46.1/table-of-contents.min.js\"></script>\\n        \\n            <script type=\"module\" src=\"https://1.www.s81c.com/common/carbon-for-ibm-dotcom/version/v1.46.1/card-cta-footer.js\"></script>\\n        \\n            <script type=\"module\" src=\"https://1.www.s81c.com/common/carbon-for-ibm-dotcom/version/v1.46.1/tag-group.min.js\"></script>\\n        \\n            <script type=\"module\" src=\"https://1.www.s81c.com/common/carbon-for-ibm-dotcom/version/v1.46.1/button-cta.js\"></script>\\n        \\n            <script type=\"module\" src=\"https://1.www.s81c.com/common/carbon-for-ibm-dotcom/version/v1.46.1/content-group-heading.js\"></script>\\n        \\n            <script type=\"module\" src=\"https://1.www.s81c.com/common/carbon-for-ibm-dotcom/version/v1.46.1/lightbox-video-player.min.js\"></script>\\n        \\n            <script type=\"module\" src=\"https://1.www.s81c.com/common/carbon-for-ibm-dotcom/version/v1.46.1/feature-section.min.js\"></script>\\n        \\n            <script type=\"module\" src=\"https://1.www.s81c.com/common/carbon-for-ibm-dotcom/version/v1.46.1/cta-block.min.js\"></script>\\n        \\n            <script type=\"module\" src=\"https://1.www.s81c.com/common/carbon-for-ibm-dotcom/version/v1.46.1/video-cta-container.min.js\"></script>\\n        \\n        \\n            <script type=\"module\" src=\"https://1.www.s81c.com/common/carbon/carbon-for-aem/version/v0.15.0/link-list-item.min.js\"></script>\\n        \\n            <script type=\"module\" src=\"https://1.www.s81c.com/common/carbon/carbon-for-aem/version/v0.15.0/video-player.min.js\"></script>\\n        \\n            <script type=\"module\" src=\"https://1.www.s81c.com/common/carbon/carbon-for-aem/version/v0.15.0/button-group.min.js\"></script>\\n        \\n            <script type=\"module\" src=\"https://1.www.s81c.com/common/carbon/carbon-for-aem/version/v0.15.0/paragraph.min.js\"></script>\\n        \\n            <script type=\"module\" src=\"https://1.www.s81c.com/common/carbon/carbon-for-aem/version/v0.15.0/card.min.js\"></script>\\n        \\n            <script type=\"module\" src=\"https://1.www.s81c.com/common/carbon/carbon-for-aem/version/v0.15.0/tile.min.js\"></script>\\n        \\n            <script type=\"module\" src=\"https://1.www.s81c.com/common/carbon/carbon-for-aem/version/v0.15.0/card-group.min.js\"></script>\\n        \\n            <script type=\"module\" src=\"https://1.www.s81c.com/common/carbon/carbon-for-aem/version/v0.15.0/cta.min.js\"></script>\\n        \\n            <script type=\"module\" src=\"https://1.www.s81c.com/common/carbon/carbon-for-aem/version/v0.15.0/intro-section.min.js\"></script>\\n        \\n            <script type=\"module\" src=\"https://1.www.s81c.com/common/carbon/carbon-for-aem/version/v0.15.0/heading.min.js\"></script>\\n        \\n    \\n    <script type=\"module\" id=\"anti-flicker-script\">\\n        document.getElementById(\\'anti-flicker-style\\').remove();\\n        document.getElementById(\\'anti-flicker-script\\').remove();\\n    </script>\\n\\n    <script defer src=\"/etc.clientlibs/adobe-cms/clientlibs/clientlib-pdfviewer.lc-e4412705ab74ab8b0e2e21371e0762c9-lc.min.js\"></script>\\n\\n\\n\\n\\n    <script src=\"https://1.www.s81c.com/common/stats/ibm-common.js\" defer></script>\\n    \\n\\n    \\n\\n    \\n\\n\\n\\n    \\n\\n    \\n\\n\\n\\n\\n<!-- Added for Adobe analytics implementation ADCMS-5834\\n<script type=\"text/javascript\">\\n\\n    adobeDataLayer.push({\\n        \"event\": \"linkClick\",\\n        \"web\": {\\n            \"webPageDetails\": {\\n                \"URL\": document.URL,\\n                \"name\": \"home\"\\n            },\\n            \"webInteraction\": {\\n                \"linkClick\":\"event\",\\n                \"value\":\"1\",\\n                \"type\": \"other\",\\n                \"URL\": document.URL,\\n                \"name\": \"linkClick: \" +  document.URL\\n            }\\n        },\\n    })\\n</script>  !-->\\n\\n<!-- Added for Adobe analytics implementation ADCMS-5834 & ADCMS-6152 !-->\\n<script type=\"text/javascript\">\\n    document.addEventListener(\"DOMContentLoaded\", function() {\\n        var templatePath = \"\\\\/conf\\\\/adobe\\\\u002Dcms\\\\u002Deditable\\\\/settings\\\\/wcm\\\\/templates\\\\/full\\\\u002Dwidth\\\\u002Dlayout\";\\n        var templateName = templatePath.split(\\'/\\').pop();\\n        const currentUrl = document.URL;\\n        const parts = currentUrl.split(\"/\");\\n        const sectionOne = parts.length > 3 ? parts[3].split(\"?\")[0] : \"\";\\n        const sectionTwo = parts.length > 4 ? parts[4].split(\"?\")[0] : \"\";\\n        const sectionThree = parts.length > 5 ? parts[5].split(\"?\")[0] : \"\";\\n\\n        function getCookieByName(name) {\\n            const cookieArr = document.cookie.split(\\';\\');\\n            for (let i = 0; i < cookieArr.length; i++) {\\n                const cookie = cookieArr[i].trim();\\n                if (cookie.startsWith(name + \"=\")) {\\n                    return cookie.substring(name.length + 1);\\n                }\\n            }\\n            return null;\\n        }\\n\\n        const userToken = getCookieByName(\"rxVisitor\");\\n        const cisSessionId = getCookieByName(\"CISSESSIONIDP07A\");\\n        let loginStatus = cisSessionId ? \"logged in\" : \"logged out\";\\n\\n        adobeDataLayer.push({\\n            \"event\": \"pageLoad\",\\n            \"_ibm\": {\\n                \"page\": {\\n                    \"siteSection2\": sectionTwo,\\n                    \"siteSection3\": sectionThree,\\n                    \"pageType\": templateName,\\n                    \"domain\": window.location.host,\\n                    \"siteLanguage\": \"en\",\\n                    \"pageName\": \"Homepage\",\\n                    \"siteCountry\": \"us\"\\n                },\\n                \"user\": {\\n                    \"userAgent\": navigator.userAgent,\\n                    \"ECID\": userToken,\\n                    \"loginStatus\": loginStatus\\n                },\\n                \"web\": {\\n                    \"webPageDetails\": {\\n                        \"pageViews\": {\\n                            \"value\": 1\\n                        },\\n                        \"URL\": document.URL,\\n                        \"name\": window.location.host + \" | \" + templateName + \" | Homepage\",\\n                        \"siteSection\": sectionOne\\n                    },\\n                    \"webReferrer\": {\\n                        \"URL\": document.referrer\\n                    }\\n                }\\n            }\\n        });\\n\\n        document.addEventListener(\\'click\\', function(event) {\\n            if (event.target.closest(\\'.WACLauncher__ButtonContainer\\')) {\\n                handleClick(event);\\n            }\\n        });\\n\\n        function handleClick(event) {\\n            adobeDataLayer.push({\\n                \"event\": \"chatInitialized\",\\n                \"_ibm\": {\\n                    \"chat\": {\\n                        \"chatBotClick\": {\\n                            \"value\": 1\\n                        },\\n                        \"liveChatType\": \"Support or Sales\",\\n                        \"chatLanguage\": \"en\",\\n                        \"chatCountry\": \"us\"\\n                    },\\n                    \"click\": {\\n                        \"linkPosition\": 4,\\n                        \"linkTileNumber\": 1\\n                    },\\n                    \"web\": {\\n                        \"webPageDetails\": {\\n                            \"URL\": document.URL,\\n                            \"name\": window.location.host + \" | \" + templateName + \" | homepage\"\\n                        },\\n                        \"webInteraction\": {\\n                            \"name\": \"chatInitialized\",\\n                            \"URL\": document.URL,\\n                            \"type\": \"other\"\\n                        }\\n                    }\\n                }\\n            });\\n        }\\n    });\\n</script>\\n\\n<script type=\"module\">\\n  window.RUM_BASE = \\'/\\';\\n  import { sampleRUM } from \\'/.rum/@adobe/helix-rum-js@^1/src/index.js\\';\\n  sampleRUM(\\'lazy\\');\\n  sampleRUM(\\'cwv\\');\\n</script><script type=\"text/javascript\"  src=\"/voSS_5JOC5MvF71YHXTBLySA/cOaXhDDJSVXD/alk6OXRdAw/TAAZY/QphWVcB\"></script><link rel=\"stylesheet\" type=\"text/css\"  href=\"/voSS_5JOC5MvF71YHXTBLySA/h6/I3QdOXRdAw/bwoXV/xBeRXpX\">\\n                                        <script  src=\"/voSS_5JOC5MvF71YHXTBLySA/h6/I3QdOXRdAw/I0UTL/GpjcGso\" async defer></script>\\n                                        <div id=\"sec-overlay\" style=\"display:none;\">\\n                                        <div id=\"sec-container\">\\n                                        </div>\\n                                      </div></body>\\n</html>'"
            ],
            "application/vnd.google.colaboratory.intrinsic+json": {
              "type": "string"
            }
          },
          "metadata": {},
          "execution_count": 90
        }
      ],
      "source": [
        "data  = requests.get(url).text\n",
        "data"
      ]
    },
    {
      "cell_type": "markdown",
      "metadata": {
        "id": "m_xavIHeiQLj"
      },
      "source": [
        "We create a <code>BeautifulSoup</code> object using the <code>BeautifulSoup</code> constructor\n"
      ]
    },
    {
      "cell_type": "code",
      "execution_count": null,
      "metadata": {
        "id": "raUut1AZiQLj"
      },
      "outputs": [],
      "source": [
        "soup = BeautifulSoup(data,\"html.parser\")  # create a soup object using the variable 'data'"
      ]
    },
    {
      "cell_type": "markdown",
      "metadata": {
        "id": "f__oRHlxiQLj"
      },
      "source": [
        "Scrape all links\n"
      ]
    },
    {
      "cell_type": "code",
      "execution_count": null,
      "metadata": {
        "id": "TDS1yuQCiQLj",
        "colab": {
          "base_uri": "https://localhost:8080/"
        },
        "outputId": "7d6b1343-90df-4fc2-ab56-12723edc481a"
      },
      "outputs": [
        {
          "output_type": "stream",
          "name": "stdout",
          "text": [
            "https://www.ibm.com/artificial-intelligence\n",
            "https://www.ibm.com/hybrid-cloud?lnk=hpUSbt1\n",
            "https://www.ibm.com/consulting\n"
          ]
        }
      ],
      "source": [
        "for link in soup.find_all('a',href=True):  # in html anchor/link is represented by the tag <a>\n",
        "\n",
        "    print(link.get('href'))\n"
      ]
    },
    {
      "cell_type": "markdown",
      "metadata": {
        "id": "DzsahRWWiQLj"
      },
      "source": [
        "## Scrape  all images  Tags\n"
      ]
    },
    {
      "cell_type": "code",
      "execution_count": null,
      "metadata": {
        "id": "LHMXlthTiQLj"
      },
      "outputs": [],
      "source": [
        "for link in soup.find_all('img'):# in html image is represented by the tag <img>\n",
        "    print(link)\n",
        "    print(link.get('src'))"
      ]
    },
    {
      "cell_type": "markdown",
      "metadata": {
        "id": "gG5X94fXiQLk"
      },
      "source": [
        "## Scrape data from HTML tables\n"
      ]
    },
    {
      "cell_type": "code",
      "execution_count": null,
      "metadata": {
        "id": "zXlAUfaziQLk"
      },
      "outputs": [],
      "source": [
        "#The below url contains an html table with data about colors and color codes.\n",
        "url = \"https://cf-courses-data.s3.us.cloud-object-storage.appdomain.cloud/IBM-DA0321EN-SkillsNetwork/labs/datasets/HTMLColorCodes.html\""
      ]
    },
    {
      "cell_type": "markdown",
      "metadata": {
        "id": "-PsjeKd3iQLk"
      },
      "source": [
        "Before proceeding to scrape a web site, you need to examine the contents, and the way data is organized on the website. Open the above url in your browser and check how many rows and columns are there in the color table.\n"
      ]
    },
    {
      "cell_type": "code",
      "execution_count": null,
      "metadata": {
        "id": "t5Unnd59iQLk"
      },
      "outputs": [],
      "source": [
        "# get the contents of the webpage in text format and store in a variable called data\n",
        "data  = requests.get(url).text"
      ]
    },
    {
      "cell_type": "code",
      "execution_count": null,
      "metadata": {
        "id": "im-ia_zqiQLk"
      },
      "outputs": [],
      "source": [
        "soup = BeautifulSoup(data,\"html.parser\")"
      ]
    },
    {
      "cell_type": "code",
      "execution_count": null,
      "metadata": {
        "id": "BVAMWp_FiQLl"
      },
      "outputs": [],
      "source": [
        "#find a html table in the web page\n",
        "table = soup.find('table') # in html table is represented by the tag <table>"
      ]
    },
    {
      "cell_type": "code",
      "execution_count": null,
      "metadata": {
        "id": "AHHFCaV4iQLl",
        "colab": {
          "base_uri": "https://localhost:8080/"
        },
        "outputId": "c5f55e5b-44cd-41d2-e5e9-931c9f0ad1cc",
        "collapsed": true
      },
      "outputs": [
        {
          "output_type": "stream",
          "name": "stdout",
          "text": [
            "Color Name--->None\n",
            "lightsalmon--->#FFA07A\n",
            "salmon--->#FA8072\n",
            "darksalmon--->#E9967A\n",
            "lightcoral--->#F08080\n",
            "coral--->#FF7F50\n",
            "tomato--->#FF6347\n",
            "orangered--->#FF4500\n",
            "gold--->#FFD700\n",
            "orange--->#FFA500\n",
            "darkorange--->#FF8C00\n",
            "lightyellow--->#FFFFE0\n",
            "lemonchiffon--->#FFFACD\n",
            "papayawhip--->#FFEFD5\n",
            "moccasin--->#FFE4B5\n",
            "peachpuff--->#FFDAB9\n",
            "palegoldenrod--->#EEE8AA\n",
            "khaki--->#F0E68C\n",
            "darkkhaki--->#BDB76B\n",
            "yellow--->#FFFF00\n",
            "lawngreen--->#7CFC00\n",
            "chartreuse--->#7FFF00\n",
            "limegreen--->#32CD32\n",
            "lime--->#00FF00\n",
            "forestgreen--->#228B22\n",
            "green--->#008000\n",
            "powderblue--->#B0E0E6\n",
            "lightblue--->#ADD8E6\n",
            "lightskyblue--->#87CEFA\n",
            "skyblue--->#87CEEB\n",
            "deepskyblue--->#00BFFF\n",
            "lightsteelblue--->#B0C4DE\n",
            "dodgerblue--->#1E90FF\n"
          ]
        }
      ],
      "source": [
        "#Get all rows from the table\n",
        "for row in table.find_all('tr'): # in html table row is represented by the tag <tr>\n",
        "    # Get all columns in each row.\n",
        "    cols = row.find_all('td') # in html a column is represented by the tag <td>\n",
        "    color_name = cols[2].string # store the value in column 3 as color_name\n",
        "    color_code = cols[3].string # store the value in column 4 as color_code\n",
        "    print(\"{}--->{}\".format(color_name,color_code))"
      ]
    },
    {
      "cell_type": "markdown",
      "metadata": {
        "id": "codSRAIuiQLl"
      },
      "source": [
        "## Scrape data from HTML tables into a DataFrame using BeautifulSoup and Pandas\n"
      ]
    },
    {
      "cell_type": "code",
      "execution_count": null,
      "metadata": {
        "id": "XgC_8EdpiQLl"
      },
      "outputs": [],
      "source": [
        "import pandas as pd"
      ]
    },
    {
      "cell_type": "code",
      "execution_count": null,
      "metadata": {
        "id": "tXCLgHX8iQLl"
      },
      "outputs": [],
      "source": [
        "#The below url contains html tables with data about world population.\n",
        "url = \"https://en.wikipedia.org/wiki/World_population\""
      ]
    },
    {
      "cell_type": "markdown",
      "metadata": {
        "id": "Ep13EphMiQLl"
      },
      "source": [
        "Before proceeding to scrape a web site, you need to examine the contents, and the way data is organized on the website. Open the above url in your browser and check the tables on the webpage.\n"
      ]
    },
    {
      "cell_type": "code",
      "execution_count": null,
      "metadata": {
        "id": "_LFU8KVWiQLl"
      },
      "outputs": [],
      "source": [
        "# get the contents of the webpage in text format and store in a variable called data\n",
        "data  = requests.get(url).text"
      ]
    },
    {
      "cell_type": "code",
      "execution_count": null,
      "metadata": {
        "id": "NMTcSN5miQLl"
      },
      "outputs": [],
      "source": [
        "soup = BeautifulSoup(data,\"html.parser\")"
      ]
    },
    {
      "cell_type": "code",
      "execution_count": null,
      "metadata": {
        "id": "pweUaWh-iQLm"
      },
      "outputs": [],
      "source": [
        "#find all html tables in the web page\n",
        "tables = soup.find_all('table') # in html table is represented by the tag <table>"
      ]
    },
    {
      "cell_type": "code",
      "execution_count": null,
      "metadata": {
        "id": "pSFkFA5XiQLm",
        "colab": {
          "base_uri": "https://localhost:8080/"
        },
        "outputId": "53c1efce-58e2-403f-d3de-c6758fca35a8"
      },
      "outputs": [
        {
          "output_type": "execute_result",
          "data": {
            "text/plain": [
              "31"
            ]
          },
          "metadata": {},
          "execution_count": 101
        }
      ],
      "source": [
        "# we can see how many tables were found by checking the length of the tables list\n",
        "len(tables)"
      ]
    },
    {
      "cell_type": "markdown",
      "metadata": {
        "id": "KJWMaeqYiQLm"
      },
      "source": [
        "Assume that we are looking for the `10 most densly populated countries` table, we can look through the tables list and find the right one we are look for based on the data in each table or we can search for the table name if it is in the table but this option might not always work.\n"
      ]
    },
    {
      "cell_type": "code",
      "execution_count": null,
      "metadata": {
        "id": "z74SAyKDiQLm",
        "colab": {
          "base_uri": "https://localhost:8080/"
        },
        "outputId": "3012c14e-d563-434c-b2b4-17b9a83b6322"
      },
      "outputs": [
        {
          "output_type": "stream",
          "name": "stdout",
          "text": [
            "8\n"
          ]
        }
      ],
      "source": [
        "for index,table in enumerate(tables):\n",
        "    if (\"10 most densely populated countries\" in str(table)):\n",
        "        table_index = index\n",
        "print(table_index)"
      ]
    },
    {
      "cell_type": "markdown",
      "metadata": {
        "id": "vPtFkK_PiQLm"
      },
      "source": [
        "See if you can locate the table name of the table, `10 most densly populated countries`, below.\n"
      ]
    },
    {
      "cell_type": "code",
      "execution_count": 117,
      "metadata": {
        "id": "fgrV5iQNiQLm",
        "colab": {
          "base_uri": "https://localhost:8080/"
        },
        "collapsed": true,
        "outputId": "c84f43b4-6ddb-4ff5-a1bd-c57c88b93ec7"
      },
      "outputs": [
        {
          "output_type": "stream",
          "name": "stdout",
          "text": [
            "<table class=\"wikitable sortable\" style=\"text-align:right\">\n",
            " <caption>\n",
            "  10 most densely populated countries\n",
            "  <small>\n",
            "   (with population above 5 million)\n",
            "  </small>\n",
            "  <sup class=\"reference\" id=\"cite_ref-:10_104-0\">\n",
            "   <a href=\"#cite_note-:10-104\">\n",
            "    <span class=\"cite-bracket\">\n",
            "     [\n",
            "    </span>\n",
            "    99\n",
            "    <span class=\"cite-bracket\">\n",
            "     ]\n",
            "    </span>\n",
            "   </a>\n",
            "  </sup>\n",
            " </caption>\n",
            " <tbody>\n",
            "  <tr>\n",
            "   <th scope=\"col\">\n",
            "    Rank\n",
            "   </th>\n",
            "   <th scope=\"col\">\n",
            "    Country\n",
            "   </th>\n",
            "   <th scope=\"col\">\n",
            "    Population\n",
            "   </th>\n",
            "   <th scope=\"col\">\n",
            "    Area\n",
            "    <br/>\n",
            "    <small>\n",
            "     (km\n",
            "     <sup>\n",
            "      2\n",
            "     </sup>\n",
            "     )\n",
            "    </small>\n",
            "   </th>\n",
            "   <th scope=\"col\">\n",
            "    Density\n",
            "    <br/>\n",
            "    <small>\n",
            "     (pop/km\n",
            "     <sup>\n",
            "      2\n",
            "     </sup>\n",
            "     )\n",
            "    </small>\n",
            "   </th>\n",
            "  </tr>\n",
            "  <tr>\n",
            "   <td>\n",
            "    1\n",
            "   </td>\n",
            "   <td align=\"left\">\n",
            "    <span class=\"flagicon\">\n",
            "     <span class=\"mw-image-border\" typeof=\"mw:File\">\n",
            "      <span>\n",
            "       <img alt=\"\" class=\"mw-file-element\" data-file-height=\"600\" data-file-width=\"900\" decoding=\"async\" height=\"15\" src=\"//upload.wikimedia.org/wikipedia/commons/thumb/4/48/Flag_of_Singapore.svg/23px-Flag_of_Singapore.svg.png\" srcset=\"//upload.wikimedia.org/wikipedia/commons/thumb/4/48/Flag_of_Singapore.svg/35px-Flag_of_Singapore.svg.png 1.5x, //upload.wikimedia.org/wikipedia/commons/thumb/4/48/Flag_of_Singapore.svg/45px-Flag_of_Singapore.svg.png 2x\" width=\"23\"/>\n",
            "      </span>\n",
            "     </span>\n",
            "    </span>\n",
            "    <a href=\"/wiki/Singapore\" title=\"Singapore\">\n",
            "     Singapore\n",
            "    </a>\n",
            "   </td>\n",
            "   <td>\n",
            "    5,921,231\n",
            "   </td>\n",
            "   <td>\n",
            "    719\n",
            "   </td>\n",
            "   <td>\n",
            "    8,235\n",
            "   </td>\n",
            "  </tr>\n",
            "  <tr>\n",
            "   <td>\n",
            "    2\n",
            "   </td>\n",
            "   <td align=\"left\">\n",
            "    <span class=\"flagicon\">\n",
            "     <span class=\"mw-image-border\" typeof=\"mw:File\">\n",
            "      <span>\n",
            "       <img alt=\"\" class=\"mw-file-element\" data-file-height=\"600\" data-file-width=\"1000\" decoding=\"async\" height=\"14\" src=\"//upload.wikimedia.org/wikipedia/commons/thumb/f/f9/Flag_of_Bangladesh.svg/23px-Flag_of_Bangladesh.svg.png\" srcset=\"//upload.wikimedia.org/wikipedia/commons/thumb/f/f9/Flag_of_Bangladesh.svg/35px-Flag_of_Bangladesh.svg.png 1.5x, //upload.wikimedia.org/wikipedia/commons/thumb/f/f9/Flag_of_Bangladesh.svg/46px-Flag_of_Bangladesh.svg.png 2x\" width=\"23\"/>\n",
            "      </span>\n",
            "     </span>\n",
            "    </span>\n",
            "    <a href=\"/wiki/Bangladesh\" title=\"Bangladesh\">\n",
            "     Bangladesh\n",
            "    </a>\n",
            "   </td>\n",
            "   <td>\n",
            "    165,650,475\n",
            "   </td>\n",
            "   <td>\n",
            "    148,460\n",
            "   </td>\n",
            "   <td>\n",
            "    1,116\n",
            "   </td>\n",
            "  </tr>\n",
            "  <tr>\n",
            "   <td>\n",
            "    3\n",
            "   </td>\n",
            "   <td align=\"left\">\n",
            "    <p>\n",
            "     <span class=\"flagicon\">\n",
            "      <span class=\"mw-image-border\" typeof=\"mw:File\">\n",
            "       <span>\n",
            "        <img alt=\"\" class=\"mw-file-element\" data-file-height=\"600\" data-file-width=\"1200\" decoding=\"async\" height=\"12\" src=\"//upload.wikimedia.org/wikipedia/commons/thumb/0/00/Flag_of_Palestine.svg/23px-Flag_of_Palestine.svg.png\" srcset=\"//upload.wikimedia.org/wikipedia/commons/thumb/0/00/Flag_of_Palestine.svg/35px-Flag_of_Palestine.svg.png 1.5x, //upload.wikimedia.org/wikipedia/commons/thumb/0/00/Flag_of_Palestine.svg/46px-Flag_of_Palestine.svg.png 2x\" width=\"23\"/>\n",
            "       </span>\n",
            "      </span>\n",
            "     </span>\n",
            "     <a href=\"/wiki/State_of_Palestine\" title=\"State of Palestine\">\n",
            "      Palestine\n",
            "     </a>\n",
            "     <sup class=\"reference\" id=\"cite_ref-105\">\n",
            "      <a href=\"#cite_note-105\">\n",
            "       <span class=\"cite-bracket\">\n",
            "        [\n",
            "       </span>\n",
            "       note 3\n",
            "       <span class=\"cite-bracket\">\n",
            "        ]\n",
            "       </span>\n",
            "      </a>\n",
            "     </sup>\n",
            "     <sup class=\"reference\" id=\"cite_ref-106\">\n",
            "      <a href=\"#cite_note-106\">\n",
            "       <span class=\"cite-bracket\">\n",
            "        [\n",
            "       </span>\n",
            "       100\n",
            "       <span class=\"cite-bracket\">\n",
            "        ]\n",
            "       </span>\n",
            "      </a>\n",
            "     </sup>\n",
            "    </p>\n",
            "   </td>\n",
            "   <td>\n",
            "    5,223,000\n",
            "   </td>\n",
            "   <td>\n",
            "    6,025\n",
            "   </td>\n",
            "   <td>\n",
            "    867\n",
            "   </td>\n",
            "  </tr>\n",
            "  <tr>\n",
            "   <td>\n",
            "    4\n",
            "   </td>\n",
            "   <td align=\"left\">\n",
            "    <span class=\"flagicon\">\n",
            "     <span class=\"mw-image-border\" typeof=\"mw:File\">\n",
            "      <span>\n",
            "       <img alt=\"\" class=\"mw-file-element\" data-file-height=\"600\" data-file-width=\"900\" decoding=\"async\" height=\"15\" src=\"//upload.wikimedia.org/wikipedia/commons/thumb/7/72/Flag_of_the_Republic_of_China.svg/23px-Flag_of_the_Republic_of_China.svg.png\" srcset=\"//upload.wikimedia.org/wikipedia/commons/thumb/7/72/Flag_of_the_Republic_of_China.svg/35px-Flag_of_the_Republic_of_China.svg.png 1.5x, //upload.wikimedia.org/wikipedia/commons/thumb/7/72/Flag_of_the_Republic_of_China.svg/45px-Flag_of_the_Republic_of_China.svg.png 2x\" width=\"23\"/>\n",
            "      </span>\n",
            "     </span>\n",
            "    </span>\n",
            "    <a href=\"/wiki/Taiwan\" title=\"Taiwan\">\n",
            "     Taiwan\n",
            "    </a>\n",
            "    <sup class=\"reference\" id=\"cite_ref-107\">\n",
            "     <a href=\"#cite_note-107\">\n",
            "      <span class=\"cite-bracket\">\n",
            "       [\n",
            "      </span>\n",
            "      note 4\n",
            "      <span class=\"cite-bracket\">\n",
            "       ]\n",
            "      </span>\n",
            "     </a>\n",
            "    </sup>\n",
            "   </td>\n",
            "   <td>\n",
            "    23,580,712\n",
            "   </td>\n",
            "   <td>\n",
            "    35,980\n",
            "   </td>\n",
            "   <td>\n",
            "    655\n",
            "   </td>\n",
            "  </tr>\n",
            "  <tr>\n",
            "   <td>\n",
            "    5\n",
            "   </td>\n",
            "   <td align=\"left\">\n",
            "    <span class=\"flagicon\">\n",
            "     <span class=\"mw-image-border\" typeof=\"mw:File\">\n",
            "      <span>\n",
            "       <img alt=\"\" class=\"mw-file-element\" data-file-height=\"600\" data-file-width=\"900\" decoding=\"async\" height=\"15\" src=\"//upload.wikimedia.org/wikipedia/commons/thumb/0/09/Flag_of_South_Korea.svg/23px-Flag_of_South_Korea.svg.png\" srcset=\"//upload.wikimedia.org/wikipedia/commons/thumb/0/09/Flag_of_South_Korea.svg/35px-Flag_of_South_Korea.svg.png 1.5x, //upload.wikimedia.org/wikipedia/commons/thumb/0/09/Flag_of_South_Korea.svg/45px-Flag_of_South_Korea.svg.png 2x\" width=\"23\"/>\n",
            "      </span>\n",
            "     </span>\n",
            "    </span>\n",
            "    <a href=\"/wiki/South_Korea\" title=\"South Korea\">\n",
            "     South Korea\n",
            "    </a>\n",
            "   </td>\n",
            "   <td>\n",
            "    51,844,834\n",
            "   </td>\n",
            "   <td>\n",
            "    99,720\n",
            "   </td>\n",
            "   <td>\n",
            "    520\n",
            "   </td>\n",
            "  </tr>\n",
            "  <tr>\n",
            "   <td>\n",
            "    6\n",
            "   </td>\n",
            "   <td align=\"left\">\n",
            "    <span class=\"flagicon\">\n",
            "     <span class=\"mw-image-border\" typeof=\"mw:File\">\n",
            "      <span>\n",
            "       <img alt=\"\" class=\"mw-file-element\" data-file-height=\"600\" data-file-width=\"900\" decoding=\"async\" height=\"15\" src=\"//upload.wikimedia.org/wikipedia/commons/thumb/5/59/Flag_of_Lebanon.svg/23px-Flag_of_Lebanon.svg.png\" srcset=\"//upload.wikimedia.org/wikipedia/commons/thumb/5/59/Flag_of_Lebanon.svg/35px-Flag_of_Lebanon.svg.png 1.5x, //upload.wikimedia.org/wikipedia/commons/thumb/5/59/Flag_of_Lebanon.svg/45px-Flag_of_Lebanon.svg.png 2x\" width=\"23\"/>\n",
            "      </span>\n",
            "     </span>\n",
            "    </span>\n",
            "    <a href=\"/wiki/Lebanon\" title=\"Lebanon\">\n",
            "     Lebanon\n",
            "    </a>\n",
            "   </td>\n",
            "   <td>\n",
            "    5,296,814\n",
            "   </td>\n",
            "   <td>\n",
            "    10,400\n",
            "   </td>\n",
            "   <td>\n",
            "    509\n",
            "   </td>\n",
            "  </tr>\n",
            "  <tr>\n",
            "   <td>\n",
            "    7\n",
            "   </td>\n",
            "   <td align=\"left\">\n",
            "    <span class=\"flagicon\">\n",
            "     <span class=\"mw-image-border\" typeof=\"mw:File\">\n",
            "      <span>\n",
            "       <img alt=\"\" class=\"mw-file-element\" data-file-height=\"600\" data-file-width=\"900\" decoding=\"async\" height=\"15\" src=\"//upload.wikimedia.org/wikipedia/commons/thumb/1/17/Flag_of_Rwanda.svg/23px-Flag_of_Rwanda.svg.png\" srcset=\"//upload.wikimedia.org/wikipedia/commons/thumb/1/17/Flag_of_Rwanda.svg/35px-Flag_of_Rwanda.svg.png 1.5x, //upload.wikimedia.org/wikipedia/commons/thumb/1/17/Flag_of_Rwanda.svg/45px-Flag_of_Rwanda.svg.png 2x\" width=\"23\"/>\n",
            "      </span>\n",
            "     </span>\n",
            "    </span>\n",
            "    <a href=\"/wiki/Rwanda\" title=\"Rwanda\">\n",
            "     Rwanda\n",
            "    </a>\n",
            "   </td>\n",
            "   <td>\n",
            "    13,173,730\n",
            "   </td>\n",
            "   <td>\n",
            "    26,338\n",
            "   </td>\n",
            "   <td>\n",
            "    500\n",
            "   </td>\n",
            "  </tr>\n",
            "  <tr>\n",
            "   <td>\n",
            "    8\n",
            "   </td>\n",
            "   <td align=\"left\">\n",
            "    <span class=\"flagicon\">\n",
            "     <span class=\"mw-image-border\" typeof=\"mw:File\">\n",
            "      <span>\n",
            "       <img alt=\"\" class=\"mw-file-element\" data-file-height=\"600\" data-file-width=\"1000\" decoding=\"async\" height=\"14\" src=\"//upload.wikimedia.org/wikipedia/commons/thumb/5/50/Flag_of_Burundi.svg/23px-Flag_of_Burundi.svg.png\" srcset=\"//upload.wikimedia.org/wikipedia/commons/thumb/5/50/Flag_of_Burundi.svg/35px-Flag_of_Burundi.svg.png 1.5x, //upload.wikimedia.org/wikipedia/commons/thumb/5/50/Flag_of_Burundi.svg/46px-Flag_of_Burundi.svg.png 2x\" width=\"23\"/>\n",
            "      </span>\n",
            "     </span>\n",
            "    </span>\n",
            "    <a href=\"/wiki/Burundi\" title=\"Burundi\">\n",
            "     Burundi\n",
            "    </a>\n",
            "   </td>\n",
            "   <td>\n",
            "    12,696,478\n",
            "   </td>\n",
            "   <td>\n",
            "    27,830\n",
            "   </td>\n",
            "   <td>\n",
            "    456\n",
            "   </td>\n",
            "  </tr>\n",
            "  <tr>\n",
            "   <td>\n",
            "    9\n",
            "   </td>\n",
            "   <td align=\"left\">\n",
            "    <span class=\"flagicon\">\n",
            "     <span class=\"mw-image-border\" typeof=\"mw:File\">\n",
            "      <span>\n",
            "       <img alt=\"\" class=\"mw-file-element\" data-file-height=\"800\" data-file-width=\"1100\" decoding=\"async\" height=\"15\" src=\"//upload.wikimedia.org/wikipedia/commons/thumb/d/d4/Flag_of_Israel.svg/21px-Flag_of_Israel.svg.png\" srcset=\"//upload.wikimedia.org/wikipedia/commons/thumb/d/d4/Flag_of_Israel.svg/32px-Flag_of_Israel.svg.png 1.5x, //upload.wikimedia.org/wikipedia/commons/thumb/d/d4/Flag_of_Israel.svg/41px-Flag_of_Israel.svg.png 2x\" width=\"21\"/>\n",
            "      </span>\n",
            "     </span>\n",
            "    </span>\n",
            "    <a href=\"/wiki/Israel\" title=\"Israel\">\n",
            "     Israel\n",
            "    </a>\n",
            "   </td>\n",
            "   <td>\n",
            "    9,402,617\n",
            "   </td>\n",
            "   <td>\n",
            "    21,937\n",
            "   </td>\n",
            "   <td>\n",
            "    429\n",
            "   </td>\n",
            "  </tr>\n",
            "  <tr>\n",
            "   <td>\n",
            "    10\n",
            "   </td>\n",
            "   <td align=\"left\">\n",
            "    <span class=\"flagicon\">\n",
            "     <span class=\"mw-image-border\" typeof=\"mw:File\">\n",
            "      <span>\n",
            "       <img alt=\"\" class=\"mw-file-element\" data-file-height=\"600\" data-file-width=\"900\" decoding=\"async\" height=\"15\" src=\"//upload.wikimedia.org/wikipedia/en/thumb/4/41/Flag_of_India.svg/23px-Flag_of_India.svg.png\" srcset=\"//upload.wikimedia.org/wikipedia/en/thumb/4/41/Flag_of_India.svg/35px-Flag_of_India.svg.png 1.5x, //upload.wikimedia.org/wikipedia/en/thumb/4/41/Flag_of_India.svg/45px-Flag_of_India.svg.png 2x\" width=\"23\"/>\n",
            "      </span>\n",
            "     </span>\n",
            "    </span>\n",
            "    <a href=\"/wiki/India\" title=\"India\">\n",
            "     India\n",
            "    </a>\n",
            "   </td>\n",
            "   <td>\n",
            "    1,389,637,446\n",
            "   </td>\n",
            "   <td>\n",
            "    3,287,263\n",
            "   </td>\n",
            "   <td>\n",
            "    423\n",
            "   </td>\n",
            "  </tr>\n",
            " </tbody>\n",
            "</table>\n",
            "\n"
          ]
        }
      ],
      "source": [
        "print(tables[table_index].prettify())"
      ]
    },
    {
      "cell_type": "code",
      "source": [
        "population_data = pd.DataFrame(columns=[\"Rank\", \"Country\", \"Population\", \"Area\", \"Density\"])\n",
        "population_data\n",
        "population_data = pd.concat([population_data, pd.DataFrame([{\"Rank\":rank, \"Country\":country, \"Population\":population, \"Area\":area, \"Density\":density}])], ignore_index=True)\n",
        "population_data"
      ],
      "metadata": {
        "colab": {
          "base_uri": "https://localhost:8080/",
          "height": 89
        },
        "collapsed": true,
        "id": "VH80ExoHKTBy",
        "outputId": "39a64c04-63cc-40a7-ea59-c8990580bb6a"
      },
      "execution_count": 125,
      "outputs": [
        {
          "output_type": "execute_result",
          "data": {
            "text/plain": [
              "  Rank     Country Population Area Density\n",
              "0    1   Singapore  5,921,231  719   8,235"
            ],
            "text/html": [
              "\n",
              "  <div id=\"df-d36b8112-e186-4a55-8615-6d9dad545187\" class=\"colab-df-container\">\n",
              "    <div>\n",
              "<style scoped>\n",
              "    .dataframe tbody tr th:only-of-type {\n",
              "        vertical-align: middle;\n",
              "    }\n",
              "\n",
              "    .dataframe tbody tr th {\n",
              "        vertical-align: top;\n",
              "    }\n",
              "\n",
              "    .dataframe thead th {\n",
              "        text-align: right;\n",
              "    }\n",
              "</style>\n",
              "<table border=\"1\" class=\"dataframe\">\n",
              "  <thead>\n",
              "    <tr style=\"text-align: right;\">\n",
              "      <th></th>\n",
              "      <th>Rank</th>\n",
              "      <th>Country</th>\n",
              "      <th>Population</th>\n",
              "      <th>Area</th>\n",
              "      <th>Density</th>\n",
              "    </tr>\n",
              "  </thead>\n",
              "  <tbody>\n",
              "    <tr>\n",
              "      <th>0</th>\n",
              "      <td>1</td>\n",
              "      <td>Singapore</td>\n",
              "      <td>5,921,231</td>\n",
              "      <td>719</td>\n",
              "      <td>8,235</td>\n",
              "    </tr>\n",
              "  </tbody>\n",
              "</table>\n",
              "</div>\n",
              "    <div class=\"colab-df-buttons\">\n",
              "\n",
              "  <div class=\"colab-df-container\">\n",
              "    <button class=\"colab-df-convert\" onclick=\"convertToInteractive('df-d36b8112-e186-4a55-8615-6d9dad545187')\"\n",
              "            title=\"Convert this dataframe to an interactive table.\"\n",
              "            style=\"display:none;\">\n",
              "\n",
              "  <svg xmlns=\"http://www.w3.org/2000/svg\" height=\"24px\" viewBox=\"0 -960 960 960\">\n",
              "    <path d=\"M120-120v-720h720v720H120Zm60-500h600v-160H180v160Zm220 220h160v-160H400v160Zm0 220h160v-160H400v160ZM180-400h160v-160H180v160Zm440 0h160v-160H620v160ZM180-180h160v-160H180v160Zm440 0h160v-160H620v160Z\"/>\n",
              "  </svg>\n",
              "    </button>\n",
              "\n",
              "  <style>\n",
              "    .colab-df-container {\n",
              "      display:flex;\n",
              "      gap: 12px;\n",
              "    }\n",
              "\n",
              "    .colab-df-convert {\n",
              "      background-color: #E8F0FE;\n",
              "      border: none;\n",
              "      border-radius: 50%;\n",
              "      cursor: pointer;\n",
              "      display: none;\n",
              "      fill: #1967D2;\n",
              "      height: 32px;\n",
              "      padding: 0 0 0 0;\n",
              "      width: 32px;\n",
              "    }\n",
              "\n",
              "    .colab-df-convert:hover {\n",
              "      background-color: #E2EBFA;\n",
              "      box-shadow: 0px 1px 2px rgba(60, 64, 67, 0.3), 0px 1px 3px 1px rgba(60, 64, 67, 0.15);\n",
              "      fill: #174EA6;\n",
              "    }\n",
              "\n",
              "    .colab-df-buttons div {\n",
              "      margin-bottom: 4px;\n",
              "    }\n",
              "\n",
              "    [theme=dark] .colab-df-convert {\n",
              "      background-color: #3B4455;\n",
              "      fill: #D2E3FC;\n",
              "    }\n",
              "\n",
              "    [theme=dark] .colab-df-convert:hover {\n",
              "      background-color: #434B5C;\n",
              "      box-shadow: 0px 1px 3px 1px rgba(0, 0, 0, 0.15);\n",
              "      filter: drop-shadow(0px 1px 2px rgba(0, 0, 0, 0.3));\n",
              "      fill: #FFFFFF;\n",
              "    }\n",
              "  </style>\n",
              "\n",
              "    <script>\n",
              "      const buttonEl =\n",
              "        document.querySelector('#df-d36b8112-e186-4a55-8615-6d9dad545187 button.colab-df-convert');\n",
              "      buttonEl.style.display =\n",
              "        google.colab.kernel.accessAllowed ? 'block' : 'none';\n",
              "\n",
              "      async function convertToInteractive(key) {\n",
              "        const element = document.querySelector('#df-d36b8112-e186-4a55-8615-6d9dad545187');\n",
              "        const dataTable =\n",
              "          await google.colab.kernel.invokeFunction('convertToInteractive',\n",
              "                                                    [key], {});\n",
              "        if (!dataTable) return;\n",
              "\n",
              "        const docLinkHtml = 'Like what you see? Visit the ' +\n",
              "          '<a target=\"_blank\" href=https://colab.research.google.com/notebooks/data_table.ipynb>data table notebook</a>'\n",
              "          + ' to learn more about interactive tables.';\n",
              "        element.innerHTML = '';\n",
              "        dataTable['output_type'] = 'display_data';\n",
              "        await google.colab.output.renderOutput(dataTable, element);\n",
              "        const docLink = document.createElement('div');\n",
              "        docLink.innerHTML = docLinkHtml;\n",
              "        element.appendChild(docLink);\n",
              "      }\n",
              "    </script>\n",
              "  </div>\n",
              "\n",
              "\n",
              "  <div id=\"id_4cc09d7f-c506-4505-ac3a-f1b90402e854\">\n",
              "    <style>\n",
              "      .colab-df-generate {\n",
              "        background-color: #E8F0FE;\n",
              "        border: none;\n",
              "        border-radius: 50%;\n",
              "        cursor: pointer;\n",
              "        display: none;\n",
              "        fill: #1967D2;\n",
              "        height: 32px;\n",
              "        padding: 0 0 0 0;\n",
              "        width: 32px;\n",
              "      }\n",
              "\n",
              "      .colab-df-generate:hover {\n",
              "        background-color: #E2EBFA;\n",
              "        box-shadow: 0px 1px 2px rgba(60, 64, 67, 0.3), 0px 1px 3px 1px rgba(60, 64, 67, 0.15);\n",
              "        fill: #174EA6;\n",
              "      }\n",
              "\n",
              "      [theme=dark] .colab-df-generate {\n",
              "        background-color: #3B4455;\n",
              "        fill: #D2E3FC;\n",
              "      }\n",
              "\n",
              "      [theme=dark] .colab-df-generate:hover {\n",
              "        background-color: #434B5C;\n",
              "        box-shadow: 0px 1px 3px 1px rgba(0, 0, 0, 0.15);\n",
              "        filter: drop-shadow(0px 1px 2px rgba(0, 0, 0, 0.3));\n",
              "        fill: #FFFFFF;\n",
              "      }\n",
              "    </style>\n",
              "    <button class=\"colab-df-generate\" onclick=\"generateWithVariable('population_data')\"\n",
              "            title=\"Generate code using this dataframe.\"\n",
              "            style=\"display:none;\">\n",
              "\n",
              "  <svg xmlns=\"http://www.w3.org/2000/svg\" height=\"24px\"viewBox=\"0 0 24 24\"\n",
              "       width=\"24px\">\n",
              "    <path d=\"M7,19H8.4L18.45,9,17,7.55,7,17.6ZM5,21V16.75L18.45,3.32a2,2,0,0,1,2.83,0l1.4,1.43a1.91,1.91,0,0,1,.58,1.4,1.91,1.91,0,0,1-.58,1.4L9.25,21ZM18.45,9,17,7.55Zm-12,3A5.31,5.31,0,0,0,4.9,8.1,5.31,5.31,0,0,0,1,6.5,5.31,5.31,0,0,0,4.9,4.9,5.31,5.31,0,0,0,6.5,1,5.31,5.31,0,0,0,8.1,4.9,5.31,5.31,0,0,0,12,6.5,5.46,5.46,0,0,0,6.5,12Z\"/>\n",
              "  </svg>\n",
              "    </button>\n",
              "    <script>\n",
              "      (() => {\n",
              "      const buttonEl =\n",
              "        document.querySelector('#id_4cc09d7f-c506-4505-ac3a-f1b90402e854 button.colab-df-generate');\n",
              "      buttonEl.style.display =\n",
              "        google.colab.kernel.accessAllowed ? 'block' : 'none';\n",
              "\n",
              "      buttonEl.onclick = () => {\n",
              "        google.colab.notebook.generateWithVariable('population_data');\n",
              "      }\n",
              "      })();\n",
              "    </script>\n",
              "  </div>\n",
              "\n",
              "    </div>\n",
              "  </div>\n"
            ],
            "application/vnd.google.colaboratory.intrinsic+json": {
              "type": "dataframe",
              "variable_name": "population_data",
              "summary": "{\n  \"name\": \"population_data\",\n  \"rows\": 1,\n  \"fields\": [\n    {\n      \"column\": \"Rank\",\n      \"properties\": {\n        \"dtype\": \"string\",\n        \"num_unique_values\": 1,\n        \"samples\": [\n          \"1\"\n        ],\n        \"semantic_type\": \"\",\n        \"description\": \"\"\n      }\n    },\n    {\n      \"column\": \"Country\",\n      \"properties\": {\n        \"dtype\": \"string\",\n        \"num_unique_values\": 1,\n        \"samples\": [\n          \"\\u00a0Singapore\"\n        ],\n        \"semantic_type\": \"\",\n        \"description\": \"\"\n      }\n    },\n    {\n      \"column\": \"Population\",\n      \"properties\": {\n        \"dtype\": \"string\",\n        \"num_unique_values\": 1,\n        \"samples\": [\n          \"5,921,231\"\n        ],\n        \"semantic_type\": \"\",\n        \"description\": \"\"\n      }\n    },\n    {\n      \"column\": \"Area\",\n      \"properties\": {\n        \"dtype\": \"string\",\n        \"num_unique_values\": 1,\n        \"samples\": [\n          \"719\"\n        ],\n        \"semantic_type\": \"\",\n        \"description\": \"\"\n      }\n    },\n    {\n      \"column\": \"Density\",\n      \"properties\": {\n        \"dtype\": \"string\",\n        \"num_unique_values\": 1,\n        \"samples\": [\n          \"8,235\"\n        ],\n        \"semantic_type\": \"\",\n        \"description\": \"\"\n      }\n    }\n  ]\n}"
            }
          },
          "metadata": {},
          "execution_count": 125
        }
      ]
    },
    {
      "cell_type": "code",
      "execution_count": 126,
      "metadata": {
        "id": "KX9spJloiQLm",
        "colab": {
          "base_uri": "https://localhost:8080/",
          "height": 363
        },
        "outputId": "cc3f64c9-274e-488d-e320-7be45d957543"
      },
      "outputs": [
        {
          "output_type": "execute_result",
          "data": {
            "text/plain": [
              "  Rank                        Country     Population       Area Density\n",
              "0    1                      Singapore      5,921,231        719   8,235\n",
              "1    2                     Bangladesh    165,650,475    148,460   1,116\n",
              "2    3  \\n Palestine[note 3][100]\\n\\n      5,223,000      6,025     867\n",
              "3    4                 Taiwan[note 4]     23,580,712     35,980     655\n",
              "4    5                    South Korea     51,844,834     99,720     520\n",
              "5    6                        Lebanon      5,296,814     10,400     509\n",
              "6    7                         Rwanda     13,173,730     26,338     500\n",
              "7    8                        Burundi     12,696,478     27,830     456\n",
              "8    9                         Israel      9,402,617     21,937     429\n",
              "9   10                          India  1,389,637,446  3,287,263     423"
            ],
            "text/html": [
              "\n",
              "  <div id=\"df-4b7f062a-adbc-4a3f-b443-76d6739d7a89\" class=\"colab-df-container\">\n",
              "    <div>\n",
              "<style scoped>\n",
              "    .dataframe tbody tr th:only-of-type {\n",
              "        vertical-align: middle;\n",
              "    }\n",
              "\n",
              "    .dataframe tbody tr th {\n",
              "        vertical-align: top;\n",
              "    }\n",
              "\n",
              "    .dataframe thead th {\n",
              "        text-align: right;\n",
              "    }\n",
              "</style>\n",
              "<table border=\"1\" class=\"dataframe\">\n",
              "  <thead>\n",
              "    <tr style=\"text-align: right;\">\n",
              "      <th></th>\n",
              "      <th>Rank</th>\n",
              "      <th>Country</th>\n",
              "      <th>Population</th>\n",
              "      <th>Area</th>\n",
              "      <th>Density</th>\n",
              "    </tr>\n",
              "  </thead>\n",
              "  <tbody>\n",
              "    <tr>\n",
              "      <th>0</th>\n",
              "      <td>1</td>\n",
              "      <td>Singapore</td>\n",
              "      <td>5,921,231</td>\n",
              "      <td>719</td>\n",
              "      <td>8,235</td>\n",
              "    </tr>\n",
              "    <tr>\n",
              "      <th>1</th>\n",
              "      <td>2</td>\n",
              "      <td>Bangladesh</td>\n",
              "      <td>165,650,475</td>\n",
              "      <td>148,460</td>\n",
              "      <td>1,116</td>\n",
              "    </tr>\n",
              "    <tr>\n",
              "      <th>2</th>\n",
              "      <td>3</td>\n",
              "      <td>\\n Palestine[note 3][100]\\n\\n</td>\n",
              "      <td>5,223,000</td>\n",
              "      <td>6,025</td>\n",
              "      <td>867</td>\n",
              "    </tr>\n",
              "    <tr>\n",
              "      <th>3</th>\n",
              "      <td>4</td>\n",
              "      <td>Taiwan[note 4]</td>\n",
              "      <td>23,580,712</td>\n",
              "      <td>35,980</td>\n",
              "      <td>655</td>\n",
              "    </tr>\n",
              "    <tr>\n",
              "      <th>4</th>\n",
              "      <td>5</td>\n",
              "      <td>South Korea</td>\n",
              "      <td>51,844,834</td>\n",
              "      <td>99,720</td>\n",
              "      <td>520</td>\n",
              "    </tr>\n",
              "    <tr>\n",
              "      <th>5</th>\n",
              "      <td>6</td>\n",
              "      <td>Lebanon</td>\n",
              "      <td>5,296,814</td>\n",
              "      <td>10,400</td>\n",
              "      <td>509</td>\n",
              "    </tr>\n",
              "    <tr>\n",
              "      <th>6</th>\n",
              "      <td>7</td>\n",
              "      <td>Rwanda</td>\n",
              "      <td>13,173,730</td>\n",
              "      <td>26,338</td>\n",
              "      <td>500</td>\n",
              "    </tr>\n",
              "    <tr>\n",
              "      <th>7</th>\n",
              "      <td>8</td>\n",
              "      <td>Burundi</td>\n",
              "      <td>12,696,478</td>\n",
              "      <td>27,830</td>\n",
              "      <td>456</td>\n",
              "    </tr>\n",
              "    <tr>\n",
              "      <th>8</th>\n",
              "      <td>9</td>\n",
              "      <td>Israel</td>\n",
              "      <td>9,402,617</td>\n",
              "      <td>21,937</td>\n",
              "      <td>429</td>\n",
              "    </tr>\n",
              "    <tr>\n",
              "      <th>9</th>\n",
              "      <td>10</td>\n",
              "      <td>India</td>\n",
              "      <td>1,389,637,446</td>\n",
              "      <td>3,287,263</td>\n",
              "      <td>423</td>\n",
              "    </tr>\n",
              "  </tbody>\n",
              "</table>\n",
              "</div>\n",
              "    <div class=\"colab-df-buttons\">\n",
              "\n",
              "  <div class=\"colab-df-container\">\n",
              "    <button class=\"colab-df-convert\" onclick=\"convertToInteractive('df-4b7f062a-adbc-4a3f-b443-76d6739d7a89')\"\n",
              "            title=\"Convert this dataframe to an interactive table.\"\n",
              "            style=\"display:none;\">\n",
              "\n",
              "  <svg xmlns=\"http://www.w3.org/2000/svg\" height=\"24px\" viewBox=\"0 -960 960 960\">\n",
              "    <path d=\"M120-120v-720h720v720H120Zm60-500h600v-160H180v160Zm220 220h160v-160H400v160Zm0 220h160v-160H400v160ZM180-400h160v-160H180v160Zm440 0h160v-160H620v160ZM180-180h160v-160H180v160Zm440 0h160v-160H620v160Z\"/>\n",
              "  </svg>\n",
              "    </button>\n",
              "\n",
              "  <style>\n",
              "    .colab-df-container {\n",
              "      display:flex;\n",
              "      gap: 12px;\n",
              "    }\n",
              "\n",
              "    .colab-df-convert {\n",
              "      background-color: #E8F0FE;\n",
              "      border: none;\n",
              "      border-radius: 50%;\n",
              "      cursor: pointer;\n",
              "      display: none;\n",
              "      fill: #1967D2;\n",
              "      height: 32px;\n",
              "      padding: 0 0 0 0;\n",
              "      width: 32px;\n",
              "    }\n",
              "\n",
              "    .colab-df-convert:hover {\n",
              "      background-color: #E2EBFA;\n",
              "      box-shadow: 0px 1px 2px rgba(60, 64, 67, 0.3), 0px 1px 3px 1px rgba(60, 64, 67, 0.15);\n",
              "      fill: #174EA6;\n",
              "    }\n",
              "\n",
              "    .colab-df-buttons div {\n",
              "      margin-bottom: 4px;\n",
              "    }\n",
              "\n",
              "    [theme=dark] .colab-df-convert {\n",
              "      background-color: #3B4455;\n",
              "      fill: #D2E3FC;\n",
              "    }\n",
              "\n",
              "    [theme=dark] .colab-df-convert:hover {\n",
              "      background-color: #434B5C;\n",
              "      box-shadow: 0px 1px 3px 1px rgba(0, 0, 0, 0.15);\n",
              "      filter: drop-shadow(0px 1px 2px rgba(0, 0, 0, 0.3));\n",
              "      fill: #FFFFFF;\n",
              "    }\n",
              "  </style>\n",
              "\n",
              "    <script>\n",
              "      const buttonEl =\n",
              "        document.querySelector('#df-4b7f062a-adbc-4a3f-b443-76d6739d7a89 button.colab-df-convert');\n",
              "      buttonEl.style.display =\n",
              "        google.colab.kernel.accessAllowed ? 'block' : 'none';\n",
              "\n",
              "      async function convertToInteractive(key) {\n",
              "        const element = document.querySelector('#df-4b7f062a-adbc-4a3f-b443-76d6739d7a89');\n",
              "        const dataTable =\n",
              "          await google.colab.kernel.invokeFunction('convertToInteractive',\n",
              "                                                    [key], {});\n",
              "        if (!dataTable) return;\n",
              "\n",
              "        const docLinkHtml = 'Like what you see? Visit the ' +\n",
              "          '<a target=\"_blank\" href=https://colab.research.google.com/notebooks/data_table.ipynb>data table notebook</a>'\n",
              "          + ' to learn more about interactive tables.';\n",
              "        element.innerHTML = '';\n",
              "        dataTable['output_type'] = 'display_data';\n",
              "        await google.colab.output.renderOutput(dataTable, element);\n",
              "        const docLink = document.createElement('div');\n",
              "        docLink.innerHTML = docLinkHtml;\n",
              "        element.appendChild(docLink);\n",
              "      }\n",
              "    </script>\n",
              "  </div>\n",
              "\n",
              "\n",
              "<div id=\"df-5c283ec2-2cb5-4226-8cac-57baa2440c43\">\n",
              "  <button class=\"colab-df-quickchart\" onclick=\"quickchart('df-5c283ec2-2cb5-4226-8cac-57baa2440c43')\"\n",
              "            title=\"Suggest charts\"\n",
              "            style=\"display:none;\">\n",
              "\n",
              "<svg xmlns=\"http://www.w3.org/2000/svg\" height=\"24px\"viewBox=\"0 0 24 24\"\n",
              "     width=\"24px\">\n",
              "    <g>\n",
              "        <path d=\"M19 3H5c-1.1 0-2 .9-2 2v14c0 1.1.9 2 2 2h14c1.1 0 2-.9 2-2V5c0-1.1-.9-2-2-2zM9 17H7v-7h2v7zm4 0h-2V7h2v10zm4 0h-2v-4h2v4z\"/>\n",
              "    </g>\n",
              "</svg>\n",
              "  </button>\n",
              "\n",
              "<style>\n",
              "  .colab-df-quickchart {\n",
              "      --bg-color: #E8F0FE;\n",
              "      --fill-color: #1967D2;\n",
              "      --hover-bg-color: #E2EBFA;\n",
              "      --hover-fill-color: #174EA6;\n",
              "      --disabled-fill-color: #AAA;\n",
              "      --disabled-bg-color: #DDD;\n",
              "  }\n",
              "\n",
              "  [theme=dark] .colab-df-quickchart {\n",
              "      --bg-color: #3B4455;\n",
              "      --fill-color: #D2E3FC;\n",
              "      --hover-bg-color: #434B5C;\n",
              "      --hover-fill-color: #FFFFFF;\n",
              "      --disabled-bg-color: #3B4455;\n",
              "      --disabled-fill-color: #666;\n",
              "  }\n",
              "\n",
              "  .colab-df-quickchart {\n",
              "    background-color: var(--bg-color);\n",
              "    border: none;\n",
              "    border-radius: 50%;\n",
              "    cursor: pointer;\n",
              "    display: none;\n",
              "    fill: var(--fill-color);\n",
              "    height: 32px;\n",
              "    padding: 0;\n",
              "    width: 32px;\n",
              "  }\n",
              "\n",
              "  .colab-df-quickchart:hover {\n",
              "    background-color: var(--hover-bg-color);\n",
              "    box-shadow: 0 1px 2px rgba(60, 64, 67, 0.3), 0 1px 3px 1px rgba(60, 64, 67, 0.15);\n",
              "    fill: var(--button-hover-fill-color);\n",
              "  }\n",
              "\n",
              "  .colab-df-quickchart-complete:disabled,\n",
              "  .colab-df-quickchart-complete:disabled:hover {\n",
              "    background-color: var(--disabled-bg-color);\n",
              "    fill: var(--disabled-fill-color);\n",
              "    box-shadow: none;\n",
              "  }\n",
              "\n",
              "  .colab-df-spinner {\n",
              "    border: 2px solid var(--fill-color);\n",
              "    border-color: transparent;\n",
              "    border-bottom-color: var(--fill-color);\n",
              "    animation:\n",
              "      spin 1s steps(1) infinite;\n",
              "  }\n",
              "\n",
              "  @keyframes spin {\n",
              "    0% {\n",
              "      border-color: transparent;\n",
              "      border-bottom-color: var(--fill-color);\n",
              "      border-left-color: var(--fill-color);\n",
              "    }\n",
              "    20% {\n",
              "      border-color: transparent;\n",
              "      border-left-color: var(--fill-color);\n",
              "      border-top-color: var(--fill-color);\n",
              "    }\n",
              "    30% {\n",
              "      border-color: transparent;\n",
              "      border-left-color: var(--fill-color);\n",
              "      border-top-color: var(--fill-color);\n",
              "      border-right-color: var(--fill-color);\n",
              "    }\n",
              "    40% {\n",
              "      border-color: transparent;\n",
              "      border-right-color: var(--fill-color);\n",
              "      border-top-color: var(--fill-color);\n",
              "    }\n",
              "    60% {\n",
              "      border-color: transparent;\n",
              "      border-right-color: var(--fill-color);\n",
              "    }\n",
              "    80% {\n",
              "      border-color: transparent;\n",
              "      border-right-color: var(--fill-color);\n",
              "      border-bottom-color: var(--fill-color);\n",
              "    }\n",
              "    90% {\n",
              "      border-color: transparent;\n",
              "      border-bottom-color: var(--fill-color);\n",
              "    }\n",
              "  }\n",
              "</style>\n",
              "\n",
              "  <script>\n",
              "    async function quickchart(key) {\n",
              "      const quickchartButtonEl =\n",
              "        document.querySelector('#' + key + ' button');\n",
              "      quickchartButtonEl.disabled = true;  // To prevent multiple clicks.\n",
              "      quickchartButtonEl.classList.add('colab-df-spinner');\n",
              "      try {\n",
              "        const charts = await google.colab.kernel.invokeFunction(\n",
              "            'suggestCharts', [key], {});\n",
              "      } catch (error) {\n",
              "        console.error('Error during call to suggestCharts:', error);\n",
              "      }\n",
              "      quickchartButtonEl.classList.remove('colab-df-spinner');\n",
              "      quickchartButtonEl.classList.add('colab-df-quickchart-complete');\n",
              "    }\n",
              "    (() => {\n",
              "      let quickchartButtonEl =\n",
              "        document.querySelector('#df-5c283ec2-2cb5-4226-8cac-57baa2440c43 button');\n",
              "      quickchartButtonEl.style.display =\n",
              "        google.colab.kernel.accessAllowed ? 'block' : 'none';\n",
              "    })();\n",
              "  </script>\n",
              "</div>\n",
              "\n",
              "  <div id=\"id_9c19adbe-15d8-45d7-b35a-adc960674a48\">\n",
              "    <style>\n",
              "      .colab-df-generate {\n",
              "        background-color: #E8F0FE;\n",
              "        border: none;\n",
              "        border-radius: 50%;\n",
              "        cursor: pointer;\n",
              "        display: none;\n",
              "        fill: #1967D2;\n",
              "        height: 32px;\n",
              "        padding: 0 0 0 0;\n",
              "        width: 32px;\n",
              "      }\n",
              "\n",
              "      .colab-df-generate:hover {\n",
              "        background-color: #E2EBFA;\n",
              "        box-shadow: 0px 1px 2px rgba(60, 64, 67, 0.3), 0px 1px 3px 1px rgba(60, 64, 67, 0.15);\n",
              "        fill: #174EA6;\n",
              "      }\n",
              "\n",
              "      [theme=dark] .colab-df-generate {\n",
              "        background-color: #3B4455;\n",
              "        fill: #D2E3FC;\n",
              "      }\n",
              "\n",
              "      [theme=dark] .colab-df-generate:hover {\n",
              "        background-color: #434B5C;\n",
              "        box-shadow: 0px 1px 3px 1px rgba(0, 0, 0, 0.15);\n",
              "        filter: drop-shadow(0px 1px 2px rgba(0, 0, 0, 0.3));\n",
              "        fill: #FFFFFF;\n",
              "      }\n",
              "    </style>\n",
              "    <button class=\"colab-df-generate\" onclick=\"generateWithVariable('population_data')\"\n",
              "            title=\"Generate code using this dataframe.\"\n",
              "            style=\"display:none;\">\n",
              "\n",
              "  <svg xmlns=\"http://www.w3.org/2000/svg\" height=\"24px\"viewBox=\"0 0 24 24\"\n",
              "       width=\"24px\">\n",
              "    <path d=\"M7,19H8.4L18.45,9,17,7.55,7,17.6ZM5,21V16.75L18.45,3.32a2,2,0,0,1,2.83,0l1.4,1.43a1.91,1.91,0,0,1,.58,1.4,1.91,1.91,0,0,1-.58,1.4L9.25,21ZM18.45,9,17,7.55Zm-12,3A5.31,5.31,0,0,0,4.9,8.1,5.31,5.31,0,0,0,1,6.5,5.31,5.31,0,0,0,4.9,4.9,5.31,5.31,0,0,0,6.5,1,5.31,5.31,0,0,0,8.1,4.9,5.31,5.31,0,0,0,12,6.5,5.46,5.46,0,0,0,6.5,12Z\"/>\n",
              "  </svg>\n",
              "    </button>\n",
              "    <script>\n",
              "      (() => {\n",
              "      const buttonEl =\n",
              "        document.querySelector('#id_9c19adbe-15d8-45d7-b35a-adc960674a48 button.colab-df-generate');\n",
              "      buttonEl.style.display =\n",
              "        google.colab.kernel.accessAllowed ? 'block' : 'none';\n",
              "\n",
              "      buttonEl.onclick = () => {\n",
              "        google.colab.notebook.generateWithVariable('population_data');\n",
              "      }\n",
              "      })();\n",
              "    </script>\n",
              "  </div>\n",
              "\n",
              "    </div>\n",
              "  </div>\n"
            ],
            "application/vnd.google.colaboratory.intrinsic+json": {
              "type": "dataframe",
              "variable_name": "population_data",
              "summary": "{\n  \"name\": \"population_data\",\n  \"rows\": 10,\n  \"fields\": [\n    {\n      \"column\": \"Rank\",\n      \"properties\": {\n        \"dtype\": \"string\",\n        \"num_unique_values\": 10,\n        \"samples\": [\n          \"9\",\n          \"2\",\n          \"6\"\n        ],\n        \"semantic_type\": \"\",\n        \"description\": \"\"\n      }\n    },\n    {\n      \"column\": \"Country\",\n      \"properties\": {\n        \"dtype\": \"string\",\n        \"num_unique_values\": 10,\n        \"samples\": [\n          \"\\u00a0Israel\",\n          \"\\u00a0Bangladesh\",\n          \"\\u00a0Lebanon\"\n        ],\n        \"semantic_type\": \"\",\n        \"description\": \"\"\n      }\n    },\n    {\n      \"column\": \"Population\",\n      \"properties\": {\n        \"dtype\": \"string\",\n        \"num_unique_values\": 10,\n        \"samples\": [\n          \"9,402,617\",\n          \"165,650,475\",\n          \"5,296,814\"\n        ],\n        \"semantic_type\": \"\",\n        \"description\": \"\"\n      }\n    },\n    {\n      \"column\": \"Area\",\n      \"properties\": {\n        \"dtype\": \"string\",\n        \"num_unique_values\": 10,\n        \"samples\": [\n          \"21,937\",\n          \"148,460\",\n          \"10,400\"\n        ],\n        \"semantic_type\": \"\",\n        \"description\": \"\"\n      }\n    },\n    {\n      \"column\": \"Density\",\n      \"properties\": {\n        \"dtype\": \"string\",\n        \"num_unique_values\": 10,\n        \"samples\": [\n          \"429\",\n          \"1,116\",\n          \"509\"\n        ],\n        \"semantic_type\": \"\",\n        \"description\": \"\"\n      }\n    }\n  ]\n}"
            }
          },
          "metadata": {},
          "execution_count": 126
        }
      ],
      "source": [
        "population_data = pd.DataFrame(columns=[\"Rank\", \"Country\", \"Population\", \"Area\", \"Density\"])\n",
        "population_data\n",
        "for row in tables[table_index].tbody.find_all(\"tr\"):\n",
        "    col = row.find_all(\"td\")\n",
        "    if (col != []):\n",
        "        rank = col[0].text\n",
        "        country = col[1].text\n",
        "        population = col[2].text.strip()\n",
        "        area = col[3].text.strip()\n",
        "        density = col[4].text.strip()\n",
        "        population_data = pd.concat([population_data, pd.DataFrame([{\"Rank\":rank, \"Country\":country, \"Population\":population, \"Area\":area, \"Density\":density}])], ignore_index=True)\n",
        "\n",
        "population_data"
      ]
    },
    {
      "cell_type": "markdown",
      "metadata": {
        "id": "n9pPHaBEiQLm"
      },
      "source": [
        "## Scrape data from HTML tables into a DataFrame using BeautifulSoup and read_html\n"
      ]
    },
    {
      "cell_type": "markdown",
      "metadata": {
        "id": "NJiesEJ_iQLn"
      },
      "source": [
        "Using the same `url`, `data`, `soup`, and `tables` object as in the last section we can use the `read_html` function to create a DataFrame.\n",
        "\n",
        "Remember the table we need is located in `tables[table_index]`\n",
        "\n",
        "We can now use the `pandas` function `read_html` and give it the string version of the table as well as the `flavor` which is the parsing engine `bs4`.\n"
      ]
    },
    {
      "cell_type": "code",
      "execution_count": 127,
      "metadata": {
        "id": "-X6FxcH5iQLn",
        "colab": {
          "base_uri": "https://localhost:8080/"
        },
        "outputId": "c5e03d86-3051-401d-d095-ca50b6b4d4fc"
      },
      "outputs": [
        {
          "output_type": "stream",
          "name": "stderr",
          "text": [
            "<ipython-input-127-2faec2a9de15>:1: FutureWarning: Passing literal html to 'read_html' is deprecated and will be removed in a future version. To read from a literal string, wrap it in a 'StringIO' object.\n",
            "  pd.read_html(str(tables[5]), flavor='bs4')\n"
          ]
        },
        {
          "output_type": "execute_result",
          "data": {
            "text/plain": [
              "[  Country / Dependency  Population % of world         Date  \\\n",
              " 0                India  1425775850      17.5%  14 Apr 2023   \n",
              " 1                China  1409670000      17.3%  17 Jan 2024   \n",
              " 2        United States   337017046      4.14%   9 Oct 2024   \n",
              " 3            Indonesia   278696200      3.43%   1 Jul 2023   \n",
              " 4             Pakistan   229488994      2.82%   1 Jul 2022   \n",
              " 5              Nigeria   216746934      2.66%   1 Jul 2022   \n",
              " 6               Brazil   218267883      2.68%   9 Oct 2024   \n",
              " 7           Bangladesh   168220000      2.07%   1 Jul 2020   \n",
              " 8               Russia   147190000      1.81%   1 Oct 2021   \n",
              " 9               Mexico   128271248      1.58%  31 Mar 2022   \n",
              " \n",
              "   Source (official or from the United Nations)  \n",
              " 0                            UN projection[89]  \n",
              " 1                 National annual estimate[90]  \n",
              " 2                National population clock[91]  \n",
              " 3                 National annual estimate[92]  \n",
              " 4                            UN projection[93]  \n",
              " 5                            UN projection[93]  \n",
              " 6                National population clock[94]  \n",
              " 7               Annual Population Estimate[95]  \n",
              " 8          2021 preliminary census results[96]  \n",
              " 9                                          NaN  ]"
            ]
          },
          "metadata": {},
          "execution_count": 127
        }
      ],
      "source": [
        "pd.read_html(str(tables[5]), flavor='bs4')"
      ]
    },
    {
      "cell_type": "markdown",
      "metadata": {
        "id": "-0_L2q-PiQLn"
      },
      "source": [
        "The function `read_html` always returns a list of DataFrames so we must pick the one we want out of the list.\n"
      ]
    },
    {
      "cell_type": "code",
      "execution_count": null,
      "metadata": {
        "id": "Myij0wDziQLn",
        "colab": {
          "base_uri": "https://localhost:8080/",
          "height": 539
        },
        "outputId": "f0db72eb-4b03-4a3d-ef6b-64e533d751c4"
      },
      "outputs": [
        {
          "output_type": "stream",
          "name": "stderr",
          "text": [
            "<ipython-input-107-f3ca1f0ca0b3>:1: FutureWarning: Passing literal html to 'read_html' is deprecated and will be removed in a future version. To read from a literal string, wrap it in a 'StringIO' object.\n",
            "  population_data_read_html = pd.read_html(str(tables[5]), flavor='bs4')[0]\n"
          ]
        },
        {
          "output_type": "execute_result",
          "data": {
            "text/plain": [
              "  Country / Dependency  Population % of world         Date  \\\n",
              "0                India  1425775850      17.5%  14 Apr 2023   \n",
              "1                China  1409670000      17.3%  17 Jan 2024   \n",
              "2        United States   337017046      4.14%   9 Oct 2024   \n",
              "3            Indonesia   278696200      3.43%   1 Jul 2023   \n",
              "4             Pakistan   229488994      2.82%   1 Jul 2022   \n",
              "5              Nigeria   216746934      2.66%   1 Jul 2022   \n",
              "6               Brazil   218267883      2.68%   9 Oct 2024   \n",
              "7           Bangladesh   168220000      2.07%   1 Jul 2020   \n",
              "8               Russia   147190000      1.81%   1 Oct 2021   \n",
              "9               Mexico   128271248      1.58%  31 Mar 2022   \n",
              "\n",
              "  Source (official or from the United Nations)  \n",
              "0                            UN projection[89]  \n",
              "1                 National annual estimate[90]  \n",
              "2                National population clock[91]  \n",
              "3                 National annual estimate[92]  \n",
              "4                            UN projection[93]  \n",
              "5                            UN projection[93]  \n",
              "6                National population clock[94]  \n",
              "7               Annual Population Estimate[95]  \n",
              "8          2021 preliminary census results[96]  \n",
              "9                                          NaN  "
            ],
            "text/html": [
              "\n",
              "  <div id=\"df-174bc546-18dc-4c89-9a99-1443424f9916\" class=\"colab-df-container\">\n",
              "    <div>\n",
              "<style scoped>\n",
              "    .dataframe tbody tr th:only-of-type {\n",
              "        vertical-align: middle;\n",
              "    }\n",
              "\n",
              "    .dataframe tbody tr th {\n",
              "        vertical-align: top;\n",
              "    }\n",
              "\n",
              "    .dataframe thead th {\n",
              "        text-align: right;\n",
              "    }\n",
              "</style>\n",
              "<table border=\"1\" class=\"dataframe\">\n",
              "  <thead>\n",
              "    <tr style=\"text-align: right;\">\n",
              "      <th></th>\n",
              "      <th>Country / Dependency</th>\n",
              "      <th>Population</th>\n",
              "      <th>% of world</th>\n",
              "      <th>Date</th>\n",
              "      <th>Source (official or from the United Nations)</th>\n",
              "    </tr>\n",
              "  </thead>\n",
              "  <tbody>\n",
              "    <tr>\n",
              "      <th>0</th>\n",
              "      <td>India</td>\n",
              "      <td>1425775850</td>\n",
              "      <td>17.5%</td>\n",
              "      <td>14 Apr 2023</td>\n",
              "      <td>UN projection[89]</td>\n",
              "    </tr>\n",
              "    <tr>\n",
              "      <th>1</th>\n",
              "      <td>China</td>\n",
              "      <td>1409670000</td>\n",
              "      <td>17.3%</td>\n",
              "      <td>17 Jan 2024</td>\n",
              "      <td>National annual estimate[90]</td>\n",
              "    </tr>\n",
              "    <tr>\n",
              "      <th>2</th>\n",
              "      <td>United States</td>\n",
              "      <td>337017046</td>\n",
              "      <td>4.14%</td>\n",
              "      <td>9 Oct 2024</td>\n",
              "      <td>National population clock[91]</td>\n",
              "    </tr>\n",
              "    <tr>\n",
              "      <th>3</th>\n",
              "      <td>Indonesia</td>\n",
              "      <td>278696200</td>\n",
              "      <td>3.43%</td>\n",
              "      <td>1 Jul 2023</td>\n",
              "      <td>National annual estimate[92]</td>\n",
              "    </tr>\n",
              "    <tr>\n",
              "      <th>4</th>\n",
              "      <td>Pakistan</td>\n",
              "      <td>229488994</td>\n",
              "      <td>2.82%</td>\n",
              "      <td>1 Jul 2022</td>\n",
              "      <td>UN projection[93]</td>\n",
              "    </tr>\n",
              "    <tr>\n",
              "      <th>5</th>\n",
              "      <td>Nigeria</td>\n",
              "      <td>216746934</td>\n",
              "      <td>2.66%</td>\n",
              "      <td>1 Jul 2022</td>\n",
              "      <td>UN projection[93]</td>\n",
              "    </tr>\n",
              "    <tr>\n",
              "      <th>6</th>\n",
              "      <td>Brazil</td>\n",
              "      <td>218267883</td>\n",
              "      <td>2.68%</td>\n",
              "      <td>9 Oct 2024</td>\n",
              "      <td>National population clock[94]</td>\n",
              "    </tr>\n",
              "    <tr>\n",
              "      <th>7</th>\n",
              "      <td>Bangladesh</td>\n",
              "      <td>168220000</td>\n",
              "      <td>2.07%</td>\n",
              "      <td>1 Jul 2020</td>\n",
              "      <td>Annual Population Estimate[95]</td>\n",
              "    </tr>\n",
              "    <tr>\n",
              "      <th>8</th>\n",
              "      <td>Russia</td>\n",
              "      <td>147190000</td>\n",
              "      <td>1.81%</td>\n",
              "      <td>1 Oct 2021</td>\n",
              "      <td>2021 preliminary census results[96]</td>\n",
              "    </tr>\n",
              "    <tr>\n",
              "      <th>9</th>\n",
              "      <td>Mexico</td>\n",
              "      <td>128271248</td>\n",
              "      <td>1.58%</td>\n",
              "      <td>31 Mar 2022</td>\n",
              "      <td>NaN</td>\n",
              "    </tr>\n",
              "  </tbody>\n",
              "</table>\n",
              "</div>\n",
              "    <div class=\"colab-df-buttons\">\n",
              "\n",
              "  <div class=\"colab-df-container\">\n",
              "    <button class=\"colab-df-convert\" onclick=\"convertToInteractive('df-174bc546-18dc-4c89-9a99-1443424f9916')\"\n",
              "            title=\"Convert this dataframe to an interactive table.\"\n",
              "            style=\"display:none;\">\n",
              "\n",
              "  <svg xmlns=\"http://www.w3.org/2000/svg\" height=\"24px\" viewBox=\"0 -960 960 960\">\n",
              "    <path d=\"M120-120v-720h720v720H120Zm60-500h600v-160H180v160Zm220 220h160v-160H400v160Zm0 220h160v-160H400v160ZM180-400h160v-160H180v160Zm440 0h160v-160H620v160ZM180-180h160v-160H180v160Zm440 0h160v-160H620v160Z\"/>\n",
              "  </svg>\n",
              "    </button>\n",
              "\n",
              "  <style>\n",
              "    .colab-df-container {\n",
              "      display:flex;\n",
              "      gap: 12px;\n",
              "    }\n",
              "\n",
              "    .colab-df-convert {\n",
              "      background-color: #E8F0FE;\n",
              "      border: none;\n",
              "      border-radius: 50%;\n",
              "      cursor: pointer;\n",
              "      display: none;\n",
              "      fill: #1967D2;\n",
              "      height: 32px;\n",
              "      padding: 0 0 0 0;\n",
              "      width: 32px;\n",
              "    }\n",
              "\n",
              "    .colab-df-convert:hover {\n",
              "      background-color: #E2EBFA;\n",
              "      box-shadow: 0px 1px 2px rgba(60, 64, 67, 0.3), 0px 1px 3px 1px rgba(60, 64, 67, 0.15);\n",
              "      fill: #174EA6;\n",
              "    }\n",
              "\n",
              "    .colab-df-buttons div {\n",
              "      margin-bottom: 4px;\n",
              "    }\n",
              "\n",
              "    [theme=dark] .colab-df-convert {\n",
              "      background-color: #3B4455;\n",
              "      fill: #D2E3FC;\n",
              "    }\n",
              "\n",
              "    [theme=dark] .colab-df-convert:hover {\n",
              "      background-color: #434B5C;\n",
              "      box-shadow: 0px 1px 3px 1px rgba(0, 0, 0, 0.15);\n",
              "      filter: drop-shadow(0px 1px 2px rgba(0, 0, 0, 0.3));\n",
              "      fill: #FFFFFF;\n",
              "    }\n",
              "  </style>\n",
              "\n",
              "    <script>\n",
              "      const buttonEl =\n",
              "        document.querySelector('#df-174bc546-18dc-4c89-9a99-1443424f9916 button.colab-df-convert');\n",
              "      buttonEl.style.display =\n",
              "        google.colab.kernel.accessAllowed ? 'block' : 'none';\n",
              "\n",
              "      async function convertToInteractive(key) {\n",
              "        const element = document.querySelector('#df-174bc546-18dc-4c89-9a99-1443424f9916');\n",
              "        const dataTable =\n",
              "          await google.colab.kernel.invokeFunction('convertToInteractive',\n",
              "                                                    [key], {});\n",
              "        if (!dataTable) return;\n",
              "\n",
              "        const docLinkHtml = 'Like what you see? Visit the ' +\n",
              "          '<a target=\"_blank\" href=https://colab.research.google.com/notebooks/data_table.ipynb>data table notebook</a>'\n",
              "          + ' to learn more about interactive tables.';\n",
              "        element.innerHTML = '';\n",
              "        dataTable['output_type'] = 'display_data';\n",
              "        await google.colab.output.renderOutput(dataTable, element);\n",
              "        const docLink = document.createElement('div');\n",
              "        docLink.innerHTML = docLinkHtml;\n",
              "        element.appendChild(docLink);\n",
              "      }\n",
              "    </script>\n",
              "  </div>\n",
              "\n",
              "\n",
              "<div id=\"df-003a8057-097f-4014-a251-03954bb0d871\">\n",
              "  <button class=\"colab-df-quickchart\" onclick=\"quickchart('df-003a8057-097f-4014-a251-03954bb0d871')\"\n",
              "            title=\"Suggest charts\"\n",
              "            style=\"display:none;\">\n",
              "\n",
              "<svg xmlns=\"http://www.w3.org/2000/svg\" height=\"24px\"viewBox=\"0 0 24 24\"\n",
              "     width=\"24px\">\n",
              "    <g>\n",
              "        <path d=\"M19 3H5c-1.1 0-2 .9-2 2v14c0 1.1.9 2 2 2h14c1.1 0 2-.9 2-2V5c0-1.1-.9-2-2-2zM9 17H7v-7h2v7zm4 0h-2V7h2v10zm4 0h-2v-4h2v4z\"/>\n",
              "    </g>\n",
              "</svg>\n",
              "  </button>\n",
              "\n",
              "<style>\n",
              "  .colab-df-quickchart {\n",
              "      --bg-color: #E8F0FE;\n",
              "      --fill-color: #1967D2;\n",
              "      --hover-bg-color: #E2EBFA;\n",
              "      --hover-fill-color: #174EA6;\n",
              "      --disabled-fill-color: #AAA;\n",
              "      --disabled-bg-color: #DDD;\n",
              "  }\n",
              "\n",
              "  [theme=dark] .colab-df-quickchart {\n",
              "      --bg-color: #3B4455;\n",
              "      --fill-color: #D2E3FC;\n",
              "      --hover-bg-color: #434B5C;\n",
              "      --hover-fill-color: #FFFFFF;\n",
              "      --disabled-bg-color: #3B4455;\n",
              "      --disabled-fill-color: #666;\n",
              "  }\n",
              "\n",
              "  .colab-df-quickchart {\n",
              "    background-color: var(--bg-color);\n",
              "    border: none;\n",
              "    border-radius: 50%;\n",
              "    cursor: pointer;\n",
              "    display: none;\n",
              "    fill: var(--fill-color);\n",
              "    height: 32px;\n",
              "    padding: 0;\n",
              "    width: 32px;\n",
              "  }\n",
              "\n",
              "  .colab-df-quickchart:hover {\n",
              "    background-color: var(--hover-bg-color);\n",
              "    box-shadow: 0 1px 2px rgba(60, 64, 67, 0.3), 0 1px 3px 1px rgba(60, 64, 67, 0.15);\n",
              "    fill: var(--button-hover-fill-color);\n",
              "  }\n",
              "\n",
              "  .colab-df-quickchart-complete:disabled,\n",
              "  .colab-df-quickchart-complete:disabled:hover {\n",
              "    background-color: var(--disabled-bg-color);\n",
              "    fill: var(--disabled-fill-color);\n",
              "    box-shadow: none;\n",
              "  }\n",
              "\n",
              "  .colab-df-spinner {\n",
              "    border: 2px solid var(--fill-color);\n",
              "    border-color: transparent;\n",
              "    border-bottom-color: var(--fill-color);\n",
              "    animation:\n",
              "      spin 1s steps(1) infinite;\n",
              "  }\n",
              "\n",
              "  @keyframes spin {\n",
              "    0% {\n",
              "      border-color: transparent;\n",
              "      border-bottom-color: var(--fill-color);\n",
              "      border-left-color: var(--fill-color);\n",
              "    }\n",
              "    20% {\n",
              "      border-color: transparent;\n",
              "      border-left-color: var(--fill-color);\n",
              "      border-top-color: var(--fill-color);\n",
              "    }\n",
              "    30% {\n",
              "      border-color: transparent;\n",
              "      border-left-color: var(--fill-color);\n",
              "      border-top-color: var(--fill-color);\n",
              "      border-right-color: var(--fill-color);\n",
              "    }\n",
              "    40% {\n",
              "      border-color: transparent;\n",
              "      border-right-color: var(--fill-color);\n",
              "      border-top-color: var(--fill-color);\n",
              "    }\n",
              "    60% {\n",
              "      border-color: transparent;\n",
              "      border-right-color: var(--fill-color);\n",
              "    }\n",
              "    80% {\n",
              "      border-color: transparent;\n",
              "      border-right-color: var(--fill-color);\n",
              "      border-bottom-color: var(--fill-color);\n",
              "    }\n",
              "    90% {\n",
              "      border-color: transparent;\n",
              "      border-bottom-color: var(--fill-color);\n",
              "    }\n",
              "  }\n",
              "</style>\n",
              "\n",
              "  <script>\n",
              "    async function quickchart(key) {\n",
              "      const quickchartButtonEl =\n",
              "        document.querySelector('#' + key + ' button');\n",
              "      quickchartButtonEl.disabled = true;  // To prevent multiple clicks.\n",
              "      quickchartButtonEl.classList.add('colab-df-spinner');\n",
              "      try {\n",
              "        const charts = await google.colab.kernel.invokeFunction(\n",
              "            'suggestCharts', [key], {});\n",
              "      } catch (error) {\n",
              "        console.error('Error during call to suggestCharts:', error);\n",
              "      }\n",
              "      quickchartButtonEl.classList.remove('colab-df-spinner');\n",
              "      quickchartButtonEl.classList.add('colab-df-quickchart-complete');\n",
              "    }\n",
              "    (() => {\n",
              "      let quickchartButtonEl =\n",
              "        document.querySelector('#df-003a8057-097f-4014-a251-03954bb0d871 button');\n",
              "      quickchartButtonEl.style.display =\n",
              "        google.colab.kernel.accessAllowed ? 'block' : 'none';\n",
              "    })();\n",
              "  </script>\n",
              "</div>\n",
              "\n",
              "  <div id=\"id_6b054c03-3cbb-4fe2-a99d-94e1a561811f\">\n",
              "    <style>\n",
              "      .colab-df-generate {\n",
              "        background-color: #E8F0FE;\n",
              "        border: none;\n",
              "        border-radius: 50%;\n",
              "        cursor: pointer;\n",
              "        display: none;\n",
              "        fill: #1967D2;\n",
              "        height: 32px;\n",
              "        padding: 0 0 0 0;\n",
              "        width: 32px;\n",
              "      }\n",
              "\n",
              "      .colab-df-generate:hover {\n",
              "        background-color: #E2EBFA;\n",
              "        box-shadow: 0px 1px 2px rgba(60, 64, 67, 0.3), 0px 1px 3px 1px rgba(60, 64, 67, 0.15);\n",
              "        fill: #174EA6;\n",
              "      }\n",
              "\n",
              "      [theme=dark] .colab-df-generate {\n",
              "        background-color: #3B4455;\n",
              "        fill: #D2E3FC;\n",
              "      }\n",
              "\n",
              "      [theme=dark] .colab-df-generate:hover {\n",
              "        background-color: #434B5C;\n",
              "        box-shadow: 0px 1px 3px 1px rgba(0, 0, 0, 0.15);\n",
              "        filter: drop-shadow(0px 1px 2px rgba(0, 0, 0, 0.3));\n",
              "        fill: #FFFFFF;\n",
              "      }\n",
              "    </style>\n",
              "    <button class=\"colab-df-generate\" onclick=\"generateWithVariable('population_data_read_html')\"\n",
              "            title=\"Generate code using this dataframe.\"\n",
              "            style=\"display:none;\">\n",
              "\n",
              "  <svg xmlns=\"http://www.w3.org/2000/svg\" height=\"24px\"viewBox=\"0 0 24 24\"\n",
              "       width=\"24px\">\n",
              "    <path d=\"M7,19H8.4L18.45,9,17,7.55,7,17.6ZM5,21V16.75L18.45,3.32a2,2,0,0,1,2.83,0l1.4,1.43a1.91,1.91,0,0,1,.58,1.4,1.91,1.91,0,0,1-.58,1.4L9.25,21ZM18.45,9,17,7.55Zm-12,3A5.31,5.31,0,0,0,4.9,8.1,5.31,5.31,0,0,0,1,6.5,5.31,5.31,0,0,0,4.9,4.9,5.31,5.31,0,0,0,6.5,1,5.31,5.31,0,0,0,8.1,4.9,5.31,5.31,0,0,0,12,6.5,5.46,5.46,0,0,0,6.5,12Z\"/>\n",
              "  </svg>\n",
              "    </button>\n",
              "    <script>\n",
              "      (() => {\n",
              "      const buttonEl =\n",
              "        document.querySelector('#id_6b054c03-3cbb-4fe2-a99d-94e1a561811f button.colab-df-generate');\n",
              "      buttonEl.style.display =\n",
              "        google.colab.kernel.accessAllowed ? 'block' : 'none';\n",
              "\n",
              "      buttonEl.onclick = () => {\n",
              "        google.colab.notebook.generateWithVariable('population_data_read_html');\n",
              "      }\n",
              "      })();\n",
              "    </script>\n",
              "  </div>\n",
              "\n",
              "    </div>\n",
              "  </div>\n"
            ],
            "application/vnd.google.colaboratory.intrinsic+json": {
              "type": "dataframe",
              "variable_name": "population_data_read_html",
              "summary": "{\n  \"name\": \"population_data_read_html\",\n  \"rows\": 10,\n  \"fields\": [\n    {\n      \"column\": \"Country / Dependency\",\n      \"properties\": {\n        \"dtype\": \"string\",\n        \"num_unique_values\": 10,\n        \"samples\": [\n          \"Russia\",\n          \"China\",\n          \"Nigeria\"\n        ],\n        \"semantic_type\": \"\",\n        \"description\": \"\"\n      }\n    },\n    {\n      \"column\": \"Population\",\n      \"properties\": {\n        \"dtype\": \"number\",\n        \"std\": 510576810,\n        \"min\": 128271248,\n        \"max\": 1425775850,\n        \"num_unique_values\": 10,\n        \"samples\": [\n          147190000,\n          1409670000,\n          216746934\n        ],\n        \"semantic_type\": \"\",\n        \"description\": \"\"\n      }\n    },\n    {\n      \"column\": \"% of world\",\n      \"properties\": {\n        \"dtype\": \"string\",\n        \"num_unique_values\": 10,\n        \"samples\": [\n          \"1.81%\",\n          \"17.3%\",\n          \"2.66%\"\n        ],\n        \"semantic_type\": \"\",\n        \"description\": \"\"\n      }\n    },\n    {\n      \"column\": \"Date\",\n      \"properties\": {\n        \"dtype\": \"object\",\n        \"num_unique_values\": 8,\n        \"samples\": [\n          \"17 Jan 2024\",\n          \"1 Jul 2020\",\n          \"14 Apr 2023\"\n        ],\n        \"semantic_type\": \"\",\n        \"description\": \"\"\n      }\n    },\n    {\n      \"column\": \"Source (official or from the United Nations)\",\n      \"properties\": {\n        \"dtype\": \"string\",\n        \"num_unique_values\": 8,\n        \"samples\": [\n          \"National annual estimate[90]\",\n          \"National population clock[94]\",\n          \"UN projection[89]\"\n        ],\n        \"semantic_type\": \"\",\n        \"description\": \"\"\n      }\n    }\n  ]\n}"
            }
          },
          "metadata": {},
          "execution_count": 107
        }
      ],
      "source": [
        "population_data_read_html = pd.read_html(str(tables[5]), flavor='bs4')[0]\n",
        "\n",
        "population_data_read_html"
      ]
    },
    {
      "cell_type": "markdown",
      "metadata": {
        "id": "YX0gBvbYiQLn"
      },
      "source": [
        "## Scrape data from HTML tables into a DataFrame using read_html\n"
      ]
    },
    {
      "cell_type": "markdown",
      "metadata": {
        "id": "aSGAUWz9iQLn"
      },
      "source": [
        "We can also use the `read_html` function to directly get DataFrames from a `url`.\n"
      ]
    },
    {
      "cell_type": "code",
      "execution_count": null,
      "metadata": {
        "id": "_ia8DihxiQLn"
      },
      "outputs": [],
      "source": [
        "dataframe_list = pd.read_html(url, flavor='bs4')"
      ]
    },
    {
      "cell_type": "markdown",
      "metadata": {
        "id": "q707ak_FiQLn"
      },
      "source": [
        "We can see there are 25 DataFrames just like when we used `find_all` on the `soup` object.\n"
      ]
    },
    {
      "cell_type": "code",
      "execution_count": null,
      "metadata": {
        "id": "_IEzMD13iQLn",
        "colab": {
          "base_uri": "https://localhost:8080/"
        },
        "outputId": "d83938e5-7f47-4b23-df7c-4d8a7ae07230"
      },
      "outputs": [
        {
          "output_type": "execute_result",
          "data": {
            "text/plain": [
              "28"
            ]
          },
          "metadata": {},
          "execution_count": 109
        }
      ],
      "source": [
        "len(dataframe_list)"
      ]
    },
    {
      "cell_type": "markdown",
      "metadata": {
        "id": "F1JeRsBHiQLo"
      },
      "source": [
        "Finally we can pick the DataFrame we need out of the list.\n"
      ]
    },
    {
      "cell_type": "code",
      "execution_count": null,
      "metadata": {
        "id": "vKB1q92tiQLo",
        "colab": {
          "base_uri": "https://localhost:8080/",
          "height": 484
        },
        "outputId": "6df2540a-0c8d-41e8-e8f5-a83e154596ad"
      },
      "outputs": [
        {
          "output_type": "execute_result",
          "data": {
            "text/plain": [
              "  Country / Dependency  Population % of world         Date  \\\n",
              "0                India  1425775850      17.5%  14 Apr 2023   \n",
              "1                China  1409670000      17.3%  17 Jan 2024   \n",
              "2        United States   337017046      4.14%   9 Oct 2024   \n",
              "3            Indonesia   278696200      3.43%   1 Jul 2023   \n",
              "4             Pakistan   229488994      2.82%   1 Jul 2022   \n",
              "5              Nigeria   216746934      2.66%   1 Jul 2022   \n",
              "6               Brazil   218267883      2.68%   9 Oct 2024   \n",
              "7           Bangladesh   168220000      2.07%   1 Jul 2020   \n",
              "8               Russia   147190000      1.81%   1 Oct 2021   \n",
              "9               Mexico   128271248      1.58%  31 Mar 2022   \n",
              "\n",
              "  Source (official or from the United Nations)  \n",
              "0                            UN projection[89]  \n",
              "1                 National annual estimate[90]  \n",
              "2                National population clock[91]  \n",
              "3                 National annual estimate[92]  \n",
              "4                            UN projection[93]  \n",
              "5                            UN projection[93]  \n",
              "6                National population clock[94]  \n",
              "7               Annual Population Estimate[95]  \n",
              "8          2021 preliminary census results[96]  \n",
              "9                                          NaN  "
            ],
            "text/html": [
              "\n",
              "  <div id=\"df-95114b19-7130-4944-a9db-ab81848ab277\" class=\"colab-df-container\">\n",
              "    <div>\n",
              "<style scoped>\n",
              "    .dataframe tbody tr th:only-of-type {\n",
              "        vertical-align: middle;\n",
              "    }\n",
              "\n",
              "    .dataframe tbody tr th {\n",
              "        vertical-align: top;\n",
              "    }\n",
              "\n",
              "    .dataframe thead th {\n",
              "        text-align: right;\n",
              "    }\n",
              "</style>\n",
              "<table border=\"1\" class=\"dataframe\">\n",
              "  <thead>\n",
              "    <tr style=\"text-align: right;\">\n",
              "      <th></th>\n",
              "      <th>Country / Dependency</th>\n",
              "      <th>Population</th>\n",
              "      <th>% of world</th>\n",
              "      <th>Date</th>\n",
              "      <th>Source (official or from the United Nations)</th>\n",
              "    </tr>\n",
              "  </thead>\n",
              "  <tbody>\n",
              "    <tr>\n",
              "      <th>0</th>\n",
              "      <td>India</td>\n",
              "      <td>1425775850</td>\n",
              "      <td>17.5%</td>\n",
              "      <td>14 Apr 2023</td>\n",
              "      <td>UN projection[89]</td>\n",
              "    </tr>\n",
              "    <tr>\n",
              "      <th>1</th>\n",
              "      <td>China</td>\n",
              "      <td>1409670000</td>\n",
              "      <td>17.3%</td>\n",
              "      <td>17 Jan 2024</td>\n",
              "      <td>National annual estimate[90]</td>\n",
              "    </tr>\n",
              "    <tr>\n",
              "      <th>2</th>\n",
              "      <td>United States</td>\n",
              "      <td>337017046</td>\n",
              "      <td>4.14%</td>\n",
              "      <td>9 Oct 2024</td>\n",
              "      <td>National population clock[91]</td>\n",
              "    </tr>\n",
              "    <tr>\n",
              "      <th>3</th>\n",
              "      <td>Indonesia</td>\n",
              "      <td>278696200</td>\n",
              "      <td>3.43%</td>\n",
              "      <td>1 Jul 2023</td>\n",
              "      <td>National annual estimate[92]</td>\n",
              "    </tr>\n",
              "    <tr>\n",
              "      <th>4</th>\n",
              "      <td>Pakistan</td>\n",
              "      <td>229488994</td>\n",
              "      <td>2.82%</td>\n",
              "      <td>1 Jul 2022</td>\n",
              "      <td>UN projection[93]</td>\n",
              "    </tr>\n",
              "    <tr>\n",
              "      <th>5</th>\n",
              "      <td>Nigeria</td>\n",
              "      <td>216746934</td>\n",
              "      <td>2.66%</td>\n",
              "      <td>1 Jul 2022</td>\n",
              "      <td>UN projection[93]</td>\n",
              "    </tr>\n",
              "    <tr>\n",
              "      <th>6</th>\n",
              "      <td>Brazil</td>\n",
              "      <td>218267883</td>\n",
              "      <td>2.68%</td>\n",
              "      <td>9 Oct 2024</td>\n",
              "      <td>National population clock[94]</td>\n",
              "    </tr>\n",
              "    <tr>\n",
              "      <th>7</th>\n",
              "      <td>Bangladesh</td>\n",
              "      <td>168220000</td>\n",
              "      <td>2.07%</td>\n",
              "      <td>1 Jul 2020</td>\n",
              "      <td>Annual Population Estimate[95]</td>\n",
              "    </tr>\n",
              "    <tr>\n",
              "      <th>8</th>\n",
              "      <td>Russia</td>\n",
              "      <td>147190000</td>\n",
              "      <td>1.81%</td>\n",
              "      <td>1 Oct 2021</td>\n",
              "      <td>2021 preliminary census results[96]</td>\n",
              "    </tr>\n",
              "    <tr>\n",
              "      <th>9</th>\n",
              "      <td>Mexico</td>\n",
              "      <td>128271248</td>\n",
              "      <td>1.58%</td>\n",
              "      <td>31 Mar 2022</td>\n",
              "      <td>NaN</td>\n",
              "    </tr>\n",
              "  </tbody>\n",
              "</table>\n",
              "</div>\n",
              "    <div class=\"colab-df-buttons\">\n",
              "\n",
              "  <div class=\"colab-df-container\">\n",
              "    <button class=\"colab-df-convert\" onclick=\"convertToInteractive('df-95114b19-7130-4944-a9db-ab81848ab277')\"\n",
              "            title=\"Convert this dataframe to an interactive table.\"\n",
              "            style=\"display:none;\">\n",
              "\n",
              "  <svg xmlns=\"http://www.w3.org/2000/svg\" height=\"24px\" viewBox=\"0 -960 960 960\">\n",
              "    <path d=\"M120-120v-720h720v720H120Zm60-500h600v-160H180v160Zm220 220h160v-160H400v160Zm0 220h160v-160H400v160ZM180-400h160v-160H180v160Zm440 0h160v-160H620v160ZM180-180h160v-160H180v160Zm440 0h160v-160H620v160Z\"/>\n",
              "  </svg>\n",
              "    </button>\n",
              "\n",
              "  <style>\n",
              "    .colab-df-container {\n",
              "      display:flex;\n",
              "      gap: 12px;\n",
              "    }\n",
              "\n",
              "    .colab-df-convert {\n",
              "      background-color: #E8F0FE;\n",
              "      border: none;\n",
              "      border-radius: 50%;\n",
              "      cursor: pointer;\n",
              "      display: none;\n",
              "      fill: #1967D2;\n",
              "      height: 32px;\n",
              "      padding: 0 0 0 0;\n",
              "      width: 32px;\n",
              "    }\n",
              "\n",
              "    .colab-df-convert:hover {\n",
              "      background-color: #E2EBFA;\n",
              "      box-shadow: 0px 1px 2px rgba(60, 64, 67, 0.3), 0px 1px 3px 1px rgba(60, 64, 67, 0.15);\n",
              "      fill: #174EA6;\n",
              "    }\n",
              "\n",
              "    .colab-df-buttons div {\n",
              "      margin-bottom: 4px;\n",
              "    }\n",
              "\n",
              "    [theme=dark] .colab-df-convert {\n",
              "      background-color: #3B4455;\n",
              "      fill: #D2E3FC;\n",
              "    }\n",
              "\n",
              "    [theme=dark] .colab-df-convert:hover {\n",
              "      background-color: #434B5C;\n",
              "      box-shadow: 0px 1px 3px 1px rgba(0, 0, 0, 0.15);\n",
              "      filter: drop-shadow(0px 1px 2px rgba(0, 0, 0, 0.3));\n",
              "      fill: #FFFFFF;\n",
              "    }\n",
              "  </style>\n",
              "\n",
              "    <script>\n",
              "      const buttonEl =\n",
              "        document.querySelector('#df-95114b19-7130-4944-a9db-ab81848ab277 button.colab-df-convert');\n",
              "      buttonEl.style.display =\n",
              "        google.colab.kernel.accessAllowed ? 'block' : 'none';\n",
              "\n",
              "      async function convertToInteractive(key) {\n",
              "        const element = document.querySelector('#df-95114b19-7130-4944-a9db-ab81848ab277');\n",
              "        const dataTable =\n",
              "          await google.colab.kernel.invokeFunction('convertToInteractive',\n",
              "                                                    [key], {});\n",
              "        if (!dataTable) return;\n",
              "\n",
              "        const docLinkHtml = 'Like what you see? Visit the ' +\n",
              "          '<a target=\"_blank\" href=https://colab.research.google.com/notebooks/data_table.ipynb>data table notebook</a>'\n",
              "          + ' to learn more about interactive tables.';\n",
              "        element.innerHTML = '';\n",
              "        dataTable['output_type'] = 'display_data';\n",
              "        await google.colab.output.renderOutput(dataTable, element);\n",
              "        const docLink = document.createElement('div');\n",
              "        docLink.innerHTML = docLinkHtml;\n",
              "        element.appendChild(docLink);\n",
              "      }\n",
              "    </script>\n",
              "  </div>\n",
              "\n",
              "\n",
              "<div id=\"df-3408382e-e301-48f6-91c3-d224bb065f77\">\n",
              "  <button class=\"colab-df-quickchart\" onclick=\"quickchart('df-3408382e-e301-48f6-91c3-d224bb065f77')\"\n",
              "            title=\"Suggest charts\"\n",
              "            style=\"display:none;\">\n",
              "\n",
              "<svg xmlns=\"http://www.w3.org/2000/svg\" height=\"24px\"viewBox=\"0 0 24 24\"\n",
              "     width=\"24px\">\n",
              "    <g>\n",
              "        <path d=\"M19 3H5c-1.1 0-2 .9-2 2v14c0 1.1.9 2 2 2h14c1.1 0 2-.9 2-2V5c0-1.1-.9-2-2-2zM9 17H7v-7h2v7zm4 0h-2V7h2v10zm4 0h-2v-4h2v4z\"/>\n",
              "    </g>\n",
              "</svg>\n",
              "  </button>\n",
              "\n",
              "<style>\n",
              "  .colab-df-quickchart {\n",
              "      --bg-color: #E8F0FE;\n",
              "      --fill-color: #1967D2;\n",
              "      --hover-bg-color: #E2EBFA;\n",
              "      --hover-fill-color: #174EA6;\n",
              "      --disabled-fill-color: #AAA;\n",
              "      --disabled-bg-color: #DDD;\n",
              "  }\n",
              "\n",
              "  [theme=dark] .colab-df-quickchart {\n",
              "      --bg-color: #3B4455;\n",
              "      --fill-color: #D2E3FC;\n",
              "      --hover-bg-color: #434B5C;\n",
              "      --hover-fill-color: #FFFFFF;\n",
              "      --disabled-bg-color: #3B4455;\n",
              "      --disabled-fill-color: #666;\n",
              "  }\n",
              "\n",
              "  .colab-df-quickchart {\n",
              "    background-color: var(--bg-color);\n",
              "    border: none;\n",
              "    border-radius: 50%;\n",
              "    cursor: pointer;\n",
              "    display: none;\n",
              "    fill: var(--fill-color);\n",
              "    height: 32px;\n",
              "    padding: 0;\n",
              "    width: 32px;\n",
              "  }\n",
              "\n",
              "  .colab-df-quickchart:hover {\n",
              "    background-color: var(--hover-bg-color);\n",
              "    box-shadow: 0 1px 2px rgba(60, 64, 67, 0.3), 0 1px 3px 1px rgba(60, 64, 67, 0.15);\n",
              "    fill: var(--button-hover-fill-color);\n",
              "  }\n",
              "\n",
              "  .colab-df-quickchart-complete:disabled,\n",
              "  .colab-df-quickchart-complete:disabled:hover {\n",
              "    background-color: var(--disabled-bg-color);\n",
              "    fill: var(--disabled-fill-color);\n",
              "    box-shadow: none;\n",
              "  }\n",
              "\n",
              "  .colab-df-spinner {\n",
              "    border: 2px solid var(--fill-color);\n",
              "    border-color: transparent;\n",
              "    border-bottom-color: var(--fill-color);\n",
              "    animation:\n",
              "      spin 1s steps(1) infinite;\n",
              "  }\n",
              "\n",
              "  @keyframes spin {\n",
              "    0% {\n",
              "      border-color: transparent;\n",
              "      border-bottom-color: var(--fill-color);\n",
              "      border-left-color: var(--fill-color);\n",
              "    }\n",
              "    20% {\n",
              "      border-color: transparent;\n",
              "      border-left-color: var(--fill-color);\n",
              "      border-top-color: var(--fill-color);\n",
              "    }\n",
              "    30% {\n",
              "      border-color: transparent;\n",
              "      border-left-color: var(--fill-color);\n",
              "      border-top-color: var(--fill-color);\n",
              "      border-right-color: var(--fill-color);\n",
              "    }\n",
              "    40% {\n",
              "      border-color: transparent;\n",
              "      border-right-color: var(--fill-color);\n",
              "      border-top-color: var(--fill-color);\n",
              "    }\n",
              "    60% {\n",
              "      border-color: transparent;\n",
              "      border-right-color: var(--fill-color);\n",
              "    }\n",
              "    80% {\n",
              "      border-color: transparent;\n",
              "      border-right-color: var(--fill-color);\n",
              "      border-bottom-color: var(--fill-color);\n",
              "    }\n",
              "    90% {\n",
              "      border-color: transparent;\n",
              "      border-bottom-color: var(--fill-color);\n",
              "    }\n",
              "  }\n",
              "</style>\n",
              "\n",
              "  <script>\n",
              "    async function quickchart(key) {\n",
              "      const quickchartButtonEl =\n",
              "        document.querySelector('#' + key + ' button');\n",
              "      quickchartButtonEl.disabled = true;  // To prevent multiple clicks.\n",
              "      quickchartButtonEl.classList.add('colab-df-spinner');\n",
              "      try {\n",
              "        const charts = await google.colab.kernel.invokeFunction(\n",
              "            'suggestCharts', [key], {});\n",
              "      } catch (error) {\n",
              "        console.error('Error during call to suggestCharts:', error);\n",
              "      }\n",
              "      quickchartButtonEl.classList.remove('colab-df-spinner');\n",
              "      quickchartButtonEl.classList.add('colab-df-quickchart-complete');\n",
              "    }\n",
              "    (() => {\n",
              "      let quickchartButtonEl =\n",
              "        document.querySelector('#df-3408382e-e301-48f6-91c3-d224bb065f77 button');\n",
              "      quickchartButtonEl.style.display =\n",
              "        google.colab.kernel.accessAllowed ? 'block' : 'none';\n",
              "    })();\n",
              "  </script>\n",
              "</div>\n",
              "\n",
              "    </div>\n",
              "  </div>\n"
            ],
            "application/vnd.google.colaboratory.intrinsic+json": {
              "type": "dataframe",
              "summary": "{\n  \"name\": \"dataframe_list[5]\",\n  \"rows\": 10,\n  \"fields\": [\n    {\n      \"column\": \"Country / Dependency\",\n      \"properties\": {\n        \"dtype\": \"string\",\n        \"num_unique_values\": 10,\n        \"samples\": [\n          \"Russia\",\n          \"China\",\n          \"Nigeria\"\n        ],\n        \"semantic_type\": \"\",\n        \"description\": \"\"\n      }\n    },\n    {\n      \"column\": \"Population\",\n      \"properties\": {\n        \"dtype\": \"number\",\n        \"std\": 510576810,\n        \"min\": 128271248,\n        \"max\": 1425775850,\n        \"num_unique_values\": 10,\n        \"samples\": [\n          147190000,\n          1409670000,\n          216746934\n        ],\n        \"semantic_type\": \"\",\n        \"description\": \"\"\n      }\n    },\n    {\n      \"column\": \"% of world\",\n      \"properties\": {\n        \"dtype\": \"string\",\n        \"num_unique_values\": 10,\n        \"samples\": [\n          \"1.81%\",\n          \"17.3%\",\n          \"2.66%\"\n        ],\n        \"semantic_type\": \"\",\n        \"description\": \"\"\n      }\n    },\n    {\n      \"column\": \"Date\",\n      \"properties\": {\n        \"dtype\": \"object\",\n        \"num_unique_values\": 8,\n        \"samples\": [\n          \"17 Jan 2024\",\n          \"1 Jul 2020\",\n          \"14 Apr 2023\"\n        ],\n        \"semantic_type\": \"\",\n        \"description\": \"\"\n      }\n    },\n    {\n      \"column\": \"Source (official or from the United Nations)\",\n      \"properties\": {\n        \"dtype\": \"string\",\n        \"num_unique_values\": 8,\n        \"samples\": [\n          \"National annual estimate[90]\",\n          \"National population clock[94]\",\n          \"UN projection[89]\"\n        ],\n        \"semantic_type\": \"\",\n        \"description\": \"\"\n      }\n    }\n  ]\n}"
            }
          },
          "metadata": {},
          "execution_count": 110
        }
      ],
      "source": [
        "dataframe_list[5]"
      ]
    },
    {
      "cell_type": "markdown",
      "metadata": {
        "id": "yIH9SyJ6iQLo"
      },
      "source": [
        "We can also use the `match` parameter to select the specific table we want. If the table contains a string matching the text it will be read.\n"
      ]
    },
    {
      "cell_type": "code",
      "execution_count": null,
      "metadata": {
        "id": "Oyx8TGyyiQLo",
        "colab": {
          "base_uri": "https://localhost:8080/",
          "height": 363
        },
        "outputId": "bf99104e-38a1-4731-84c1-165cb3714650"
      },
      "outputs": [
        {
          "output_type": "execute_result",
          "data": {
            "text/plain": [
              "   Rank                 Country  Population  Area (km2)  Density (pop/km2)\n",
              "0     1               Singapore     5921231         719               8235\n",
              "1     2              Bangladesh   165650475      148460               1116\n",
              "2     3  Palestine[note 3][100]     5223000        6025                867\n",
              "3     4          Taiwan[note 4]    23580712       35980                655\n",
              "4     5             South Korea    51844834       99720                520\n",
              "5     6                 Lebanon     5296814       10400                509\n",
              "6     7                  Rwanda    13173730       26338                500\n",
              "7     8                 Burundi    12696478       27830                456\n",
              "8     9                  Israel     9402617       21937                429\n",
              "9    10                   India  1389637446     3287263                423"
            ],
            "text/html": [
              "\n",
              "  <div id=\"df-d32a918b-d72f-436e-bca6-605bca44d58a\" class=\"colab-df-container\">\n",
              "    <div>\n",
              "<style scoped>\n",
              "    .dataframe tbody tr th:only-of-type {\n",
              "        vertical-align: middle;\n",
              "    }\n",
              "\n",
              "    .dataframe tbody tr th {\n",
              "        vertical-align: top;\n",
              "    }\n",
              "\n",
              "    .dataframe thead th {\n",
              "        text-align: right;\n",
              "    }\n",
              "</style>\n",
              "<table border=\"1\" class=\"dataframe\">\n",
              "  <thead>\n",
              "    <tr style=\"text-align: right;\">\n",
              "      <th></th>\n",
              "      <th>Rank</th>\n",
              "      <th>Country</th>\n",
              "      <th>Population</th>\n",
              "      <th>Area (km2)</th>\n",
              "      <th>Density (pop/km2)</th>\n",
              "    </tr>\n",
              "  </thead>\n",
              "  <tbody>\n",
              "    <tr>\n",
              "      <th>0</th>\n",
              "      <td>1</td>\n",
              "      <td>Singapore</td>\n",
              "      <td>5921231</td>\n",
              "      <td>719</td>\n",
              "      <td>8235</td>\n",
              "    </tr>\n",
              "    <tr>\n",
              "      <th>1</th>\n",
              "      <td>2</td>\n",
              "      <td>Bangladesh</td>\n",
              "      <td>165650475</td>\n",
              "      <td>148460</td>\n",
              "      <td>1116</td>\n",
              "    </tr>\n",
              "    <tr>\n",
              "      <th>2</th>\n",
              "      <td>3</td>\n",
              "      <td>Palestine[note 3][100]</td>\n",
              "      <td>5223000</td>\n",
              "      <td>6025</td>\n",
              "      <td>867</td>\n",
              "    </tr>\n",
              "    <tr>\n",
              "      <th>3</th>\n",
              "      <td>4</td>\n",
              "      <td>Taiwan[note 4]</td>\n",
              "      <td>23580712</td>\n",
              "      <td>35980</td>\n",
              "      <td>655</td>\n",
              "    </tr>\n",
              "    <tr>\n",
              "      <th>4</th>\n",
              "      <td>5</td>\n",
              "      <td>South Korea</td>\n",
              "      <td>51844834</td>\n",
              "      <td>99720</td>\n",
              "      <td>520</td>\n",
              "    </tr>\n",
              "    <tr>\n",
              "      <th>5</th>\n",
              "      <td>6</td>\n",
              "      <td>Lebanon</td>\n",
              "      <td>5296814</td>\n",
              "      <td>10400</td>\n",
              "      <td>509</td>\n",
              "    </tr>\n",
              "    <tr>\n",
              "      <th>6</th>\n",
              "      <td>7</td>\n",
              "      <td>Rwanda</td>\n",
              "      <td>13173730</td>\n",
              "      <td>26338</td>\n",
              "      <td>500</td>\n",
              "    </tr>\n",
              "    <tr>\n",
              "      <th>7</th>\n",
              "      <td>8</td>\n",
              "      <td>Burundi</td>\n",
              "      <td>12696478</td>\n",
              "      <td>27830</td>\n",
              "      <td>456</td>\n",
              "    </tr>\n",
              "    <tr>\n",
              "      <th>8</th>\n",
              "      <td>9</td>\n",
              "      <td>Israel</td>\n",
              "      <td>9402617</td>\n",
              "      <td>21937</td>\n",
              "      <td>429</td>\n",
              "    </tr>\n",
              "    <tr>\n",
              "      <th>9</th>\n",
              "      <td>10</td>\n",
              "      <td>India</td>\n",
              "      <td>1389637446</td>\n",
              "      <td>3287263</td>\n",
              "      <td>423</td>\n",
              "    </tr>\n",
              "  </tbody>\n",
              "</table>\n",
              "</div>\n",
              "    <div class=\"colab-df-buttons\">\n",
              "\n",
              "  <div class=\"colab-df-container\">\n",
              "    <button class=\"colab-df-convert\" onclick=\"convertToInteractive('df-d32a918b-d72f-436e-bca6-605bca44d58a')\"\n",
              "            title=\"Convert this dataframe to an interactive table.\"\n",
              "            style=\"display:none;\">\n",
              "\n",
              "  <svg xmlns=\"http://www.w3.org/2000/svg\" height=\"24px\" viewBox=\"0 -960 960 960\">\n",
              "    <path d=\"M120-120v-720h720v720H120Zm60-500h600v-160H180v160Zm220 220h160v-160H400v160Zm0 220h160v-160H400v160ZM180-400h160v-160H180v160Zm440 0h160v-160H620v160ZM180-180h160v-160H180v160Zm440 0h160v-160H620v160Z\"/>\n",
              "  </svg>\n",
              "    </button>\n",
              "\n",
              "  <style>\n",
              "    .colab-df-container {\n",
              "      display:flex;\n",
              "      gap: 12px;\n",
              "    }\n",
              "\n",
              "    .colab-df-convert {\n",
              "      background-color: #E8F0FE;\n",
              "      border: none;\n",
              "      border-radius: 50%;\n",
              "      cursor: pointer;\n",
              "      display: none;\n",
              "      fill: #1967D2;\n",
              "      height: 32px;\n",
              "      padding: 0 0 0 0;\n",
              "      width: 32px;\n",
              "    }\n",
              "\n",
              "    .colab-df-convert:hover {\n",
              "      background-color: #E2EBFA;\n",
              "      box-shadow: 0px 1px 2px rgba(60, 64, 67, 0.3), 0px 1px 3px 1px rgba(60, 64, 67, 0.15);\n",
              "      fill: #174EA6;\n",
              "    }\n",
              "\n",
              "    .colab-df-buttons div {\n",
              "      margin-bottom: 4px;\n",
              "    }\n",
              "\n",
              "    [theme=dark] .colab-df-convert {\n",
              "      background-color: #3B4455;\n",
              "      fill: #D2E3FC;\n",
              "    }\n",
              "\n",
              "    [theme=dark] .colab-df-convert:hover {\n",
              "      background-color: #434B5C;\n",
              "      box-shadow: 0px 1px 3px 1px rgba(0, 0, 0, 0.15);\n",
              "      filter: drop-shadow(0px 1px 2px rgba(0, 0, 0, 0.3));\n",
              "      fill: #FFFFFF;\n",
              "    }\n",
              "  </style>\n",
              "\n",
              "    <script>\n",
              "      const buttonEl =\n",
              "        document.querySelector('#df-d32a918b-d72f-436e-bca6-605bca44d58a button.colab-df-convert');\n",
              "      buttonEl.style.display =\n",
              "        google.colab.kernel.accessAllowed ? 'block' : 'none';\n",
              "\n",
              "      async function convertToInteractive(key) {\n",
              "        const element = document.querySelector('#df-d32a918b-d72f-436e-bca6-605bca44d58a');\n",
              "        const dataTable =\n",
              "          await google.colab.kernel.invokeFunction('convertToInteractive',\n",
              "                                                    [key], {});\n",
              "        if (!dataTable) return;\n",
              "\n",
              "        const docLinkHtml = 'Like what you see? Visit the ' +\n",
              "          '<a target=\"_blank\" href=https://colab.research.google.com/notebooks/data_table.ipynb>data table notebook</a>'\n",
              "          + ' to learn more about interactive tables.';\n",
              "        element.innerHTML = '';\n",
              "        dataTable['output_type'] = 'display_data';\n",
              "        await google.colab.output.renderOutput(dataTable, element);\n",
              "        const docLink = document.createElement('div');\n",
              "        docLink.innerHTML = docLinkHtml;\n",
              "        element.appendChild(docLink);\n",
              "      }\n",
              "    </script>\n",
              "  </div>\n",
              "\n",
              "\n",
              "<div id=\"df-3110f5a2-c7db-4fa7-b3ed-813618e918f6\">\n",
              "  <button class=\"colab-df-quickchart\" onclick=\"quickchart('df-3110f5a2-c7db-4fa7-b3ed-813618e918f6')\"\n",
              "            title=\"Suggest charts\"\n",
              "            style=\"display:none;\">\n",
              "\n",
              "<svg xmlns=\"http://www.w3.org/2000/svg\" height=\"24px\"viewBox=\"0 0 24 24\"\n",
              "     width=\"24px\">\n",
              "    <g>\n",
              "        <path d=\"M19 3H5c-1.1 0-2 .9-2 2v14c0 1.1.9 2 2 2h14c1.1 0 2-.9 2-2V5c0-1.1-.9-2-2-2zM9 17H7v-7h2v7zm4 0h-2V7h2v10zm4 0h-2v-4h2v4z\"/>\n",
              "    </g>\n",
              "</svg>\n",
              "  </button>\n",
              "\n",
              "<style>\n",
              "  .colab-df-quickchart {\n",
              "      --bg-color: #E8F0FE;\n",
              "      --fill-color: #1967D2;\n",
              "      --hover-bg-color: #E2EBFA;\n",
              "      --hover-fill-color: #174EA6;\n",
              "      --disabled-fill-color: #AAA;\n",
              "      --disabled-bg-color: #DDD;\n",
              "  }\n",
              "\n",
              "  [theme=dark] .colab-df-quickchart {\n",
              "      --bg-color: #3B4455;\n",
              "      --fill-color: #D2E3FC;\n",
              "      --hover-bg-color: #434B5C;\n",
              "      --hover-fill-color: #FFFFFF;\n",
              "      --disabled-bg-color: #3B4455;\n",
              "      --disabled-fill-color: #666;\n",
              "  }\n",
              "\n",
              "  .colab-df-quickchart {\n",
              "    background-color: var(--bg-color);\n",
              "    border: none;\n",
              "    border-radius: 50%;\n",
              "    cursor: pointer;\n",
              "    display: none;\n",
              "    fill: var(--fill-color);\n",
              "    height: 32px;\n",
              "    padding: 0;\n",
              "    width: 32px;\n",
              "  }\n",
              "\n",
              "  .colab-df-quickchart:hover {\n",
              "    background-color: var(--hover-bg-color);\n",
              "    box-shadow: 0 1px 2px rgba(60, 64, 67, 0.3), 0 1px 3px 1px rgba(60, 64, 67, 0.15);\n",
              "    fill: var(--button-hover-fill-color);\n",
              "  }\n",
              "\n",
              "  .colab-df-quickchart-complete:disabled,\n",
              "  .colab-df-quickchart-complete:disabled:hover {\n",
              "    background-color: var(--disabled-bg-color);\n",
              "    fill: var(--disabled-fill-color);\n",
              "    box-shadow: none;\n",
              "  }\n",
              "\n",
              "  .colab-df-spinner {\n",
              "    border: 2px solid var(--fill-color);\n",
              "    border-color: transparent;\n",
              "    border-bottom-color: var(--fill-color);\n",
              "    animation:\n",
              "      spin 1s steps(1) infinite;\n",
              "  }\n",
              "\n",
              "  @keyframes spin {\n",
              "    0% {\n",
              "      border-color: transparent;\n",
              "      border-bottom-color: var(--fill-color);\n",
              "      border-left-color: var(--fill-color);\n",
              "    }\n",
              "    20% {\n",
              "      border-color: transparent;\n",
              "      border-left-color: var(--fill-color);\n",
              "      border-top-color: var(--fill-color);\n",
              "    }\n",
              "    30% {\n",
              "      border-color: transparent;\n",
              "      border-left-color: var(--fill-color);\n",
              "      border-top-color: var(--fill-color);\n",
              "      border-right-color: var(--fill-color);\n",
              "    }\n",
              "    40% {\n",
              "      border-color: transparent;\n",
              "      border-right-color: var(--fill-color);\n",
              "      border-top-color: var(--fill-color);\n",
              "    }\n",
              "    60% {\n",
              "      border-color: transparent;\n",
              "      border-right-color: var(--fill-color);\n",
              "    }\n",
              "    80% {\n",
              "      border-color: transparent;\n",
              "      border-right-color: var(--fill-color);\n",
              "      border-bottom-color: var(--fill-color);\n",
              "    }\n",
              "    90% {\n",
              "      border-color: transparent;\n",
              "      border-bottom-color: var(--fill-color);\n",
              "    }\n",
              "  }\n",
              "</style>\n",
              "\n",
              "  <script>\n",
              "    async function quickchart(key) {\n",
              "      const quickchartButtonEl =\n",
              "        document.querySelector('#' + key + ' button');\n",
              "      quickchartButtonEl.disabled = true;  // To prevent multiple clicks.\n",
              "      quickchartButtonEl.classList.add('colab-df-spinner');\n",
              "      try {\n",
              "        const charts = await google.colab.kernel.invokeFunction(\n",
              "            'suggestCharts', [key], {});\n",
              "      } catch (error) {\n",
              "        console.error('Error during call to suggestCharts:', error);\n",
              "      }\n",
              "      quickchartButtonEl.classList.remove('colab-df-spinner');\n",
              "      quickchartButtonEl.classList.add('colab-df-quickchart-complete');\n",
              "    }\n",
              "    (() => {\n",
              "      let quickchartButtonEl =\n",
              "        document.querySelector('#df-3110f5a2-c7db-4fa7-b3ed-813618e918f6 button');\n",
              "      quickchartButtonEl.style.display =\n",
              "        google.colab.kernel.accessAllowed ? 'block' : 'none';\n",
              "    })();\n",
              "  </script>\n",
              "</div>\n",
              "\n",
              "    </div>\n",
              "  </div>\n"
            ],
            "application/vnd.google.colaboratory.intrinsic+json": {
              "type": "dataframe",
              "summary": "{\n  \"name\": \"pd\",\n  \"rows\": 10,\n  \"fields\": [\n    {\n      \"column\": \"Rank\",\n      \"properties\": {\n        \"dtype\": \"number\",\n        \"std\": 3,\n        \"min\": 1,\n        \"max\": 10,\n        \"num_unique_values\": 10,\n        \"samples\": [\n          9,\n          2,\n          6\n        ],\n        \"semantic_type\": \"\",\n        \"description\": \"\"\n      }\n    },\n    {\n      \"column\": \"Country\",\n      \"properties\": {\n        \"dtype\": \"string\",\n        \"num_unique_values\": 10,\n        \"samples\": [\n          \"Israel\",\n          \"Bangladesh\",\n          \"Lebanon\"\n        ],\n        \"semantic_type\": \"\",\n        \"description\": \"\"\n      }\n    },\n    {\n      \"column\": \"Population\",\n      \"properties\": {\n        \"dtype\": \"number\",\n        \"std\": 431950823,\n        \"min\": 5223000,\n        \"max\": 1389637446,\n        \"num_unique_values\": 10,\n        \"samples\": [\n          9402617,\n          165650475,\n          5296814\n        ],\n        \"semantic_type\": \"\",\n        \"description\": \"\"\n      }\n    },\n    {\n      \"column\": \"Area (km2)\",\n      \"properties\": {\n        \"dtype\": \"number\",\n        \"std\": 1027320,\n        \"min\": 719,\n        \"max\": 3287263,\n        \"num_unique_values\": 10,\n        \"samples\": [\n          21937,\n          148460,\n          10400\n        ],\n        \"semantic_type\": \"\",\n        \"description\": \"\"\n      }\n    },\n    {\n      \"column\": \"Density (pop/km2)\",\n      \"properties\": {\n        \"dtype\": \"number\",\n        \"std\": 2422,\n        \"min\": 423,\n        \"max\": 8235,\n        \"num_unique_values\": 10,\n        \"samples\": [\n          429,\n          1116,\n          509\n        ],\n        \"semantic_type\": \"\",\n        \"description\": \"\"\n      }\n    }\n  ]\n}"
            }
          },
          "metadata": {},
          "execution_count": 111
        }
      ],
      "source": [
        "pd.read_html(url, match=\"10 most densely populated countries\", flavor='bs4')[0]"
      ]
    },
    {
      "cell_type": "markdown",
      "metadata": {
        "id": "5OO0fMY-iQLo"
      },
      "source": [
        "## Authors\n"
      ]
    },
    {
      "cell_type": "markdown",
      "metadata": {
        "id": "PeAkeQvViQLo"
      },
      "source": [
        "Ramesh Sannareddy\n"
      ]
    },
    {
      "cell_type": "markdown",
      "metadata": {
        "id": "lpdx6EkKiQLo"
      },
      "source": [
        "### Other Contributors\n"
      ]
    },
    {
      "cell_type": "markdown",
      "metadata": {
        "id": "BaIvasLeiQLo"
      },
      "source": [
        "Rav Ahuja\n"
      ]
    },
    {
      "cell_type": "markdown",
      "metadata": {
        "id": "APJt_mHUiQLo"
      },
      "source": [
        "<!-- ## Change Log\n",
        "| Date (YYYY-MM-DD) | Version | Changed By                                               | Change Description |\n",
        "| ----------------- | ------- | -------------------------------------------------------- | ------------------ |\n",
        "| 2021-08-04        | 0.2     | Made changes to markdown of nextsibling                  |                    |\n",
        "| 2020-10-17        | 0.1     | Joseph Santarcangelo  Created initial version of the lab |                    |\n",
        "--!>\n"
      ]
    },
    {
      "cell_type": "markdown",
      "metadata": {
        "id": "i87hh7b8iQLo"
      },
      "source": [
        "####  Copyright © 2020 IBM Corporation. This notebook and its source code are released under the terms of the [MIT License](https://cognitiveclass.ai/mit-license?utm_medium=Exinfluencer&utm_source=Exinfluencer&utm_content=000026UJ&utm_term=10006555&utm_id=NA-SkillsNetwork-Channel-SkillsNetworkCoursesIBMDeveloperSkillsNetworkPY0220ENSkillsNetwork23455606-2021-01-01&cm_mmc=Email_Newsletter-\\_-Developer_Ed%2BTech-\\_-WW_WW-\\_-SkillsNetwork-Courses-IBMDeveloperSkillsNetwork-PY0101EN-SkillsNetwork-19487395&cm_mmca1=000026UJ&cm_mmca2=10006555&cm_mmca3=M12345678&cvosrc=email.Newsletter.M12345678&cvo_campaign=000026UJ).\n"
      ]
    },
    {
      "cell_type": "code",
      "execution_count": null,
      "metadata": {
        "id": "UPSrKcADiQLo"
      },
      "outputs": [],
      "source": []
    },
    {
      "cell_type": "code",
      "execution_count": null,
      "metadata": {
        "id": "IRqX9IZKiQLr"
      },
      "outputs": [],
      "source": []
    }
  ],
  "metadata": {
    "kernelspec": {
      "display_name": "Python",
      "language": "python",
      "name": "conda-env-python-py"
    },
    "language_info": {
      "codemirror_mode": {
        "name": "ipython",
        "version": 3
      },
      "file_extension": ".py",
      "mimetype": "text/x-python",
      "name": "python",
      "nbconvert_exporter": "python",
      "pygments_lexer": "ipython3",
      "version": "3.7.12"
    },
    "prev_pub_hash": "762c28a79922084af0ca880b8ab1ff6ebc66070b779045fe41f0cfe40501c510",
    "colab": {
      "provenance": []
    }
  },
  "nbformat": 4,
  "nbformat_minor": 0
}